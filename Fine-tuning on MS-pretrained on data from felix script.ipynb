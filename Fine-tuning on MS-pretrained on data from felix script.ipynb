{
 "cells": [
  {
   "cell_type": "markdown",
   "metadata": {},
   "source": [
    "For fine-tuning we have 3 datasets: train, validation and holdout"
   ]
  },
  {
   "cell_type": "code",
   "execution_count": 1,
   "metadata": {},
   "outputs": [
    {
     "name": "stderr",
     "output_type": "stream",
     "text": [
      "Using TensorFlow backend.\n"
     ]
    }
   ],
   "source": [
    "import numpy as np\n",
    "import pandas as pd\n",
    "import nibabel as nib\n",
    "import nilearn\n",
    "\n",
    "from scipy.ndimage.interpolation import zoom\n",
    "from sklearn.utils import shuffle\n",
    "from sklearn.model_selection import GroupShuffleSplit\n",
    "from sklearn.metrics import confusion_matrix\n",
    "from sklearn.model_selection import KFold\n",
    "\n",
    "import matplotlib.pyplot as plt\n",
    "import os\n",
    "import time\n",
    "import h5py\n",
    "\n",
    "# keras\n",
    "from keras.regularizers import l2\n",
    "from keras.optimizers import Adam\n",
    "from keras.models import load_model\n",
    "from keras.callbacks import EarlyStopping, ModelCheckpoint\n",
    "from keras.utils import Sequence\n",
    "import keras.backend as K\n",
    "\n",
    "from config import *\n",
    "from utils import specificity, sensitivity, balanced_accuracy, IntensityRescale, sagittal_flip, translate"
   ]
  },
  {
   "cell_type": "code",
   "execution_count": 2,
   "metadata": {
    "collapsed": true
   },
   "outputs": [],
   "source": [
    "# Start timing\n",
    "start_time = time.time()"
   ]
  },
  {
   "cell_type": "code",
   "execution_count": 3,
   "metadata": {
    "collapsed": true
   },
   "outputs": [],
   "source": [
    "#percent = 0.5\n",
    "import tensorflow as tf\n",
    "from keras.backend.tensorflow_backend import set_session\n",
    "\n",
    "\n",
    "config = tf.ConfigProto()\n",
    "#config.gpu_options.per_process_gpu_memory_fraction = percent\n",
    "config.gpu_options.visible_device_list = \"5\"\n",
    "set_session(tf.Session(config=config))"
   ]
  },
  {
   "cell_type": "code",
   "execution_count": 4,
   "metadata": {
    "collapsed": true
   },
   "outputs": [],
   "source": [
    "zero_one_normalize = True\n",
    "dtype = np.float32\n",
    "result_dir = \"/analysis/fabiane/models/MS/pretrained/rebuild_64Net/new_script\""
   ]
  },
  {
   "cell_type": "code",
   "execution_count": 5,
   "metadata": {
    "collapsed": true
   },
   "outputs": [],
   "source": [
    "!mkdir -p $result_dir"
   ]
  },
  {
   "cell_type": "code",
   "execution_count": 6,
   "metadata": {
    "collapsed": true
   },
   "outputs": [],
   "source": [
    "# load hdf5 files and extract columns\n",
    "train_h5 = h5py.File('/analysis/share/Ritter/MS/CIS/train_dataset.h5', 'r')\n",
    "holdout_h5 = h5py.File('/analysis/share/Ritter/MS/CIS/holdout_dataset.h5', 'r')\n",
    "\n",
    "X_train, y_train = train_h5['X'], train_h5['y']\n",
    "X_holdout, y_holdout = holdout_h5['X'], holdout_h5['y']"
   ]
  },
  {
   "cell_type": "code",
   "execution_count": 7,
   "metadata": {
    "collapsed": true
   },
   "outputs": [],
   "source": [
    "# convert data to numpy arrays\n",
    "X_train = np.array(X_train, dtype=dtype)\n",
    "y_train = np.array(y_train)\n",
    "\n",
    "X_holdout = np.array(X_holdout, dtype=dtype)\n",
    "y_holdout = np.array(y_holdout)"
   ]
  },
  {
   "cell_type": "code",
   "execution_count": 8,
   "metadata": {},
   "outputs": [
    {
     "name": "stdout",
     "output_type": "stream",
     "text": [
      "Total datset length: 124\n",
      "Number of healthy controls: 61\n",
      "Number of MS patients: 63\n"
     ]
    }
   ],
   "source": [
    "print(\"Total datset length: {}\".format(len(y_train)))\n",
    "print(\"Number of healthy controls: {}\".format(len(np.array(y_train)[np.array(y_train)==0.])))\n",
    "print(\"Number of MS patients: {}\".format(len(np.array(y_train)[np.array(y_train)==1.])))"
   ]
  },
  {
   "cell_type": "code",
   "execution_count": 9,
   "metadata": {
    "collapsed": true
   },
   "outputs": [],
   "source": [
    "class CISDataset(Sequence):\n",
    "    def __init__(self, X, y, transform=None, batch_size=4, z_factor=None, shuffle=True, mask=None):\n",
    "        self.X = X\n",
    "        self.y = y\n",
    "        self.transform = transform\n",
    "        self.batch_size = batch_size\n",
    "        self.z_factor = z_factor\n",
    "        self.shuffle = shuffle\n",
    "        self.mask = mask\n",
    "        \n",
    "    def __len__(self):\n",
    "        return int(np.ceil(len(self.y)/self.batch_size))\n",
    "    \n",
    "    def __getitem__(self, idx):\n",
    "        # add BET\n",
    "        image = np.expand_dims(self.X[idx * self.batch_size:(idx + 1) * self.batch_size],5)\n",
    "        #label = np.array((batch_idx['label'] == \"MS\")* 1, dtype=np.int8) \n",
    "        label = np.array(self.y[idx * self.batch_size:(idx + 1) * self.batch_size], dtype=np.int8)\n",
    "        \n",
    "        if self.mask is not None:\n",
    "            for i in range(image.shape[0]):\n",
    "                image[i] *= self.mask\n",
    "        \n",
    "        for transformation in self.transform:\n",
    "            image = transformation(image)\n",
    "        \n",
    "        return image, label\n",
    "    \n",
    "    def on_epoch_end(self):\n",
    "        if self.shuffle:\n",
    "            self.X, self.y = shuffle(self.X, self.y)"
   ]
  },
  {
   "cell_type": "code",
   "execution_count": 10,
   "metadata": {
    "collapsed": true
   },
   "outputs": [],
   "source": [
    "mask = None"
   ]
  },
  {
   "cell_type": "code",
   "execution_count": 11,
   "metadata": {
    "collapsed": true
   },
   "outputs": [],
   "source": [
    "intensity = IntensityRescale(masked=False)"
   ]
  },
  {
   "cell_type": "code",
   "execution_count": 12,
   "metadata": {
    "collapsed": true
   },
   "outputs": [],
   "source": [
    "if zero_one_normalize:\n",
    "    cis_data = CISDataset(X_train, y_train, transform=[intensity], batch_size=4)\n",
    "else:\n",
    "    cis_data = CISDataset(X_train, y_train, batch_size=4)"
   ]
  },
  {
   "cell_type": "code",
   "execution_count": 13,
   "metadata": {},
   "outputs": [
    {
     "name": "stderr",
     "output_type": "stream",
     "text": [
      "/home/fabiane/anaconda2/envs/postal/lib/python3.6/site-packages/ipykernel_launcher.py:16: DeprecationWarning: Both axis > a.ndim and axis < -a.ndim - 1 are deprecated and will raise an AxisError in the future.\n",
      "  app.launch_new_instance()\n"
     ]
    },
    {
     "data": {
      "image/png": "[encoded data removed]",
      "text/plain": [
       "<Figure size 432x288 with 1 Axes>"
      ]
     },
     "metadata": {
      "needs_background": "light"
     },
     "output_type": "display_data"
    }
   ],
   "source": [
    "plt.figure()\n",
    "plt.title(\"Normalized between zero and 1\")\n",
    "plt.hist(cis_data[4][0][0].flatten())\n",
    "plt.show()"
   ]
  },
  {
   "cell_type": "code",
   "execution_count": 14,
   "metadata": {},
   "outputs": [
    {
     "name": "stderr",
     "output_type": "stream",
     "text": [
      "/home/fabiane/anaconda2/envs/postal/lib/python3.6/site-packages/ipykernel_launcher.py:16: DeprecationWarning: Both axis > a.ndim and axis < -a.ndim - 1 are deprecated and will raise an AxisError in the future.\n",
      "  app.launch_new_instance()\n"
     ]
    },
    {
     "data": {
      "image/png": "[encoded data removed]",
      "text/plain": [
       "<Figure size 432x288 with 1 Axes>"
      ]
     },
     "metadata": {
      "needs_background": "light"
     },
     "output_type": "display_data"
    }
   ],
   "source": [
    "plt.figure()\n",
    "plt.title(\"Scan image\")\n",
    "plt.imshow(np.squeeze(cis_data[4][0][0])[:,:,42], cmap='gray')\n",
    "plt.show()"
   ]
  },
  {
   "cell_type": "markdown",
   "metadata": {},
   "source": [
    "# Model"
   ]
  },
  {
   "cell_type": "code",
   "execution_count": 15,
   "metadata": {
    "collapsed": true
   },
   "outputs": [],
   "source": [
    "def init_model(path, finetune=True, up_to=7):\n",
    "    model = load_model(path)\n",
    "    model.load_weights(path)\n",
    "    if finetune:\n",
    "        for layer in model.layers[:up_to]:\n",
    "            layer.trainable = False\n",
    "    return model"
   ]
  },
  {
   "cell_type": "code",
   "execution_count": 16,
   "metadata": {},
   "outputs": [
    {
     "name": "stdout",
     "output_type": "stream",
     "text": [
      "_________________________________________________________________\n",
      "Layer (type)                 Output Shape              Param #   \n",
      "=================================================================\n",
      "Conv_1 (Conv3D)              (None, 94, 112, 94, 64)   1792      \n",
      "_________________________________________________________________\n",
      "Pool_1 (MaxPooling3D)        (None, 31, 37, 31, 64)    0         \n",
      "_________________________________________________________________\n",
      "dropout_25 (Dropout)         (None, 31, 37, 31, 64)    0         \n",
      "_________________________________________________________________\n",
      "Conv_2 (Conv3D)              (None, 29, 35, 29, 64)    110656    \n",
      "_________________________________________________________________\n",
      "Pool_2 (MaxPooling3D)        (None, 9, 11, 9, 64)      0         \n",
      "_________________________________________________________________\n",
      "dropout_26 (Dropout)         (None, 9, 11, 9, 64)      0         \n",
      "_________________________________________________________________\n",
      "Conv_3 (Conv3D)              (None, 7, 9, 7, 64)       110656    \n",
      "_________________________________________________________________\n",
      "Conv_4 (Conv3D)              (None, 5, 7, 5, 64)       110656    \n",
      "_________________________________________________________________\n",
      "Pool_4 (MaxPooling3D)        (None, 1, 2, 1, 64)       0         \n",
      "_________________________________________________________________\n",
      "dropout_27 (Dropout)         (None, 1, 2, 1, 64)       0         \n",
      "_________________________________________________________________\n",
      "flatten_9 (Flatten)          (None, 128)               0         \n",
      "_________________________________________________________________\n",
      "dense_9 (Dense)              (None, 1)                 129       \n",
      "=================================================================\n",
      "Total params: 333,889\n",
      "Trainable params: 333,889\n",
      "Non-trainable params: 0\n",
      "_________________________________________________________________\n",
      "None\n"
     ]
    }
   ],
   "source": [
    "# load model weights\n",
    "#model_path = \"/analysis/share/Ritter/models/fabi/ADNI/pretraining_paper/model.h5\"\n",
    "model_path = \"/analysis/share/Ritter/models/fabi/ADNI/pretraining_paper/NO_MCI/model_trial_8.h5\"\n",
    "#model_path = \"/analysis/fabiane/models/ADNI/Felix/retrain_emily_version/dropout0.3_lr0.001_dc0_l20.01_20181119-163525_weights_ep04_vacc0.87.hdf5\"\n",
    "model = init_model(model_path, finetune=False, up_to=None)\n",
    "print(model.summary())"
   ]
  },
  {
   "cell_type": "markdown",
   "metadata": {},
   "source": [
    "## Visualization"
   ]
  },
  {
   "cell_type": "code",
   "execution_count": 17,
   "metadata": {
    "collapsed": true
   },
   "outputs": [],
   "source": [
    "def visualize_weights(model):\n",
    "    # Visualize weights\n",
    "    W = model.layers[0].get_weights()[0]\n",
    "    W = np.squeeze(W)[:,:,2]\n",
    "    print(\"W shape : \", W.shape)\n",
    "\n",
    "    print(\"Weights mean {}\".format(W.mean()))\n",
    "    plt.figure(figsize=(20, 5))\n",
    "    plt.title('conv1 weights')\n",
    "    plt.imshow(make_mosaic(W, 2, 2), cmap=\"gray\")\n",
    "    plt.show()"
   ]
  },
  {
   "cell_type": "code",
   "execution_count": 18,
   "metadata": {
    "collapsed": true
   },
   "outputs": [],
   "source": [
    "import numpy.ma as ma\n",
    "def make_mosaic(imgs, nrows, ncols, border=1):\n",
    "    \"\"\"\n",
    "    Given a set of images with all the same shape, makes a\n",
    "    mosaic with nrows and ncols\n",
    "    \"\"\"\n",
    "    nimgs = imgs.shape[0]\n",
    "    imshape = imgs.shape[1:]\n",
    "    \n",
    "    mosaic = ma.masked_all((nrows * imshape[0] + (nrows - 1) * border,\n",
    "                            ncols * imshape[1] + (ncols - 1) * border),\n",
    "                            dtype=np.float32)\n",
    "    \n",
    "    paddedh = imshape[0] + border\n",
    "    paddedw = imshape[1] + border\n",
    "    for i in range(nimgs):\n",
    "        row = int(np.floor(i / ncols))\n",
    "        col = i % ncols\n",
    "        \n",
    "        mosaic[row * paddedh:row * paddedh + imshape[0],\n",
    "               col * paddedw:col * paddedw + imshape[1]] = imgs[i]\n",
    "    return mosaic"
   ]
  },
  {
   "cell_type": "code",
   "execution_count": null,
   "metadata": {
    "collapsed": true
   },
   "outputs": [],
   "source": [
    "def reset_weights(model):\n",
    "    session = K.get_session()\n",
    "    for layer in model.layers: \n",
    "        if hasattr(layer, 'kernel_initializer'):\n",
    "            layer.kernel.initializer.run(session=session)\n"
   ]
  },
  {
   "cell_type": "code",
   "execution_count": null,
   "metadata": {},
   "outputs": [
    {
     "name": "stdout",
     "output_type": "stream",
     "text": [
      "Pre-trained model layer 1 weights:\n",
      "W shape :  (3, 3, 64)\n",
      "Weights mean 0.0016936316387727857\n"
     ]
    },
    {
     "data": {
      "image/png": "[encoded data removed]",
      "text/plain": [
       "<Figure size 1440x360 with 1 Axes>"
      ]
     },
     "metadata": {
      "needs_background": "light"
     },
     "output_type": "display_data"
    },
    {
     "name": "stdout",
     "output_type": "stream",
     "text": [
      "Random model layer 1 weights:\n",
      "W shape :  (3, 3, 64)\n",
      "Weights mean -0.0014504267601296306\n"
     ]
    },
    {
     "data": {
      "image/png": "[encoded data removed]",
      "text/plain": [
       "<Figure size 1440x360 with 1 Axes>"
      ]
     },
     "metadata": {
      "needs_background": "light"
     },
     "output_type": "display_data"
    }
   ],
   "source": [
    "# Visualize weights\n",
    "print(\"Pre-trained model layer 1 weights:\")\n",
    "visualize_weights(model)\n",
    "model_untrained = load_model(model_path)\n",
    "reset_weights(model_untrained)\n",
    "print(\"Random model layer 1 weights:\")\n",
    "visualize_weights(model_untrained)"
   ]
  },
  {
   "cell_type": "markdown",
   "metadata": {},
   "source": [
    "## Training"
   ]
  },
  {
   "cell_type": "code",
   "execution_count": null,
   "metadata": {},
   "outputs": [
    {
     "data": {
      "text/plain": [
       "(124, 96, 114, 96)"
      ]
     },
     "execution_count": 21,
     "metadata": {},
     "output_type": "execute_result"
    }
   ],
   "source": [
    "X_train.shape"
   ]
  },
  {
   "cell_type": "code",
   "execution_count": null,
   "metadata": {
    "collapsed": true
   },
   "outputs": [],
   "source": [
    "from sklearn.model_selection import train_test_split"
   ]
  },
  {
   "cell_type": "code",
   "execution_count": null,
   "metadata": {
    "collapsed": true
   },
   "outputs": [],
   "source": [
    "# split training set\n",
    "X_train, X_val, y_train, y_val = train_test_split(X_train, y_train, test_size=0.15, random_state=77)"
   ]
  },
  {
   "cell_type": "code",
   "execution_count": null,
   "metadata": {
    "scrolled": true
   },
   "outputs": [
    {
     "name": "stdout",
     "output_type": "stream",
     "text": [
      "Trial 0\n",
      "Epoch 1/200\n"
     ]
    },
    {
     "name": "stderr",
     "output_type": "stream",
     "text": [
      "/home/fabiane/anaconda2/envs/postal/lib/python3.6/site-packages/ipykernel_launcher.py:16: DeprecationWarning: Both axis > a.ndim and axis < -a.ndim - 1 are deprecated and will raise an AxisError in the future.\n",
      "  app.launch_new_instance()\n"
     ]
    },
    {
     "name": "stdout",
     "output_type": "stream",
     "text": [
      "27/27 [==============================] - 9s 316ms/step - loss: 0.9122 - acc: 0.4820 - val_loss: 0.9092 - val_acc: 0.3158\n",
      "\n",
      "Epoch 00001: val_acc improved from -inf to 0.31579, saving model to /analysis/fabiane/models/MS/pretrained/rebuild_64Net/new_script/weights-augm-trial0-improvement-BEST.hdf5\n",
      "Epoch 2/200\n",
      "27/27 [==============================] - 4s 160ms/step - loss: 0.9472 - acc: 0.4264 - val_loss: 0.9232 - val_acc: 0.3158\n",
      "\n",
      "Epoch 00002: val_acc did not improve from 0.31579\n",
      "Epoch 3/200\n",
      "27/27 [==============================] - 4s 161ms/step - loss: 0.8263 - acc: 0.5469 - val_loss: 1.0063 - val_acc: 0.3158\n",
      "\n",
      "Epoch 00003: val_acc improved from 0.31579 to 0.31579, saving model to /analysis/fabiane/models/MS/pretrained/rebuild_64Net/new_script/weights-augm-trial0-improvement-BEST.hdf5\n",
      "Epoch 4/200\n",
      "27/27 [==============================] - 5s 175ms/step - loss: 0.8274 - acc: 0.5005 - val_loss: 0.8427 - val_acc: 0.3158\n",
      "\n",
      "Epoch 00004: val_acc did not improve from 0.31579\n",
      "Epoch 5/200\n",
      "27/27 [==============================] - 5s 172ms/step - loss: 0.8853 - acc: 0.4995 - val_loss: 0.8834 - val_acc: 0.2632\n",
      "\n",
      "Epoch 00005: val_acc did not improve from 0.31579\n",
      "Epoch 6/200\n",
      "27/27 [==============================] - 5s 170ms/step - loss: 0.7911 - acc: 0.5654 - val_loss: 0.8051 - val_acc: 0.5263\n",
      "\n",
      "Epoch 00006: val_acc improved from 0.31579 to 0.52632, saving model to /analysis/fabiane/models/MS/pretrained/rebuild_64Net/new_script/weights-augm-trial0-improvement-BEST.hdf5\n",
      "Epoch 7/200\n",
      "27/27 [==============================] - 5s 168ms/step - loss: 0.7815 - acc: 0.5273 - val_loss: 1.0120 - val_acc: 0.3158\n",
      "\n",
      "Epoch 00007: val_acc did not improve from 0.52632\n",
      "Epoch 8/200\n",
      "27/27 [==============================] - 5s 171ms/step - loss: 0.7662 - acc: 0.6385 - val_loss: 0.8236 - val_acc: 0.3158\n",
      "\n",
      "Epoch 00008: val_acc did not improve from 0.52632\n",
      "Epoch 9/200\n",
      "27/27 [==============================] - 4s 156ms/step - loss: 0.7528 - acc: 0.4727 - val_loss: 0.8337 - val_acc: 0.3684\n",
      "\n",
      "Epoch 00009: val_acc did not improve from 0.52632\n",
      "Epoch 10/200\n",
      "27/27 [==============================] - 5s 184ms/step - loss: 0.7324 - acc: 0.6385 - val_loss: 0.8430 - val_acc: 0.3158\n",
      "\n",
      "Epoch 00010: val_acc did not improve from 0.52632\n",
      "Epoch 11/200\n",
      "27/27 [==============================] - 4s 156ms/step - loss: 0.8023 - acc: 0.5839 - val_loss: 0.9776 - val_acc: 0.2632\n",
      "\n",
      "Epoch 00011: val_acc did not improve from 0.52632\n",
      "Epoch 12/200\n",
      "27/27 [==============================] - 4s 164ms/step - loss: 0.6680 - acc: 0.7219 - val_loss: 0.7103 - val_acc: 0.7368\n",
      "\n",
      "Epoch 00012: val_acc improved from 0.52632 to 0.73684, saving model to /analysis/fabiane/models/MS/pretrained/rebuild_64Net/new_script/weights-augm-trial0-improvement-BEST.hdf5\n",
      "Epoch 13/200\n",
      "27/27 [==============================] - 5s 168ms/step - loss: 0.6627 - acc: 0.6756 - val_loss: 0.9545 - val_acc: 0.2632\n",
      "\n",
      "Epoch 00013: val_acc did not improve from 0.73684\n",
      "Epoch 14/200\n",
      "27/27 [==============================] - 5s 173ms/step - loss: 0.6457 - acc: 0.7312 - val_loss: 0.6680 - val_acc: 0.7368\n",
      "\n",
      "Epoch 00014: val_acc did not improve from 0.73684\n",
      "Epoch 15/200\n",
      "27/27 [==============================] - 5s 169ms/step - loss: 0.6669 - acc: 0.6571 - val_loss: 0.9155 - val_acc: 0.3158\n",
      "\n",
      "Epoch 00015: val_acc did not improve from 0.73684\n",
      "Epoch 16/200\n",
      "27/27 [==============================] - 5s 179ms/step - loss: 0.5962 - acc: 0.7497 - val_loss: 0.6365 - val_acc: 0.7368\n",
      "\n",
      "Epoch 00016: val_acc did not improve from 0.73684\n",
      "Epoch 17/200\n",
      "27/27 [==============================] - 5s 167ms/step - loss: 0.5702 - acc: 0.7868 - val_loss: 0.5811 - val_acc: 0.7895\n",
      "\n",
      "Epoch 00017: val_acc improved from 0.73684 to 0.78947, saving model to /analysis/fabiane/models/MS/pretrained/rebuild_64Net/new_script/weights-augm-trial0-improvement-BEST.hdf5\n",
      "Epoch 18/200\n",
      "27/27 [==============================] - 5s 168ms/step - loss: 0.5278 - acc: 0.8332 - val_loss: 0.6611 - val_acc: 0.7368\n",
      "\n",
      "Epoch 00018: val_acc did not improve from 0.78947\n",
      "Epoch 19/200\n",
      "27/27 [==============================] - 5s 182ms/step - loss: 0.6044 - acc: 0.7693 - val_loss: 0.6202 - val_acc: 0.8421\n",
      "\n",
      "Epoch 00019: val_acc improved from 0.78947 to 0.84211, saving model to /analysis/fabiane/models/MS/pretrained/rebuild_64Net/new_script/weights-augm-trial0-improvement-BEST.hdf5\n",
      "Epoch 20/200\n",
      "27/27 [==============================] - 5s 167ms/step - loss: 0.4994 - acc: 0.8332 - val_loss: 0.6355 - val_acc: 0.7895\n",
      "\n",
      "Epoch 00020: val_acc did not improve from 0.84211\n",
      "Epoch 21/200\n",
      "27/27 [==============================] - 4s 162ms/step - loss: 0.4636 - acc: 0.8146 - val_loss: 0.6878 - val_acc: 0.7368\n",
      "\n",
      "Epoch 00021: val_acc did not improve from 0.84211\n",
      "Epoch 22/200\n",
      "27/27 [==============================] - 5s 176ms/step - loss: 0.4735 - acc: 0.8424 - val_loss: 0.8476 - val_acc: 0.5263\n",
      "\n",
      "Epoch 00022: val_acc did not improve from 0.84211\n",
      "Epoch 23/200\n",
      "27/27 [==============================] - 4s 163ms/step - loss: 0.4868 - acc: 0.8239 - val_loss: 0.6283 - val_acc: 0.7895\n",
      "\n",
      "Epoch 00023: val_acc did not improve from 0.84211\n",
      "Epoch 24/200\n",
      "27/27 [==============================] - 4s 164ms/step - loss: 0.4388 - acc: 0.8795 - val_loss: 0.5498 - val_acc: 0.8421\n",
      "\n",
      "Epoch 00024: val_acc did not improve from 0.84211\n",
      "Epoch 25/200\n",
      "27/27 [==============================] - 4s 163ms/step - loss: 0.4511 - acc: 0.8702 - val_loss: 0.6736 - val_acc: 0.7368\n",
      "\n",
      "Epoch 00025: val_acc did not improve from 0.84211\n",
      "Epoch 26/200\n",
      "27/27 [==============================] - 5s 185ms/step - loss: 0.4117 - acc: 0.8888 - val_loss: 0.7099 - val_acc: 0.7368\n",
      "\n",
      "Epoch 00026: val_acc did not improve from 0.84211\n",
      "Epoch 27/200\n",
      "27/27 [==============================] - 4s 158ms/step - loss: 0.3843 - acc: 0.8888 - val_loss: 0.5568 - val_acc: 0.8421\n",
      "\n",
      "Epoch 00027: val_acc did not improve from 0.84211\n",
      "Epoch 28/200\n",
      "27/27 [==============================] - 5s 170ms/step - loss: 0.3599 - acc: 0.9073 - val_loss: 0.6235 - val_acc: 0.7895\n",
      "\n",
      "Epoch 00028: val_acc did not improve from 0.84211\n",
      "Epoch 29/200\n",
      "27/27 [==============================] - 4s 165ms/step - loss: 0.4002 - acc: 0.8795 - val_loss: 0.5769 - val_acc: 0.8421\n",
      "\n",
      "Epoch 00029: val_acc did not improve from 0.84211\n",
      "Epoch 30/200\n",
      "27/27 [==============================] - 5s 177ms/step - loss: 0.3567 - acc: 0.9166 - val_loss: 0.4618 - val_acc: 0.8947\n",
      "\n",
      "Epoch 00030: val_acc improved from 0.84211 to 0.89474, saving model to /analysis/fabiane/models/MS/pretrained/rebuild_64Net/new_script/weights-augm-trial0-improvement-BEST.hdf5\n",
      "Epoch 31/200\n",
      "27/27 [==============================] - 5s 167ms/step - loss: 0.3445 - acc: 0.9351 - val_loss: 0.5134 - val_acc: 0.8421\n",
      "\n",
      "Epoch 00031: val_acc did not improve from 0.89474\n",
      "Epoch 32/200\n",
      "27/27 [==============================] - 5s 172ms/step - loss: 0.3739 - acc: 0.9269 - val_loss: 0.4491 - val_acc: 0.9474\n",
      "\n",
      "Epoch 00032: val_acc improved from 0.89474 to 0.94737, saving model to /analysis/fabiane/models/MS/pretrained/rebuild_64Net/new_script/weights-augm-trial0-improvement-BEST.hdf5\n",
      "Epoch 33/200\n",
      "27/27 [==============================] - 4s 160ms/step - loss: 0.3235 - acc: 0.9259 - val_loss: 0.4510 - val_acc: 0.8947\n",
      "\n",
      "Epoch 00033: val_acc did not improve from 0.94737\n",
      "Epoch 34/200\n",
      "27/27 [==============================] - 4s 161ms/step - loss: 0.3498 - acc: 0.8980 - val_loss: 0.4768 - val_acc: 0.8947\n",
      "\n",
      "Epoch 00034: val_acc did not improve from 0.94737\n",
      "Epoch 35/200\n",
      "27/27 [==============================] - 4s 159ms/step - loss: 0.2971 - acc: 0.9444 - val_loss: 0.5607 - val_acc: 0.8421\n",
      "\n",
      "Epoch 00035: val_acc did not improve from 0.94737\n",
      "Epoch 36/200\n",
      "27/27 [==============================] - 5s 176ms/step - loss: 0.3350 - acc: 0.9083 - val_loss: 0.5824 - val_acc: 0.8421\n",
      "\n",
      "Epoch 00036: val_acc did not improve from 0.94737\n",
      "Epoch 37/200\n",
      "23/27 [========================>.....] - ETA: 0s - loss: 0.3271 - acc: 0.9022"
     ]
    }
   ],
   "source": [
    "# training args\n",
    "lr = 0.0005\n",
    "lr_decay = 0.002\n",
    "transforms = [intensity, sagittal_flip, translate]\n",
    "\n",
    "num_trials = 10\n",
    "store_models = True\n",
    "\n",
    "accuracies = []\n",
    "balanced_accuracies = []\n",
    "sensitivities = []\n",
    "specificities = []\n",
    "max_acc = []\n",
    "\n",
    "for i in range(num_trials):\n",
    "    print(\"Trial %i\" %i)\n",
    "    \n",
    "    # init model\n",
    "    model = init_model(model_path, finetune=False, up_to=None)    \n",
    "    opti = Adam(lr=lr, decay=lr_decay)\n",
    "    model.compile(optimizer=opti, loss='binary_crossentropy', metrics=['accuracy'])\n",
    "    \n",
    "    # callbacks\n",
    "    earlystop = EarlyStopping(monitor='val_loss', min_delta=0, patience=10, verbose=1, mode='auto')\n",
    "    if store_models:\n",
    "        result_path = os.path.join(result_dir, \"weights-augm-trial%i-improvement-BEST.hdf5\" %i)\n",
    "        model_checkpoint = ModelCheckpoint(result_path, monitor='val_acc', verbose=1, save_best_only=True, mode='max', save_weights_only=True)\n",
    "        callbacks = [earlystop, model_checkpoint]\n",
    "    else:\n",
    "        callbacks = [earlystop]\n",
    "        \n",
    "    train_loader = CISDataset(X_train, y_train, transform=transforms, batch_size=b, shuffle=True)\n",
    "    val_loader = CISDataset(X_val, y_val, transform=[intensity], batch_size=4, shuffle=True)\n",
    "    \n",
    "    # Start training\n",
    "    history = model.fit_generator(train_loader,\n",
    "                        epochs=num_epochs,\n",
    "                        validation_data=val_loader,\n",
    "                        callbacks=callbacks)\n",
    "    # Plot training curves\n",
    "    plt.figure(figsize=(11, 4))\n",
    "    plt.subplot(1, 2, 1)\n",
    "    plt.plot(history.history[\"loss\"])\n",
    "    plt.plot(history.history[\"val_loss\"])\n",
    "    plt.legend([\"Train\", \"Val\"])\n",
    "    plt.title(\"Loss\")\n",
    "    plt.subplot(1, 2, 2)\n",
    "    plt.plot(history.history[\"acc\"])\n",
    "    plt.plot(history.history[\"val_acc\"])\n",
    "    plt.legend([\"Train\", \"Val\"])\n",
    "    plt.title(\"Accuracy\")\n",
    "    plt.show()\n",
    "    # Evaluation\n",
    "    y_pred = model.predict_generator(val_loader)\n",
    "    #y_true = [item for sublist in [val_loader[batch_idx][1] for batch_idx in range(len(val_loader))] for item in sublist]\n",
    "    bal_acc = balanced_accuracy(y_val, y_pred>0.5)\n",
    "    sens = sensitivity(y_val, y_pred>0.5)\n",
    "    spec = specificity(y_val, y_pred>0.5)\n",
    "    # Store results\n",
    "    accuracies.append(history.history[\"val_acc\"][-1])\n",
    "    balanced_accuracies.append(bal_acc)\n",
    "    max_acc.append(np.max(history.history[\"val_acc\"]))\n",
    "    sensitivities.append(sens)\n",
    "    specificities.append(spec)\n",
    "\n",
    "training_time = time.time() - start_time\n",
    "print(\"Training Time: {}h:{}m:{}s\".format(\n",
    "            training_time//3600, (training_time//60)%60, training_time%60))\n",
    "# Print results\n",
    "print(\"Validation final accuracies: \\n {}\".format(accuracies))\n",
    "print(\"Validation final accuracies mean: {}\".format(np.mean(accuracies)))\n",
    "print(\"Validation best accuracies: \\n {}\".format(max_acc))\n",
    "print(\"Validation best accuracies mean: {}\".format(np.mean(max_acc)))\n",
    "print(\"Validation balanced accuracies: \\n {}\".format(balanced_accuracies))\n",
    "print(\"Validation balanced accuracies mean: {}\".format(np.mean(balanced_accuracies)))\n",
    "print(\"Validation final sensitivities: \\n {}\".format(sensitivities))\n",
    "print(\"Validation final sensitivities' mean: {}\".format(np.mean(sensitivities)))\n",
    "print(\"Validation final specificities: \\n {}\".format(specificities))\n",
    "print(\"Validation final specificities' mean: {}\".format(np.mean(specificities)))"
   ]
  },
  {
   "cell_type": "code",
   "execution_count": null,
   "metadata": {
    "collapsed": true
   },
   "outputs": [],
   "source": [
    "training_time = time.time() - start_time"
   ]
  },
  {
   "cell_type": "markdown",
   "metadata": {},
   "source": [
    "# Evaluation"
   ]
  },
  {
   "cell_type": "code",
   "execution_count": null,
   "metadata": {
    "collapsed": true
   },
   "outputs": [],
   "source": [
    "weights = [\"weights-augm-trial%i-improvement-BEST.hdf5\"%i for i in range(num_trials)]"
   ]
  },
  {
   "cell_type": "code",
   "execution_count": null,
   "metadata": {
    "collapsed": true
   },
   "outputs": [],
   "source": [
    "# load holdout set\n",
    "test_loader = CISDataset(X_holdout, y_holdout, transform=[intensity], batch_size=1, shuffle=False)"
   ]
  },
  {
   "cell_type": "code",
   "execution_count": null,
   "metadata": {},
   "outputs": [],
   "source": [
    "accuracies = []\n",
    "balanced_accuracies = []\n",
    "sensitivities = []\n",
    "specificities = []\n",
    "for fold, weight in enumerate(weights):\n",
    "    print(\"Fold {}\".format(fold))\n",
    "    model = load_model(model_path)\n",
    "    model_dir = os.path.join(result_dir, weight)\n",
    "    model.load_weights(model_dir)\n",
    "    \n",
    "    opti = Adam(lr=lr, decay=lr_decay)\n",
    "    model.compile(optimizer=opti,\n",
    "              loss='binary_crossentropy',\n",
    "              metrics=['accuracy'])\n",
    "    \n",
    "    # Evaluate\n",
    "    res = model.evaluate_generator(test_loader)\n",
    "    y_pred = model.predict_generator(test_loader)\n",
    "    bal_acc = balanced_accuracy(y_holdout, y_pred>0.5)\n",
    "    sens = sensitivity(y_holdout, y_pred>0.5)\n",
    "    spec = specificity(y_holdout, y_pred>0.5)\n",
    "    # Store results\n",
    "    accuracies.append(res[1])\n",
    "    balanced_accuracies.append(bal_acc)\n",
    "    sensitivities.append(sens)\n",
    "    specificities.append(spec)\n",
    "    # Print results\n",
    "    print(\"Model accuracy {:.2f} %\".format(res[1]*100))\n",
    "    print(\"Balanced accuracy {:.2f} %\".format(bal_acc*100))\n",
    "    print(\"Sensitivity {:.2f} %\".format(sens*100))\n",
    "    print(\"Specificity {:.2f} %\".format(spec*100))\n",
    "    \n",
    "    \n",
    "print(\"######## Final results ########\")\n",
    "print(\"Accuracy mean {:.2f} %\".format(np.mean(accuracies)*100))\n",
    "print(\"Balanced accuracy mean {:.2f} %\".format(np.mean(balanced_accuracies)*100))\n",
    "print(\"Sensitivity mean {:.2f} %\".format(np.mean(sensitivities)*100))\n",
    "print(\"Specificity mean {:.2f} %\".format(np.mean(specificities)*100))"
   ]
  },
  {
   "cell_type": "code",
   "execution_count": null,
   "metadata": {
    "collapsed": true
   },
   "outputs": [],
   "source": [
    "total_time = time.time() - start_time"
   ]
  },
  {
   "cell_type": "code",
   "execution_count": null,
   "metadata": {},
   "outputs": [],
   "source": [
    "print(\"Training Time: {}h:{}m:{}s\".format(\n",
    "            training_time//3600, (training_time//60)%60, training_time%60))\n",
    "print(\"Total time elapsed: {}h:{}m:{}s\".format(\n",
    "            total_time//3600, (total_time//60)%60, total_time%60))"
   ]
  },
  {
   "cell_type": "code",
   "execution_count": null,
   "metadata": {},
   "outputs": [],
   "source": [
    "quit()"
   ]
  },
  {
   "cell_type": "code",
   "execution_count": null,
   "metadata": {
    "collapsed": true
   },
   "outputs": [],
   "source": []
  }
 ],
 "metadata": {
  "kernelspec": {
   "display_name": "Python (postal)",
   "language": "python",
   "name": "postal"
  },
  "language_info": {
   "codemirror_mode": {
    "name": "ipython",
    "version": 3
   },
   "file_extension": ".py",
   "mimetype": "text/x-python",
   "name": "python",
   "nbconvert_exporter": "python",
   "pygments_lexer": "ipython3",
   "version": "3.6.6"
  }
 },
 "nbformat": 4,
 "nbformat_minor": 2
}
