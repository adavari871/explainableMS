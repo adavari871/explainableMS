{
 "cells": [
  {
   "cell_type": "markdown",
   "metadata": {},
   "source": [
    "For MS training we have 3 datasets: train, validation and holdout"
   ]
  },
  {
   "cell_type": "code",
   "execution_count": 1,
   "metadata": {
    "collapsed": true
   },
   "outputs": [],
   "source": [
    "import numpy as np\n",
    "import pandas as pd\n",
    "import nibabel as nib\n",
    "\n",
    "from scipy import interp\n",
    "from sklearn.utils import shuffle\n",
    "from sklearn.model_selection import GroupShuffleSplit\n",
    "from sklearn.metrics import confusion_matrix, roc_auc_score, roc_curve, auc\n",
    "from sklearn.model_selection import KFold\n",
    "from sklearn.svm import SVC, LinearSVC\n",
    "\n",
    "import matplotlib.pyplot as plt\n",
    "import os\n",
    "import time\n",
    "import h5py\n",
    "\n",
    "from config import *\n",
    "from utils import specificity, sensitivity, balanced_accuracy, normalize_float, shuffle_data"
   ]
  },
  {
   "cell_type": "code",
   "execution_count": 2,
   "metadata": {
    "collapsed": true
   },
   "outputs": [],
   "source": [
    "# Start timing\n",
    "start_time = time.time()"
   ]
  },
  {
   "cell_type": "code",
   "execution_count": 3,
   "metadata": {
    "collapsed": true
   },
   "outputs": [],
   "source": [
    "zero_one_normalize = False\n",
    "dtype = np.float32"
   ]
  },
  {
   "cell_type": "code",
   "execution_count": 5,
   "metadata": {
    "collapsed": true
   },
   "outputs": [],
   "source": [
    "# load hdf5 files and extract columns\n",
    "train_h5 = h5py.File('/analysis/share/Ritter/MS/CIS/train_dataset_FLAIR_lesions_filled.h5', 'r')\n",
    "holdout_h5 = h5py.File('/analysis/share/Ritter/MS/CIS/holdout_dataset_FLAIR_lesions_filled.h5', 'r')\n",
    "\n",
    "X_train, y_train = train_h5['X'], train_h5['y']\n",
    "X_holdout, y_holdout = holdout_h5['X'], holdout_h5['y']\n",
    "\n",
    "train_lesions_h5 = h5py.File('/analysis/share/Ritter/MS/CIS/train_dataset_lesions.h5', 'r')\n",
    "holdout_lesions_h5 = h5py.File('/analysis/share/Ritter/MS/CIS/holdout_dataset_lesions.h5', 'r')\n",
    "\n",
    "lesion_masks_train = train_lesions_h5['masks']\n",
    "lesion_masks_holdout = holdout_lesions_h5['masks']"
   ]
  },
  {
   "cell_type": "code",
   "execution_count": 6,
   "metadata": {
    "collapsed": true
   },
   "outputs": [],
   "source": [
    "# convert data to numpy arrays\n",
    "X_train = np.array(X_train, dtype=dtype)\n",
    "y_train = np.array(y_train)\n",
    "\n",
    "X_holdout = np.array(X_holdout, dtype=dtype)\n",
    "y_holdout = np.array(y_holdout)"
   ]
  },
  {
   "cell_type": "code",
   "execution_count": 7,
   "metadata": {},
   "outputs": [
    {
     "name": "stdout",
     "output_type": "stream",
     "text": [
      "Total datset length: 124\n",
      "Number of healthy controls: 61\n",
      "Number of MS patients: 63\n"
     ]
    }
   ],
   "source": [
    "print(\"Total datset length: {}\".format(len(y_train)))\n",
    "print(\"Number of healthy controls: {}\".format(len(y_train[y_train==0.])))\n",
    "print(\"Number of MS patients: {}\".format(len(y_train[y_train==1.])))"
   ]
  },
  {
   "cell_type": "code",
   "execution_count": 8,
   "metadata": {},
   "outputs": [
    {
     "data": {
      "image/png": "[encoded data removed]",
      "text/plain": [
       "<Figure size 432x288 with 1 Axes>"
      ]
     },
     "metadata": {
      "needs_background": "light"
     },
     "output_type": "display_data"
    }
   ],
   "source": [
    "plt.imshow(X_train[0][:,:,49], cmap='gray')\n",
    "plt.title(y_train[0])\n",
    "plt.show()"
   ]
  },
  {
   "cell_type": "markdown",
   "metadata": {},
   "source": [
    "## Normalization"
   ]
  },
  {
   "cell_type": "code",
   "execution_count": 9,
   "metadata": {},
   "outputs": [
    {
     "data": {
      "image/png": "[encoded data removed]",
      "text/plain": [
       "<Figure size 432x288 with 1 Axes>"
      ]
     },
     "metadata": {
      "needs_background": "light"
     },
     "output_type": "display_data"
    }
   ],
   "source": [
    "plt.hist(X_train[0].ravel())\n",
    "plt.show()"
   ]
  },
  {
   "cell_type": "code",
   "execution_count": 10,
   "metadata": {
    "collapsed": true
   },
   "outputs": [],
   "source": [
    "# try 0-1 scaling\n",
    "if zero_one_normalize:\n",
    "    X_train = normalize_float(X_train)\n",
    "    X_holdout = normalize_float(X_holdout)"
   ]
  },
  {
   "cell_type": "code",
   "execution_count": 11,
   "metadata": {},
   "outputs": [
    {
     "data": {
      "image/png": "[encoded data removed]",
      "text/plain": [
       "<Figure size 432x288 with 1 Axes>"
      ]
     },
     "metadata": {
      "needs_background": "light"
     },
     "output_type": "display_data"
    }
   ],
   "source": [
    "plt.hist(X_train[0].ravel())\n",
    "plt.show()"
   ]
  },
  {
   "cell_type": "code",
   "execution_count": 12,
   "metadata": {
    "collapsed": true
   },
   "outputs": [],
   "source": [
    "# flatten image dimensions\n",
    "X_train = X_train.reshape(X_train.shape[0], -1)\n",
    "X_holdout = X_holdout.reshape(X_holdout.shape[0], -1)"
   ]
  },
  {
   "cell_type": "markdown",
   "metadata": {},
   "source": [
    "## Training"
   ]
  },
  {
   "cell_type": "code",
   "execution_count": 13,
   "metadata": {},
   "outputs": [
    {
     "data": {
      "text/plain": [
       "(124, 1050624)"
      ]
     },
     "execution_count": 13,
     "metadata": {},
     "output_type": "execute_result"
    }
   ],
   "source": [
    "X_train.shape"
   ]
  },
  {
   "cell_type": "code",
   "execution_count": 14,
   "metadata": {
    "collapsed": true
   },
   "outputs": [],
   "source": [
    "from sklearn.model_selection import GridSearchCV\n",
    "from sklearn import preprocessing\n",
    "from sklearn.pipeline import make_pipeline\n",
    "\n",
    "def svc_param_selection(X, y, n_folds):\n",
    "    Cs = [0.001, 0.01, 0.1, 1, 10]\n",
    "    param_grid = {'svc__C': Cs}\n",
    "    # use standard scaler for preprocessing\n",
    "    scaler = preprocessing.StandardScaler()\n",
    "    pipeline = make_pipeline(scaler, SVC(kernel='linear', gamma='auto'))\n",
    "    grid_search = GridSearchCV(pipeline, param_grid, cv=n_folds, n_jobs=5)\n",
    "    grid_search.fit(X, y)\n",
    "    grid_search.best_params_\n",
    "    return grid_search.best_params_, grid_search.cv_results_"
   ]
  },
  {
   "cell_type": "code",
   "execution_count": 15,
   "metadata": {
    "scrolled": false
   },
   "outputs": [
    {
     "name": "stdout",
     "output_type": "stream",
     "text": [
      "Fold 0\n"
     ]
    },
    {
     "name": "stderr",
     "output_type": "stream",
     "text": [
      "/home/fabiane/.local/lib/python3.6/site-packages/sklearn/model_selection/_search.py:841: DeprecationWarning: The default of the `iid` parameter will change from True to False in version 0.22 and will be removed in 0.24. This will change numeric results when test-set sizes are unequal.\n",
      "  DeprecationWarning)\n"
     ]
    },
    {
     "name": "stdout",
     "output_type": "stream",
     "text": [
      "Best paramter value: {'svc__C': 0.001}\n",
      "######## Training set results ########\n",
      "Balanced accuracy 98.11 %\n",
      "Sensitivity 96.23 %\n",
      "Specificity 100.00 %\n",
      "######## Validation set results ########\n",
      "Balanced accuracy 61.25 %\n",
      "Sensitivity 60.00 %\n",
      "Specificity 62.50 %\n",
      "Area Under the Receiver Operating Curve (ROC AUC score) 61.25\n",
      "Fold 1\n"
     ]
    },
    {
     "name": "stderr",
     "output_type": "stream",
     "text": [
      "/home/fabiane/.local/lib/python3.6/site-packages/sklearn/model_selection/_search.py:841: DeprecationWarning: The default of the `iid` parameter will change from True to False in version 0.22 and will be removed in 0.24. This will change numeric results when test-set sizes are unequal.\n",
      "  DeprecationWarning)\n"
     ]
    },
    {
     "name": "stdout",
     "output_type": "stream",
     "text": [
      "Best paramter value: {'svc__C': 0.001}\n",
      "######## Training set results ########\n",
      "Balanced accuracy 99.07 %\n",
      "Sensitivity 98.15 %\n",
      "Specificity 100.00 %\n",
      "######## Validation set results ########\n",
      "Balanced accuracy 66.67 %\n",
      "Sensitivity 66.67 %\n",
      "Specificity 66.67 %\n",
      "Area Under the Receiver Operating Curve (ROC AUC score) 73.46\n",
      "Fold 2\n"
     ]
    },
    {
     "name": "stderr",
     "output_type": "stream",
     "text": [
      "/home/fabiane/.local/lib/python3.6/site-packages/sklearn/model_selection/_search.py:841: DeprecationWarning: The default of the `iid` parameter will change from True to False in version 0.22 and will be removed in 0.24. This will change numeric results when test-set sizes are unequal.\n",
      "  DeprecationWarning)\n"
     ]
    },
    {
     "name": "stdout",
     "output_type": "stream",
     "text": [
      "Best paramter value: {'svc__C': 0.001}\n",
      "######## Training set results ########\n",
      "Balanced accuracy 99.04 %\n",
      "Sensitivity 98.08 %\n",
      "Specificity 100.00 %\n",
      "######## Validation set results ########\n",
      "Balanced accuracy 67.53 %\n",
      "Sensitivity 63.64 %\n",
      "Specificity 71.43 %\n",
      "Area Under the Receiver Operating Curve (ROC AUC score) 64.94\n",
      "Fold 3\n"
     ]
    },
    {
     "name": "stderr",
     "output_type": "stream",
     "text": [
      "/home/fabiane/.local/lib/python3.6/site-packages/sklearn/model_selection/_search.py:841: DeprecationWarning: The default of the `iid` parameter will change from True to False in version 0.22 and will be removed in 0.24. This will change numeric results when test-set sizes are unequal.\n",
      "  DeprecationWarning)\n"
     ]
    },
    {
     "name": "stdout",
     "output_type": "stream",
     "text": [
      "Best paramter value: {'svc__C': 0.001}\n",
      "######## Training set results ########\n",
      "Balanced accuracy 98.15 %\n",
      "Sensitivity 96.30 %\n",
      "Specificity 100.00 %\n",
      "######## Validation set results ########\n",
      "Balanced accuracy 50.00 %\n",
      "Sensitivity 44.44 %\n",
      "Specificity 55.56 %\n",
      "Area Under the Receiver Operating Curve (ROC AUC score) 60.49\n",
      "Fold 4\n"
     ]
    },
    {
     "name": "stderr",
     "output_type": "stream",
     "text": [
      "/home/fabiane/.local/lib/python3.6/site-packages/sklearn/model_selection/_search.py:841: DeprecationWarning: The default of the `iid` parameter will change from True to False in version 0.22 and will be removed in 0.24. This will change numeric results when test-set sizes are unequal.\n",
      "  DeprecationWarning)\n"
     ]
    },
    {
     "name": "stdout",
     "output_type": "stream",
     "text": [
      "Best paramter value: {'svc__C': 0.001}\n",
      "######## Training set results ########\n",
      "Balanced accuracy 98.21 %\n",
      "Sensitivity 96.43 %\n",
      "Specificity 100.00 %\n",
      "######## Validation set results ########\n",
      "Balanced accuracy 67.53 %\n",
      "Sensitivity 71.43 %\n",
      "Specificity 63.64 %\n",
      "Area Under the Receiver Operating Curve (ROC AUC score) 76.62\n",
      "Fold 5\n"
     ]
    },
    {
     "name": "stderr",
     "output_type": "stream",
     "text": [
      "/home/fabiane/.local/lib/python3.6/site-packages/sklearn/model_selection/_search.py:841: DeprecationWarning: The default of the `iid` parameter will change from True to False in version 0.22 and will be removed in 0.24. This will change numeric results when test-set sizes are unequal.\n",
      "  DeprecationWarning)\n"
     ]
    },
    {
     "name": "stdout",
     "output_type": "stream",
     "text": [
      "Best paramter value: {'svc__C': 0.001}\n",
      "######## Training set results ########\n",
      "Balanced accuracy 99.09 %\n",
      "Sensitivity 98.18 %\n",
      "Specificity 100.00 %\n",
      "######## Validation set results ########\n",
      "Balanced accuracy 63.19 %\n",
      "Sensitivity 37.50 %\n",
      "Specificity 88.89 %\n",
      "Area Under the Receiver Operating Curve (ROC AUC score) 62.50\n",
      "Fold 6\n",
      "Best paramter value: {'svc__C': 0.001}\n",
      "######## Training set results ########\n",
      "Balanced accuracy 98.15 %\n",
      "Sensitivity 96.30 %\n",
      "Specificity 100.00 %\n",
      "######## Validation set results ########\n",
      "Balanced accuracy 70.83 %\n",
      "Sensitivity 66.67 %\n",
      "Specificity 75.00 %\n",
      "Area Under the Receiver Operating Curve (ROC AUC score) 83.33\n",
      "Training Time: 0.0h:26.0m:25.854902029037476s\n",
      "######## Final results ########\n",
      "Validation balanced accuracies: \n",
      " [0.6125, 0.6666666666666666, 0.6753246753246753, 0.5, 0.6753246753246753, 0.6319444444444444, 0.7083333333333333]\n",
      "Validation balanced accuracies mean: 0.638584827870542\n",
      "Validation final sensitivities: \n",
      " [0.6, 0.6666666666666666, 0.6363636363636364, 0.4444444444444444, 0.7142857142857143, 0.375, 0.6666666666666666]\n",
      "Validation final sensitivities' mean: 0.5862038754895897\n",
      "Validation final specificities: \n",
      " [0.625, 0.6666666666666666, 0.7142857142857143, 0.5555555555555556, 0.6363636363636364, 0.8888888888888888, 0.75]\n",
      "Validation final specificities' mean: 0.6909657802514946\n",
      "Mean ROC AUC score 68.94\n"
     ]
    },
    {
     "data": {
      "image/png": "[encoded data removed]",
      "text/plain": [
       "<Figure size 432x288 with 1 Axes>"
      ]
     },
     "metadata": {
      "needs_background": "light"
     },
     "output_type": "display_data"
    }
   ],
   "source": [
    "kf = KFold(n_splits=7)\n",
    "fold = 0\n",
    "\n",
    "best_params = []\n",
    "train_balanced_accuracies = []\n",
    "train_sensitivities = []\n",
    "train_specificities = []\n",
    "\n",
    "val_balanced_accuracies = []\n",
    "val_sensitivities = []\n",
    "val_specificities = []\n",
    "\n",
    "auc_scores = []\n",
    "tprs = []\n",
    "mean_fpr = np.linspace(0, 1, 100)\n",
    "\n",
    "# shuffle the data once\n",
    "X_train, y_train = shuffle_data(X_train, y_train)\n",
    "\n",
    "# nested cross-validation\n",
    "for train_idx, test_idx in kf.split(X_train):\n",
    "    print(\"Fold %i\" %fold)\n",
    "    fold += 1\n",
    "    \n",
    "    # Start inner cross-validation\n",
    "    best_param, cv_result = svc_param_selection(\n",
    "        X_train[train_idx],\n",
    "        y_train[train_idx],\n",
    "        n_folds=5)\n",
    "    \n",
    "    print(\"Best paramter value: {}\".format(best_param))\n",
    "    \n",
    "    model = SVC(kernel=\"linear\", C=best_param[\"svc__C\"])\n",
    "    model.fit(X_train[train_idx], y_train[train_idx])\n",
    "    \n",
    "    # training set results\n",
    "    train_pred = model.predict(X_train[train_idx])\n",
    "    train_bal_acc = balanced_accuracy(y_train[train_idx], train_pred)\n",
    "    train_sens = sensitivity(y_train[train_idx], train_pred)\n",
    "    train_spec = specificity(y_train[train_idx], train_pred)\n",
    "    # val set results\n",
    "    val_pred = model.predict(X_train[test_idx])\n",
    "    val_scores = model.decision_function(X_train[test_idx])\n",
    "    val_bal_acc = balanced_accuracy(y_train[test_idx], val_pred)\n",
    "    val_sens = sensitivity(y_train[test_idx], val_pred)\n",
    "    val_spec = specificity(y_train[test_idx], val_pred)\n",
    "    \n",
    "    roc_auc = roc_auc_score(y_train[test_idx], val_scores)\n",
    "    fpr, tpr, thresholds = roc_curve(y_train[test_idx], val_scores)   \n",
    "    \n",
    "    # Store results\n",
    "    best_params.append(best_param)\n",
    "    train_balanced_accuracies.append(train_bal_acc)\n",
    "    train_sensitivities.append(train_sens)\n",
    "    train_specificities.append(train_spec)\n",
    "    val_balanced_accuracies.append(val_bal_acc)\n",
    "    val_sensitivities.append(val_sens)\n",
    "    val_specificities.append(val_spec)\n",
    "    \n",
    "    auc_scores.append(roc_auc)\n",
    "    # interpolate with diagonal to get comparable results\n",
    "    tprs.append(interp(mean_fpr, fpr, tpr))\n",
    "    tprs[-1][0] = 0.0 # correct lowest value after interpolation\n",
    "\n",
    "    # Print results\n",
    "    print(\"######## Training set results ########\")\n",
    "    print(\"Balanced accuracy {:.2f} %\".format(train_bal_acc*100))\n",
    "    print(\"Sensitivity {:.2f} %\".format(train_sens*100))\n",
    "    print(\"Specificity {:.2f} %\".format(train_spec*100))\n",
    "    print(\"######## Validation set results ########\")\n",
    "    print(\"Balanced accuracy {:.2f} %\".format(val_bal_acc*100))\n",
    "    print(\"Sensitivity {:.2f} %\".format(val_sens*100))\n",
    "    print(\"Specificity {:.2f} %\".format(val_spec*100))\n",
    "    print(\"Area Under the Receiver Operating Curve (ROC AUC score) {:.2f}\".format(roc_auc*100))\n",
    "    plt.plot(fpr, tpr, lw=1, alpha=0.3,\n",
    "             label='ROC fold %d (AUC = %0.2f)' % (fold, roc_auc))\n",
    "    \n",
    "training_time = time.time() - start_time\n",
    "print(\"Training Time: {}h:{}m:{}s\".format(\n",
    "            training_time//3600, (training_time//60)%60, training_time%60))\n",
    "# Print results\n",
    "print(\"######## Final results ########\")\n",
    "print(\"Validation balanced accuracies: \\n {}\".format(val_balanced_accuracies))\n",
    "print(\"Validation balanced accuracies mean: {}\".format(np.mean(val_balanced_accuracies)))\n",
    "print(\"Validation final sensitivities: \\n {}\".format(val_sensitivities))\n",
    "print(\"Validation final sensitivities' mean: {}\".format(np.mean(val_sensitivities)))\n",
    "print(\"Validation final specificities: \\n {}\".format(val_specificities))\n",
    "print(\"Validation final specificities' mean: {}\".format(np.mean(val_specificities)))\n",
    "print(\"Mean ROC AUC score {:.2f}\".format(np.mean(auc_scores)*100))\n",
    "\n",
    "# Plot ROC Curves\n",
    "plt.plot([0, 1], [0, 1], linestyle='--', lw=2, color='r',\n",
    "         label='Chance', alpha=.8)\n",
    "\n",
    "mean_tpr = np.mean(tprs, axis=0)\n",
    "mean_tpr[-1] = 1.0 # correct max value after interpolation and mean\n",
    "mean_auc = auc(mean_fpr, mean_tpr)\n",
    "#assert(mean_auc == np.mean(auc_scores))\n",
    "\n",
    "std_auc = np.std(auc_scores)\n",
    "plt.plot(mean_fpr, mean_tpr, color='b',\n",
    "         label=r'Mean ROC (AUC = %0.2f $\\pm$ %0.2f)' % (mean_auc, std_auc),\n",
    "         lw=2, alpha=.8)\n",
    "\n",
    "std_tpr = np.std(tprs, axis=0)\n",
    "tprs_upper = np.minimum(mean_tpr + std_tpr, 1)\n",
    "tprs_lower = np.maximum(mean_tpr - std_tpr, 0)\n",
    "plt.fill_between(mean_fpr, tprs_lower, tprs_upper, color='grey', alpha=.2,\n",
    "                 label=r'$\\pm$ 1 std. dev.')\n",
    "\n",
    "plt.xlim([-0.05, 1.05])\n",
    "plt.ylim([-0.05, 1.05])\n",
    "plt.xlabel('False Positive Rate')\n",
    "plt.ylabel('True Positive Rate')\n",
    "plt.title('Receiver operating characteristic example')\n",
    "plt.legend(loc=\"lower right\")\n",
    "plt.show()\n"
   ]
  },
  {
   "cell_type": "code",
   "execution_count": 16,
   "metadata": {
    "collapsed": true
   },
   "outputs": [],
   "source": [
    "training_time = time.time() - start_time"
   ]
  },
  {
   "cell_type": "code",
   "execution_count": 17,
   "metadata": {
    "collapsed": true
   },
   "outputs": [],
   "source": [
    "counter = {}"
   ]
  },
  {
   "cell_type": "code",
   "execution_count": 18,
   "metadata": {
    "collapsed": true
   },
   "outputs": [],
   "source": [
    "def majority_vote(best_params):\n",
    "    \"\"\"\n",
    "    Find the most often used combination \n",
    "    of parameters.\n",
    "    \"\"\"\n",
    "    assert(len(best_params)>=1)\n",
    "    counter = {}\n",
    "    # count unique value list\n",
    "    for i in range(len(best_params)):\n",
    "        # turn values into key\n",
    "        new_key = \"\"\n",
    "        for x in list(best_params[i].values()):\n",
    "            new_key = new_key + str(x) + \"_\"\n",
    "        if new_key in counter.keys():\n",
    "            counter[new_key] += 1\n",
    "        else:\n",
    "            counter[new_key] = 1\n",
    "    # select most frequent value list\n",
    "    majority_param = max(counter, key=lambda key: counter[key])\n",
    "    # reformat to list\n",
    "    majority_param = majority_param[:-1].split(\"_\")\n",
    "    # reformat to dictionary\n",
    "    result = {}\n",
    "    for key, value in zip(best_params[0].keys(), majority_param):\n",
    "        result[key] = value\n",
    "    return result"
   ]
  },
  {
   "cell_type": "code",
   "execution_count": 19,
   "metadata": {},
   "outputs": [
    {
     "name": "stdout",
     "output_type": "stream",
     "text": [
      "{'svc__C': '0.001'}\n"
     ]
    }
   ],
   "source": [
    "majority_param = majority_vote(best_params)\n",
    "print(majority_param)"
   ]
  },
  {
   "cell_type": "markdown",
   "metadata": {},
   "source": [
    "# Evaluation"
   ]
  },
  {
   "cell_type": "markdown",
   "metadata": {},
   "source": [
    "Train on the entire training set with the best parameters from above and test on the holdout dataset for final performance."
   ]
  },
  {
   "cell_type": "code",
   "execution_count": 20,
   "metadata": {
    "scrolled": true
   },
   "outputs": [
    {
     "name": "stdout",
     "output_type": "stream",
     "text": [
      "Trial 0\n",
      "######## Training set results ########\n",
      "Balanced accuracy 98.41 %\n",
      "Sensitivity 96.83 %\n",
      "Specificity 100.00 %\n",
      "######## Holdout set results ########\n",
      "Balanced accuracy 66.92 %\n",
      "Sensitivity 53.85 %\n",
      "Specificity 80.00 %\n",
      "Area Under the Receiver Operating Curve (ROC AUC score) 66.92\n",
      "Trial 1\n",
      "######## Training set results ########\n",
      "Balanced accuracy 98.41 %\n",
      "Sensitivity 96.83 %\n",
      "Specificity 100.00 %\n",
      "######## Holdout set results ########\n",
      "Balanced accuracy 66.92 %\n",
      "Sensitivity 53.85 %\n",
      "Specificity 80.00 %\n",
      "Area Under the Receiver Operating Curve (ROC AUC score) 66.92\n",
      "Trial 2\n",
      "######## Training set results ########\n",
      "Balanced accuracy 98.41 %\n",
      "Sensitivity 96.83 %\n",
      "Specificity 100.00 %\n",
      "######## Holdout set results ########\n",
      "Balanced accuracy 66.92 %\n",
      "Sensitivity 53.85 %\n",
      "Specificity 80.00 %\n",
      "Area Under the Receiver Operating Curve (ROC AUC score) 66.92\n",
      "Trial 3\n",
      "######## Training set results ########\n",
      "Balanced accuracy 98.41 %\n",
      "Sensitivity 96.83 %\n",
      "Specificity 100.00 %\n",
      "######## Holdout set results ########\n",
      "Balanced accuracy 66.92 %\n",
      "Sensitivity 53.85 %\n",
      "Specificity 80.00 %\n",
      "Area Under the Receiver Operating Curve (ROC AUC score) 66.92\n",
      "Trial 4\n",
      "######## Training set results ########\n",
      "Balanced accuracy 98.41 %\n",
      "Sensitivity 96.83 %\n",
      "Specificity 100.00 %\n",
      "######## Holdout set results ########\n",
      "Balanced accuracy 66.92 %\n",
      "Sensitivity 53.85 %\n",
      "Specificity 80.00 %\n",
      "Area Under the Receiver Operating Curve (ROC AUC score) 66.92\n",
      "Trial 5\n",
      "######## Training set results ########\n",
      "Balanced accuracy 98.41 %\n",
      "Sensitivity 96.83 %\n",
      "Specificity 100.00 %\n",
      "######## Holdout set results ########\n",
      "Balanced accuracy 66.92 %\n",
      "Sensitivity 53.85 %\n",
      "Specificity 80.00 %\n",
      "Area Under the Receiver Operating Curve (ROC AUC score) 66.92\n",
      "Trial 6\n",
      "######## Training set results ########\n",
      "Balanced accuracy 98.41 %\n",
      "Sensitivity 96.83 %\n",
      "Specificity 100.00 %\n",
      "######## Holdout set results ########\n",
      "Balanced accuracy 66.92 %\n",
      "Sensitivity 53.85 %\n",
      "Specificity 80.00 %\n",
      "Area Under the Receiver Operating Curve (ROC AUC score) 66.92\n",
      "Trial 7\n",
      "######## Training set results ########\n",
      "Balanced accuracy 98.41 %\n",
      "Sensitivity 96.83 %\n",
      "Specificity 100.00 %\n",
      "######## Holdout set results ########\n",
      "Balanced accuracy 66.92 %\n",
      "Sensitivity 53.85 %\n",
      "Specificity 80.00 %\n",
      "Area Under the Receiver Operating Curve (ROC AUC score) 66.92\n",
      "Trial 8\n",
      "######## Training set results ########\n",
      "Balanced accuracy 98.41 %\n",
      "Sensitivity 96.83 %\n",
      "Specificity 100.00 %\n",
      "######## Holdout set results ########\n",
      "Balanced accuracy 66.92 %\n",
      "Sensitivity 53.85 %\n",
      "Specificity 80.00 %\n",
      "Area Under the Receiver Operating Curve (ROC AUC score) 66.92\n",
      "Trial 9\n",
      "######## Training set results ########\n",
      "Balanced accuracy 98.41 %\n",
      "Sensitivity 96.83 %\n",
      "Specificity 100.00 %\n",
      "######## Holdout set results ########\n",
      "Balanced accuracy 66.92 %\n",
      "Sensitivity 53.85 %\n",
      "Specificity 80.00 %\n",
      "Area Under the Receiver Operating Curve (ROC AUC score) 66.92\n",
      "Training Time: 0.0h:34.0m:48.062440395355225s\n",
      "######## Final results ########\n",
      "Holdout balanced accuracies: \n",
      " [0.6692307692307693, 0.6692307692307693, 0.6692307692307693, 0.6692307692307693, 0.6692307692307693, 0.6692307692307693, 0.6692307692307693, 0.6692307692307693, 0.6692307692307693, 0.6692307692307693]\n",
      "Holdout balanced accuracies mean: 0.6692307692307693\n",
      "Holdout final sensitivities: \n",
      " [0.5384615384615384, 0.5384615384615384, 0.5384615384615384, 0.5384615384615384, 0.5384615384615384, 0.5384615384615384, 0.5384615384615384, 0.5384615384615384, 0.5384615384615384, 0.5384615384615384]\n",
      "Holdout final sensitivities' mean: 0.5384615384615384\n",
      "Holdout final specificities: \n",
      " [0.8, 0.8, 0.8, 0.8, 0.8, 0.8, 0.8, 0.8, 0.8, 0.8]\n",
      "Holdout final specificities' mean: 0.8\n",
      "Mean ROC AUC score 66.92\n"
     ]
    },
    {
     "data": {
      "image/png": "[encoded data removed]",
      "text/plain": [
       "<Figure size 432x288 with 1 Axes>"
      ]
     },
     "metadata": {
      "needs_background": "light"
     },
     "output_type": "display_data"
    }
   ],
   "source": [
    "# training args\n",
    "kernel = \"linear\"\n",
    "C = float(majority_param[\"svc__C\"])\n",
    "model = SVC(kernel=kernel, C=C, cache_size=2000)\n",
    "#model = LinearSVC(C=C, max_iter=5000)\n",
    "\n",
    "num_trials = 10\n",
    "\n",
    "train_balanced_accuracies = []\n",
    "train_sensitivities = []\n",
    "train_specificities = []\n",
    "\n",
    "holdout_balanced_accuracies = []\n",
    "holdout_sensitivities = []\n",
    "holdout_specificities = []\n",
    "\n",
    "auc_scores = []\n",
    "tprs = []\n",
    "mean_fpr = np.linspace(0, 1, 100)\n",
    "\n",
    "for i in range(num_trials):\n",
    "    print(\"Trial %i\" %i)\n",
    "    \n",
    "    # shuffle the data\n",
    "    X_train, y_train = shuffle_data(X_train, y_train)\n",
    "    \n",
    "    # Start training\n",
    "    model.fit(X_train, y_train)\n",
    "    # training set results\n",
    "    train_pred = model.predict(X_train)\n",
    "    train_bal_acc = balanced_accuracy(y_train, train_pred)\n",
    "    train_sens = sensitivity(y_train, train_pred)\n",
    "    train_spec = specificity(y_train, train_pred)\n",
    "    # holdout set results\n",
    "    holdout_pred = model.predict(X_holdout)\n",
    "    holdout_scores = model.decision_function(X_holdout)\n",
    "    holdout_bal_acc = balanced_accuracy(y_holdout, holdout_pred)\n",
    "    holdout_sens = sensitivity(y_holdout, holdout_pred)\n",
    "    holdout_spec = specificity(y_holdout, holdout_pred)\n",
    "    \n",
    "    roc_auc = roc_auc_score(y_holdout, holdout_scores)\n",
    "    fpr, tpr, thresholds = roc_curve(y_holdout, holdout_scores)   \n",
    "    \n",
    "    # Store results\n",
    "    train_balanced_accuracies.append(train_bal_acc)\n",
    "    train_sensitivities.append(train_sens)\n",
    "    train_specificities.append(train_spec)\n",
    "    holdout_balanced_accuracies.append(holdout_bal_acc)\n",
    "    holdout_sensitivities.append(holdout_sens)\n",
    "    holdout_specificities.append(holdout_spec)\n",
    "    \n",
    "    auc_scores.append(roc_auc)\n",
    "    # interpolate with diagonal to get comparable results\n",
    "    tprs.append(interp(mean_fpr, fpr, tpr))\n",
    "    tprs[-1][0] = 0.0 # correct lowest value after interpolation\n",
    "\n",
    "    # Print results\n",
    "    print(\"######## Training set results ########\")\n",
    "    print(\"Balanced accuracy {:.2f} %\".format(train_bal_acc*100))\n",
    "    print(\"Sensitivity {:.2f} %\".format(train_sens*100))\n",
    "    print(\"Specificity {:.2f} %\".format(train_spec*100))\n",
    "    print(\"######## Holdout set results ########\")\n",
    "    print(\"Balanced accuracy {:.2f} %\".format(holdout_bal_acc*100))\n",
    "    print(\"Sensitivity {:.2f} %\".format(holdout_sens*100))\n",
    "    print(\"Specificity {:.2f} %\".format(holdout_spec*100))\n",
    "    print(\"Area Under the Receiver Operating Curve (ROC AUC score) {:.2f}\".format(roc_auc*100))\n",
    "    plt.plot(fpr, tpr, lw=1, alpha=0.3,\n",
    "             label='ROC trial %d (AUC = %0.2f)' % (i, roc_auc))\n",
    "    \n",
    "training_time = time.time() - start_time\n",
    "print(\"Training Time: {}h:{}m:{}s\".format(\n",
    "            training_time//3600, (training_time//60)%60, training_time%60))\n",
    "# Print results\n",
    "print(\"######## Final results ########\")\n",
    "print(\"Holdout balanced accuracies: \\n {}\".format(holdout_balanced_accuracies))\n",
    "print(\"Holdout balanced accuracies mean: {}\".format(np.mean(holdout_balanced_accuracies)))\n",
    "print(\"Holdout final sensitivities: \\n {}\".format(holdout_sensitivities))\n",
    "print(\"Holdout final sensitivities' mean: {}\".format(np.mean(holdout_sensitivities)))\n",
    "print(\"Holdout final specificities: \\n {}\".format(holdout_specificities))\n",
    "print(\"Holdout final specificities' mean: {}\".format(np.mean(holdout_specificities)))\n",
    "print(\"Mean ROC AUC score {:.2f}\".format(np.mean(auc_scores)*100))\n",
    "\n",
    "# Plot ROC Curves\n",
    "plt.plot([0, 1], [0, 1], linestyle='--', lw=2, color='r',\n",
    "         label='Chance', alpha=.8)\n",
    "\n",
    "mean_tpr = np.mean(tprs, axis=0)\n",
    "mean_tpr[-1] = 1.0 # correct max value after interpolation and mean\n",
    "mean_auc = auc(mean_fpr, mean_tpr)\n",
    "#assert(mean_auc == np.mean(auc_scores))\n",
    "\n",
    "std_auc = np.std(auc_scores)\n",
    "plt.plot(mean_fpr, mean_tpr, color='b',\n",
    "         label=r'Mean ROC (AUC = %0.2f $\\pm$ %0.2f)' % (mean_auc, std_auc),\n",
    "         lw=2, alpha=.8)\n",
    "\n",
    "std_tpr = np.std(tprs, axis=0)\n",
    "tprs_upper = np.minimum(mean_tpr + std_tpr, 1)\n",
    "tprs_lower = np.maximum(mean_tpr - std_tpr, 0)\n",
    "plt.fill_between(mean_fpr, tprs_lower, tprs_upper, color='grey', alpha=.2,\n",
    "                 label=r'$\\pm$ 1 std. dev.')\n",
    "\n",
    "plt.xlim([-0.05, 1.05])\n",
    "plt.ylim([-0.05, 1.05])\n",
    "plt.xlabel('False Positive Rate')\n",
    "plt.ylabel('True Positive Rate')\n",
    "plt.title('Receiver operating characteristic example')\n",
    "plt.legend(loc=\"lower right\")\n",
    "plt.show()\n"
   ]
  },
  {
   "cell_type": "code",
   "execution_count": 21,
   "metadata": {
    "collapsed": true
   },
   "outputs": [],
   "source": [
    "total_time = time.time() - start_time"
   ]
  },
  {
   "cell_type": "code",
   "execution_count": 22,
   "metadata": {},
   "outputs": [
    {
     "name": "stdout",
     "output_type": "stream",
     "text": [
      "Training Time: 0.0h:34.0m:48.062440395355225s\n",
      "Total time elapsed: 0.0h:34.0m:48.45543909072876s\n"
     ]
    }
   ],
   "source": [
    "print(\"Training Time: {}h:{}m:{}s\".format(\n",
    "            training_time//3600, (training_time//60)%60, training_time%60))\n",
    "print(\"Total time elapsed: {}h:{}m:{}s\".format(\n",
    "            total_time//3600, (total_time//60)%60, total_time%60))"
   ]
  },
  {
   "cell_type": "code",
   "execution_count": 23,
   "metadata": {
    "collapsed": true
   },
   "outputs": [],
   "source": [
    "quit()"
   ]
  }
 ],
 "metadata": {
  "kernelspec": {
   "display_name": "Python (postal)",
   "language": "python",
   "name": "postal"
  },
  "language_info": {
   "codemirror_mode": {
    "name": "ipython",
    "version": 3
   },
   "file_extension": ".py",
   "mimetype": "text/x-python",
   "name": "python",
   "nbconvert_exporter": "python",
   "pygments_lexer": "ipython3",
   "version": "3.6.6"
  }
 },
 "nbformat": 4,
 "nbformat_minor": 2
}
