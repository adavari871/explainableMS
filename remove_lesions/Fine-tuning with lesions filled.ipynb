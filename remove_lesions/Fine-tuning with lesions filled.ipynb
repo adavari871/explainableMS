{
 "cells": [
  {
   "cell_type": "markdown",
   "metadata": {},
   "source": [
    "For fine-tuning we have 3 datasets: train, validation and holdout"
   ]
  },
  {
   "cell_type": "code",
   "execution_count": 1,
   "metadata": {},
   "outputs": [
    {
     "name": "stderr",
     "output_type": "stream",
     "text": [
      "Using TensorFlow backend.\n"
     ]
    }
   ],
   "source": [
    "import numpy as np\n",
    "import pandas as pd\n",
    "import nibabel as nib\n",
    "import nilearn\n",
    "\n",
    "from scipy.ndimage.interpolation import zoom\n",
    "from sklearn.utils import shuffle\n",
    "from sklearn.model_selection import GroupShuffleSplit\n",
    "from sklearn.metrics import confusion_matrix\n",
    "from sklearn.model_selection import KFold\n",
    "\n",
    "import matplotlib.pyplot as plt\n",
    "import os\n",
    "import time\n",
    "import h5py\n",
    "\n",
    "# keras\n",
    "from keras.regularizers import l2\n",
    "from keras.optimizers import Adam\n",
    "from keras.models import load_model\n",
    "from keras.callbacks import EarlyStopping, ModelCheckpoint\n",
    "from keras.utils import Sequence\n",
    "import keras.backend as K\n",
    "\n",
    "from config import *\n",
    "from utils import specificity, sensitivity, balanced_accuracy, IntensityRescale, sagittal_flip, translate"
   ]
  },
  {
   "cell_type": "code",
   "execution_count": 2,
   "metadata": {
    "collapsed": true
   },
   "outputs": [],
   "source": [
    "# Start timing\n",
    "start_time = time.time()"
   ]
  },
  {
   "cell_type": "code",
   "execution_count": 3,
   "metadata": {
    "collapsed": true
   },
   "outputs": [],
   "source": [
    "#percent = 0.5\n",
    "import tensorflow as tf\n",
    "from keras.backend.tensorflow_backend import set_session\n",
    "\n",
    "\n",
    "config = tf.ConfigProto()\n",
    "#config.gpu_options.per_process_gpu_memory_fraction = percent\n",
    "config.gpu_options.visible_device_list = \"6\"\n",
    "set_session(tf.Session(config=config))"
   ]
  },
  {
   "cell_type": "code",
   "execution_count": 4,
   "metadata": {
    "collapsed": true
   },
   "outputs": [],
   "source": [
    "zero_one_normalize = True\n",
    "dtype = np.float32\n",
    "result_dir = \"/analysis/fabiane/models/MS/pretrained/rebuild_64Net/new_script/remove_lesions\""
   ]
  },
  {
   "cell_type": "code",
   "execution_count": 5,
   "metadata": {
    "collapsed": true
   },
   "outputs": [],
   "source": [
    "!mkdir -p $result_dir"
   ]
  },
  {
   "cell_type": "code",
   "execution_count": 6,
   "metadata": {
    "collapsed": true
   },
   "outputs": [],
   "source": [
    "# load hdf5 files and extract columns\n",
    "train_h5 = h5py.File('/analysis/share/Ritter/MS/CIS/train_dataset_FLAIR_lesions_filled.h5', 'r')\n",
    "holdout_h5 = h5py.File('/analysis/share/Ritter/MS/CIS/holdout_dataset_FLAIR_lesions_filled.h5', 'r')\n",
    "\n",
    "X_train, y_train = train_h5['X'], train_h5['y']\n",
    "X_holdout, y_holdout = holdout_h5['X'], holdout_h5['y']"
   ]
  },
  {
   "cell_type": "code",
   "execution_count": 7,
   "metadata": {
    "collapsed": true
   },
   "outputs": [],
   "source": [
    "# convert data to numpy arrays\n",
    "X_train = np.array(X_train, dtype=dtype)\n",
    "y_train = np.array(y_train)\n",
    "\n",
    "X_holdout = np.array(X_holdout, dtype=dtype)\n",
    "y_holdout = np.array(y_holdout)"
   ]
  },
  {
   "cell_type": "code",
   "execution_count": 8,
   "metadata": {},
   "outputs": [
    {
     "name": "stdout",
     "output_type": "stream",
     "text": [
      "Total datset length: 124\n",
      "Number of healthy controls: 61\n",
      "Number of MS patients: 63\n"
     ]
    }
   ],
   "source": [
    "print(\"Total datset length: {}\".format(len(y_train)))\n",
    "print(\"Number of healthy controls: {}\".format(len(np.array(y_train)[np.array(y_train)==0.])))\n",
    "print(\"Number of MS patients: {}\".format(len(np.array(y_train)[np.array(y_train)==1.])))"
   ]
  },
  {
   "cell_type": "code",
   "execution_count": 9,
   "metadata": {
    "collapsed": true
   },
   "outputs": [],
   "source": [
    "class CISDataset(Sequence):\n",
    "    def __init__(self, X, y, transform=None, batch_size=4, z_factor=None, shuffle=True, mask=None):\n",
    "        self.X = X\n",
    "        self.y = y\n",
    "        self.transform = transform\n",
    "        self.batch_size = batch_size\n",
    "        self.z_factor = z_factor\n",
    "        self.shuffle = shuffle\n",
    "        self.mask = mask\n",
    "        \n",
    "    def __len__(self):\n",
    "        return int(np.ceil(len(self.y)/self.batch_size))\n",
    "    \n",
    "    def __getitem__(self, idx):\n",
    "        # add BET\n",
    "        image = np.expand_dims(self.X[idx * self.batch_size:(idx + 1) * self.batch_size],5)\n",
    "        #label = np.array((batch_idx['label'] == \"MS\")* 1, dtype=np.int8) \n",
    "        label = np.array(self.y[idx * self.batch_size:(idx + 1) * self.batch_size], dtype=np.int8)\n",
    "        \n",
    "        if self.mask is not None:\n",
    "            for i in range(image.shape[0]):\n",
    "                image[i] *= self.mask\n",
    "        \n",
    "        for transformation in self.transform:\n",
    "            image = transformation(image)\n",
    "        \n",
    "        return image, label\n",
    "    \n",
    "    def on_epoch_end(self):\n",
    "        if self.shuffle:\n",
    "            self.X, self.y = shuffle(self.X, self.y)"
   ]
  },
  {
   "cell_type": "code",
   "execution_count": 10,
   "metadata": {
    "collapsed": true
   },
   "outputs": [],
   "source": [
    "mask = None"
   ]
  },
  {
   "cell_type": "code",
   "execution_count": 11,
   "metadata": {
    "collapsed": true
   },
   "outputs": [],
   "source": [
    "intensity = IntensityRescale(masked=False)"
   ]
  },
  {
   "cell_type": "code",
   "execution_count": 12,
   "metadata": {
    "collapsed": true
   },
   "outputs": [],
   "source": [
    "if zero_one_normalize:\n",
    "    cis_data = CISDataset(X_train, y_train, transform=[intensity], batch_size=4)\n",
    "else:\n",
    "    cis_data = CISDataset(X_train, y_train, batch_size=4)"
   ]
  },
  {
   "cell_type": "code",
   "execution_count": 13,
   "metadata": {},
   "outputs": [
    {
     "name": "stderr",
     "output_type": "stream",
     "text": [
      "/home/fabiane/anaconda2/envs/postal/lib/python3.6/site-packages/ipykernel_launcher.py:16: DeprecationWarning: Both axis > a.ndim and axis < -a.ndim - 1 are deprecated and will raise an AxisError in the future.\n",
      "  app.launch_new_instance()\n"
     ]
    },
    {
     "data": {
      "image/png": "[encoded data removed]",
      "text/plain": [
       "<Figure size 432x288 with 1 Axes>"
      ]
     },
     "metadata": {
      "needs_background": "light"
     },
     "output_type": "display_data"
    }
   ],
   "source": [
    "plt.figure()\n",
    "plt.title(\"Normalized between zero and 1\")\n",
    "plt.hist(cis_data[4][0][0].flatten())\n",
    "plt.show()"
   ]
  },
  {
   "cell_type": "code",
   "execution_count": 14,
   "metadata": {},
   "outputs": [
    {
     "name": "stderr",
     "output_type": "stream",
     "text": [
      "/home/fabiane/anaconda2/envs/postal/lib/python3.6/site-packages/ipykernel_launcher.py:16: DeprecationWarning: Both axis > a.ndim and axis < -a.ndim - 1 are deprecated and will raise an AxisError in the future.\n",
      "  app.launch_new_instance()\n"
     ]
    },
    {
     "data": {
      "image/png": "[encoded data removed]",
      "text/plain": [
       "<Figure size 432x288 with 1 Axes>"
      ]
     },
     "metadata": {
      "needs_background": "light"
     },
     "output_type": "display_data"
    }
   ],
   "source": [
    "plt.figure()\n",
    "plt.title(\"Scan image\")\n",
    "plt.imshow(np.squeeze(cis_data[4][0][0])[:,:,42], cmap='gray')\n",
    "plt.show()"
   ]
  },
  {
   "cell_type": "markdown",
   "metadata": {},
   "source": [
    "# Model"
   ]
  },
  {
   "cell_type": "code",
   "execution_count": 15,
   "metadata": {
    "collapsed": true
   },
   "outputs": [],
   "source": [
    "def init_model(path, finetune=True, up_to=7):\n",
    "    model = load_model(path)\n",
    "    model.load_weights(path)\n",
    "    if finetune:\n",
    "        for layer in model.layers[:up_to]:\n",
    "            layer.trainable = False\n",
    "    return model"
   ]
  },
  {
   "cell_type": "code",
   "execution_count": 16,
   "metadata": {},
   "outputs": [
    {
     "name": "stdout",
     "output_type": "stream",
     "text": [
      "_________________________________________________________________\n",
      "Layer (type)                 Output Shape              Param #   \n",
      "=================================================================\n",
      "Conv_1 (Conv3D)              (None, 94, 112, 94, 64)   1792      \n",
      "_________________________________________________________________\n",
      "Pool_1 (MaxPooling3D)        (None, 31, 37, 31, 64)    0         \n",
      "_________________________________________________________________\n",
      "dropout_7 (Dropout)          (None, 31, 37, 31, 64)    0         \n",
      "_________________________________________________________________\n",
      "Conv_2 (Conv3D)              (None, 29, 35, 29, 64)    110656    \n",
      "_________________________________________________________________\n",
      "Pool_2 (MaxPooling3D)        (None, 9, 11, 9, 64)      0         \n",
      "_________________________________________________________________\n",
      "dropout_8 (Dropout)          (None, 9, 11, 9, 64)      0         \n",
      "_________________________________________________________________\n",
      "Conv_3 (Conv3D)              (None, 7, 9, 7, 64)       110656    \n",
      "_________________________________________________________________\n",
      "Conv_4 (Conv3D)              (None, 5, 7, 5, 64)       110656    \n",
      "_________________________________________________________________\n",
      "Pool_4 (MaxPooling3D)        (None, 1, 2, 1, 64)       0         \n",
      "_________________________________________________________________\n",
      "dropout_9 (Dropout)          (None, 1, 2, 1, 64)       0         \n",
      "_________________________________________________________________\n",
      "flatten_3 (Flatten)          (None, 128)               0         \n",
      "_________________________________________________________________\n",
      "dense_3 (Dense)              (None, 1)                 129       \n",
      "=================================================================\n",
      "Total params: 333,889\n",
      "Trainable params: 333,889\n",
      "Non-trainable params: 0\n",
      "_________________________________________________________________\n",
      "None\n"
     ]
    }
   ],
   "source": [
    "# load model weights\n",
    "model_path = \"/analysis/share/Ritter/models/fabi/ADNI/pretraining_paper/model.h5\"\n",
    "model = init_model(model_path, finetune=False, up_to=None)\n",
    "print(model.summary())"
   ]
  },
  {
   "cell_type": "markdown",
   "metadata": {},
   "source": [
    "## Visualization"
   ]
  },
  {
   "cell_type": "code",
   "execution_count": 17,
   "metadata": {
    "collapsed": true
   },
   "outputs": [],
   "source": [
    "def visualize_weights(model):\n",
    "    # Visualize weights\n",
    "    W = model.layers[0].get_weights()[0]\n",
    "    W = np.squeeze(W)[:,:,2]\n",
    "    print(\"W shape : \", W.shape)\n",
    "\n",
    "    print(\"Weights mean {}\".format(W.mean()))\n",
    "    plt.figure(figsize=(20, 5))\n",
    "    plt.title('conv1 weights')\n",
    "    plt.imshow(make_mosaic(W, 2, 2), cmap=\"gray\")\n",
    "    plt.show()"
   ]
  },
  {
   "cell_type": "code",
   "execution_count": 18,
   "metadata": {
    "collapsed": true
   },
   "outputs": [],
   "source": [
    "import numpy.ma as ma\n",
    "def make_mosaic(imgs, nrows, ncols, border=1):\n",
    "    \"\"\"\n",
    "    Given a set of images with all the same shape, makes a\n",
    "    mosaic with nrows and ncols\n",
    "    \"\"\"\n",
    "    nimgs = imgs.shape[0]\n",
    "    imshape = imgs.shape[1:]\n",
    "    \n",
    "    mosaic = ma.masked_all((nrows * imshape[0] + (nrows - 1) * border,\n",
    "                            ncols * imshape[1] + (ncols - 1) * border),\n",
    "                            dtype=np.float32)\n",
    "    \n",
    "    paddedh = imshape[0] + border\n",
    "    paddedw = imshape[1] + border\n",
    "    for i in range(nimgs):\n",
    "        row = int(np.floor(i / ncols))\n",
    "        col = i % ncols\n",
    "        \n",
    "        mosaic[row * paddedh:row * paddedh + imshape[0],\n",
    "               col * paddedw:col * paddedw + imshape[1]] = imgs[i]\n",
    "    return mosaic"
   ]
  },
  {
   "cell_type": "code",
   "execution_count": 19,
   "metadata": {
    "collapsed": true
   },
   "outputs": [],
   "source": [
    "def reset_weights(model):\n",
    "    session = K.get_session()\n",
    "    for layer in model.layers: \n",
    "        if hasattr(layer, 'kernel_initializer'):\n",
    "            layer.kernel.initializer.run(session=session)\n"
   ]
  },
  {
   "cell_type": "code",
   "execution_count": 20,
   "metadata": {},
   "outputs": [
    {
     "name": "stdout",
     "output_type": "stream",
     "text": [
      "Pre-trained model layer 1 weights:\n",
      "W shape :  (3, 3, 64)\n",
      "Weights mean -0.003789090784266591\n"
     ]
    },
    {
     "data": {
      "image/png": "[encoded data removed]",
      "text/plain": [
       "<Figure size 1440x360 with 1 Axes>"
      ]
     },
     "metadata": {
      "needs_background": "light"
     },
     "output_type": "display_data"
    },
    {
     "name": "stdout",
     "output_type": "stream",
     "text": [
      "Random model layer 1 weights:\n",
      "W shape :  (3, 3, 64)\n",
      "Weights mean -0.0009978601010516286\n"
     ]
    },
    {
     "data": {
      "image/png": "[encoded data removed]",
      "text/plain": [
       "<Figure size 1440x360 with 1 Axes>"
      ]
     },
     "metadata": {
      "needs_background": "light"
     },
     "output_type": "display_data"
    }
   ],
   "source": [
    "# Visualize weights\n",
    "print(\"Pre-trained model layer 1 weights:\")\n",
    "visualize_weights(model)\n",
    "model_untrained = load_model(model_path)\n",
    "reset_weights(model_untrained)\n",
    "print(\"Random model layer 1 weights:\")\n",
    "visualize_weights(model_untrained)"
   ]
  },
  {
   "cell_type": "markdown",
   "metadata": {},
   "source": [
    "## Training"
   ]
  },
  {
   "cell_type": "code",
   "execution_count": 21,
   "metadata": {},
   "outputs": [
    {
     "data": {
      "text/plain": [
       "(124, 96, 114, 96)"
      ]
     },
     "execution_count": 21,
     "metadata": {},
     "output_type": "execute_result"
    }
   ],
   "source": [
    "X_train.shape"
   ]
  },
  {
   "cell_type": "code",
   "execution_count": 22,
   "metadata": {
    "collapsed": true
   },
   "outputs": [],
   "source": [
    "from sklearn.model_selection import train_test_split"
   ]
  },
  {
   "cell_type": "code",
   "execution_count": 23,
   "metadata": {
    "collapsed": true
   },
   "outputs": [],
   "source": [
    "# split training set\n",
    "X_train, X_val, y_train, y_val = train_test_split(X_train, y_train, test_size=0.1, random_state=77)"
   ]
  },
  {
   "cell_type": "code",
   "execution_count": 24,
   "metadata": {},
   "outputs": [
    {
     "name": "stdout",
     "output_type": "stream",
     "text": [
      "Trial 0\n",
      "Epoch 1/200\n"
     ]
    },
    {
     "name": "stderr",
     "output_type": "stream",
     "text": [
      "/home/fabiane/anaconda2/envs/postal/lib/python3.6/site-packages/ipykernel_launcher.py:16: DeprecationWarning: Both axis > a.ndim and axis < -a.ndim - 1 are deprecated and will raise an AxisError in the future.\n",
      "  app.launch_new_instance()\n"
     ]
    },
    {
     "name": "stdout",
     "output_type": "stream",
     "text": [
      "25/25 [==============================] - 8s 313ms/step - loss: 0.9206 - acc: 0.5302 - val_loss: 0.8517 - val_acc: 0.4400\n",
      "\n",
      "Epoch 00001: val_acc improved from -inf to 0.44000, saving model to /analysis/fabiane/models/MS/pretrained/rebuild_64Net/new_script/remove_lesions/weights-augm-trial0-improvement-BEST.hdf5\n",
      "Epoch 2/200\n",
      "25/25 [==============================] - 4s 157ms/step - loss: 0.9258 - acc: 0.4966 - val_loss: 0.8347 - val_acc: 0.4400\n",
      "\n",
      "Epoch 00002: val_acc did not improve from 0.44000\n",
      "Epoch 3/200\n",
      "25/25 [==============================] - 5s 181ms/step - loss: 0.8566 - acc: 0.5534 - val_loss: 0.8162 - val_acc: 0.5600\n",
      "\n",
      "Epoch 00003: val_acc improved from 0.44000 to 0.56000, saving model to /analysis/fabiane/models/MS/pretrained/rebuild_64Net/new_script/remove_lesions/weights-augm-trial0-improvement-BEST.hdf5\n",
      "Epoch 4/200\n",
      "25/25 [==============================] - 4s 155ms/step - loss: 1.0800 - acc: 0.4902 - val_loss: 0.8073 - val_acc: 0.5200\n",
      "\n",
      "Epoch 00004: val_acc did not improve from 0.56000\n",
      "Epoch 5/200\n",
      "25/25 [==============================] - 4s 161ms/step - loss: 0.8835 - acc: 0.4998 - val_loss: 0.8373 - val_acc: 0.5600\n",
      "\n",
      "Epoch 00005: val_acc did not improve from 0.56000\n",
      "Epoch 6/200\n",
      "25/25 [==============================] - 4s 163ms/step - loss: 1.1082 - acc: 0.4266 - val_loss: 0.8243 - val_acc: 0.5600\n",
      "\n",
      "Epoch 00006: val_acc did not improve from 0.56000\n",
      "Epoch 7/200\n",
      "25/25 [==============================] - 4s 160ms/step - loss: 0.8667 - acc: 0.5134 - val_loss: 0.8479 - val_acc: 0.4400\n",
      "\n",
      "Epoch 00007: val_acc did not improve from 0.56000\n",
      "Epoch 8/200\n",
      "25/25 [==============================] - 4s 165ms/step - loss: 0.8649 - acc: 0.5298 - val_loss: 0.8178 - val_acc: 0.4400\n",
      "\n",
      "Epoch 00008: val_acc did not improve from 0.56000\n",
      "Epoch 9/200\n",
      "25/25 [==============================] - 4s 162ms/step - loss: 0.9004 - acc: 0.4666 - val_loss: 0.8232 - val_acc: 0.4400\n",
      "\n",
      "Epoch 00009: val_acc did not improve from 0.56000\n",
      "Epoch 00009: early stopping\n",
      "Trial 1\n",
      "Epoch 1/200\n",
      "25/25 [==============================] - 5s 214ms/step - loss: 0.9291 - acc: 0.4766 - val_loss: 0.8632 - val_acc: 0.5600\n",
      "\n",
      "Epoch 00001: val_acc improved from -inf to 0.56000, saving model to /analysis/fabiane/models/MS/pretrained/rebuild_64Net/new_script/remove_lesions/weights-augm-trial1-improvement-BEST.hdf5\n",
      "Epoch 2/200\n",
      "25/25 [==============================] - 4s 155ms/step - loss: 0.9933 - acc: 0.4734 - val_loss: 0.8621 - val_acc: 0.4400\n",
      "\n",
      "Epoch 00002: val_acc did not improve from 0.56000\n",
      "Epoch 3/200\n",
      "25/25 [==============================] - 4s 165ms/step - loss: 0.9202 - acc: 0.5166 - val_loss: 0.8611 - val_acc: 0.4400\n",
      "\n",
      "Epoch 00003: val_acc did not improve from 0.56000\n",
      "Epoch 4/200\n",
      "25/25 [==============================] - 4s 164ms/step - loss: 0.8871 - acc: 0.5134 - val_loss: 0.8112 - val_acc: 0.5600\n",
      "\n",
      "Epoch 00004: val_acc did not improve from 0.56000\n",
      "Epoch 5/200\n",
      "25/25 [==============================] - 4s 169ms/step - loss: 0.8401 - acc: 0.5502 - val_loss: 0.8079 - val_acc: 0.4400\n",
      "\n",
      "Epoch 00005: val_acc did not improve from 0.56000\n",
      "Epoch 6/200\n",
      "25/25 [==============================] - 4s 172ms/step - loss: 0.8777 - acc: 0.4566 - val_loss: 0.7849 - val_acc: 0.5600\n",
      "\n",
      "Epoch 00006: val_acc did not improve from 0.56000\n",
      "Epoch 7/200\n",
      "25/25 [==============================] - 4s 164ms/step - loss: 0.7933 - acc: 0.5666 - val_loss: 0.7920 - val_acc: 0.4400\n",
      "\n",
      "Epoch 00007: val_acc did not improve from 0.56000\n",
      "Epoch 8/200\n",
      "25/25 [==============================] - 4s 166ms/step - loss: 0.8161 - acc: 0.4866 - val_loss: 0.7928 - val_acc: 0.4400\n",
      "\n",
      "Epoch 00008: val_acc did not improve from 0.56000\n",
      "Epoch 9/200\n",
      "25/25 [==============================] - 4s 165ms/step - loss: 0.7994 - acc: 0.5698 - val_loss: 0.8034 - val_acc: 0.4400\n",
      "\n",
      "Epoch 00009: val_acc did not improve from 0.56000\n",
      "Epoch 10/200\n",
      "25/25 [==============================] - 4s 174ms/step - loss: 0.8410 - acc: 0.4934 - val_loss: 0.7672 - val_acc: 0.5600\n",
      "\n",
      "Epoch 00010: val_acc did not improve from 0.56000\n",
      "Epoch 11/200\n",
      "25/25 [==============================] - 4s 164ms/step - loss: 0.8546 - acc: 0.5034 - val_loss: 0.7617 - val_acc: 0.5600\n",
      "\n",
      "Epoch 00011: val_acc did not improve from 0.56000\n",
      "Epoch 12/200\n",
      "25/25 [==============================] - 4s 168ms/step - loss: 0.8347 - acc: 0.5898 - val_loss: 0.8833 - val_acc: 0.4400\n",
      "\n",
      "Epoch 00012: val_acc did not improve from 0.56000\n",
      "Epoch 13/200\n",
      "25/25 [==============================] - 4s 160ms/step - loss: 0.8049 - acc: 0.5302 - val_loss: 0.7341 - val_acc: 0.5600\n",
      "\n",
      "Epoch 00013: val_acc did not improve from 0.56000\n",
      "Epoch 14/200\n",
      "25/25 [==============================] - 4s 165ms/step - loss: 0.7970 - acc: 0.5666 - val_loss: 0.7674 - val_acc: 0.4400\n",
      "\n",
      "Epoch 00014: val_acc did not improve from 0.56000\n",
      "Epoch 15/200\n",
      "25/25 [==============================] - 4s 168ms/step - loss: 0.7809 - acc: 0.5034 - val_loss: 0.7070 - val_acc: 0.7200\n",
      "\n",
      "Epoch 00015: val_acc improved from 0.56000 to 0.72000, saving model to /analysis/fabiane/models/MS/pretrained/rebuild_64Net/new_script/remove_lesions/weights-augm-trial1-improvement-BEST.hdf5\n",
      "Epoch 16/200\n",
      "25/25 [==============================] - 4s 164ms/step - loss: 0.8051 - acc: 0.4666 - val_loss: 0.7670 - val_acc: 0.4400\n",
      "\n",
      "Epoch 00016: val_acc did not improve from 0.72000\n",
      "Epoch 17/200\n",
      "25/25 [==============================] - 4s 158ms/step - loss: 0.8018 - acc: 0.5198 - val_loss: 0.7649 - val_acc: 0.4400\n",
      "\n",
      "Epoch 00017: val_acc did not improve from 0.72000\n",
      "Epoch 18/200\n",
      "25/25 [==============================] - 4s 165ms/step - loss: 0.7964 - acc: 0.5366 - val_loss: 0.7539 - val_acc: 0.4400\n",
      "\n",
      "Epoch 00018: val_acc did not improve from 0.72000\n",
      "Epoch 19/200\n",
      "25/25 [==============================] - 4s 171ms/step - loss: 0.7722 - acc: 0.4934 - val_loss: 0.6914 - val_acc: 0.7600\n",
      "\n",
      "Epoch 00019: val_acc improved from 0.72000 to 0.76000, saving model to /analysis/fabiane/models/MS/pretrained/rebuild_64Net/new_script/remove_lesions/weights-augm-trial1-improvement-BEST.hdf5\n",
      "Epoch 20/200\n",
      "25/25 [==============================] - 4s 162ms/step - loss: 0.6991 - acc: 0.6467 - val_loss: 0.6535 - val_acc: 0.7600\n",
      "\n",
      "Epoch 00020: val_acc did not improve from 0.76000\n",
      "Epoch 21/200\n",
      "25/25 [==============================] - 4s 166ms/step - loss: 0.6827 - acc: 0.6667 - val_loss: 0.7036 - val_acc: 0.6800\n",
      "\n",
      "Epoch 00021: val_acc did not improve from 0.76000\n",
      "Epoch 22/200\n",
      "25/25 [==============================] - 4s 179ms/step - loss: 0.7029 - acc: 0.6667 - val_loss: 0.6751 - val_acc: 0.6400\n",
      "\n",
      "Epoch 00022: val_acc did not improve from 0.76000\n",
      "Epoch 23/200\n",
      "25/25 [==============================] - 4s 160ms/step - loss: 0.6758 - acc: 0.6667 - val_loss: 0.6726 - val_acc: 0.6800\n",
      "\n",
      "Epoch 00023: val_acc did not improve from 0.76000\n",
      "Epoch 24/200\n",
      "25/25 [==============================] - 4s 165ms/step - loss: 0.6597 - acc: 0.6935 - val_loss: 0.7470 - val_acc: 0.5600\n",
      "\n",
      "Epoch 00024: val_acc did not improve from 0.76000\n",
      "Epoch 25/200\n",
      "25/25 [==============================] - 4s 176ms/step - loss: 0.6224 - acc: 0.7367 - val_loss: 0.6700 - val_acc: 0.7200\n",
      "\n",
      "Epoch 00025: val_acc did not improve from 0.76000\n",
      "Epoch 00025: early stopping\n",
      "Trial 2\n",
      "Epoch 1/200\n",
      "25/25 [==============================] - 5s 214ms/step - loss: 1.1049 - acc: 0.4334 - val_loss: 0.8686 - val_acc: 0.5600\n",
      "\n",
      "Epoch 00001: val_acc improved from -inf to 0.56000, saving model to /analysis/fabiane/models/MS/pretrained/rebuild_64Net/new_script/remove_lesions/weights-augm-trial2-improvement-BEST.hdf5\n",
      "Epoch 2/200\n",
      "25/25 [==============================] - 4s 162ms/step - loss: 0.9450 - acc: 0.4634 - val_loss: 0.8593 - val_acc: 0.4000\n",
      "\n",
      "Epoch 00002: val_acc did not improve from 0.56000\n",
      "Epoch 3/200\n",
      "25/25 [==============================] - 4s 157ms/step - loss: 0.8653 - acc: 0.5534 - val_loss: 0.8338 - val_acc: 0.6000\n",
      "\n",
      "Epoch 00003: val_acc improved from 0.56000 to 0.60000, saving model to /analysis/fabiane/models/MS/pretrained/rebuild_64Net/new_script/remove_lesions/weights-augm-trial2-improvement-BEST.hdf5\n",
      "Epoch 4/200\n",
      "25/25 [==============================] - 4s 165ms/step - loss: 0.8797 - acc: 0.5234 - val_loss: 0.8228 - val_acc: 0.4400\n",
      "\n",
      "Epoch 00004: val_acc did not improve from 0.60000\n",
      "Epoch 5/200\n",
      "25/25 [==============================] - 4s 170ms/step - loss: 0.8990 - acc: 0.4734 - val_loss: 0.8114 - val_acc: 0.4400\n",
      "\n",
      "Epoch 00005: val_acc did not improve from 0.60000\n",
      "Epoch 6/200\n"
     ]
    },
    {
     "name": "stdout",
     "output_type": "stream",
     "text": [
      "25/25 [==============================] - 4s 161ms/step - loss: 0.8546 - acc: 0.4602 - val_loss: 0.8207 - val_acc: 0.4400\n",
      "\n",
      "Epoch 00006: val_acc did not improve from 0.60000\n",
      "Epoch 7/200\n",
      "25/25 [==============================] - 4s 162ms/step - loss: 0.8734 - acc: 0.4734 - val_loss: 0.7770 - val_acc: 0.5600\n",
      "\n",
      "Epoch 00007: val_acc did not improve from 0.60000\n",
      "Epoch 8/200\n",
      "25/25 [==============================] - 4s 171ms/step - loss: 0.8221 - acc: 0.5434 - val_loss: 0.7793 - val_acc: 0.4400\n",
      "\n",
      "Epoch 00008: val_acc did not improve from 0.60000\n",
      "Epoch 9/200\n",
      "25/25 [==============================] - 4s 159ms/step - loss: 0.8175 - acc: 0.5202 - val_loss: 0.7834 - val_acc: 0.4400\n",
      "\n",
      "Epoch 00009: val_acc did not improve from 0.60000\n",
      "Epoch 10/200\n",
      "25/25 [==============================] - 4s 164ms/step - loss: 0.8588 - acc: 0.4634 - val_loss: 0.8103 - val_acc: 0.4400\n",
      "\n",
      "Epoch 00010: val_acc did not improve from 0.60000\n",
      "Epoch 11/200\n",
      "25/25 [==============================] - 4s 170ms/step - loss: 0.8331 - acc: 0.4734 - val_loss: 0.8748 - val_acc: 0.4400\n",
      "\n",
      "Epoch 00011: val_acc did not improve from 0.60000\n",
      "Epoch 12/200\n",
      "25/25 [==============================] - 4s 160ms/step - loss: 0.8336 - acc: 0.5434 - val_loss: 0.8172 - val_acc: 0.4400\n",
      "\n",
      "Epoch 00012: val_acc did not improve from 0.60000\n",
      "Epoch 00012: early stopping\n",
      "Trial 3\n",
      "Epoch 1/200\n",
      "25/25 [==============================] - 6s 228ms/step - loss: 0.9202 - acc: 0.5566 - val_loss: 1.2479 - val_acc: 0.4400\n",
      "\n",
      "Epoch 00001: val_acc improved from -inf to 0.44000, saving model to /analysis/fabiane/models/MS/pretrained/rebuild_64Net/new_script/remove_lesions/weights-augm-trial3-improvement-BEST.hdf5\n",
      "Epoch 2/200\n",
      "25/25 [==============================] - 4s 162ms/step - loss: 1.0753 - acc: 0.4666 - val_loss: 0.8489 - val_acc: 0.5200\n",
      "\n",
      "Epoch 00002: val_acc improved from 0.44000 to 0.52000, saving model to /analysis/fabiane/models/MS/pretrained/rebuild_64Net/new_script/remove_lesions/weights-augm-trial3-improvement-BEST.hdf5\n",
      "Epoch 3/200\n",
      "25/25 [==============================] - 4s 167ms/step - loss: 0.9544 - acc: 0.5598 - val_loss: 0.8523 - val_acc: 0.4800\n",
      "\n",
      "Epoch 00003: val_acc did not improve from 0.52000\n",
      "Epoch 4/200\n",
      "25/25 [==============================] - 4s 160ms/step - loss: 0.9118 - acc: 0.5134 - val_loss: 0.8293 - val_acc: 0.5600\n",
      "\n",
      "Epoch 00004: val_acc improved from 0.52000 to 0.56000, saving model to /analysis/fabiane/models/MS/pretrained/rebuild_64Net/new_script/remove_lesions/weights-augm-trial3-improvement-BEST.hdf5\n",
      "Epoch 5/200\n",
      "25/25 [==============================] - 4s 173ms/step - loss: 0.9131 - acc: 0.5234 - val_loss: 0.9073 - val_acc: 0.4400\n",
      "\n",
      "Epoch 00005: val_acc did not improve from 0.56000\n",
      "Epoch 6/200\n",
      "25/25 [==============================] - 4s 164ms/step - loss: 0.8952 - acc: 0.5166 - val_loss: 0.8314 - val_acc: 0.4400\n",
      "\n",
      "Epoch 00006: val_acc did not improve from 0.56000\n",
      "Epoch 7/200\n",
      "25/25 [==============================] - 4s 169ms/step - loss: 0.8659 - acc: 0.5134 - val_loss: 0.7674 - val_acc: 0.6000\n",
      "\n",
      "Epoch 00007: val_acc improved from 0.56000 to 0.60000, saving model to /analysis/fabiane/models/MS/pretrained/rebuild_64Net/new_script/remove_lesions/weights-augm-trial3-improvement-BEST.hdf5\n",
      "Epoch 8/200\n",
      "25/25 [==============================] - 4s 163ms/step - loss: 0.8094 - acc: 0.5766 - val_loss: 0.7953 - val_acc: 0.6000\n",
      "\n",
      "Epoch 00008: val_acc did not improve from 0.60000\n",
      "Epoch 9/200\n",
      "25/25 [==============================] - 4s 164ms/step - loss: 0.8597 - acc: 0.4334 - val_loss: 0.7967 - val_acc: 0.4800\n",
      "\n",
      "Epoch 00009: val_acc did not improve from 0.60000\n",
      "Epoch 10/200\n",
      "25/25 [==============================] - 4s 166ms/step - loss: 0.8137 - acc: 0.5566 - val_loss: 0.7916 - val_acc: 0.5200\n",
      "\n",
      "Epoch 00010: val_acc did not improve from 0.60000\n",
      "Epoch 11/200\n",
      "25/25 [==============================] - 4s 171ms/step - loss: 0.8253 - acc: 0.5198 - val_loss: 0.7841 - val_acc: 0.5200\n",
      "\n",
      "Epoch 00011: val_acc did not improve from 0.60000\n",
      "Epoch 12/200\n",
      "25/25 [==============================] - 4s 162ms/step - loss: 0.7947 - acc: 0.5534 - val_loss: 0.7224 - val_acc: 0.7200\n",
      "\n",
      "Epoch 00012: val_acc improved from 0.60000 to 0.72000, saving model to /analysis/fabiane/models/MS/pretrained/rebuild_64Net/new_script/remove_lesions/weights-augm-trial3-improvement-BEST.hdf5\n",
      "Epoch 13/200\n",
      "25/25 [==============================] - 4s 162ms/step - loss: 0.7593 - acc: 0.6002 - val_loss: 0.7869 - val_acc: 0.4400\n",
      "\n",
      "Epoch 00013: val_acc did not improve from 0.72000\n",
      "Epoch 14/200\n",
      "25/25 [==============================] - 4s 179ms/step - loss: 0.8086 - acc: 0.5034 - val_loss: 0.7545 - val_acc: 0.6400\n",
      "\n",
      "Epoch 00014: val_acc did not improve from 0.72000\n",
      "Epoch 15/200\n",
      "25/25 [==============================] - 4s 167ms/step - loss: 0.7750 - acc: 0.5266 - val_loss: 0.6997 - val_acc: 0.7200\n",
      "\n",
      "Epoch 00015: val_acc did not improve from 0.72000\n",
      "Epoch 16/200\n",
      "25/25 [==============================] - 4s 160ms/step - loss: 0.7616 - acc: 0.6199 - val_loss: 0.7106 - val_acc: 0.6000\n",
      "\n",
      "Epoch 00016: val_acc did not improve from 0.72000\n",
      "Epoch 17/200\n",
      "25/25 [==============================] - 4s 167ms/step - loss: 0.7622 - acc: 0.5634 - val_loss: 0.7667 - val_acc: 0.4400\n",
      "\n",
      "Epoch 00017: val_acc did not improve from 0.72000\n",
      "Epoch 18/200\n",
      "25/25 [==============================] - 4s 160ms/step - loss: 0.7361 - acc: 0.6066 - val_loss: 0.7130 - val_acc: 0.6400\n",
      "\n",
      "Epoch 00018: val_acc did not improve from 0.72000\n",
      "Epoch 19/200\n",
      "25/25 [==============================] - 4s 156ms/step - loss: 0.7434 - acc: 0.6102 - val_loss: 0.6973 - val_acc: 0.6800\n",
      "\n",
      "Epoch 00019: val_acc did not improve from 0.72000\n",
      "Epoch 20/200\n",
      "25/25 [==============================] - 4s 168ms/step - loss: 0.6876 - acc: 0.6835 - val_loss: 0.6921 - val_acc: 0.7200\n",
      "\n",
      "Epoch 00020: val_acc did not improve from 0.72000\n",
      "Epoch 21/200\n",
      "25/25 [==============================] - 4s 157ms/step - loss: 0.6109 - acc: 0.7499 - val_loss: 0.6874 - val_acc: 0.6000\n",
      "\n",
      "Epoch 00021: val_acc did not improve from 0.72000\n",
      "Epoch 22/200\n",
      "25/25 [==============================] - 4s 168ms/step - loss: 0.6508 - acc: 0.6967 - val_loss: 0.6485 - val_acc: 0.7200\n",
      "\n",
      "Epoch 00022: val_acc did not improve from 0.72000\n",
      "Epoch 23/200\n",
      "25/25 [==============================] - 4s 158ms/step - loss: 0.6409 - acc: 0.7399 - val_loss: 0.5916 - val_acc: 0.8400\n",
      "\n",
      "Epoch 00023: val_acc improved from 0.72000 to 0.84000, saving model to /analysis/fabiane/models/MS/pretrained/rebuild_64Net/new_script/remove_lesions/weights-augm-trial3-improvement-BEST.hdf5\n",
      "Epoch 24/200\n",
      "25/25 [==============================] - 4s 160ms/step - loss: 0.5620 - acc: 0.8299 - val_loss: 0.6158 - val_acc: 0.7600\n",
      "\n",
      "Epoch 00024: val_acc did not improve from 0.84000\n",
      "Epoch 25/200\n",
      "25/25 [==============================] - 4s 164ms/step - loss: 0.5240 - acc: 0.7867 - val_loss: 0.6836 - val_acc: 0.7200\n",
      "\n",
      "Epoch 00025: val_acc did not improve from 0.84000\n",
      "Epoch 26/200\n",
      "25/25 [==============================] - 4s 168ms/step - loss: 0.5873 - acc: 0.7467 - val_loss: 0.6080 - val_acc: 0.7200\n",
      "\n",
      "Epoch 00026: val_acc did not improve from 0.84000\n",
      "Epoch 27/200\n",
      "25/25 [==============================] - 4s 165ms/step - loss: 0.4975 - acc: 0.8667 - val_loss: 0.5586 - val_acc: 0.8000\n",
      "\n",
      "Epoch 00027: val_acc did not improve from 0.84000\n",
      "Epoch 28/200\n",
      "25/25 [==============================] - 4s 174ms/step - loss: 0.4488 - acc: 0.8499 - val_loss: 0.5445 - val_acc: 0.8000\n",
      "\n",
      "Epoch 00028: val_acc did not improve from 0.84000\n",
      "Epoch 29/200\n",
      "25/25 [==============================] - 4s 164ms/step - loss: 0.5550 - acc: 0.8067 - val_loss: 0.5836 - val_acc: 0.8000\n",
      "\n",
      "Epoch 00029: val_acc did not improve from 0.84000\n",
      "Epoch 30/200\n",
      "25/25 [==============================] - 4s 167ms/step - loss: 0.4661 - acc: 0.8667 - val_loss: 0.5937 - val_acc: 0.8000\n",
      "\n",
      "Epoch 00030: val_acc did not improve from 0.84000\n",
      "Epoch 31/200\n",
      "25/25 [==============================] - 4s 166ms/step - loss: 0.4506 - acc: 0.8499 - val_loss: 0.5743 - val_acc: 0.8400\n",
      "\n",
      "Epoch 00031: val_acc did not improve from 0.84000\n",
      "Epoch 32/200\n",
      "25/25 [==============================] - 4s 158ms/step - loss: 0.4207 - acc: 0.8499 - val_loss: 0.6445 - val_acc: 0.8000\n",
      "\n",
      "Epoch 00032: val_acc did not improve from 0.84000\n",
      "Epoch 33/200\n",
      "25/25 [==============================] - 4s 162ms/step - loss: 0.4435 - acc: 0.8367 - val_loss: 0.6216 - val_acc: 0.7600\n"
     ]
    },
    {
     "name": "stdout",
     "output_type": "stream",
     "text": [
      "\n",
      "Epoch 00033: val_acc did not improve from 0.84000\n",
      "Epoch 00033: early stopping\n",
      "Trial 4\n",
      "Epoch 1/200\n",
      "25/25 [==============================] - 6s 231ms/step - loss: 1.0485 - acc: 0.5302 - val_loss: 0.8785 - val_acc: 0.5600\n",
      "\n",
      "Epoch 00001: val_acc improved from -inf to 0.56000, saving model to /analysis/fabiane/models/MS/pretrained/rebuild_64Net/new_script/remove_lesions/weights-augm-trial4-improvement-BEST.hdf5\n",
      "Epoch 2/200\n",
      "25/25 [==============================] - 4s 164ms/step - loss: 1.0356 - acc: 0.4698 - val_loss: 0.8730 - val_acc: 0.4400\n",
      "\n",
      "Epoch 00002: val_acc did not improve from 0.56000\n",
      "Epoch 3/200\n",
      "25/25 [==============================] - 4s 159ms/step - loss: 0.9577 - acc: 0.5302 - val_loss: 0.9029 - val_acc: 0.4400\n",
      "\n",
      "Epoch 00003: val_acc did not improve from 0.56000\n",
      "Epoch 4/200\n",
      "25/25 [==============================] - 4s 175ms/step - loss: 0.8745 - acc: 0.5666 - val_loss: 0.8282 - val_acc: 0.5600\n",
      "\n",
      "Epoch 00004: val_acc did not improve from 0.56000\n",
      "Epoch 5/200\n",
      "25/25 [==============================] - 4s 158ms/step - loss: 0.9347 - acc: 0.4902 - val_loss: 0.8766 - val_acc: 0.4400\n",
      "\n",
      "Epoch 00005: val_acc did not improve from 0.56000\n",
      "Epoch 6/200\n",
      "25/25 [==============================] - 4s 173ms/step - loss: 0.9309 - acc: 0.4366 - val_loss: 0.8012 - val_acc: 0.5600\n",
      "\n",
      "Epoch 00006: val_acc did not improve from 0.56000\n",
      "Epoch 7/200\n",
      "25/25 [==============================] - 4s 173ms/step - loss: 0.9350 - acc: 0.3834 - val_loss: 0.8062 - val_acc: 0.5600\n",
      "\n",
      "Epoch 00007: val_acc did not improve from 0.56000\n",
      "Epoch 8/200\n",
      "25/25 [==============================] - 4s 162ms/step - loss: 0.9323 - acc: 0.4202 - val_loss: 0.7993 - val_acc: 0.5200\n",
      "\n",
      "Epoch 00008: val_acc did not improve from 0.56000\n",
      "Epoch 9/200\n",
      "25/25 [==============================] - 4s 159ms/step - loss: 0.8502 - acc: 0.5766 - val_loss: 0.7849 - val_acc: 0.5600\n",
      "\n",
      "Epoch 00009: val_acc did not improve from 0.56000\n",
      "Epoch 10/200\n",
      "25/25 [==============================] - 4s 165ms/step - loss: 0.8512 - acc: 0.4934 - val_loss: 0.8001 - val_acc: 0.4400\n",
      "\n",
      "Epoch 00010: val_acc did not improve from 0.56000\n",
      "Epoch 11/200\n",
      "25/25 [==============================] - 4s 175ms/step - loss: 0.8128 - acc: 0.4934 - val_loss: 0.7855 - val_acc: 0.4400\n",
      "\n",
      "Epoch 00011: val_acc did not improve from 0.56000\n",
      "Epoch 12/200\n",
      "25/25 [==============================] - 4s 163ms/step - loss: 0.8789 - acc: 0.5166 - val_loss: 0.7739 - val_acc: 0.4800\n",
      "\n",
      "Epoch 00012: val_acc did not improve from 0.56000\n",
      "Epoch 13/200\n",
      "25/25 [==============================] - 4s 169ms/step - loss: 0.7858 - acc: 0.5298 - val_loss: 0.7707 - val_acc: 0.5600\n",
      "\n",
      "Epoch 00013: val_acc did not improve from 0.56000\n",
      "Epoch 14/200\n",
      "25/25 [==============================] - 4s 164ms/step - loss: 0.8471 - acc: 0.4502 - val_loss: 0.7699 - val_acc: 0.5600\n",
      "\n",
      "Epoch 00014: val_acc did not improve from 0.56000\n",
      "Epoch 15/200\n",
      "25/25 [==============================] - 4s 170ms/step - loss: 0.7953 - acc: 0.5534 - val_loss: 0.7789 - val_acc: 0.4400\n",
      "\n",
      "Epoch 00015: val_acc did not improve from 0.56000\n",
      "Epoch 16/200\n",
      "25/25 [==============================] - 4s 170ms/step - loss: 0.8147 - acc: 0.4666 - val_loss: 0.7965 - val_acc: 0.4400\n",
      "\n",
      "Epoch 00016: val_acc did not improve from 0.56000\n",
      "Epoch 17/200\n",
      "25/25 [==============================] - 4s 168ms/step - loss: 0.7819 - acc: 0.5798 - val_loss: 0.9112 - val_acc: 0.4400\n",
      "\n",
      "Epoch 00017: val_acc did not improve from 0.56000\n",
      "Epoch 18/200\n",
      "25/25 [==============================] - 4s 171ms/step - loss: 0.7635 - acc: 0.4766 - val_loss: 0.7408 - val_acc: 0.6400\n",
      "\n",
      "Epoch 00018: val_acc improved from 0.56000 to 0.64000, saving model to /analysis/fabiane/models/MS/pretrained/rebuild_64Net/new_script/remove_lesions/weights-augm-trial4-improvement-BEST.hdf5\n",
      "Epoch 19/200\n",
      "25/25 [==============================] - 4s 161ms/step - loss: 0.7136 - acc: 0.6967 - val_loss: 0.7595 - val_acc: 0.5200\n",
      "\n",
      "Epoch 00019: val_acc did not improve from 0.64000\n",
      "Epoch 20/200\n",
      "25/25 [==============================] - 4s 168ms/step - loss: 0.7311 - acc: 0.6098 - val_loss: 0.7008 - val_acc: 0.7600\n",
      "\n",
      "Epoch 00020: val_acc improved from 0.64000 to 0.76000, saving model to /analysis/fabiane/models/MS/pretrained/rebuild_64Net/new_script/remove_lesions/weights-augm-trial4-improvement-BEST.hdf5\n",
      "Epoch 21/200\n",
      "25/25 [==============================] - 4s 160ms/step - loss: 0.7043 - acc: 0.5934 - val_loss: 0.7750 - val_acc: 0.5200\n",
      "\n",
      "Epoch 00021: val_acc did not improve from 0.76000\n",
      "Epoch 22/200\n",
      "25/25 [==============================] - 4s 168ms/step - loss: 0.7495 - acc: 0.5934 - val_loss: 0.7785 - val_acc: 0.6000\n",
      "\n",
      "Epoch 00022: val_acc did not improve from 0.76000\n",
      "Epoch 23/200\n",
      "25/25 [==============================] - 4s 157ms/step - loss: 0.6828 - acc: 0.6367 - val_loss: 0.6609 - val_acc: 0.7200\n",
      "\n",
      "Epoch 00023: val_acc did not improve from 0.76000\n",
      "Epoch 24/200\n",
      "25/25 [==============================] - 4s 171ms/step - loss: 0.6570 - acc: 0.7267 - val_loss: 0.6323 - val_acc: 0.7200\n",
      "\n",
      "Epoch 00024: val_acc did not improve from 0.76000\n",
      "Epoch 25/200\n",
      "25/25 [==============================] - 4s 160ms/step - loss: 0.6363 - acc: 0.7467 - val_loss: 0.7149 - val_acc: 0.7200\n",
      "\n",
      "Epoch 00025: val_acc did not improve from 0.76000\n",
      "Epoch 26/200\n",
      "25/25 [==============================] - 4s 167ms/step - loss: 0.6138 - acc: 0.7467 - val_loss: 0.6575 - val_acc: 0.6400\n",
      "\n",
      "Epoch 00026: val_acc did not improve from 0.76000\n",
      "Epoch 27/200\n",
      "25/25 [==============================] - 4s 159ms/step - loss: 0.5787 - acc: 0.7567 - val_loss: 0.6429 - val_acc: 0.6800\n",
      "\n",
      "Epoch 00027: val_acc did not improve from 0.76000\n",
      "Epoch 28/200\n",
      "25/25 [==============================] - 4s 170ms/step - loss: 0.5614 - acc: 0.7867 - val_loss: 0.6845 - val_acc: 0.7600\n",
      "\n",
      "Epoch 00028: val_acc did not improve from 0.76000\n",
      "Epoch 29/200\n",
      "25/25 [==============================] - 4s 160ms/step - loss: 0.5322 - acc: 0.8267 - val_loss: 0.6627 - val_acc: 0.6800\n",
      "\n",
      "Epoch 00029: val_acc did not improve from 0.76000\n",
      "Epoch 00029: early stopping\n",
      "Trial 5\n",
      "Epoch 1/200\n",
      "25/25 [==============================] - 6s 240ms/step - loss: 0.9848 - acc: 0.4698 - val_loss: 0.8587 - val_acc: 0.5600\n",
      "\n",
      "Epoch 00001: val_acc improved from -inf to 0.56000, saving model to /analysis/fabiane/models/MS/pretrained/rebuild_64Net/new_script/remove_lesions/weights-augm-trial5-improvement-BEST.hdf5\n",
      "Epoch 2/200\n",
      "25/25 [==============================] - 4s 161ms/step - loss: 1.0474 - acc: 0.4434 - val_loss: 0.8493 - val_acc: 0.5600\n",
      "\n",
      "Epoch 00002: val_acc did not improve from 0.56000\n",
      "Epoch 3/200\n",
      "25/25 [==============================] - 4s 159ms/step - loss: 0.8876 - acc: 0.5198 - val_loss: 0.8315 - val_acc: 0.5600\n",
      "\n",
      "Epoch 00003: val_acc did not improve from 0.56000\n",
      "Epoch 4/200\n",
      "25/25 [==============================] - 4s 166ms/step - loss: 0.9229 - acc: 0.4202 - val_loss: 0.8767 - val_acc: 0.4400\n",
      "\n",
      "Epoch 00004: val_acc did not improve from 0.56000\n",
      "Epoch 5/200\n",
      "25/25 [==============================] - 4s 171ms/step - loss: 0.9284 - acc: 0.4202 - val_loss: 0.8085 - val_acc: 0.2800\n",
      "\n",
      "Epoch 00005: val_acc did not improve from 0.56000\n",
      "Epoch 6/200\n",
      "25/25 [==============================] - 4s 156ms/step - loss: 0.8511 - acc: 0.5166 - val_loss: 0.8003 - val_acc: 0.4400\n",
      "\n",
      "Epoch 00006: val_acc did not improve from 0.56000\n",
      "Epoch 7/200\n",
      "25/25 [==============================] - 4s 168ms/step - loss: 0.8558 - acc: 0.4766 - val_loss: 0.7935 - val_acc: 0.4400\n",
      "\n",
      "Epoch 00007: val_acc did not improve from 0.56000\n",
      "Epoch 8/200\n",
      "25/25 [==============================] - 4s 163ms/step - loss: 0.8085 - acc: 0.5434 - val_loss: 0.7835 - val_acc: 0.4400\n",
      "\n",
      "Epoch 00008: val_acc did not improve from 0.56000\n",
      "Epoch 9/200\n",
      "25/25 [==============================] - 4s 178ms/step - loss: 0.8364 - acc: 0.4666 - val_loss: 0.7648 - val_acc: 0.5600\n",
      "\n",
      "Epoch 00009: val_acc did not improve from 0.56000\n",
      "Epoch 10/200\n",
      "25/25 [==============================] - 4s 159ms/step - loss: 0.8424 - acc: 0.5166 - val_loss: 0.8021 - val_acc: 0.5600\n",
      "\n",
      "Epoch 00010: val_acc did not improve from 0.56000\n",
      "Epoch 11/200\n",
      "25/25 [==============================] - 4s 166ms/step - loss: 0.8717 - acc: 0.5198 - val_loss: 0.7832 - val_acc: 0.4800\n",
      "\n",
      "Epoch 00011: val_acc did not improve from 0.56000\n",
      "Epoch 12/200\n",
      "25/25 [==============================] - 4s 159ms/step - loss: 0.8245 - acc: 0.4634 - val_loss: 0.7814 - val_acc: 0.4400\n"
     ]
    },
    {
     "name": "stdout",
     "output_type": "stream",
     "text": [
      "\n",
      "Epoch 00012: val_acc did not improve from 0.56000\n",
      "Epoch 13/200\n",
      "25/25 [==============================] - 4s 169ms/step - loss: 0.8393 - acc: 0.5402 - val_loss: 0.7680 - val_acc: 0.4800\n",
      "\n",
      "Epoch 00013: val_acc did not improve from 0.56000\n",
      "Epoch 14/200\n",
      "25/25 [==============================] - 4s 166ms/step - loss: 0.7621 - acc: 0.6367 - val_loss: 0.7700 - val_acc: 0.4400\n",
      "\n",
      "Epoch 00014: val_acc did not improve from 0.56000\n",
      "Epoch 00014: early stopping\n",
      "Trial 6\n",
      "Epoch 1/200\n",
      "25/25 [==============================] - 6s 246ms/step - loss: 1.0612 - acc: 0.4766 - val_loss: 0.8497 - val_acc: 0.5600\n",
      "\n",
      "Epoch 00001: val_acc improved from -inf to 0.56000, saving model to /analysis/fabiane/models/MS/pretrained/rebuild_64Net/new_script/remove_lesions/weights-augm-trial6-improvement-BEST.hdf5\n",
      "Epoch 2/200\n",
      "25/25 [==============================] - 4s 160ms/step - loss: 0.9646 - acc: 0.4766 - val_loss: 0.8400 - val_acc: 0.2800\n",
      "\n",
      "Epoch 00002: val_acc did not improve from 0.56000\n",
      "Epoch 3/200\n",
      "25/25 [==============================] - 4s 161ms/step - loss: 0.9296 - acc: 0.4866 - val_loss: 0.8446 - val_acc: 0.4400\n",
      "\n",
      "Epoch 00003: val_acc did not improve from 0.56000\n",
      "Epoch 4/200\n",
      "25/25 [==============================] - 4s 159ms/step - loss: 0.8483 - acc: 0.5566 - val_loss: 0.8273 - val_acc: 0.4400\n",
      "\n",
      "Epoch 00004: val_acc did not improve from 0.56000\n",
      "Epoch 5/200\n",
      "25/25 [==============================] - 4s 164ms/step - loss: 0.8990 - acc: 0.5234 - val_loss: 0.8051 - val_acc: 0.4400\n",
      "\n",
      "Epoch 00005: val_acc did not improve from 0.56000\n",
      "Epoch 6/200\n",
      "25/25 [==============================] - 4s 160ms/step - loss: 0.8690 - acc: 0.4266 - val_loss: 0.7852 - val_acc: 0.5600\n",
      "\n",
      "Epoch 00006: val_acc did not improve from 0.56000\n",
      "Epoch 7/200\n",
      "25/25 [==============================] - 4s 162ms/step - loss: 0.8355 - acc: 0.4898 - val_loss: 0.7770 - val_acc: 0.6000\n",
      "\n",
      "Epoch 00007: val_acc improved from 0.56000 to 0.60000, saving model to /analysis/fabiane/models/MS/pretrained/rebuild_64Net/new_script/remove_lesions/weights-augm-trial6-improvement-BEST.hdf5\n",
      "Epoch 8/200\n",
      "25/25 [==============================] - 4s 165ms/step - loss: 0.8311 - acc: 0.4334 - val_loss: 0.7989 - val_acc: 0.4400\n",
      "\n",
      "Epoch 00008: val_acc did not improve from 0.60000\n",
      "Epoch 9/200\n",
      "25/25 [==============================] - 4s 158ms/step - loss: 0.8055 - acc: 0.5698 - val_loss: 0.8625 - val_acc: 0.4400\n",
      "\n",
      "Epoch 00009: val_acc did not improve from 0.60000\n",
      "Epoch 10/200\n",
      "25/25 [==============================] - 4s 160ms/step - loss: 0.8187 - acc: 0.5434 - val_loss: 0.8338 - val_acc: 0.4400\n",
      "\n",
      "Epoch 00010: val_acc did not improve from 0.60000\n",
      "Epoch 11/200\n",
      "25/25 [==============================] - 4s 174ms/step - loss: 0.7772 - acc: 0.5766 - val_loss: 0.7939 - val_acc: 0.4400\n",
      "\n",
      "Epoch 00011: val_acc did not improve from 0.60000\n",
      "Epoch 12/200\n",
      "25/25 [==============================] - 4s 165ms/step - loss: 0.7754 - acc: 0.5734 - val_loss: 0.8167 - val_acc: 0.4400\n",
      "\n",
      "Epoch 00012: val_acc did not improve from 0.60000\n",
      "Epoch 00012: early stopping\n",
      "Training Time: 0.0h:10.0m:41.996758460998535s\n",
      "Validation final accuracies: \n",
      " [0.44, 0.72, 0.44, 0.76, 0.68, 0.44, 0.44]\n",
      "Validation final accuracies mean: 0.5599999999999999\n",
      "Validation best accuracies: \n",
      " [0.56, 0.76, 0.6, 0.84, 0.76, 0.56, 0.6]\n",
      "Validation best accuracies mean: 0.6685714285714285\n",
      "Validation balanced accuracies: \n",
      " [0.5, 0.7305194805194806, 0.5, 0.7467532467532467, 0.6655844155844155, 0.5, 0.5]\n",
      "Validation balanced accuracies mean: 0.5918367346938777\n",
      "Validation final sensitivities: \n",
      " [1.0, 0.8181818181818182, 1.0, 0.6363636363636364, 0.5454545454545454, 1.0, 1.0]\n",
      "Validation final sensitivities' mean: 0.8571428571428571\n",
      "Validation final specificities: \n",
      " [0.0, 0.6428571428571429, 0.0, 0.8571428571428571, 0.7857142857142857, 0.0, 0.0]\n",
      "Validation final specificities' mean: 0.32653061224489793\n"
     ]
    }
   ],
   "source": [
    "# training args\n",
    "lr = 0.0008\n",
    "lr_decay = 0.002\n",
    "transforms = [intensity, sagittal_flip, translate]\n",
    "\n",
    "num_trials = 7\n",
    "store_models = True\n",
    "\n",
    "# callbacks\n",
    "earlystop = EarlyStopping(monitor='val_loss', min_delta=0, patience=5, verbose=1, mode='auto')\n",
    "\n",
    "accuracies = []\n",
    "balanced_accuracies = []\n",
    "sensitivities = []\n",
    "specificities = []\n",
    "max_acc = []\n",
    "\n",
    "for i in range(num_trials):\n",
    "    print(\"Trial %i\" %i)\n",
    "    \n",
    "    # init model\n",
    "    model = init_model(model_path, finetune=False, up_to=None)    \n",
    "    opti = Adam(lr=lr, decay=lr_decay)\n",
    "    model.compile(optimizer=opti, loss='binary_crossentropy', metrics=['accuracy'])\n",
    "    \n",
    "    # callbacks\n",
    "    earlystop = EarlyStopping(monitor='val_loss', min_delta=0, patience=5, verbose=1, mode='auto')\n",
    "    if store_models:\n",
    "        result_path = os.path.join(result_dir, \"weights-augm-trial%i-improvement-BEST.hdf5\" %i)\n",
    "        model_checkpoint = ModelCheckpoint(result_path, monitor='val_acc', verbose=1, save_best_only=True, mode='max', save_weights_only=True)\n",
    "        callbacks = [earlystop, model_checkpoint]\n",
    "    else:\n",
    "        callbacks = [earlystop]\n",
    "        \n",
    "    train_loader = CISDataset(X_train, y_train, transform=transforms, batch_size=b, shuffle=True)\n",
    "    val_loader = CISDataset(X_val, y_val, transform=[intensity], batch_size=1, shuffle=False)\n",
    "    \n",
    "    # Start training\n",
    "    history = model.fit_generator(train_loader,\n",
    "                        epochs=num_epochs,\n",
    "                        verbose=1,\n",
    "                        validation_data=val_loader,\n",
    "                        callbacks=callbacks)\n",
    "    \n",
    "    # Evaluation\n",
    "    y_pred = model.predict_generator(val_loader)\n",
    "    #y_true = [item for sublist in [val_loader[batch_idx][1] for batch_idx in range(len(val_loader))] for item in sublist]\n",
    "    bal_acc = balanced_accuracy(y_val, y_pred>0.5)\n",
    "    sens = sensitivity(y_val, y_pred>0.5)\n",
    "    spec = specificity(y_val, y_pred>0.5)\n",
    "    # Store results\n",
    "    accuracies.append(history.history[\"val_acc\"][-1])\n",
    "    balanced_accuracies.append(bal_acc)\n",
    "    max_acc.append(np.max(history.history[\"val_acc\"]))\n",
    "    sensitivities.append(sens)\n",
    "    specificities.append(spec)\n",
    "\n",
    "training_time = time.time() - start_time\n",
    "print(\"Training Time: {}h:{}m:{}s\".format(\n",
    "            training_time//3600, (training_time//60)%60, training_time%60))\n",
    "\n",
    "print(\"Validation final accuracies: \\n {}\".format(accuracies))\n",
    "print(\"Validation final accuracies mean: {}\".format(np.mean(accuracies)))\n",
    "print(\"Validation best accuracies: \\n {}\".format(max_acc))\n",
    "print(\"Validation best accuracies mean: {}\".format(np.mean(max_acc)))\n",
    "print(\"Validation balanced accuracies: \\n {}\".format(balanced_accuracies))\n",
    "print(\"Validation balanced accuracies mean: {}\".format(np.mean(balanced_accuracies)))\n",
    "print(\"Validation final sensitivities: \\n {}\".format(sensitivities))\n",
    "print(\"Validation final sensitivities' mean: {}\".format(np.mean(sensitivities)))\n",
    "print(\"Validation final specificities: \\n {}\".format(specificities))\n",
    "print(\"Validation final specificities' mean: {}\".format(np.mean(specificities)))"
   ]
  },
  {
   "cell_type": "code",
   "execution_count": 25,
   "metadata": {
    "collapsed": true
   },
   "outputs": [],
   "source": [
    "training_time = time.time() - start_time"
   ]
  },
  {
   "cell_type": "markdown",
   "metadata": {},
   "source": [
    "# Evaluation"
   ]
  },
  {
   "cell_type": "code",
   "execution_count": 26,
   "metadata": {
    "collapsed": true
   },
   "outputs": [],
   "source": [
    "weights = [\"weights-augm-trial%i-improvement-BEST.hdf5\"%i for i in range(num_trials)]"
   ]
  },
  {
   "cell_type": "code",
   "execution_count": 27,
   "metadata": {
    "collapsed": true
   },
   "outputs": [],
   "source": [
    "# load holdout set\n",
    "test_loader = CISDataset(X_holdout, y_holdout, transform=[intensity], batch_size=1, shuffle=False)"
   ]
  },
  {
   "cell_type": "code",
   "execution_count": 28,
   "metadata": {},
   "outputs": [
    {
     "name": "stdout",
     "output_type": "stream",
     "text": [
      "Fold 0\n"
     ]
    },
    {
     "name": "stderr",
     "output_type": "stream",
     "text": [
      "/home/fabiane/anaconda2/envs/postal/lib/python3.6/site-packages/ipykernel_launcher.py:16: DeprecationWarning: Both axis > a.ndim and axis < -a.ndim - 1 are deprecated and will raise an AxisError in the future.\n",
      "  app.launch_new_instance()\n"
     ]
    },
    {
     "name": "stdout",
     "output_type": "stream",
     "text": [
      "Model accuracy 34.78 %\n",
      "Balanced accuracy 33.08 %\n",
      "Sensitivity 46.15 %\n",
      "Specificity 20.00 %\n",
      "Fold 1\n",
      "Model accuracy 65.22 %\n",
      "Balanced accuracy 60.00 %\n",
      "Sensitivity 100.00 %\n",
      "Specificity 20.00 %\n",
      "Fold 2\n",
      "Model accuracy 52.17 %\n",
      "Balanced accuracy 56.54 %\n",
      "Sensitivity 23.08 %\n",
      "Specificity 90.00 %\n",
      "Fold 3\n",
      "Model accuracy 82.61 %\n",
      "Balanced accuracy 82.31 %\n",
      "Sensitivity 84.62 %\n",
      "Specificity 80.00 %\n",
      "Fold 4\n",
      "Model accuracy 73.91 %\n",
      "Balanced accuracy 71.15 %\n",
      "Sensitivity 92.31 %\n",
      "Specificity 50.00 %\n",
      "Fold 5\n",
      "Model accuracy 43.48 %\n",
      "Balanced accuracy 50.00 %\n",
      "Sensitivity 0.00 %\n",
      "Specificity 100.00 %\n",
      "Fold 6\n",
      "Model accuracy 52.17 %\n",
      "Balanced accuracy 49.62 %\n",
      "Sensitivity 69.23 %\n",
      "Specificity 30.00 %\n",
      "######## Final results ########\n",
      "Accuracy mean 57.76 %\n",
      "Balanced accuracy mean 57.53 %\n",
      "Sensitivity mean 59.34 %\n",
      "Specificity mean 55.71 %\n"
     ]
    }
   ],
   "source": [
    "accuracies = []\n",
    "balanced_accuracies = []\n",
    "sensitivities = []\n",
    "specificities = []\n",
    "for fold, weight in enumerate(weights):\n",
    "    print(\"Fold {}\".format(fold))\n",
    "    model = load_model(model_path)\n",
    "    model_dir = os.path.join(result_dir, weight)\n",
    "    model.load_weights(model_dir)\n",
    "    \n",
    "    opti = Adam(lr=lr, decay=lr_decay)\n",
    "    model.compile(optimizer=opti,\n",
    "              loss='binary_crossentropy',\n",
    "              metrics=['accuracy'])\n",
    "    \n",
    "    # Evaluate\n",
    "    res = model.evaluate_generator(test_loader)\n",
    "    y_pred = model.predict_generator(test_loader)\n",
    "    bal_acc = balanced_accuracy(y_holdout, y_pred>0.5)\n",
    "    sens = sensitivity(y_holdout, y_pred>0.5)\n",
    "    spec = specificity(y_holdout, y_pred>0.5)\n",
    "    # Store results\n",
    "    accuracies.append(res[1])\n",
    "    balanced_accuracies.append(bal_acc)\n",
    "    sensitivities.append(sens)\n",
    "    specificities.append(spec)\n",
    "    # Print results\n",
    "    print(\"Model accuracy {:.2f} %\".format(res[1]*100))\n",
    "    print(\"Balanced accuracy {:.2f} %\".format(bal_acc*100))\n",
    "    print(\"Sensitivity {:.2f} %\".format(sens*100))\n",
    "    print(\"Specificity {:.2f} %\".format(spec*100))\n",
    "    \n",
    "    \n",
    "print(\"######## Final results ########\")\n",
    "print(\"Accuracy mean {:.2f} %\".format(np.mean(accuracies)*100))\n",
    "print(\"Balanced accuracy mean {:.2f} %\".format(np.mean(balanced_accuracies)*100))\n",
    "print(\"Sensitivity mean {:.2f} %\".format(np.mean(sensitivities)*100))\n",
    "print(\"Specificity mean {:.2f} %\".format(np.mean(specificities)*100))"
   ]
  },
  {
   "cell_type": "code",
   "execution_count": 29,
   "metadata": {
    "collapsed": true
   },
   "outputs": [],
   "source": [
    "total_time = time.time() - start_time"
   ]
  },
  {
   "cell_type": "code",
   "execution_count": 30,
   "metadata": {},
   "outputs": [
    {
     "name": "stdout",
     "output_type": "stream",
     "text": [
      "Training Time: 0.0h:10.0m:42.00704026222229s\n",
      "Total time elapsed: 0.0h:11.0m:54.37342119216919s\n"
     ]
    }
   ],
   "source": [
    "print(\"Training Time: {}h:{}m:{}s\".format(\n",
    "            training_time//3600, (training_time//60)%60, training_time%60))\n",
    "print(\"Total time elapsed: {}h:{}m:{}s\".format(\n",
    "            total_time//3600, (total_time//60)%60, total_time%60))"
   ]
  },
  {
   "cell_type": "code",
   "execution_count": 31,
   "metadata": {
    "collapsed": true
   },
   "outputs": [],
   "source": [
    "quit()"
   ]
  },
  {
   "cell_type": "code",
   "execution_count": null,
   "metadata": {
    "collapsed": true
   },
   "outputs": [],
   "source": []
  }
 ],
 "metadata": {
  "kernelspec": {
   "display_name": "Python (postal)",
   "language": "python",
   "name": "postal"
  },
  "language_info": {
   "codemirror_mode": {
    "name": "ipython",
    "version": 3
   },
   "file_extension": ".py",
   "mimetype": "text/x-python",
   "name": "python",
   "nbconvert_exporter": "python",
   "pygments_lexer": "ipython3",
   "version": "3.6.6"
  }
 },
 "nbformat": 4,
 "nbformat_minor": 2
}
