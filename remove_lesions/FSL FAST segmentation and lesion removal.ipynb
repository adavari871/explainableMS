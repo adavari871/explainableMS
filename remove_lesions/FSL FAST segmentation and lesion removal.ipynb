{
 "cells": [
  {
   "cell_type": "code",
   "execution_count": 1,
   "metadata": {
    "collapsed": true
   },
   "outputs": [],
   "source": [
    "import os"
   ]
  },
  {
   "cell_type": "code",
   "execution_count": 2,
   "metadata": {
    "collapsed": true
   },
   "outputs": [],
   "source": [
    "from config import *\n",
    "import pandas as pd"
   ]
  },
  {
   "cell_type": "code",
   "execution_count": 3,
   "metadata": {
    "collapsed": true
   },
   "outputs": [],
   "source": [
    "doc_dir = \"/analysis/share/Ritter/MS/Test/file_list_HC_MS_BET_FLAIR.csv\""
   ]
  },
  {
   "cell_type": "code",
   "execution_count": 4,
   "metadata": {
    "collapsed": true
   },
   "outputs": [],
   "source": [
    "df = pd.read_csv(doc_dir)"
   ]
  },
  {
   "cell_type": "code",
   "execution_count": 16,
   "metadata": {
    "collapsed": true
   },
   "outputs": [],
   "source": [
    "#in_file = \"/analysis/share/Ritter/MS/CIS/03_MS/VIMS_MS_045/VIMS_MS_045_1/BET_VIMS_MS_045_1_FLAIR.nii.gz\"\n",
    "#out_file = \"/analysis/share/Ritter/MS/CIS/03_MS/VIMS_MS_045/VIMS_MS_045_1/BET_VIMS_MS_045_1_FLAIR_FAST\""
   ]
  },
  {
   "cell_type": "code",
   "execution_count": 17,
   "metadata": {},
   "outputs": [],
   "source": [
    "#!fast -t 2 -o $out_file $in_file "
   ]
  },
  {
   "cell_type": "code",
   "execution_count": 18,
   "metadata": {},
   "outputs": [],
   "source": [
    "for idx, row in df.iterrows():\n",
    "    in_file = row[\"path\"]\n",
    "    out_file = in_file.replace(\"FLAIR.nii.gz\", \"FLAIR_FAST\")\n",
    "    try:\n",
    "        !fast -t 2 -o $out_file $in_file \n",
    "    except:\n",
    "        print(\"Failed with {}\".format(in_file))"
   ]
  },
  {
   "cell_type": "code",
   "execution_count": 19,
   "metadata": {},
   "outputs": [
    {
     "name": "stdout",
     "output_type": "stream",
     "text": [
      "Finished segmentation\n"
     ]
    }
   ],
   "source": [
    "print(\"Finished segmentation\")"
   ]
  },
  {
   "cell_type": "code",
   "execution_count": 21,
   "metadata": {},
   "outputs": [
    {
     "name": "stdout",
     "output_type": "stream",
     "text": [
      "/analysis/share/Ritter/MS/CIS/03_MS/VIMS_MS_027/VIMS_MS_027_1/BET_VIMS_MS_027_1_FLAIR_FAST_pve_1.nii.gz\r\n"
     ]
    }
   ],
   "source": [
    "!ls /analysis/share/Ritter/MS/CIS/03_MS/VIMS_MS_027/VIMS_MS_027_1/BET_VIMS_MS_027_1_FLAIR_FAST_pve_1.nii.gz"
   ]
  },
  {
   "cell_type": "code",
   "execution_count": 23,
   "metadata": {},
   "outputs": [
    {
     "name": "stdout",
     "output_type": "stream",
     "text": [
      "Mixing input mask and lesion mask\n",
      "Mixing input mask and lesion mask\n",
      "Mixing input mask and lesion mask\n",
      "Mixing input mask and lesion mask\n",
      "Mixing input mask and lesion mask\n",
      "Mixing input mask and lesion mask\n",
      "Mixing input mask and lesion mask\n",
      "Mixing input mask and lesion mask\n",
      "Mixing input mask and lesion mask\n",
      "Mixing input mask and lesion mask\n",
      "Mixing input mask and lesion mask\n",
      "Mixing input mask and lesion mask\n",
      "Mixing input mask and lesion mask\n",
      "Mixing input mask and lesion mask\n",
      "Mixing input mask and lesion mask\n",
      "Mixing input mask and lesion mask\n",
      "Mixing input mask and lesion mask\n",
      "Mixing input mask and lesion mask\n",
      "Mixing input mask and lesion mask\n",
      "Mixing input mask and lesion mask\n",
      "Mixing input mask and lesion mask\n",
      "Mixing input mask and lesion mask\n",
      "Mixing input mask and lesion mask\n",
      "Mixing input mask and lesion mask\n",
      "Mixing input mask and lesion mask\n",
      "Mixing input mask and lesion mask\n",
      "Mixing input mask and lesion mask\n",
      "Mixing input mask and lesion mask\n",
      "Mixing input mask and lesion mask\n",
      "Mixing input mask and lesion mask\n",
      "Mixing input mask and lesion mask\n",
      "Mixing input mask and lesion mask\n",
      "Mixing input mask and lesion mask\n",
      "Mixing input mask and lesion mask\n",
      "Mixing input mask and lesion mask\n",
      "Mixing input mask and lesion mask\n",
      "Mixing input mask and lesion mask\n",
      "Mixing input mask and lesion mask\n",
      "Mixing input mask and lesion mask\n",
      "Mixing input mask and lesion mask\n",
      "Mixing input mask and lesion mask\n",
      "Mixing input mask and lesion mask\n",
      "Mixing input mask and lesion mask\n",
      "Mixing input mask and lesion mask\n",
      "Mixing input mask and lesion mask\n",
      "Mixing input mask and lesion mask\n",
      "Mixing input mask and lesion mask\n",
      "Mixing input mask and lesion mask\n",
      "Mixing input mask and lesion mask\n",
      "Mixing input mask and lesion mask\n",
      "Mixing input mask and lesion mask\n",
      "Mixing input mask and lesion mask\n",
      "** ERROR (nifti_image_read): failed to find header file for '/analysis/share/Ritter/MS/CIS/03_MS/VIMS_MS_149/VIMS_MS_149_1/VIMS_MS_149_1_T2LESION_QC.nii.gz'\n",
      "* Error when reading the input lesion mask\n",
      "Mixing input mask and lesion mask\n",
      "Mixing input mask and lesion mask\n",
      "Mixing input mask and lesion mask\n",
      "Mixing input mask and lesion mask\n",
      "Mixing input mask and lesion mask\n",
      "Mixing input mask and lesion mask\n",
      "Mixing input mask and lesion mask\n",
      "Mixing input mask and lesion mask\n",
      "Mixing input mask and lesion mask\n",
      "Mixing input mask and lesion mask\n",
      "** ERROR (nifti_image_read): failed to find header file for '/analysis/share/Ritter/MS/CIS/03_MS/VIMS_MS_077/VIMS_MS_077_1/VIMS_MS_077_1_T2LESION_QC.nii.gz'\n",
      "* Error when reading the input lesion mask\n",
      "Mixing input mask and lesion mask\n",
      "Mixing input mask and lesion mask\n",
      "Mixing input mask and lesion mask\n",
      "Mixing input mask and lesion mask\n",
      "Mixing input mask and lesion mask\n",
      "Mixing input mask and lesion mask\n",
      "Mixing input mask and lesion mask\n",
      "Mixing input mask and lesion mask\n",
      "Mixing input mask and lesion mask\n",
      "Mixing input mask and lesion mask\n",
      "Mixing input mask and lesion mask\n",
      "Mixing input mask and lesion mask\n",
      "Mixing input mask and lesion mask\n",
      "Mixing input mask and lesion mask\n",
      "Mixing input mask and lesion mask\n",
      "Mixing input mask and lesion mask\n",
      "Mixing input mask and lesion mask\n",
      "Mixing input mask and lesion mask\n",
      "Mixing input mask and lesion mask\n",
      "Mixing input mask and lesion mask\n",
      "Mixing input mask and lesion mask\n",
      "Mixing input mask and lesion mask\n",
      "Mixing input mask and lesion mask\n",
      "Mixing input mask and lesion mask\n",
      "Mixing input mask and lesion mask\n",
      "Mixing input mask and lesion mask\n",
      "Mixing input mask and lesion mask\n",
      "Mixing input mask and lesion mask\n",
      "Mixing input mask and lesion mask\n",
      "Mixing input mask and lesion mask\n",
      "Mixing input mask and lesion mask\n",
      "Mixing input mask and lesion mask\n",
      "Mixing input mask and lesion mask\n",
      "Mixing input mask and lesion mask\n",
      "Mixing input mask and lesion mask\n",
      "Mixing input mask and lesion mask\n",
      "Mixing input mask and lesion mask\n",
      "Mixing input mask and lesion mask\n",
      "Mixing input mask and lesion mask\n",
      "Mixing input mask and lesion mask\n",
      "Mixing input mask and lesion mask\n",
      "Mixing input mask and lesion mask\n",
      "Mixing input mask and lesion mask\n",
      "Mixing input mask and lesion mask\n",
      "** ERROR (nifti_image_read): failed to find header file for '/analysis/share/Ritter/MS/CIS/02_HC/RS_GK_022/RS_GK_022_1/RS_GK_022_1_T2LESION_QC.nii.gz'\n",
      "* Error when reading the input lesion mask\n",
      "Mixing input mask and lesion mask\n",
      "Mixing input mask and lesion mask\n",
      "Mixing input mask and lesion mask\n",
      "Mixing input mask and lesion mask\n",
      "Mixing input mask and lesion mask\n",
      "Mixing input mask and lesion mask\n",
      "Mixing input mask and lesion mask\n",
      "Mixing input mask and lesion mask\n",
      "Mixing input mask and lesion mask\n",
      "Mixing input mask and lesion mask\n",
      "Mixing input mask and lesion mask\n",
      "Mixing input mask and lesion mask\n",
      "Mixing input mask and lesion mask\n",
      "Mixing input mask and lesion mask\n",
      "Mixing input mask and lesion mask\n",
      "Mixing input mask and lesion mask\n",
      "Mixing input mask and lesion mask\n",
      "Mixing input mask and lesion mask\n",
      "Mixing input mask and lesion mask\n",
      "Mixing input mask and lesion mask\n",
      "Mixing input mask and lesion mask\n",
      "Mixing input mask and lesion mask\n",
      "Mixing input mask and lesion mask\n",
      "Mixing input mask and lesion mask\n",
      "** ERROR (nifti_image_read): failed to find header file for '/analysis/share/Ritter/MS/CIS/02_HC/RS_GK_015/RS_GK_015_1/RS_GK_015_1_T2LESION_QC.nii.gz'\n",
      "* Error when reading the input lesion mask\n",
      "Mixing input mask and lesion mask\n",
      "Mixing input mask and lesion mask\n",
      "Mixing input mask and lesion mask\n",
      "Mixing input mask and lesion mask\n",
      "Mixing input mask and lesion mask\n",
      "Mixing input mask and lesion mask\n",
      "Mixing input mask and lesion mask\n",
      "Mixing input mask and lesion mask\n",
      "Mixing input mask and lesion mask\n",
      "Mixing input mask and lesion mask\n",
      "Mixing input mask and lesion mask\n",
      "Mixing input mask and lesion mask\n",
      "Mixing input mask and lesion mask\n"
     ]
    }
   ],
   "source": [
    "for idx, row in df.iterrows():\n",
    "    in_file = row[\"path\"]\n",
    "    lesion_mask = in_file.replace(\"BET_\", \"\").replace(\"FLAIR\", \"T2LESION_QC\")\n",
    "    out_file = in_file.replace(\"FLAIR\", \"FLAIR_lesions_filled_incl-WM-mask\")\n",
    "    wmmask = in_file.replace(\"FLAIR\", \"FLAIR_FAST_pve_1\")\n",
    "    try:\n",
    "        !cd /home/fabiane/Software/usr/local/bin; ./seg_FillLesions -i $in_file -l $lesion_mask -o $out_file -size 6 -mask $wmmask -smo 0.2\n",
    "    except:\n",
    "        print(\"Failed with {}\".format(in_file))"
   ]
  },
  {
   "cell_type": "code",
   "execution_count": 24,
   "metadata": {},
   "outputs": [
    {
     "name": "stdout",
     "output_type": "stream",
     "text": [
      "Finished lesion removal\n"
     ]
    }
   ],
   "source": [
    "print(\"Finished lesion removal\")"
   ]
  },
  {
   "cell_type": "code",
   "execution_count": null,
   "metadata": {
    "collapsed": true
   },
   "outputs": [],
   "source": []
  }
 ],
 "metadata": {
  "kernelspec": {
   "display_name": "Python 2",
   "language": "python",
   "name": "python2"
  },
  "language_info": {
   "codemirror_mode": {
    "name": "ipython",
    "version": 2
   },
   "file_extension": ".py",
   "mimetype": "text/x-python",
   "name": "python",
   "nbconvert_exporter": "python",
   "pygments_lexer": "ipython2",
   "version": "2.7.13"
  }
 },
 "nbformat": 4,
 "nbformat_minor": 2
}
