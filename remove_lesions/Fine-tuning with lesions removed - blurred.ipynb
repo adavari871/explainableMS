{
 "cells": [
  {
   "cell_type": "markdown",
   "metadata": {},
   "source": [
    "For fine-tuning we have 3 datasets: train, validation and holdout"
   ]
  },
  {
   "cell_type": "code",
   "execution_count": 1,
   "metadata": {},
   "outputs": [
    {
     "name": "stderr",
     "output_type": "stream",
     "text": [
      "Using TensorFlow backend.\n"
     ]
    }
   ],
   "source": [
    "import numpy as np\n",
    "import pandas as pd\n",
    "import nibabel as nib\n",
    "import nilearn\n",
    "\n",
    "from scipy.ndimage.interpolation import zoom\n",
    "from sklearn.utils import shuffle\n",
    "from sklearn.model_selection import GroupShuffleSplit\n",
    "from sklearn.metrics import confusion_matrix\n",
    "from sklearn.model_selection import KFold\n",
    "\n",
    "import matplotlib.pyplot as plt\n",
    "import os\n",
    "import time\n",
    "import h5py\n",
    "\n",
    "# keras\n",
    "from keras.regularizers import l2\n",
    "from keras.optimizers import Adam\n",
    "from keras.models import load_model\n",
    "from keras.callbacks import EarlyStopping, ModelCheckpoint\n",
    "from keras.utils import Sequence\n",
    "import keras.backend as K\n",
    "\n",
    "from config import *\n",
    "from utils import specificity, sensitivity, balanced_accuracy, IntensityRescale, sagittal_flip, translate, load_nifti"
   ]
  },
  {
   "cell_type": "code",
   "execution_count": 2,
   "metadata": {
    "collapsed": true
   },
   "outputs": [],
   "source": [
    "# Start timing\n",
    "start_time = time.time()"
   ]
  },
  {
   "cell_type": "code",
   "execution_count": 3,
   "metadata": {
    "collapsed": true
   },
   "outputs": [],
   "source": [
    "#percent = 0.5\n",
    "import tensorflow as tf\n",
    "from keras.backend.tensorflow_backend import set_session\n",
    "\n",
    "\n",
    "config = tf.ConfigProto()\n",
    "#config.gpu_options.per_process_gpu_memory_fraction = percent\n",
    "config.gpu_options.visible_device_list = \"7\"\n",
    "set_session(tf.Session(config=config))"
   ]
  },
  {
   "cell_type": "code",
   "execution_count": 4,
   "metadata": {
    "collapsed": true
   },
   "outputs": [],
   "source": [
    "zero_one_normalize = True\n",
    "dtype = np.float32\n",
    "z_factor = 0.525\n",
    "result_dir = \"/analysis/fabiane/models/MS/pretrained/rebuild_64Net/new_script/lesions_removed_blurred/\""
   ]
  },
  {
   "cell_type": "code",
   "execution_count": 5,
   "metadata": {
    "collapsed": true
   },
   "outputs": [],
   "source": [
    "!mkdir -p $result_dir"
   ]
  },
  {
   "cell_type": "code",
   "execution_count": 6,
   "metadata": {
    "collapsed": true
   },
   "outputs": [],
   "source": [
    "# load hdf5 files and extract columns\n",
    "train_h5 = h5py.File('/analysis/share/Ritter/MS/CIS/train_dataset.h5', 'r')\n",
    "holdout_h5 = h5py.File('/analysis/share/Ritter/MS/CIS/holdout_dataset.h5', 'r')\n",
    "\n",
    "X_train, y_train = train_h5['X'], train_h5['y']\n",
    "X_holdout, y_holdout = holdout_h5['X'], holdout_h5['y']"
   ]
  },
  {
   "cell_type": "code",
   "execution_count": 7,
   "metadata": {
    "collapsed": true
   },
   "outputs": [],
   "source": [
    "# convert data to numpy arrays\n",
    "X_train = np.array(X_train, dtype=dtype)\n",
    "y_train = np.array(y_train)\n",
    "\n",
    "X_holdout = np.array(X_holdout, dtype=dtype)\n",
    "y_holdout = np.array(y_holdout)"
   ]
  },
  {
   "cell_type": "code",
   "execution_count": 8,
   "metadata": {},
   "outputs": [
    {
     "name": "stdout",
     "output_type": "stream",
     "text": [
      "Total datset length: 124\n",
      "Number of healthy controls: 61\n",
      "Number of MS patients: 63\n"
     ]
    }
   ],
   "source": [
    "print(\"Total datset length: {}\".format(len(y_train)))\n",
    "print(\"Number of healthy controls: {}\".format(len(np.array(y_train)[np.array(y_train)==0.])))\n",
    "print(\"Number of MS patients: {}\".format(len(np.array(y_train)[np.array(y_train)==1.])))"
   ]
  },
  {
   "cell_type": "code",
   "execution_count": 9,
   "metadata": {
    "collapsed": true
   },
   "outputs": [],
   "source": [
    "class CISDataset(Sequence):\n",
    "    def __init__(self, X, y, transform=None, batch_size=4, z_factor=None, shuffle=True, mask=None):\n",
    "        self.X = X\n",
    "        self.y = y\n",
    "        self.transform = transform\n",
    "        self.batch_size = batch_size\n",
    "        self.z_factor = z_factor\n",
    "        self.shuffle = shuffle\n",
    "        self.mask = mask\n",
    "        \n",
    "    def __len__(self):\n",
    "        return int(np.ceil(len(self.y)/self.batch_size))\n",
    "    \n",
    "    def __getitem__(self, idx):\n",
    "        # add BET\n",
    "        image = np.expand_dims(self.X[idx * self.batch_size:(idx + 1) * self.batch_size],5)\n",
    "        #label = np.array((batch_idx['label'] == \"MS\")* 1, dtype=np.int8) \n",
    "        label = np.array(self.y[idx * self.batch_size:(idx + 1) * self.batch_size], dtype=np.int8)\n",
    "        \n",
    "        if self.mask is not None:\n",
    "            for i in range(image.shape[0]):\n",
    "                image[i] *= self.mask\n",
    "        \n",
    "        for transformation in self.transform:\n",
    "            image = transformation(image)\n",
    "        \n",
    "        return image, label\n",
    "    \n",
    "    def on_epoch_end(self):\n",
    "        if self.shuffle:\n",
    "            self.X, self.y = shuffle(self.X, self.y)"
   ]
  },
  {
   "cell_type": "markdown",
   "metadata": {},
   "source": [
    "## Load mask and reformat"
   ]
  },
  {
   "cell_type": "code",
   "execution_count": 10,
   "metadata": {
    "collapsed": true
   },
   "outputs": [],
   "source": [
    "mask_path = \"/data/Ritter/MS/Test/total_lesion_mask_blurred.nii.gz\""
   ]
  },
  {
   "cell_type": "code",
   "execution_count": 11,
   "metadata": {},
   "outputs": [
    {
     "name": "stderr",
     "output_type": "stream",
     "text": [
      "/home/fabiane/.local/lib/python3.6/site-packages/scipy/ndimage/interpolation.py:583: UserWarning: From scipy 0.13.0, the output shape of zoom() is calculated with round() instead of int() - for these inputs the size of the returned array has changed.\n",
      "  \"the returned array has changed.\", UserWarning)\n",
      "/home/fabiane/anaconda2/envs/postal/lib/python3.6/site-packages/ipykernel_launcher.py:2: DeprecationWarning: Both axis > a.ndim and axis < -a.ndim - 1 are deprecated and will raise an AxisError in the future.\n",
      "  \n"
     ]
    }
   ],
   "source": [
    "mask = load_nifti(mask_path, z_factor=z_factor)\n",
    "mask = np.expand_dims(mask, 4)"
   ]
  },
  {
   "cell_type": "code",
   "execution_count": 12,
   "metadata": {},
   "outputs": [
    {
     "data": {
      "image/png": "[encoded data removed]",
      "text/plain": [
       "<Figure size 864x288 with 2 Axes>"
      ]
     },
     "metadata": {
      "needs_background": "light"
     },
     "output_type": "display_data"
    }
   ],
   "source": [
    "plt.figure(figsize=(12, 4))\n",
    "plt.subplot(1, 2, 1)\n",
    "plt.imshow(mask[:,:,48, 0], cmap='gray')\n",
    "plt.subplot(1, 2, 2)\n",
    "plt.hist(mask.flatten())\n",
    "plt.show()"
   ]
  },
  {
   "cell_type": "code",
   "execution_count": 13,
   "metadata": {
    "collapsed": true
   },
   "outputs": [],
   "source": [
    "# after zooming return to binary format\n",
    "mask[np.where(mask>0.5)] = 1.\n",
    "mask[np.where(mask<=0.5)] = 0."
   ]
  },
  {
   "cell_type": "code",
   "execution_count": 14,
   "metadata": {},
   "outputs": [
    {
     "data": {
      "image/png": "[encoded data removed]",
      "text/plain": [
       "<Figure size 864x288 with 2 Axes>"
      ]
     },
     "metadata": {
      "needs_background": "light"
     },
     "output_type": "display_data"
    }
   ],
   "source": [
    "plt.figure(figsize=(12, 4))\n",
    "plt.subplot(1, 2, 1)\n",
    "plt.imshow(mask[:,:,48, 0], cmap='gray')\n",
    "plt.subplot(1, 2, 2)\n",
    "plt.hist(mask.flatten())\n",
    "plt.show()"
   ]
  },
  {
   "cell_type": "markdown",
   "metadata": {},
   "source": [
    "## Make dataset"
   ]
  },
  {
   "cell_type": "code",
   "execution_count": 15,
   "metadata": {
    "collapsed": true
   },
   "outputs": [],
   "source": [
    "intensity = IntensityRescale(masked=False)"
   ]
  },
  {
   "cell_type": "code",
   "execution_count": 16,
   "metadata": {
    "collapsed": true
   },
   "outputs": [],
   "source": [
    "if zero_one_normalize:\n",
    "    cis_data = CISDataset(X_train, y_train, transform=[intensity], batch_size=4, mask=mask)\n",
    "else:\n",
    "    cis_data = CISDataset(X_train, y_train, batch_size=4, mask=mask)"
   ]
  },
  {
   "cell_type": "code",
   "execution_count": 17,
   "metadata": {},
   "outputs": [
    {
     "name": "stderr",
     "output_type": "stream",
     "text": [
      "/home/fabiane/anaconda2/envs/postal/lib/python3.6/site-packages/ipykernel_launcher.py:16: DeprecationWarning: Both axis > a.ndim and axis < -a.ndim - 1 are deprecated and will raise an AxisError in the future.\n",
      "  app.launch_new_instance()\n"
     ]
    },
    {
     "data": {
      "image/png": "[encoded data removed]",
      "text/plain": [
       "<Figure size 432x288 with 1 Axes>"
      ]
     },
     "metadata": {
      "needs_background": "light"
     },
     "output_type": "display_data"
    }
   ],
   "source": [
    "plt.figure()\n",
    "plt.title(\"Normalized between zero and 1\")\n",
    "plt.hist(cis_data[4][0][0].flatten())\n",
    "plt.show()"
   ]
  },
  {
   "cell_type": "code",
   "execution_count": 18,
   "metadata": {},
   "outputs": [
    {
     "name": "stderr",
     "output_type": "stream",
     "text": [
      "/home/fabiane/anaconda2/envs/postal/lib/python3.6/site-packages/ipykernel_launcher.py:16: DeprecationWarning: Both axis > a.ndim and axis < -a.ndim - 1 are deprecated and will raise an AxisError in the future.\n",
      "  app.launch_new_instance()\n"
     ]
    },
    {
     "data": {
      "image/png": "[encoded data removed]",
      "text/plain": [
       "<Figure size 432x288 with 1 Axes>"
      ]
     },
     "metadata": {
      "needs_background": "light"
     },
     "output_type": "display_data"
    }
   ],
   "source": [
    "plt.figure()\n",
    "plt.title(\"Scan image\")\n",
    "plt.imshow(np.squeeze(cis_data[4][0][0])[:,:,42], cmap='gray')\n",
    "plt.show()"
   ]
  },
  {
   "cell_type": "markdown",
   "metadata": {},
   "source": [
    "# Model"
   ]
  },
  {
   "cell_type": "code",
   "execution_count": null,
   "metadata": {
    "collapsed": true
   },
   "outputs": [],
   "source": [
    "def init_model(path, finetune=True, up_to=7):\n",
    "    model = load_model(path)\n",
    "    model.load_weights(path)\n",
    "    if finetune:\n",
    "        for layer in model.layers[:up_to]:\n",
    "            layer.trainable = False\n",
    "    return model"
   ]
  },
  {
   "cell_type": "code",
   "execution_count": null,
   "metadata": {},
   "outputs": [
    {
     "name": "stdout",
     "output_type": "stream",
     "text": [
      "_________________________________________________________________\n",
      "Layer (type)                 Output Shape              Param #   \n",
      "=================================================================\n",
      "Conv_1 (Conv3D)              (None, 94, 112, 94, 64)   1792      \n",
      "_________________________________________________________________\n",
      "Pool_1 (MaxPooling3D)        (None, 31, 37, 31, 64)    0         \n",
      "_________________________________________________________________\n",
      "dropout_22 (Dropout)         (None, 31, 37, 31, 64)    0         \n",
      "_________________________________________________________________\n",
      "Conv_2 (Conv3D)              (None, 29, 35, 29, 64)    110656    \n",
      "_________________________________________________________________\n",
      "Pool_2 (MaxPooling3D)        (None, 9, 11, 9, 64)      0         \n",
      "_________________________________________________________________\n",
      "dropout_23 (Dropout)         (None, 9, 11, 9, 64)      0         \n",
      "_________________________________________________________________\n",
      "Conv_3 (Conv3D)              (None, 7, 9, 7, 64)       110656    \n",
      "_________________________________________________________________\n",
      "Conv_4 (Conv3D)              (None, 5, 7, 5, 64)       110656    \n",
      "_________________________________________________________________\n",
      "Pool_4 (MaxPooling3D)        (None, 1, 2, 1, 64)       0         \n",
      "_________________________________________________________________\n",
      "dropout_24 (Dropout)         (None, 1, 2, 1, 64)       0         \n",
      "_________________________________________________________________\n",
      "flatten_8 (Flatten)          (None, 128)               0         \n",
      "_________________________________________________________________\n",
      "dense_8 (Dense)              (None, 1)                 129       \n",
      "=================================================================\n",
      "Total params: 333,889\n",
      "Trainable params: 333,889\n",
      "Non-trainable params: 0\n",
      "_________________________________________________________________\n",
      "None\n"
     ]
    }
   ],
   "source": [
    "# load model weights\n",
    "#model_path = \"/analysis/share/Ritter/models/fabi/ADNI/pretraining_paper/model.h5\"\n",
    "model_path = \"/analysis/share/Ritter/models/fabi/ADNI/pretraining_paper/model_trial_7.h5\"\n",
    "model = init_model(model_path, finetune=False, up_to=None)\n",
    "print(model.summary())"
   ]
  },
  {
   "cell_type": "markdown",
   "metadata": {},
   "source": [
    "## Visualization"
   ]
  },
  {
   "cell_type": "code",
   "execution_count": null,
   "metadata": {
    "collapsed": true
   },
   "outputs": [],
   "source": [
    "def visualize_weights(model):\n",
    "    # Visualize weights\n",
    "    W = model.layers[0].get_weights()[0]\n",
    "    W = np.squeeze(W)[:,:,2]\n",
    "    print(\"W shape : \", W.shape)\n",
    "\n",
    "    print(\"Weights mean {}\".format(W.mean()))\n",
    "    plt.figure(figsize=(20, 5))\n",
    "    plt.title('conv1 weights')\n",
    "    plt.imshow(make_mosaic(W, 2, 2), cmap=\"gray\")\n",
    "    plt.show()"
   ]
  },
  {
   "cell_type": "code",
   "execution_count": null,
   "metadata": {
    "collapsed": true
   },
   "outputs": [],
   "source": [
    "import numpy.ma as ma\n",
    "def make_mosaic(imgs, nrows, ncols, border=1):\n",
    "    \"\"\"\n",
    "    Given a set of images with all the same shape, makes a\n",
    "    mosaic with nrows and ncols\n",
    "    \"\"\"\n",
    "    nimgs = imgs.shape[0]\n",
    "    imshape = imgs.shape[1:]\n",
    "    \n",
    "    mosaic = ma.masked_all((nrows * imshape[0] + (nrows - 1) * border,\n",
    "                            ncols * imshape[1] + (ncols - 1) * border),\n",
    "                            dtype=np.float32)\n",
    "    \n",
    "    paddedh = imshape[0] + border\n",
    "    paddedw = imshape[1] + border\n",
    "    for i in range(nimgs):\n",
    "        row = int(np.floor(i / ncols))\n",
    "        col = i % ncols\n",
    "        \n",
    "        mosaic[row * paddedh:row * paddedh + imshape[0],\n",
    "               col * paddedw:col * paddedw + imshape[1]] = imgs[i]\n",
    "    return mosaic"
   ]
  },
  {
   "cell_type": "code",
   "execution_count": null,
   "metadata": {
    "collapsed": true
   },
   "outputs": [],
   "source": [
    "def reset_weights(model):\n",
    "    session = K.get_session()\n",
    "    for layer in model.layers: \n",
    "        if hasattr(layer, 'kernel_initializer'):\n",
    "            layer.kernel.initializer.run(session=session)\n"
   ]
  },
  {
   "cell_type": "code",
   "execution_count": null,
   "metadata": {},
   "outputs": [
    {
     "name": "stdout",
     "output_type": "stream",
     "text": [
      "Pre-trained model layer 1 weights:\n",
      "W shape :  (3, 3, 64)\n",
      "Weights mean -0.0022606917191296816\n"
     ]
    },
    {
     "data": {
      "image/png": "[encoded data removed]",
      "text/plain": [
       "<Figure size 1440x360 with 1 Axes>"
      ]
     },
     "metadata": {
      "needs_background": "light"
     },
     "output_type": "display_data"
    },
    {
     "name": "stdout",
     "output_type": "stream",
     "text": [
      "Random model layer 1 weights:\n",
      "W shape :  (3, 3, 64)\n",
      "Weights mean 0.0026854847092181444\n"
     ]
    },
    {
     "data": {
      "image/png": "[encoded data removed]",
      "text/plain": [
       "<Figure size 1440x360 with 1 Axes>"
      ]
     },
     "metadata": {
      "needs_background": "light"
     },
     "output_type": "display_data"
    }
   ],
   "source": [
    "# Visualize weights\n",
    "print(\"Pre-trained model layer 1 weights:\")\n",
    "visualize_weights(model)\n",
    "model_untrained = load_model(model_path)\n",
    "reset_weights(model_untrained)\n",
    "print(\"Random model layer 1 weights:\")\n",
    "visualize_weights(model_untrained)"
   ]
  },
  {
   "cell_type": "markdown",
   "metadata": {},
   "source": [
    "## Training"
   ]
  },
  {
   "cell_type": "code",
   "execution_count": null,
   "metadata": {},
   "outputs": [
    {
     "data": {
      "text/plain": [
       "(124, 96, 114, 96)"
      ]
     },
     "execution_count": 25,
     "metadata": {},
     "output_type": "execute_result"
    }
   ],
   "source": [
    "X_train.shape"
   ]
  },
  {
   "cell_type": "code",
   "execution_count": null,
   "metadata": {
    "collapsed": true
   },
   "outputs": [],
   "source": [
    "from sklearn.model_selection import train_test_split"
   ]
  },
  {
   "cell_type": "code",
   "execution_count": null,
   "metadata": {
    "collapsed": true
   },
   "outputs": [],
   "source": [
    "# split training set\n",
    "X_train, X_val, y_train, y_val = train_test_split(X_train, y_train, test_size=0.2, random_state=77)"
   ]
  },
  {
   "cell_type": "code",
   "execution_count": null,
   "metadata": {},
   "outputs": [
    {
     "name": "stdout",
     "output_type": "stream",
     "text": [
      "Trial 0\n",
      "Epoch 1/200\n"
     ]
    },
    {
     "name": "stderr",
     "output_type": "stream",
     "text": [
      "/home/fabiane/anaconda2/envs/postal/lib/python3.6/site-packages/ipykernel_launcher.py:16: DeprecationWarning: Both axis > a.ndim and axis < -a.ndim - 1 are deprecated and will raise an AxisError in the future.\n",
      "  app.launch_new_instance()\n"
     ]
    },
    {
     "name": "stdout",
     "output_type": "stream",
     "text": [
      "25/25 [==============================] - 9s 363ms/step - loss: 0.9874 - acc: 0.4302 - val_loss: 0.8922 - val_acc: 0.4400\n",
      "\n",
      "Epoch 00001: val_acc improved from -inf to 0.44000, saving model to /analysis/fabiane/models/MS/pretrained/rebuild_64Net/new_script/lesions_removed_blurred/weights-augm-trial0-improvement-BEST.hdf5\n",
      "Epoch 2/200\n",
      "25/25 [==============================] - 4s 159ms/step - loss: 0.9600 - acc: 0.5066 - val_loss: 0.8793 - val_acc: 0.4400\n",
      "\n",
      "Epoch 00002: val_acc did not improve from 0.44000\n",
      "Epoch 3/200\n",
      "25/25 [==============================] - 4s 168ms/step - loss: 0.9172 - acc: 0.5434 - val_loss: 0.8361 - val_acc: 0.5600\n",
      "\n",
      "Epoch 00003: val_acc improved from 0.44000 to 0.56000, saving model to /analysis/fabiane/models/MS/pretrained/rebuild_64Net/new_script/lesions_removed_blurred/weights-augm-trial0-improvement-BEST.hdf5\n",
      "Epoch 4/200\n",
      "25/25 [==============================] - 4s 171ms/step - loss: 0.8925 - acc: 0.4566 - val_loss: 0.8646 - val_acc: 0.4400\n",
      "\n",
      "Epoch 00004: val_acc did not improve from 0.56000\n",
      "Epoch 5/200\n",
      "25/25 [==============================] - 4s 160ms/step - loss: 0.8805 - acc: 0.4834 - val_loss: 0.8071 - val_acc: 0.6400\n",
      "\n",
      "Epoch 00005: val_acc improved from 0.56000 to 0.64000, saving model to /analysis/fabiane/models/MS/pretrained/rebuild_64Net/new_script/lesions_removed_blurred/weights-augm-trial0-improvement-BEST.hdf5\n",
      "Epoch 6/200\n",
      "25/25 [==============================] - 4s 164ms/step - loss: 0.7871 - acc: 0.6234 - val_loss: 0.8195 - val_acc: 0.4800\n",
      "\n",
      "Epoch 00006: val_acc did not improve from 0.64000\n",
      "Epoch 7/200\n",
      "25/25 [==============================] - 4s 174ms/step - loss: 0.8047 - acc: 0.6066 - val_loss: 0.7022 - val_acc: 0.8000\n",
      "\n",
      "Epoch 00007: val_acc improved from 0.64000 to 0.80000, saving model to /analysis/fabiane/models/MS/pretrained/rebuild_64Net/new_script/lesions_removed_blurred/weights-augm-trial0-improvement-BEST.hdf5\n",
      "Epoch 8/200\n",
      "25/25 [==============================] - 4s 160ms/step - loss: 0.7811 - acc: 0.6735 - val_loss: 0.7572 - val_acc: 0.6800\n",
      "\n",
      "Epoch 00008: val_acc did not improve from 0.80000\n",
      "Epoch 9/200\n",
      "25/25 [==============================] - 4s 178ms/step - loss: 0.7960 - acc: 0.6066 - val_loss: 0.7738 - val_acc: 0.4800\n",
      "\n",
      "Epoch 00009: val_acc did not improve from 0.80000\n",
      "Epoch 10/200\n",
      "25/25 [==============================] - 4s 161ms/step - loss: 0.7525 - acc: 0.6567 - val_loss: 0.7686 - val_acc: 0.6000\n",
      "\n",
      "Epoch 00010: val_acc did not improve from 0.80000\n",
      "Epoch 11/200\n",
      "25/25 [==============================] - 4s 165ms/step - loss: 0.7295 - acc: 0.6599 - val_loss: 0.7264 - val_acc: 0.7200\n",
      "\n",
      "Epoch 00011: val_acc did not improve from 0.80000\n",
      "Epoch 12/200\n",
      "25/25 [==============================] - 4s 166ms/step - loss: 0.6940 - acc: 0.7099 - val_loss: 0.6155 - val_acc: 0.7600\n",
      "\n",
      "Epoch 00012: val_acc did not improve from 0.80000\n",
      "Epoch 13/200\n",
      "25/25 [==============================] - 4s 177ms/step - loss: 0.6250 - acc: 0.7799 - val_loss: 0.6052 - val_acc: 0.8000\n",
      "\n",
      "Epoch 00013: val_acc did not improve from 0.80000\n",
      "Epoch 14/200\n",
      "25/25 [==============================] - 4s 170ms/step - loss: 0.6544 - acc: 0.7567 - val_loss: 0.6261 - val_acc: 0.6800\n",
      "\n",
      "Epoch 00014: val_acc did not improve from 0.80000\n",
      "Epoch 15/200\n",
      "25/25 [==============================] - 4s 171ms/step - loss: 0.6123 - acc: 0.7899 - val_loss: 0.5679 - val_acc: 0.7600\n",
      "\n",
      "Epoch 00015: val_acc did not improve from 0.80000\n",
      "Epoch 16/200\n",
      "25/25 [==============================] - 4s 161ms/step - loss: 0.5556 - acc: 0.8467 - val_loss: 0.6132 - val_acc: 0.8000\n",
      "\n",
      "Epoch 00016: val_acc did not improve from 0.80000\n",
      "Epoch 17/200\n",
      "25/25 [==============================] - 5s 184ms/step - loss: 0.5452 - acc: 0.7967 - val_loss: 0.5503 - val_acc: 0.8000\n",
      "\n",
      "Epoch 00017: val_acc did not improve from 0.80000\n",
      "Epoch 18/200\n",
      "25/25 [==============================] - 4s 173ms/step - loss: 0.5088 - acc: 0.8599 - val_loss: 0.5720 - val_acc: 0.7200\n",
      "\n",
      "Epoch 00018: val_acc did not improve from 0.80000\n",
      "Epoch 19/200\n",
      "25/25 [==============================] - 4s 168ms/step - loss: 0.4927 - acc: 0.8499 - val_loss: 0.5261 - val_acc: 0.8000\n",
      "\n",
      "Epoch 00019: val_acc did not improve from 0.80000\n",
      "Epoch 20/200\n",
      "25/25 [==============================] - 4s 164ms/step - loss: 0.4483 - acc: 0.8900 - val_loss: 0.5073 - val_acc: 0.8400\n",
      "\n",
      "Epoch 00020: val_acc improved from 0.80000 to 0.84000, saving model to /analysis/fabiane/models/MS/pretrained/rebuild_64Net/new_script/lesions_removed_blurred/weights-augm-trial0-improvement-BEST.hdf5\n",
      "Epoch 21/200\n",
      "25/25 [==============================] - 4s 175ms/step - loss: 0.4650 - acc: 0.8900 - val_loss: 0.5517 - val_acc: 0.7600\n",
      "\n",
      "Epoch 00021: val_acc did not improve from 0.84000\n",
      "Epoch 22/200\n",
      "25/25 [==============================] - 4s 169ms/step - loss: 0.4799 - acc: 0.8599 - val_loss: 0.5865 - val_acc: 0.7600\n",
      "\n",
      "Epoch 00022: val_acc did not improve from 0.84000\n",
      "Epoch 23/200\n",
      "25/25 [==============================] - 4s 173ms/step - loss: 0.4249 - acc: 0.9100 - val_loss: 0.5424 - val_acc: 0.8000\n",
      "\n",
      "Epoch 00023: val_acc did not improve from 0.84000\n",
      "Epoch 24/200\n",
      "25/25 [==============================] - 4s 163ms/step - loss: 0.4129 - acc: 0.8900 - val_loss: 0.5681 - val_acc: 0.7600\n",
      "\n",
      "Epoch 00024: val_acc did not improve from 0.84000\n",
      "Epoch 25/200\n",
      "25/25 [==============================] - 4s 172ms/step - loss: 0.4346 - acc: 0.8767 - val_loss: 0.5944 - val_acc: 0.7600\n",
      "\n",
      "Epoch 00025: val_acc did not improve from 0.84000\n",
      "Epoch 26/200\n",
      "25/25 [==============================] - 4s 166ms/step - loss: 0.3930 - acc: 0.9300 - val_loss: 0.5395 - val_acc: 0.7600\n",
      "\n",
      "Epoch 00026: val_acc did not improve from 0.84000\n",
      "Epoch 27/200\n",
      "25/25 [==============================] - 4s 171ms/step - loss: 0.4424 - acc: 0.9000 - val_loss: 0.5280 - val_acc: 0.7600\n",
      "\n",
      "Epoch 00027: val_acc did not improve from 0.84000\n",
      "Epoch 28/200\n",
      "25/25 [==============================] - 4s 163ms/step - loss: 0.4307 - acc: 0.8900 - val_loss: 0.5106 - val_acc: 0.8800\n",
      "\n",
      "Epoch 00028: val_acc improved from 0.84000 to 0.88000, saving model to /analysis/fabiane/models/MS/pretrained/rebuild_64Net/new_script/lesions_removed_blurred/weights-augm-trial0-improvement-BEST.hdf5\n",
      "Epoch 29/200\n",
      "25/25 [==============================] - 4s 172ms/step - loss: 0.3980 - acc: 0.9100 - val_loss: 0.5282 - val_acc: 0.7600\n",
      "\n",
      "Epoch 00029: val_acc did not improve from 0.88000\n",
      "Epoch 30/200\n",
      "25/25 [==============================] - 4s 158ms/step - loss: 0.3571 - acc: 0.9500 - val_loss: 0.4849 - val_acc: 0.8800\n",
      "\n",
      "Epoch 00030: val_acc did not improve from 0.88000\n",
      "Epoch 31/200\n",
      "25/25 [==============================] - 4s 160ms/step - loss: 0.3279 - acc: 0.9368 - val_loss: 0.6072 - val_acc: 0.8000\n",
      "\n",
      "Epoch 00031: val_acc did not improve from 0.88000\n",
      "Epoch 32/200\n",
      "25/25 [==============================] - 4s 168ms/step - loss: 0.3487 - acc: 0.9300 - val_loss: 0.5009 - val_acc: 0.8800\n",
      "\n",
      "Epoch 00032: val_acc did not improve from 0.88000\n",
      "Epoch 33/200\n",
      "25/25 [==============================] - 4s 158ms/step - loss: 0.3206 - acc: 0.9600 - val_loss: 0.5127 - val_acc: 0.8400\n",
      "\n",
      "Epoch 00033: val_acc did not improve from 0.88000\n",
      "Epoch 34/200\n",
      "25/25 [==============================] - 4s 174ms/step - loss: 0.3251 - acc: 0.9800 - val_loss: 0.5133 - val_acc: 0.8000\n",
      "\n",
      "Epoch 00034: val_acc did not improve from 0.88000\n",
      "Epoch 35/200\n",
      "25/25 [==============================] - 4s 165ms/step - loss: 0.2837 - acc: 0.9700 - val_loss: 0.4779 - val_acc: 0.8800\n",
      "\n",
      "Epoch 00035: val_acc did not improve from 0.88000\n",
      "Epoch 36/200\n",
      "25/25 [==============================] - 4s 159ms/step - loss: 0.2778 - acc: 0.9800 - val_loss: 0.4486 - val_acc: 0.8800\n",
      "\n",
      "Epoch 00036: val_acc did not improve from 0.88000\n",
      "Epoch 37/200\n",
      "25/25 [==============================] - 4s 169ms/step - loss: 0.2854 - acc: 0.9500 - val_loss: 0.5140 - val_acc: 0.8000\n",
      "\n",
      "Epoch 00037: val_acc did not improve from 0.88000\n",
      "Epoch 38/200\n",
      "25/25 [==============================] - 4s 160ms/step - loss: 0.2686 - acc: 0.9700 - val_loss: 0.5322 - val_acc: 0.7600\n",
      "\n",
      "Epoch 00038: val_acc did not improve from 0.88000\n",
      "Epoch 39/200\n",
      "25/25 [==============================] - 4s 172ms/step - loss: 0.2835 - acc: 0.9600 - val_loss: 0.5813 - val_acc: 0.8000\n",
      "\n",
      "Epoch 00039: val_acc did not improve from 0.88000\n",
      "Epoch 40/200\n",
      "25/25 [==============================] - 4s 173ms/step - loss: 0.2671 - acc: 0.9700 - val_loss: 0.5522 - val_acc: 0.8000\n"
     ]
    },
    {
     "name": "stdout",
     "output_type": "stream",
     "text": [
      "\n",
      "Epoch 00040: val_acc did not improve from 0.88000\n",
      "Epoch 41/200\n",
      "25/25 [==============================] - 4s 160ms/step - loss: 0.3350 - acc: 0.9400 - val_loss: 0.5704 - val_acc: 0.7600\n",
      "\n",
      "Epoch 00041: val_acc did not improve from 0.88000\n",
      "Epoch 42/200\n",
      "25/25 [==============================] - 4s 164ms/step - loss: 0.2737 - acc: 0.9600 - val_loss: 0.5347 - val_acc: 0.8400\n",
      "\n",
      "Epoch 00042: val_acc did not improve from 0.88000\n",
      "Epoch 43/200\n",
      "25/25 [==============================] - 4s 162ms/step - loss: 0.2587 - acc: 0.9700 - val_loss: 0.5984 - val_acc: 0.7600\n",
      "\n",
      "Epoch 00043: val_acc did not improve from 0.88000\n",
      "Epoch 44/200\n",
      "25/25 [==============================] - 4s 167ms/step - loss: 0.2637 - acc: 0.9900 - val_loss: 0.5420 - val_acc: 0.8000\n",
      "\n",
      "Epoch 00044: val_acc did not improve from 0.88000\n",
      "Epoch 45/200\n",
      "25/25 [==============================] - 4s 165ms/step - loss: 0.2741 - acc: 0.9600 - val_loss: 0.5762 - val_acc: 0.8000\n",
      "\n",
      "Epoch 00045: val_acc did not improve from 0.88000\n",
      "Epoch 46/200\n",
      "25/25 [==============================] - 4s 168ms/step - loss: 0.3032 - acc: 0.9400 - val_loss: 0.6268 - val_acc: 0.8000\n",
      "\n",
      "Epoch 00046: val_acc did not improve from 0.88000\n",
      "Epoch 47/200\n",
      "25/25 [==============================] - 4s 167ms/step - loss: 0.2767 - acc: 0.9500 - val_loss: 0.5731 - val_acc: 0.8000\n",
      "\n",
      "Epoch 00047: val_acc did not improve from 0.88000\n",
      "Epoch 48/200\n",
      "25/25 [==============================] - 4s 158ms/step - loss: 0.2554 - acc: 0.9700 - val_loss: 0.4917 - val_acc: 0.8400\n",
      "\n",
      "Epoch 00048: val_acc did not improve from 0.88000\n",
      "Epoch 49/200\n",
      "25/25 [==============================] - 4s 169ms/step - loss: 0.2330 - acc: 0.9700 - val_loss: 0.4608 - val_acc: 0.8400\n",
      "\n",
      "Epoch 00049: val_acc did not improve from 0.88000\n",
      "Epoch 50/200\n",
      "25/25 [==============================] - 4s 156ms/step - loss: 0.2524 - acc: 0.9700 - val_loss: 0.7069 - val_acc: 0.7200\n",
      "\n",
      "Epoch 00050: val_acc did not improve from 0.88000\n",
      "Epoch 51/200\n",
      "25/25 [==============================] - 4s 172ms/step - loss: 0.2386 - acc: 0.9700 - val_loss: 0.5277 - val_acc: 0.7600\n",
      "\n",
      "Epoch 00051: val_acc did not improve from 0.88000\n",
      "Epoch 00051: early stopping\n",
      "Trial 1\n",
      "Epoch 1/200\n",
      "25/25 [==============================] - 6s 243ms/step - loss: 0.9917 - acc: 0.4766 - val_loss: 0.9023 - val_acc: 0.4400\n",
      "\n",
      "Epoch 00001: val_acc improved from -inf to 0.44000, saving model to /analysis/fabiane/models/MS/pretrained/rebuild_64Net/new_script/lesions_removed_blurred/weights-augm-trial1-improvement-BEST.hdf5\n",
      "Epoch 2/200\n",
      "25/25 [==============================] - 4s 166ms/step - loss: 0.9877 - acc: 0.4034 - val_loss: 0.9551 - val_acc: 0.4400\n",
      "\n",
      "Epoch 00002: val_acc did not improve from 0.44000\n",
      "Epoch 3/200\n",
      "25/25 [==============================] - 4s 159ms/step - loss: 0.9145 - acc: 0.4734 - val_loss: 0.8382 - val_acc: 0.5600\n",
      "\n",
      "Epoch 00003: val_acc improved from 0.44000 to 0.56000, saving model to /analysis/fabiane/models/MS/pretrained/rebuild_64Net/new_script/lesions_removed_blurred/weights-augm-trial1-improvement-BEST.hdf5\n",
      "Epoch 4/200\n",
      "25/25 [==============================] - 4s 172ms/step - loss: 0.9157 - acc: 0.5566 - val_loss: 0.8264 - val_acc: 0.5600\n",
      "\n",
      "Epoch 00004: val_acc did not improve from 0.56000\n",
      "Epoch 5/200\n",
      "25/25 [==============================] - 4s 158ms/step - loss: 0.8806 - acc: 0.4002 - val_loss: 0.8497 - val_acc: 0.4400\n",
      "\n",
      "Epoch 00005: val_acc did not improve from 0.56000\n",
      "Epoch 6/200\n",
      "25/25 [==============================] - 4s 169ms/step - loss: 0.8575 - acc: 0.4834 - val_loss: 0.8335 - val_acc: 0.5200\n",
      "\n",
      "Epoch 00006: val_acc did not improve from 0.56000\n",
      "Epoch 7/200\n",
      "25/25 [==============================] - 4s 177ms/step - loss: 0.8246 - acc: 0.5202 - val_loss: 0.7722 - val_acc: 0.6800\n",
      "\n",
      "Epoch 00007: val_acc improved from 0.56000 to 0.68000, saving model to /analysis/fabiane/models/MS/pretrained/rebuild_64Net/new_script/lesions_removed_blurred/weights-augm-trial1-improvement-BEST.hdf5\n",
      "Epoch 8/200\n",
      "25/25 [==============================] - 4s 160ms/step - loss: 0.8117 - acc: 0.5534 - val_loss: 0.7932 - val_acc: 0.4400\n",
      "\n",
      "Epoch 00008: val_acc did not improve from 0.68000\n",
      "Epoch 9/200\n",
      "25/25 [==============================] - 4s 175ms/step - loss: 0.8096 - acc: 0.6066 - val_loss: 0.7397 - val_acc: 0.6800\n",
      "\n",
      "Epoch 00009: val_acc did not improve from 0.68000\n",
      "Epoch 10/200\n",
      "25/25 [==============================] - 4s 173ms/step - loss: 0.7403 - acc: 0.6767 - val_loss: 0.8234 - val_acc: 0.4400\n",
      "\n",
      "Epoch 00010: val_acc did not improve from 0.68000\n",
      "Epoch 11/200\n",
      "25/25 [==============================] - 4s 164ms/step - loss: 0.7772 - acc: 0.6166 - val_loss: 0.6744 - val_acc: 0.7600\n",
      "\n",
      "Epoch 00011: val_acc improved from 0.68000 to 0.76000, saving model to /analysis/fabiane/models/MS/pretrained/rebuild_64Net/new_script/lesions_removed_blurred/weights-augm-trial1-improvement-BEST.hdf5\n",
      "Epoch 12/200\n",
      "25/25 [==============================] - 4s 163ms/step - loss: 0.7323 - acc: 0.6735 - val_loss: 0.7759 - val_acc: 0.4800\n",
      "\n",
      "Epoch 00012: val_acc did not improve from 0.76000\n",
      "Epoch 13/200\n",
      "25/25 [==============================] - 4s 178ms/step - loss: 0.6768 - acc: 0.7467 - val_loss: 0.6739 - val_acc: 0.7600\n",
      "\n",
      "Epoch 00013: val_acc did not improve from 0.76000\n",
      "Epoch 14/200\n",
      "25/25 [==============================] - 4s 171ms/step - loss: 0.6129 - acc: 0.8367 - val_loss: 0.6403 - val_acc: 0.7200\n",
      "\n",
      "Epoch 00014: val_acc did not improve from 0.76000\n",
      "Epoch 15/200\n",
      "25/25 [==============================] - 4s 160ms/step - loss: 0.5810 - acc: 0.8167 - val_loss: 0.6158 - val_acc: 0.8000\n",
      "\n",
      "Epoch 00015: val_acc improved from 0.76000 to 0.80000, saving model to /analysis/fabiane/models/MS/pretrained/rebuild_64Net/new_script/lesions_removed_blurred/weights-augm-trial1-improvement-BEST.hdf5\n",
      "Epoch 16/200\n",
      "25/25 [==============================] - 4s 166ms/step - loss: 0.6170 - acc: 0.7567 - val_loss: 0.5688 - val_acc: 0.8000\n",
      "\n",
      "Epoch 00016: val_acc did not improve from 0.80000\n",
      "Epoch 17/200\n",
      "25/25 [==============================] - 4s 173ms/step - loss: 0.6122 - acc: 0.7767 - val_loss: 0.6085 - val_acc: 0.7600\n",
      "\n",
      "Epoch 00017: val_acc did not improve from 0.80000\n",
      "Epoch 18/200\n",
      "25/25 [==============================] - 4s 165ms/step - loss: 0.4939 - acc: 0.8699 - val_loss: 0.6085 - val_acc: 0.8400\n",
      "\n",
      "Epoch 00018: val_acc improved from 0.80000 to 0.84000, saving model to /analysis/fabiane/models/MS/pretrained/rebuild_64Net/new_script/lesions_removed_blurred/weights-augm-trial1-improvement-BEST.hdf5\n",
      "Epoch 19/200\n",
      "25/25 [==============================] - 4s 161ms/step - loss: 0.5683 - acc: 0.7999 - val_loss: 0.5762 - val_acc: 0.8000\n",
      "\n",
      "Epoch 00019: val_acc did not improve from 0.84000\n",
      "Epoch 20/200\n",
      "25/25 [==============================] - 4s 172ms/step - loss: 0.5404 - acc: 0.8335 - val_loss: 0.6556 - val_acc: 0.6800\n",
      "\n",
      "Epoch 00020: val_acc did not improve from 0.84000\n",
      "Epoch 21/200\n",
      "25/25 [==============================] - 4s 159ms/step - loss: 0.5634 - acc: 0.8167 - val_loss: 0.5892 - val_acc: 0.8000\n",
      "\n",
      "Epoch 00021: val_acc did not improve from 0.84000\n",
      "Epoch 22/200\n",
      "25/25 [==============================] - 4s 178ms/step - loss: 0.4739 - acc: 0.8900 - val_loss: 0.5537 - val_acc: 0.8000\n",
      "\n",
      "Epoch 00022: val_acc did not improve from 0.84000\n",
      "Epoch 23/200\n",
      "25/25 [==============================] - 4s 164ms/step - loss: 0.4628 - acc: 0.8900 - val_loss: 0.5830 - val_acc: 0.7600\n",
      "\n",
      "Epoch 00023: val_acc did not improve from 0.84000\n",
      "Epoch 24/200\n",
      "25/25 [==============================] - 4s 166ms/step - loss: 0.4178 - acc: 0.8800 - val_loss: 0.5864 - val_acc: 0.7600\n",
      "\n",
      "Epoch 00024: val_acc did not improve from 0.84000\n",
      "Epoch 25/200\n",
      "25/25 [==============================] - 4s 172ms/step - loss: 0.4197 - acc: 0.9200 - val_loss: 0.5490 - val_acc: 0.8000\n",
      "\n",
      "Epoch 00025: val_acc did not improve from 0.84000\n",
      "Epoch 26/200\n",
      "25/25 [==============================] - 4s 168ms/step - loss: 0.3950 - acc: 0.9500 - val_loss: 0.6267 - val_acc: 0.8000\n",
      "\n",
      "Epoch 00026: val_acc did not improve from 0.84000\n",
      "Epoch 27/200\n",
      "25/25 [==============================] - 4s 168ms/step - loss: 0.4320 - acc: 0.8900 - val_loss: 0.5639 - val_acc: 0.7600\n",
      "\n",
      "Epoch 00027: val_acc did not improve from 0.84000\n",
      "Epoch 28/200\n",
      "25/25 [==============================] - 4s 177ms/step - loss: 0.3970 - acc: 0.8699 - val_loss: 0.5931 - val_acc: 0.8000\n",
      "\n",
      "Epoch 00028: val_acc did not improve from 0.84000\n",
      "Epoch 29/200\n"
     ]
    },
    {
     "name": "stdout",
     "output_type": "stream",
     "text": [
      "25/25 [==============================] - 4s 160ms/step - loss: 0.3813 - acc: 0.9300 - val_loss: 0.5637 - val_acc: 0.7600\n",
      "\n",
      "Epoch 00029: val_acc did not improve from 0.84000\n",
      "Epoch 30/200\n",
      "25/25 [==============================] - 4s 178ms/step - loss: 0.3865 - acc: 0.9200 - val_loss: 0.5382 - val_acc: 0.7600\n",
      "\n",
      "Epoch 00030: val_acc did not improve from 0.84000\n",
      "Epoch 31/200\n",
      "25/25 [==============================] - 4s 160ms/step - loss: 0.3517 - acc: 0.9400 - val_loss: 0.6213 - val_acc: 0.7600\n",
      "\n",
      "Epoch 00031: val_acc did not improve from 0.84000\n",
      "Epoch 32/200\n",
      "25/25 [==============================] - 4s 170ms/step - loss: 0.4001 - acc: 0.9400 - val_loss: 0.4953 - val_acc: 0.8000\n",
      "\n",
      "Epoch 00032: val_acc did not improve from 0.84000\n",
      "Epoch 33/200\n",
      "25/25 [==============================] - 4s 170ms/step - loss: 0.3669 - acc: 0.9300 - val_loss: 0.6688 - val_acc: 0.7200\n",
      "\n",
      "Epoch 00033: val_acc did not improve from 0.84000\n",
      "Epoch 34/200\n",
      "25/25 [==============================] - 4s 168ms/step - loss: 0.3126 - acc: 0.9268 - val_loss: 0.5655 - val_acc: 0.8000\n",
      "\n",
      "Epoch 00034: val_acc did not improve from 0.84000\n",
      "Epoch 35/200\n",
      "25/25 [==============================] - 4s 175ms/step - loss: 0.3076 - acc: 0.9500 - val_loss: 0.5216 - val_acc: 0.8000\n",
      "\n",
      "Epoch 00035: val_acc did not improve from 0.84000\n",
      "Epoch 36/200\n",
      "25/25 [==============================] - 4s 176ms/step - loss: 0.3006 - acc: 0.9500 - val_loss: 0.6428 - val_acc: 0.7600\n",
      "\n",
      "Epoch 00036: val_acc did not improve from 0.84000\n",
      "Epoch 37/200\n",
      "25/25 [==============================] - 4s 163ms/step - loss: 0.3261 - acc: 0.9200 - val_loss: 0.5304 - val_acc: 0.8000\n",
      "\n",
      "Epoch 00037: val_acc did not improve from 0.84000\n",
      "Epoch 38/200\n",
      "25/25 [==============================] - 4s 169ms/step - loss: 0.3055 - acc: 0.9700 - val_loss: 0.4889 - val_acc: 0.8400\n",
      "\n",
      "Epoch 00038: val_acc did not improve from 0.84000\n",
      "Epoch 39/200\n",
      "25/25 [==============================] - 4s 170ms/step - loss: 0.3250 - acc: 0.9700 - val_loss: 0.6299 - val_acc: 0.7600\n",
      "\n",
      "Epoch 00039: val_acc did not improve from 0.84000\n",
      "Epoch 40/200\n",
      "25/25 [==============================] - 4s 159ms/step - loss: 0.2837 - acc: 0.9600 - val_loss: 0.5423 - val_acc: 0.8400\n",
      "\n",
      "Epoch 00040: val_acc did not improve from 0.84000\n",
      "Epoch 41/200\n",
      "25/25 [==============================] - 4s 172ms/step - loss: 0.2735 - acc: 0.9700 - val_loss: 0.6022 - val_acc: 0.7600\n",
      "\n",
      "Epoch 00041: val_acc did not improve from 0.84000\n",
      "Epoch 42/200\n",
      "25/25 [==============================] - 4s 163ms/step - loss: 0.2662 - acc: 0.9400 - val_loss: 0.6041 - val_acc: 0.7600\n",
      "\n",
      "Epoch 00042: val_acc did not improve from 0.84000\n",
      "Epoch 43/200\n",
      "25/25 [==============================] - 4s 170ms/step - loss: 0.2886 - acc: 0.9700 - val_loss: 0.6376 - val_acc: 0.7200\n",
      "\n",
      "Epoch 00043: val_acc did not improve from 0.84000\n",
      "Epoch 44/200\n",
      "25/25 [==============================] - 4s 161ms/step - loss: 0.3174 - acc: 0.9300 - val_loss: 0.5640 - val_acc: 0.8000\n",
      "\n",
      "Epoch 00044: val_acc did not improve from 0.84000\n",
      "Epoch 45/200\n",
      "25/25 [==============================] - 4s 174ms/step - loss: 0.2741 - acc: 0.9500 - val_loss: 0.5999 - val_acc: 0.7600\n",
      "\n",
      "Epoch 00045: val_acc did not improve from 0.84000\n",
      "Epoch 46/200\n",
      "25/25 [==============================] - 4s 163ms/step - loss: 0.2761 - acc: 0.9700 - val_loss: 0.6209 - val_acc: 0.8000\n",
      "\n",
      "Epoch 00046: val_acc did not improve from 0.84000\n",
      "Epoch 47/200\n",
      "25/25 [==============================] - 5s 187ms/step - loss: 0.2628 - acc: 0.9700 - val_loss: 0.6437 - val_acc: 0.7600\n",
      "\n",
      "Epoch 00047: val_acc did not improve from 0.84000\n",
      "Epoch 48/200\n",
      "25/25 [==============================] - 4s 164ms/step - loss: 0.3106 - acc: 0.9168 - val_loss: 0.6178 - val_acc: 0.7600\n",
      "\n",
      "Epoch 00048: val_acc did not improve from 0.84000\n",
      "Epoch 49/200\n",
      "25/25 [==============================] - 4s 177ms/step - loss: 0.2861 - acc: 0.9300 - val_loss: 0.5935 - val_acc: 0.8000\n",
      "\n",
      "Epoch 00049: val_acc did not improve from 0.84000\n",
      "Epoch 50/200\n",
      "25/25 [==============================] - 4s 161ms/step - loss: 0.2586 - acc: 0.9668 - val_loss: 0.7102 - val_acc: 0.7200\n",
      "\n",
      "Epoch 00050: val_acc did not improve from 0.84000\n",
      "Epoch 51/200\n",
      "25/25 [==============================] - 4s 169ms/step - loss: 0.2689 - acc: 0.9600 - val_loss: 0.5845 - val_acc: 0.8000\n",
      "\n",
      "Epoch 00051: val_acc did not improve from 0.84000\n",
      "Epoch 52/200\n",
      "25/25 [==============================] - 4s 175ms/step - loss: 0.2624 - acc: 0.9700 - val_loss: 0.6996 - val_acc: 0.7200\n",
      "\n",
      "Epoch 00052: val_acc did not improve from 0.84000\n",
      "Epoch 53/200\n",
      "25/25 [==============================] - 4s 173ms/step - loss: 0.2220 - acc: 0.9900 - val_loss: 0.6280 - val_acc: 0.7600\n",
      "\n",
      "Epoch 00053: val_acc did not improve from 0.84000\n",
      "Epoch 00053: early stopping\n",
      "Trial 2\n",
      "Epoch 1/200\n",
      "25/25 [==============================] - 6s 244ms/step - loss: 0.9830 - acc: 0.4798 - val_loss: 0.9393 - val_acc: 0.4400\n",
      "\n",
      "Epoch 00001: val_acc improved from -inf to 0.44000, saving model to /analysis/fabiane/models/MS/pretrained/rebuild_64Net/new_script/lesions_removed_blurred/weights-augm-trial2-improvement-BEST.hdf5\n",
      "Epoch 2/200\n",
      "25/25 [==============================] - 4s 161ms/step - loss: 0.8923 - acc: 0.5066 - val_loss: 0.8637 - val_acc: 0.6400\n",
      "\n",
      "Epoch 00002: val_acc improved from 0.44000 to 0.64000, saving model to /analysis/fabiane/models/MS/pretrained/rebuild_64Net/new_script/lesions_removed_blurred/weights-augm-trial2-improvement-BEST.hdf5\n",
      "Epoch 3/200\n",
      "25/25 [==============================] - 4s 168ms/step - loss: 0.9057 - acc: 0.4766 - val_loss: 0.8292 - val_acc: 0.6000\n",
      "\n",
      "Epoch 00003: val_acc did not improve from 0.64000\n",
      "Epoch 4/200\n",
      "25/25 [==============================] - 4s 165ms/step - loss: 0.9225 - acc: 0.4866 - val_loss: 0.8374 - val_acc: 0.5200\n",
      "\n",
      "Epoch 00004: val_acc did not improve from 0.64000\n",
      "Epoch 5/200\n",
      "25/25 [==============================] - 4s 166ms/step - loss: 0.8419 - acc: 0.5866 - val_loss: 0.8116 - val_acc: 0.6800\n",
      "\n",
      "Epoch 00005: val_acc improved from 0.64000 to 0.68000, saving model to /analysis/fabiane/models/MS/pretrained/rebuild_64Net/new_script/lesions_removed_blurred/weights-augm-trial2-improvement-BEST.hdf5\n",
      "Epoch 6/200\n",
      "25/25 [==============================] - 4s 163ms/step - loss: 0.8691 - acc: 0.5766 - val_loss: 0.8097 - val_acc: 0.6400\n",
      "\n",
      "Epoch 00006: val_acc did not improve from 0.68000\n",
      "Epoch 7/200\n",
      "25/25 [==============================] - 4s 177ms/step - loss: 0.8848 - acc: 0.5398 - val_loss: 0.7563 - val_acc: 0.6000\n",
      "\n",
      "Epoch 00007: val_acc did not improve from 0.68000\n",
      "Epoch 8/200\n",
      "25/25 [==============================] - 4s 170ms/step - loss: 0.8151 - acc: 0.5834 - val_loss: 0.7857 - val_acc: 0.5600\n",
      "\n",
      "Epoch 00008: val_acc did not improve from 0.68000\n",
      "Epoch 9/200\n",
      "25/25 [==============================] - 4s 173ms/step - loss: 0.7922 - acc: 0.6234 - val_loss: 0.7233 - val_acc: 0.7200\n",
      "\n",
      "Epoch 00009: val_acc improved from 0.68000 to 0.72000, saving model to /analysis/fabiane/models/MS/pretrained/rebuild_64Net/new_script/lesions_removed_blurred/weights-augm-trial2-improvement-BEST.hdf5\n",
      "Epoch 10/200\n",
      "25/25 [==============================] - 4s 167ms/step - loss: 0.8155 - acc: 0.5698 - val_loss: 0.7521 - val_acc: 0.6400\n",
      "\n",
      "Epoch 00010: val_acc did not improve from 0.72000\n",
      "Epoch 11/200\n",
      "25/25 [==============================] - 4s 162ms/step - loss: 0.7606 - acc: 0.5834 - val_loss: 0.7251 - val_acc: 0.7600\n",
      "\n",
      "Epoch 00011: val_acc improved from 0.72000 to 0.76000, saving model to /analysis/fabiane/models/MS/pretrained/rebuild_64Net/new_script/lesions_removed_blurred/weights-augm-trial2-improvement-BEST.hdf5\n",
      "Epoch 12/200\n",
      "25/25 [==============================] - 4s 174ms/step - loss: 0.7094 - acc: 0.7299 - val_loss: 0.7034 - val_acc: 0.7200\n",
      "\n",
      "Epoch 00012: val_acc did not improve from 0.76000\n",
      "Epoch 13/200\n",
      "25/25 [==============================] - 4s 158ms/step - loss: 0.6753 - acc: 0.6967 - val_loss: 0.7138 - val_acc: 0.6400\n",
      "\n",
      "Epoch 00013: val_acc did not improve from 0.76000\n",
      "Epoch 14/200\n",
      "25/25 [==============================] - 4s 172ms/step - loss: 0.6116 - acc: 0.7599 - val_loss: 0.6400 - val_acc: 0.7600\n",
      "\n",
      "Epoch 00014: val_acc did not improve from 0.76000\n",
      "Epoch 15/200\n",
      "25/25 [==============================] - 4s 161ms/step - loss: 0.5947 - acc: 0.7999 - val_loss: 0.6365 - val_acc: 0.6800\n",
      "\n",
      "Epoch 00015: val_acc did not improve from 0.76000\n",
      "Epoch 16/200\n"
     ]
    },
    {
     "name": "stdout",
     "output_type": "stream",
     "text": [
      "25/25 [==============================] - 4s 168ms/step - loss: 0.5613 - acc: 0.8367 - val_loss: 0.6568 - val_acc: 0.6400\n",
      "\n",
      "Epoch 00016: val_acc did not improve from 0.76000\n",
      "Epoch 17/200\n",
      "25/25 [==============================] - 4s 168ms/step - loss: 0.5681 - acc: 0.7799 - val_loss: 0.7222 - val_acc: 0.6000\n",
      "\n",
      "Epoch 00017: val_acc did not improve from 0.76000\n",
      "Epoch 18/200\n",
      "25/25 [==============================] - 4s 164ms/step - loss: 0.5210 - acc: 0.8667 - val_loss: 0.6085 - val_acc: 0.7600\n",
      "\n",
      "Epoch 00018: val_acc did not improve from 0.76000\n",
      "Epoch 19/200\n",
      "25/25 [==============================] - 4s 166ms/step - loss: 0.5135 - acc: 0.8335 - val_loss: 0.6142 - val_acc: 0.7200\n",
      "\n",
      "Epoch 00019: val_acc did not improve from 0.76000\n",
      "Epoch 20/200\n",
      "25/25 [==============================] - 4s 165ms/step - loss: 0.4816 - acc: 0.8267 - val_loss: 0.6253 - val_acc: 0.8000\n",
      "\n",
      "Epoch 00020: val_acc improved from 0.76000 to 0.80000, saving model to /analysis/fabiane/models/MS/pretrained/rebuild_64Net/new_script/lesions_removed_blurred/weights-augm-trial2-improvement-BEST.hdf5\n",
      "Epoch 21/200\n",
      "25/25 [==============================] - 5s 180ms/step - loss: 0.4648 - acc: 0.8535 - val_loss: 0.6106 - val_acc: 0.7600\n",
      "\n",
      "Epoch 00021: val_acc did not improve from 0.80000\n",
      "Epoch 22/200\n",
      "25/25 [==============================] - 4s 161ms/step - loss: 0.4689 - acc: 0.8868 - val_loss: 0.5895 - val_acc: 0.8000\n",
      "\n",
      "Epoch 00022: val_acc did not improve from 0.80000\n",
      "Epoch 23/200\n",
      "25/25 [==============================] - 4s 178ms/step - loss: 0.4713 - acc: 0.8800 - val_loss: 0.5938 - val_acc: 0.7600\n",
      "\n",
      "Epoch 00023: val_acc did not improve from 0.80000\n",
      "Epoch 24/200\n",
      "25/25 [==============================] - 4s 164ms/step - loss: 0.4418 - acc: 0.8900 - val_loss: 0.5835 - val_acc: 0.8400\n",
      "\n",
      "Epoch 00024: val_acc improved from 0.80000 to 0.84000, saving model to /analysis/fabiane/models/MS/pretrained/rebuild_64Net/new_script/lesions_removed_blurred/weights-augm-trial2-improvement-BEST.hdf5\n",
      "Epoch 25/200\n",
      "25/25 [==============================] - 4s 168ms/step - loss: 0.4088 - acc: 0.9000 - val_loss: 0.6816 - val_acc: 0.6800\n",
      "\n",
      "Epoch 00025: val_acc did not improve from 0.84000\n",
      "Epoch 26/200\n",
      "25/25 [==============================] - 4s 163ms/step - loss: 0.4203 - acc: 0.8868 - val_loss: 0.5976 - val_acc: 0.7600\n",
      "\n",
      "Epoch 00026: val_acc did not improve from 0.84000\n",
      "Epoch 27/200\n",
      "25/25 [==============================] - 4s 165ms/step - loss: 0.4182 - acc: 0.9100 - val_loss: 0.6300 - val_acc: 0.7600\n",
      "\n",
      "Epoch 00027: val_acc did not improve from 0.84000\n",
      "Epoch 28/200\n",
      "25/25 [==============================] - 4s 163ms/step - loss: 0.4557 - acc: 0.8868 - val_loss: 0.6265 - val_acc: 0.8000\n",
      "\n",
      "Epoch 00028: val_acc did not improve from 0.84000\n",
      "Epoch 29/200\n",
      "25/25 [==============================] - 4s 161ms/step - loss: 0.4180 - acc: 0.9100 - val_loss: 0.5763 - val_acc: 0.7600\n",
      "\n",
      "Epoch 00029: val_acc did not improve from 0.84000\n",
      "Epoch 30/200\n",
      "25/25 [==============================] - 4s 180ms/step - loss: 0.3685 - acc: 0.9400 - val_loss: 0.6194 - val_acc: 0.8000\n",
      "\n",
      "Epoch 00030: val_acc did not improve from 0.84000\n",
      "Epoch 31/200\n",
      "25/25 [==============================] - 4s 161ms/step - loss: 0.3663 - acc: 0.9300 - val_loss: 0.6587 - val_acc: 0.6800\n",
      "\n",
      "Epoch 00031: val_acc did not improve from 0.84000\n",
      "Epoch 32/200\n",
      "25/25 [==============================] - 5s 183ms/step - loss: 0.3226 - acc: 0.9500 - val_loss: 0.6910 - val_acc: 0.7200\n",
      "\n",
      "Epoch 00032: val_acc did not improve from 0.84000\n",
      "Epoch 33/200\n",
      "25/25 [==============================] - 4s 157ms/step - loss: 0.3553 - acc: 0.9200 - val_loss: 0.7623 - val_acc: 0.6800\n",
      "\n",
      "Epoch 00033: val_acc did not improve from 0.84000\n",
      "Epoch 34/200\n",
      "25/25 [==============================] - 4s 178ms/step - loss: 0.3506 - acc: 0.9200 - val_loss: 0.6326 - val_acc: 0.7600\n",
      "\n",
      "Epoch 00034: val_acc did not improve from 0.84000\n",
      "Epoch 35/200\n",
      "25/25 [==============================] - 4s 160ms/step - loss: 0.2926 - acc: 0.9400 - val_loss: 0.6842 - val_acc: 0.7200\n",
      "\n",
      "Epoch 00035: val_acc did not improve from 0.84000\n",
      "Epoch 36/200\n",
      "25/25 [==============================] - 4s 166ms/step - loss: 0.3122 - acc: 0.9500 - val_loss: 0.6950 - val_acc: 0.7200\n",
      "\n",
      "Epoch 00036: val_acc did not improve from 0.84000\n",
      "Epoch 37/200\n",
      "25/25 [==============================] - 4s 175ms/step - loss: 0.3225 - acc: 0.9500 - val_loss: 0.7132 - val_acc: 0.6800\n",
      "\n",
      "Epoch 00037: val_acc did not improve from 0.84000\n",
      "Epoch 38/200\n",
      "25/25 [==============================] - 4s 166ms/step - loss: 0.3252 - acc: 0.9268 - val_loss: 0.6552 - val_acc: 0.6800\n",
      "\n",
      "Epoch 00038: val_acc did not improve from 0.84000\n",
      "Epoch 39/200\n",
      "25/25 [==============================] - 4s 168ms/step - loss: 0.3120 - acc: 0.9600 - val_loss: 0.6989 - val_acc: 0.7600\n",
      "\n",
      "Epoch 00039: val_acc did not improve from 0.84000\n",
      "Epoch 40/200\n",
      "25/25 [==============================] - 4s 166ms/step - loss: 0.3303 - acc: 0.9368 - val_loss: 0.8133 - val_acc: 0.6800\n",
      "\n",
      "Epoch 00040: val_acc did not improve from 0.84000\n",
      "Epoch 41/200\n",
      "25/25 [==============================] - 4s 159ms/step - loss: 0.3054 - acc: 0.9400 - val_loss: 0.6583 - val_acc: 0.7200\n",
      "\n",
      "Epoch 00041: val_acc did not improve from 0.84000\n",
      "Epoch 42/200\n",
      "25/25 [==============================] - 4s 166ms/step - loss: 0.3227 - acc: 0.9200 - val_loss: 0.7520 - val_acc: 0.7200\n",
      "\n",
      "Epoch 00042: val_acc did not improve from 0.84000\n",
      "Epoch 43/200\n",
      "25/25 [==============================] - 4s 168ms/step - loss: 0.2827 - acc: 0.9500 - val_loss: 0.7748 - val_acc: 0.6800\n",
      "\n",
      "Epoch 00043: val_acc did not improve from 0.84000\n",
      "Epoch 44/200\n",
      "25/25 [==============================] - 4s 166ms/step - loss: 0.2725 - acc: 0.9700 - val_loss: 0.7572 - val_acc: 0.7200\n",
      "\n",
      "Epoch 00044: val_acc did not improve from 0.84000\n",
      "Epoch 00044: early stopping\n",
      "Trial 3\n",
      "Epoch 1/200\n",
      "25/25 [==============================] - 7s 265ms/step - loss: 0.9862 - acc: 0.4834 - val_loss: 0.8750 - val_acc: 0.4800\n",
      "\n",
      "Epoch 00001: val_acc improved from -inf to 0.48000, saving model to /analysis/fabiane/models/MS/pretrained/rebuild_64Net/new_script/lesions_removed_blurred/weights-augm-trial3-improvement-BEST.hdf5\n",
      "Epoch 2/200\n",
      "25/25 [==============================] - 4s 162ms/step - loss: 0.8823 - acc: 0.5398 - val_loss: 0.8465 - val_acc: 0.7200\n",
      "\n",
      "Epoch 00002: val_acc improved from 0.48000 to 0.72000, saving model to /analysis/fabiane/models/MS/pretrained/rebuild_64Net/new_script/lesions_removed_blurred/weights-augm-trial3-improvement-BEST.hdf5\n",
      "Epoch 3/200\n",
      "25/25 [==============================] - 4s 164ms/step - loss: 0.9208 - acc: 0.4866 - val_loss: 0.8276 - val_acc: 0.5600\n",
      "\n",
      "Epoch 00003: val_acc did not improve from 0.72000\n",
      "Epoch 4/200\n",
      "25/25 [==============================] - 4s 165ms/step - loss: 0.8695 - acc: 0.5366 - val_loss: 0.8075 - val_acc: 0.6800\n",
      "\n",
      "Epoch 00004: val_acc did not improve from 0.72000\n",
      "Epoch 5/200\n",
      "25/25 [==============================] - 4s 170ms/step - loss: 0.8438 - acc: 0.6199 - val_loss: 0.7558 - val_acc: 0.8800\n",
      "\n",
      "Epoch 00005: val_acc improved from 0.72000 to 0.88000, saving model to /analysis/fabiane/models/MS/pretrained/rebuild_64Net/new_script/lesions_removed_blurred/weights-augm-trial3-improvement-BEST.hdf5\n",
      "Epoch 6/200\n",
      "25/25 [==============================] - 4s 165ms/step - loss: 0.7746 - acc: 0.6499 - val_loss: 0.8344 - val_acc: 0.4400\n",
      "\n",
      "Epoch 00006: val_acc did not improve from 0.88000\n",
      "Epoch 7/200\n",
      "25/25 [==============================] - 4s 164ms/step - loss: 0.7426 - acc: 0.7067 - val_loss: 0.7155 - val_acc: 0.8000\n",
      "\n",
      "Epoch 00007: val_acc did not improve from 0.88000\n",
      "Epoch 8/200\n",
      "25/25 [==============================] - 4s 171ms/step - loss: 0.7777 - acc: 0.5966 - val_loss: 0.6792 - val_acc: 0.8400\n",
      "\n",
      "Epoch 00008: val_acc did not improve from 0.88000\n",
      "Epoch 9/200\n",
      "25/25 [==============================] - 4s 167ms/step - loss: 0.7279 - acc: 0.6803 - val_loss: 0.6741 - val_acc: 0.8000\n",
      "\n",
      "Epoch 00009: val_acc did not improve from 0.88000\n",
      "Epoch 10/200\n",
      "25/25 [==============================] - 4s 169ms/step - loss: 0.7056 - acc: 0.6899 - val_loss: 0.6834 - val_acc: 0.6400\n",
      "\n",
      "Epoch 00010: val_acc did not improve from 0.88000\n",
      "Epoch 11/200\n",
      "25/25 [==============================] - 4s 168ms/step - loss: 0.7069 - acc: 0.7199 - val_loss: 0.6403 - val_acc: 0.7200\n",
      "\n",
      "Epoch 00011: val_acc did not improve from 0.88000\n",
      "Epoch 12/200\n"
     ]
    },
    {
     "name": "stdout",
     "output_type": "stream",
     "text": [
      "25/25 [==============================] - 4s 170ms/step - loss: 0.6360 - acc: 0.7567 - val_loss: 0.6050 - val_acc: 0.8000\n",
      "\n",
      "Epoch 00012: val_acc did not improve from 0.88000\n",
      "Epoch 13/200\n",
      "25/25 [==============================] - 4s 166ms/step - loss: 0.6303 - acc: 0.7699 - val_loss: 0.6089 - val_acc: 0.8000\n",
      "\n",
      "Epoch 00013: val_acc did not improve from 0.88000\n",
      "Epoch 14/200\n",
      "25/25 [==============================] - 4s 161ms/step - loss: 0.5782 - acc: 0.8800 - val_loss: 0.6067 - val_acc: 0.8000\n",
      "\n",
      "Epoch 00014: val_acc did not improve from 0.88000\n",
      "Epoch 15/200\n",
      "25/25 [==============================] - 4s 162ms/step - loss: 0.5305 - acc: 0.8399 - val_loss: 0.5900 - val_acc: 0.8400\n",
      "\n",
      "Epoch 00015: val_acc did not improve from 0.88000\n",
      "Epoch 16/200\n",
      "25/25 [==============================] - 4s 165ms/step - loss: 0.4901 - acc: 0.8499 - val_loss: 0.6096 - val_acc: 0.8000\n",
      "\n",
      "Epoch 00016: val_acc did not improve from 0.88000\n",
      "Epoch 17/200\n",
      "25/25 [==============================] - 4s 168ms/step - loss: 0.4591 - acc: 0.8968 - val_loss: 0.5957 - val_acc: 0.7600\n",
      "\n",
      "Epoch 00017: val_acc did not improve from 0.88000\n",
      "Epoch 18/200\n",
      "25/25 [==============================] - 4s 165ms/step - loss: 0.4983 - acc: 0.8467 - val_loss: 0.6543 - val_acc: 0.7600\n",
      "\n",
      "Epoch 00018: val_acc did not improve from 0.88000\n",
      "Epoch 19/200\n",
      "25/25 [==============================] - 4s 162ms/step - loss: 0.4545 - acc: 0.8800 - val_loss: 0.5892 - val_acc: 0.7600\n",
      "\n",
      "Epoch 00019: val_acc did not improve from 0.88000\n",
      "Epoch 20/200\n",
      "25/25 [==============================] - 4s 164ms/step - loss: 0.4244 - acc: 0.8968 - val_loss: 0.5779 - val_acc: 0.7600\n",
      "\n",
      "Epoch 00020: val_acc did not improve from 0.88000\n",
      "Epoch 21/200\n",
      "25/25 [==============================] - 4s 159ms/step - loss: 0.4106 - acc: 0.9000 - val_loss: 0.5824 - val_acc: 0.8000\n",
      "\n",
      "Epoch 00021: val_acc did not improve from 0.88000\n",
      "Epoch 22/200\n",
      "25/25 [==============================] - 4s 162ms/step - loss: 0.4356 - acc: 0.8800 - val_loss: 0.5923 - val_acc: 0.8000\n",
      "\n",
      "Epoch 00022: val_acc did not improve from 0.88000\n",
      "Epoch 23/200\n",
      "25/25 [==============================] - 4s 166ms/step - loss: 0.3711 - acc: 0.9400 - val_loss: 0.6754 - val_acc: 0.7200\n",
      "\n",
      "Epoch 00023: val_acc did not improve from 0.88000\n",
      "Epoch 24/200\n",
      "25/25 [==============================] - 4s 178ms/step - loss: 0.4228 - acc: 0.8968 - val_loss: 0.7725 - val_acc: 0.6800\n",
      "\n",
      "Epoch 00024: val_acc did not improve from 0.88000\n",
      "Epoch 25/200\n",
      "25/25 [==============================] - 4s 160ms/step - loss: 0.4206 - acc: 0.9300 - val_loss: 0.6822 - val_acc: 0.7200\n",
      "\n",
      "Epoch 00025: val_acc did not improve from 0.88000\n",
      "Epoch 26/200\n",
      "25/25 [==============================] - 4s 170ms/step - loss: 0.3871 - acc: 0.9268 - val_loss: 0.6757 - val_acc: 0.7200\n",
      "\n",
      "Epoch 00026: val_acc did not improve from 0.88000\n",
      "Epoch 27/200\n",
      "25/25 [==============================] - 4s 161ms/step - loss: 0.4422 - acc: 0.8667 - val_loss: 0.5672 - val_acc: 0.7600\n",
      "\n",
      "Epoch 00027: val_acc did not improve from 0.88000\n",
      "Epoch 28/200\n",
      "25/25 [==============================] - 4s 163ms/step - loss: 0.4049 - acc: 0.9068 - val_loss: 0.6251 - val_acc: 0.7600\n",
      "\n",
      "Epoch 00028: val_acc did not improve from 0.88000\n",
      "Epoch 29/200\n",
      "25/25 [==============================] - 4s 163ms/step - loss: 0.3339 - acc: 0.9600 - val_loss: 0.5719 - val_acc: 0.7600\n",
      "\n",
      "Epoch 00029: val_acc did not improve from 0.88000\n",
      "Epoch 30/200\n",
      "25/25 [==============================] - 4s 158ms/step - loss: 0.3098 - acc: 0.9300 - val_loss: 0.5865 - val_acc: 0.8400\n",
      "\n",
      "Epoch 00030: val_acc did not improve from 0.88000\n",
      "Epoch 31/200\n",
      "25/25 [==============================] - 4s 163ms/step - loss: 0.3289 - acc: 0.9668 - val_loss: 0.6005 - val_acc: 0.8000\n",
      "\n",
      "Epoch 00031: val_acc did not improve from 0.88000\n",
      "Epoch 32/200\n",
      "25/25 [==============================] - 4s 162ms/step - loss: 0.3117 - acc: 0.9500 - val_loss: 0.6165 - val_acc: 0.7600\n",
      "\n",
      "Epoch 00032: val_acc did not improve from 0.88000\n",
      "Epoch 33/200\n",
      "25/25 [==============================] - 4s 159ms/step - loss: 0.3008 - acc: 0.9568 - val_loss: 0.6251 - val_acc: 0.8000\n",
      "\n",
      "Epoch 00033: val_acc did not improve from 0.88000\n",
      "Epoch 34/200\n",
      "25/25 [==============================] - 4s 162ms/step - loss: 0.2984 - acc: 0.9600 - val_loss: 0.6725 - val_acc: 0.7600\n",
      "\n",
      "Epoch 00034: val_acc did not improve from 0.88000\n",
      "Epoch 35/200\n",
      "25/25 [==============================] - 4s 163ms/step - loss: 0.2805 - acc: 0.9668 - val_loss: 0.6829 - val_acc: 0.7600\n",
      "\n",
      "Epoch 00035: val_acc did not improve from 0.88000\n",
      "Epoch 36/200\n",
      "25/25 [==============================] - 4s 162ms/step - loss: 0.2904 - acc: 0.9300 - val_loss: 0.6716 - val_acc: 0.8000\n",
      "\n",
      "Epoch 00036: val_acc did not improve from 0.88000\n",
      "Epoch 37/200\n",
      "25/25 [==============================] - 4s 170ms/step - loss: 0.3205 - acc: 0.9200 - val_loss: 0.6036 - val_acc: 0.7600\n",
      "\n",
      "Epoch 00037: val_acc did not improve from 0.88000\n",
      "Epoch 38/200\n",
      "25/25 [==============================] - 4s 167ms/step - loss: 0.3119 - acc: 0.9368 - val_loss: 0.7248 - val_acc: 0.7600\n",
      "\n",
      "Epoch 00038: val_acc did not improve from 0.88000\n",
      "Epoch 39/200\n",
      "25/25 [==============================] - 4s 167ms/step - loss: 0.2675 - acc: 0.9800 - val_loss: 0.7384 - val_acc: 0.7200\n",
      "\n",
      "Epoch 00039: val_acc did not improve from 0.88000\n",
      "Epoch 40/200\n",
      "25/25 [==============================] - 4s 157ms/step - loss: 0.2807 - acc: 0.9568 - val_loss: 0.7344 - val_acc: 0.7200\n",
      "\n",
      "Epoch 00040: val_acc did not improve from 0.88000\n",
      "Epoch 41/200\n",
      "25/25 [==============================] - 4s 167ms/step - loss: 0.3101 - acc: 0.9400 - val_loss: 0.7098 - val_acc: 0.7200\n",
      "\n",
      "Epoch 00041: val_acc did not improve from 0.88000\n",
      "Epoch 42/200\n",
      "25/25 [==============================] - 4s 157ms/step - loss: 0.2495 - acc: 0.9768 - val_loss: 0.6023 - val_acc: 0.8000\n",
      "\n",
      "Epoch 00042: val_acc did not improve from 0.88000\n",
      "Epoch 00042: early stopping\n",
      "Trial 4\n",
      "Epoch 1/200\n",
      "25/25 [==============================] - 6s 256ms/step - loss: 1.0405 - acc: 0.5366 - val_loss: 0.8762 - val_acc: 0.5200\n",
      "\n",
      "Epoch 00001: val_acc improved from -inf to 0.52000, saving model to /analysis/fabiane/models/MS/pretrained/rebuild_64Net/new_script/lesions_removed_blurred/weights-augm-trial4-improvement-BEST.hdf5\n",
      "Epoch 2/200\n",
      "25/25 [==============================] - 4s 160ms/step - loss: 0.9239 - acc: 0.4734 - val_loss: 0.8620 - val_acc: 0.5200\n",
      "\n",
      "Epoch 00002: val_acc did not improve from 0.52000\n",
      "Epoch 3/200\n",
      "25/25 [==============================] - 4s 162ms/step - loss: 0.8805 - acc: 0.6202 - val_loss: 0.8192 - val_acc: 0.6800\n",
      "\n",
      "Epoch 00003: val_acc improved from 0.52000 to 0.68000, saving model to /analysis/fabiane/models/MS/pretrained/rebuild_64Net/new_script/lesions_removed_blurred/weights-augm-trial4-improvement-BEST.hdf5\n",
      "Epoch 4/200\n",
      "25/25 [==============================] - 4s 161ms/step - loss: 0.9028 - acc: 0.5034 - val_loss: 0.9015 - val_acc: 0.4400\n",
      "\n",
      "Epoch 00004: val_acc did not improve from 0.68000\n",
      "Epoch 5/200\n",
      "25/25 [==============================] - 4s 162ms/step - loss: 0.8616 - acc: 0.4966 - val_loss: 0.9289 - val_acc: 0.4400\n",
      "\n",
      "Epoch 00005: val_acc did not improve from 0.68000\n",
      "Epoch 6/200\n",
      "25/25 [==============================] - 4s 171ms/step - loss: 0.8676 - acc: 0.5334 - val_loss: 0.8135 - val_acc: 0.5200\n",
      "\n",
      "Epoch 00006: val_acc did not improve from 0.68000\n",
      "Epoch 7/200\n",
      "25/25 [==============================] - 4s 165ms/step - loss: 0.8157 - acc: 0.5966 - val_loss: 0.7636 - val_acc: 0.6800\n",
      "\n",
      "Epoch 00007: val_acc did not improve from 0.68000\n",
      "Epoch 8/200\n",
      "25/25 [==============================] - 4s 161ms/step - loss: 0.7747 - acc: 0.6599 - val_loss: 0.9103 - val_acc: 0.4400\n",
      "\n",
      "Epoch 00008: val_acc did not improve from 0.68000\n",
      "Epoch 9/200\n",
      "25/25 [==============================] - 4s 165ms/step - loss: 0.8082 - acc: 0.5666 - val_loss: 0.7665 - val_acc: 0.6800\n",
      "\n",
      "Epoch 00009: val_acc did not improve from 0.68000\n",
      "Epoch 10/200\n",
      "25/25 [==============================] - 4s 157ms/step - loss: 0.7561 - acc: 0.7267 - val_loss: 0.7102 - val_acc: 0.7200\n",
      "\n",
      "Epoch 00010: val_acc improved from 0.68000 to 0.72000, saving model to /analysis/fabiane/models/MS/pretrained/rebuild_64Net/new_script/lesions_removed_blurred/weights-augm-trial4-improvement-BEST.hdf5\n",
      "Epoch 11/200\n",
      "25/25 [==============================] - 4s 161ms/step - loss: 0.7098 - acc: 0.7399 - val_loss: 0.6728 - val_acc: 0.8000\n",
      "\n",
      "Epoch 00011: val_acc improved from 0.72000 to 0.80000, saving model to /analysis/fabiane/models/MS/pretrained/rebuild_64Net/new_script/lesions_removed_blurred/weights-augm-trial4-improvement-BEST.hdf5\n",
      "Epoch 12/200\n"
     ]
    },
    {
     "name": "stdout",
     "output_type": "stream",
     "text": [
      "25/25 [==============================] - 4s 159ms/step - loss: 0.7151 - acc: 0.6767 - val_loss: 0.6879 - val_acc: 0.7200\n",
      "\n",
      "Epoch 00012: val_acc did not improve from 0.80000\n",
      "Epoch 13/200\n",
      "25/25 [==============================] - 4s 166ms/step - loss: 0.6493 - acc: 0.7999 - val_loss: 0.6378 - val_acc: 0.8000\n",
      "\n",
      "Epoch 00013: val_acc did not improve from 0.80000\n",
      "Epoch 14/200\n",
      "25/25 [==============================] - 4s 162ms/step - loss: 0.6238 - acc: 0.7767 - val_loss: 0.6203 - val_acc: 0.7600\n",
      "\n",
      "Epoch 00014: val_acc did not improve from 0.80000\n",
      "Epoch 15/200\n",
      "25/25 [==============================] - 4s 165ms/step - loss: 0.5653 - acc: 0.8399 - val_loss: 0.6151 - val_acc: 0.8000\n",
      "\n",
      "Epoch 00015: val_acc did not improve from 0.80000\n",
      "Epoch 16/200\n",
      "25/25 [==============================] - 4s 161ms/step - loss: 0.5239 - acc: 0.8367 - val_loss: 0.6351 - val_acc: 0.6800\n",
      "\n",
      "Epoch 00016: val_acc did not improve from 0.80000\n",
      "Epoch 17/200\n",
      "25/25 [==============================] - 4s 158ms/step - loss: 0.5445 - acc: 0.8499 - val_loss: 0.6678 - val_acc: 0.7200\n",
      "\n",
      "Epoch 00017: val_acc did not improve from 0.80000\n",
      "Epoch 18/200\n",
      "25/25 [==============================] - 4s 160ms/step - loss: 0.5035 - acc: 0.8599 - val_loss: 0.6550 - val_acc: 0.7600\n",
      "\n",
      "Epoch 00018: val_acc did not improve from 0.80000\n",
      "Epoch 19/200\n",
      "25/25 [==============================] - 4s 177ms/step - loss: 0.5574 - acc: 0.7967 - val_loss: 0.6646 - val_acc: 0.7200\n",
      "\n",
      "Epoch 00019: val_acc did not improve from 0.80000\n",
      "Epoch 20/200\n",
      "25/25 [==============================] - 4s 161ms/step - loss: 0.4627 - acc: 0.9000 - val_loss: 0.6512 - val_acc: 0.7600\n",
      "\n",
      "Epoch 00020: val_acc did not improve from 0.80000\n",
      "Epoch 21/200\n",
      "25/25 [==============================] - 4s 167ms/step - loss: 0.4760 - acc: 0.8599 - val_loss: 0.6750 - val_acc: 0.7200\n",
      "\n",
      "Epoch 00021: val_acc did not improve from 0.80000\n",
      "Epoch 22/200\n",
      "25/25 [==============================] - 4s 167ms/step - loss: 0.3919 - acc: 0.9200 - val_loss: 0.6458 - val_acc: 0.7600\n",
      "\n",
      "Epoch 00022: val_acc did not improve from 0.80000\n",
      "Epoch 23/200\n",
      "25/25 [==============================] - 5s 189ms/step - loss: 0.4563 - acc: 0.8968 - val_loss: 0.5784 - val_acc: 0.7200\n",
      "\n",
      "Epoch 00023: val_acc did not improve from 0.80000\n",
      "Epoch 24/200\n",
      "25/25 [==============================] - 5s 198ms/step - loss: 0.4032 - acc: 0.9100 - val_loss: 0.5617 - val_acc: 0.7600\n",
      "\n",
      "Epoch 00024: val_acc did not improve from 0.80000\n",
      "Epoch 25/200\n",
      "25/25 [==============================] - 4s 172ms/step - loss: 0.4662 - acc: 0.8499 - val_loss: 0.6861 - val_acc: 0.7600\n",
      "\n",
      "Epoch 00025: val_acc did not improve from 0.80000\n",
      "Epoch 26/200\n",
      "25/25 [==============================] - 4s 161ms/step - loss: 0.3942 - acc: 0.9300 - val_loss: 0.6432 - val_acc: 0.6800\n",
      "\n",
      "Epoch 00026: val_acc did not improve from 0.80000\n",
      "Epoch 27/200\n",
      "25/25 [==============================] - 5s 190ms/step - loss: 0.3708 - acc: 0.9300 - val_loss: 0.7146 - val_acc: 0.7200\n",
      "\n",
      "Epoch 00027: val_acc did not improve from 0.80000\n",
      "Epoch 28/200\n",
      "25/25 [==============================] - 4s 164ms/step - loss: 0.3971 - acc: 0.8800 - val_loss: 0.6533 - val_acc: 0.8000\n",
      "\n",
      "Epoch 00028: val_acc did not improve from 0.80000\n",
      "Epoch 29/200\n",
      "25/25 [==============================] - 4s 180ms/step - loss: 0.3767 - acc: 0.9068 - val_loss: 0.6551 - val_acc: 0.8000\n",
      "\n",
      "Epoch 00029: val_acc did not improve from 0.80000\n",
      "Epoch 30/200\n",
      "25/25 [==============================] - 4s 158ms/step - loss: 0.3703 - acc: 0.9168 - val_loss: 0.6226 - val_acc: 0.7200\n",
      "\n",
      "Epoch 00030: val_acc did not improve from 0.80000\n",
      "Epoch 31/200\n",
      "23/25 [==========================>...] - ETA: 0s - loss: 0.4203 - acc: 0.9022"
     ]
    }
   ],
   "source": [
    "# training args\n",
    "lr = 0.0005\n",
    "lr_decay = 0.001\n",
    "transforms = [intensity, sagittal_flip, translate]\n",
    "\n",
    "num_trials = 7\n",
    "store_models = True\n",
    "\n",
    "# callbacks\n",
    "earlystop = EarlyStopping(monitor='val_loss', min_delta=0, patience=5, verbose=1, mode='auto')\n",
    "\n",
    "accuracies = []\n",
    "balanced_accuracies = []\n",
    "sensitivities = []\n",
    "specificities = []\n",
    "max_acc = []\n",
    "\n",
    "for i in range(num_trials):\n",
    "    print(\"Trial %i\" %i)\n",
    "    \n",
    "    # init model\n",
    "    model = init_model(model_path, finetune=False, up_to=None)    \n",
    "    opti = Adam(lr=lr, decay=lr_decay)\n",
    "    model.compile(optimizer=opti, loss='binary_crossentropy', metrics=['accuracy'])\n",
    "    \n",
    "    # callbacks\n",
    "    earlystop = EarlyStopping(monitor='val_loss', min_delta=0, patience=15, verbose=1, mode='auto')\n",
    "    if store_models:\n",
    "        result_path = os.path.join(result_dir, \"weights-augm-trial%i-improvement-BEST.hdf5\" %i)\n",
    "        model_checkpoint = ModelCheckpoint(result_path, monitor='val_acc', verbose=1, save_best_only=True, mode='max', save_weights_only=True)\n",
    "        callbacks = [earlystop, model_checkpoint]\n",
    "    else:\n",
    "        callbacks = [earlystop]\n",
    "        \n",
    "    train_loader = CISDataset(X_train, y_train, transform=transforms, batch_size=b, shuffle=True)\n",
    "    val_loader = CISDataset(X_val, y_val, transform=[intensity], batch_size=1, shuffle=False)\n",
    "    \n",
    "    # Start training\n",
    "    history = model.fit_generator(train_loader,\n",
    "                        epochs=num_epochs,\n",
    "                        verbose=1,\n",
    "                        validation_data=val_loader,\n",
    "                        callbacks=callbacks)\n",
    "    \n",
    "    # Evaluation\n",
    "    y_pred = model.predict_generator(val_loader)\n",
    "    #y_true = [item for sublist in [val_loader[batch_idx][1] for batch_idx in range(len(val_loader))] for item in sublist]\n",
    "    bal_acc = balanced_accuracy(y_val, y_pred>0.5)\n",
    "    sens = sensitivity(y_val, y_pred>0.5)\n",
    "    spec = specificity(y_val, y_pred>0.5)\n",
    "    # Store results\n",
    "    accuracies.append(history.history[\"val_acc\"][-1])\n",
    "    balanced_accuracies.append(bal_acc)\n",
    "    max_acc.append(np.max(history.history[\"val_acc\"]))\n",
    "    sensitivities.append(sens)\n",
    "    specificities.append(spec)\n",
    "\n",
    "training_time = time.time() - start_time\n",
    "print(\"Training Time: {}h:{}m:{}s\".format(\n",
    "            training_time//3600, (training_time//60)%60, training_time%60))\n",
    "\n",
    "print(\"Validation final accuracies: \\n {}\".format(accuracies))\n",
    "print(\"Validation final accuracies mean: {}\".format(np.mean(accuracies)))\n",
    "print(\"Validation best accuracies: \\n {}\".format(max_acc))\n",
    "print(\"Validation best accuracies mean: {}\".format(np.mean(max_acc)))\n",
    "print(\"Validation balanced accuracies: \\n {}\".format(balanced_accuracies))\n",
    "print(\"Validation balanced accuracies mean: {}\".format(np.mean(balanced_accuracies)))\n",
    "print(\"Validation final sensitivities: \\n {}\".format(sensitivities))\n",
    "print(\"Validation final sensitivities' mean: {}\".format(np.mean(sensitivities)))\n",
    "print(\"Validation final specificities: \\n {}\".format(specificities))\n",
    "print(\"Validation final specificities' mean: {}\".format(np.mean(specificities)))"
   ]
  },
  {
   "cell_type": "code",
   "execution_count": null,
   "metadata": {
    "collapsed": true
   },
   "outputs": [],
   "source": [
    "training_time = time.time() - start_time"
   ]
  },
  {
   "cell_type": "markdown",
   "metadata": {},
   "source": [
    "# Evaluation"
   ]
  },
  {
   "cell_type": "code",
   "execution_count": null,
   "metadata": {
    "collapsed": true
   },
   "outputs": [],
   "source": [
    "weights = [\"weights-augm-trial%i-improvement-BEST.hdf5\"%i for i in range(num_trials)]"
   ]
  },
  {
   "cell_type": "code",
   "execution_count": null,
   "metadata": {
    "collapsed": true
   },
   "outputs": [],
   "source": [
    "# load holdout set\n",
    "test_loader = CISDataset(X_holdout, y_holdout, transform=[intensity], batch_size=1, shuffle=False, mask=mask)"
   ]
  },
  {
   "cell_type": "code",
   "execution_count": null,
   "metadata": {},
   "outputs": [],
   "source": [
    "accuracies = []\n",
    "balanced_accuracies = []\n",
    "sensitivities = []\n",
    "specificities = []\n",
    "for fold, weight in enumerate(weights):\n",
    "    print(\"Fold {}\".format(fold))\n",
    "    model = load_model(model_path)\n",
    "    model_dir = os.path.join(result_dir, weight)\n",
    "    model.load_weights(model_dir)\n",
    "    \n",
    "    opti = Adam(lr=lr, decay=lr_decay)\n",
    "    model.compile(optimizer=opti,\n",
    "              loss='binary_crossentropy',\n",
    "              metrics=['accuracy'])\n",
    "    \n",
    "    # Evaluate\n",
    "    res = model.evaluate_generator(test_loader)\n",
    "    y_pred = model.predict_generator(test_loader)\n",
    "    bal_acc = balanced_accuracy(y_holdout, y_pred>0.5)\n",
    "    sens = sensitivity(y_holdout, y_pred>0.5)\n",
    "    spec = specificity(y_holdout, y_pred>0.5)\n",
    "    # Store results\n",
    "    accuracies.append(res[1])\n",
    "    balanced_accuracies.append(bal_acc)\n",
    "    sensitivities.append(sens)\n",
    "    specificities.append(spec)\n",
    "    # Print results\n",
    "    print(\"Model accuracy {:.2f} %\".format(res[1]*100))\n",
    "    print(\"Balanced accuracy {:.2f} %\".format(bal_acc*100))\n",
    "    print(\"Sensitivity {:.2f} %\".format(sens*100))\n",
    "    print(\"Specificity {:.2f} %\".format(spec*100))\n",
    "    \n",
    "    \n",
    "print(\"######## Final results ########\")\n",
    "print(\"Accuracy mean {:.2f} %\".format(np.mean(accuracies)*100))\n",
    "print(\"Balanced accuracy mean {:.2f} %\".format(np.mean(balanced_accuracies)*100))\n",
    "print(\"Sensitivity mean {:.2f} %\".format(np.mean(sensitivities)*100))\n",
    "print(\"Specificity mean {:.2f} %\".format(np.mean(specificities)*100))"
   ]
  },
  {
   "cell_type": "code",
   "execution_count": null,
   "metadata": {
    "collapsed": true
   },
   "outputs": [],
   "source": [
    "total_time = time.time() - start_time"
   ]
  },
  {
   "cell_type": "code",
   "execution_count": null,
   "metadata": {},
   "outputs": [],
   "source": [
    "print(\"Training Time: {}h:{}m:{}s\".format(\n",
    "            training_time//3600, (training_time//60)%60, training_time%60))\n",
    "print(\"Total time elapsed: {}h:{}m:{}s\".format(\n",
    "            total_time//3600, (total_time//60)%60, total_time%60))"
   ]
  },
  {
   "cell_type": "code",
   "execution_count": null,
   "metadata": {
    "collapsed": true
   },
   "outputs": [],
   "source": [
    "quit()"
   ]
  },
  {
   "cell_type": "code",
   "execution_count": null,
   "metadata": {
    "collapsed": true
   },
   "outputs": [],
   "source": []
  }
 ],
 "metadata": {
  "kernelspec": {
   "display_name": "Python (postal)",
   "language": "python",
   "name": "postal"
  },
  "language_info": {
   "codemirror_mode": {
    "name": "ipython",
    "version": 3
   },
   "file_extension": ".py",
   "mimetype": "text/x-python",
   "name": "python",
   "nbconvert_exporter": "python",
   "pygments_lexer": "ipython3",
   "version": "3.6.6"
  }
 },
 "nbformat": 4,
 "nbformat_minor": 2
}
