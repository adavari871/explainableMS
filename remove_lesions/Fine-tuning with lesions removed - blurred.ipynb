{
 "cells": [
  {
   "cell_type": "markdown",
   "metadata": {},
   "source": [
    "For fine-tuning we have 3 datasets: train, validation and holdout"
   ]
  },
  {
   "cell_type": "code",
   "execution_count": 1,
   "metadata": {},
   "outputs": [
    {
     "name": "stderr",
     "output_type": "stream",
     "text": [
      "Using TensorFlow backend.\n"
     ]
    }
   ],
   "source": [
    "import numpy as np\n",
    "import pandas as pd\n",
    "import nibabel as nib\n",
    "import nilearn\n",
    "\n",
    "from scipy.ndimage.interpolation import zoom\n",
    "from sklearn.utils import shuffle\n",
    "from sklearn.model_selection import GroupShuffleSplit\n",
    "from sklearn.metrics import confusion_matrix\n",
    "from sklearn.model_selection import KFold\n",
    "\n",
    "import matplotlib.pyplot as plt\n",
    "import os\n",
    "import time\n",
    "import h5py\n",
    "\n",
    "# keras\n",
    "from keras.regularizers import l2\n",
    "from keras.optimizers import Adam\n",
    "from keras.models import load_model\n",
    "from keras.callbacks import EarlyStopping, ModelCheckpoint\n",
    "from keras.utils import Sequence\n",
    "import keras.backend as K\n",
    "\n",
    "from config import *\n",
    "from utils import specificity, sensitivity, balanced_accuracy, IntensityRescale, sagittal_flip, translate, load_nifti"
   ]
  },
  {
   "cell_type": "code",
   "execution_count": 2,
   "metadata": {
    "collapsed": true
   },
   "outputs": [],
   "source": [
    "# Start timing\n",
    "start_time = time.time()"
   ]
  },
  {
   "cell_type": "code",
   "execution_count": 3,
   "metadata": {
    "collapsed": true
   },
   "outputs": [],
   "source": [
    "#percent = 0.5\n",
    "import tensorflow as tf\n",
    "from keras.backend.tensorflow_backend import set_session\n",
    "\n",
    "\n",
    "config = tf.ConfigProto()\n",
    "#config.gpu_options.per_process_gpu_memory_fraction = percent\n",
    "config.gpu_options.visible_device_list = \"3\"\n",
    "set_session(tf.Session(config=config))"
   ]
  },
  {
   "cell_type": "code",
   "execution_count": 4,
   "metadata": {
    "collapsed": true
   },
   "outputs": [],
   "source": [
    "zero_one_normalize = True\n",
    "dtype = np.float32\n",
    "z_factor = 0.525\n",
    "result_dir = \"/analysis/fabiane/models/MS/pretrained/rebuild_64Net/new_script/lesions_removed_blurred/\""
   ]
  },
  {
   "cell_type": "code",
   "execution_count": 5,
   "metadata": {
    "collapsed": true
   },
   "outputs": [],
   "source": [
    "!mkdir -p $result_dir"
   ]
  },
  {
   "cell_type": "code",
   "execution_count": 6,
   "metadata": {
    "collapsed": true
   },
   "outputs": [],
   "source": [
    "# load hdf5 files and extract columns\n",
    "train_h5 = h5py.File('/analysis/share/Ritter/MS/CIS/train_dataset.h5', 'r')\n",
    "holdout_h5 = h5py.File('/analysis/share/Ritter/MS/CIS/holdout_dataset.h5', 'r')\n",
    "\n",
    "X_train, y_train = train_h5['X'], train_h5['y']\n",
    "X_holdout, y_holdout = holdout_h5['X'], holdout_h5['y']"
   ]
  },
  {
   "cell_type": "code",
   "execution_count": 7,
   "metadata": {
    "collapsed": true
   },
   "outputs": [],
   "source": [
    "# convert data to numpy arrays\n",
    "X_train = np.array(X_train, dtype=dtype)\n",
    "y_train = np.array(y_train)\n",
    "\n",
    "X_holdout = np.array(X_holdout, dtype=dtype)\n",
    "y_holdout = np.array(y_holdout)"
   ]
  },
  {
   "cell_type": "code",
   "execution_count": 8,
   "metadata": {},
   "outputs": [
    {
     "name": "stdout",
     "output_type": "stream",
     "text": [
      "Total datset length: 124\n",
      "Number of healthy controls: 61\n",
      "Number of MS patients: 63\n"
     ]
    }
   ],
   "source": [
    "print(\"Total datset length: {}\".format(len(y_train)))\n",
    "print(\"Number of healthy controls: {}\".format(len(np.array(y_train)[np.array(y_train)==0.])))\n",
    "print(\"Number of MS patients: {}\".format(len(np.array(y_train)[np.array(y_train)==1.])))"
   ]
  },
  {
   "cell_type": "code",
   "execution_count": 9,
   "metadata": {
    "collapsed": true
   },
   "outputs": [],
   "source": [
    "class CISDataset(Sequence):\n",
    "    def __init__(self, X, y, transform=None, batch_size=4, z_factor=None, shuffle=True, mask=None):\n",
    "        self.X = X\n",
    "        self.y = y\n",
    "        self.transform = transform\n",
    "        self.batch_size = batch_size\n",
    "        self.z_factor = z_factor\n",
    "        self.shuffle = shuffle\n",
    "        self.mask = mask\n",
    "        \n",
    "    def __len__(self):\n",
    "        return int(np.ceil(len(self.y)/self.batch_size))\n",
    "    \n",
    "    def __getitem__(self, idx):\n",
    "        # add BET\n",
    "        image = np.expand_dims(self.X[idx * self.batch_size:(idx + 1) * self.batch_size],5)\n",
    "        #label = np.array((batch_idx['label'] == \"MS\")* 1, dtype=np.int8) \n",
    "        label = np.array(self.y[idx * self.batch_size:(idx + 1) * self.batch_size], dtype=np.int8)\n",
    "        \n",
    "        if self.mask is not None:\n",
    "            for i in range(image.shape[0]):\n",
    "                image[i] *= self.mask\n",
    "        \n",
    "        for transformation in self.transform:\n",
    "            image = transformation(image)\n",
    "        \n",
    "        return image, label\n",
    "    \n",
    "    def on_epoch_end(self):\n",
    "        if self.shuffle:\n",
    "            self.X, self.y = shuffle(self.X, self.y)"
   ]
  },
  {
   "cell_type": "markdown",
   "metadata": {},
   "source": [
    "## Load mask and reformat"
   ]
  },
  {
   "cell_type": "code",
   "execution_count": 10,
   "metadata": {
    "collapsed": true
   },
   "outputs": [],
   "source": [
    "mask_path = \"/data/Ritter/MS/Test/total_lesion_mask_blurred.nii.gz\""
   ]
  },
  {
   "cell_type": "code",
   "execution_count": 11,
   "metadata": {},
   "outputs": [
    {
     "name": "stderr",
     "output_type": "stream",
     "text": [
      "/home/fabiane/.local/lib/python3.6/site-packages/scipy/ndimage/interpolation.py:583: UserWarning: From scipy 0.13.0, the output shape of zoom() is calculated with round() instead of int() - for these inputs the size of the returned array has changed.\n",
      "  \"the returned array has changed.\", UserWarning)\n",
      "/home/fabiane/anaconda2/envs/postal/lib/python3.6/site-packages/ipykernel_launcher.py:2: DeprecationWarning: Both axis > a.ndim and axis < -a.ndim - 1 are deprecated and will raise an AxisError in the future.\n",
      "  \n"
     ]
    }
   ],
   "source": [
    "mask = load_nifti(mask_path, z_factor=z_factor)\n",
    "mask = np.expand_dims(mask, 4)"
   ]
  },
  {
   "cell_type": "code",
   "execution_count": 12,
   "metadata": {},
   "outputs": [
    {
     "data": {
      "image/png": "[encoded data removed]",
      "text/plain": [
       "<Figure size 864x288 with 2 Axes>"
      ]
     },
     "metadata": {
      "needs_background": "light"
     },
     "output_type": "display_data"
    }
   ],
   "source": [
    "plt.figure(figsize=(12, 4))\n",
    "plt.subplot(1, 2, 1)\n",
    "plt.imshow(mask[:,:,48, 0], cmap='gray')\n",
    "plt.subplot(1, 2, 2)\n",
    "plt.hist(mask.flatten())\n",
    "plt.show()"
   ]
  },
  {
   "cell_type": "code",
   "execution_count": 13,
   "metadata": {
    "collapsed": true
   },
   "outputs": [],
   "source": [
    "# after zooming return to binary format\n",
    "mask[np.where(mask>0.5)] = 1.\n",
    "mask[np.where(mask<=0.5)] = 0."
   ]
  },
  {
   "cell_type": "code",
   "execution_count": 14,
   "metadata": {},
   "outputs": [
    {
     "data": {
      "image/png": "[encoded data removed]",
      "text/plain": [
       "<Figure size 864x288 with 2 Axes>"
      ]
     },
     "metadata": {
      "needs_background": "light"
     },
     "output_type": "display_data"
    }
   ],
   "source": [
    "plt.figure(figsize=(12, 4))\n",
    "plt.subplot(1, 2, 1)\n",
    "plt.imshow(mask[:,:,48, 0], cmap='gray')\n",
    "plt.subplot(1, 2, 2)\n",
    "plt.hist(mask.flatten())\n",
    "plt.show()"
   ]
  },
  {
   "cell_type": "markdown",
   "metadata": {},
   "source": [
    "## Make dataset"
   ]
  },
  {
   "cell_type": "code",
   "execution_count": 15,
   "metadata": {
    "collapsed": true
   },
   "outputs": [],
   "source": [
    "intensity = IntensityRescale(masked=False)"
   ]
  },
  {
   "cell_type": "code",
   "execution_count": 16,
   "metadata": {
    "collapsed": true
   },
   "outputs": [],
   "source": [
    "if zero_one_normalize:\n",
    "    cis_data = CISDataset(X_train, y_train, transform=[intensity], batch_size=4, mask=mask)\n",
    "else:\n",
    "    cis_data = CISDataset(X_train, y_train, batch_size=4, mask=mask)"
   ]
  },
  {
   "cell_type": "code",
   "execution_count": 17,
   "metadata": {},
   "outputs": [
    {
     "name": "stderr",
     "output_type": "stream",
     "text": [
      "/home/fabiane/anaconda2/envs/postal/lib/python3.6/site-packages/ipykernel_launcher.py:16: DeprecationWarning: Both axis > a.ndim and axis < -a.ndim - 1 are deprecated and will raise an AxisError in the future.\n",
      "  app.launch_new_instance()\n"
     ]
    },
    {
     "data": {
      "image/png": "[encoded data removed]",
      "text/plain": [
       "<Figure size 432x288 with 1 Axes>"
      ]
     },
     "metadata": {
      "needs_background": "light"
     },
     "output_type": "display_data"
    }
   ],
   "source": [
    "plt.figure()\n",
    "plt.title(\"Normalized between zero and 1\")\n",
    "plt.hist(cis_data[4][0][0].flatten())\n",
    "plt.show()"
   ]
  },
  {
   "cell_type": "code",
   "execution_count": 18,
   "metadata": {},
   "outputs": [
    {
     "name": "stderr",
     "output_type": "stream",
     "text": [
      "/home/fabiane/anaconda2/envs/postal/lib/python3.6/site-packages/ipykernel_launcher.py:16: DeprecationWarning: Both axis > a.ndim and axis < -a.ndim - 1 are deprecated and will raise an AxisError in the future.\n",
      "  app.launch_new_instance()\n"
     ]
    },
    {
     "data": {
      "image/png": "[encoded data removed]",
      "text/plain": [
       "<Figure size 432x288 with 1 Axes>"
      ]
     },
     "metadata": {
      "needs_background": "light"
     },
     "output_type": "display_data"
    }
   ],
   "source": [
    "plt.figure()\n",
    "plt.title(\"Scan image\")\n",
    "plt.imshow(np.squeeze(cis_data[4][0][0])[:,:,42], cmap='gray')\n",
    "plt.show()"
   ]
  },
  {
   "cell_type": "markdown",
   "metadata": {},
   "source": [
    "# Model"
   ]
  },
  {
   "cell_type": "code",
   "execution_count": 19,
   "metadata": {
    "collapsed": true
   },
   "outputs": [],
   "source": [
    "def init_model(path, finetune=True, up_to=7):\n",
    "    model = load_model(path)\n",
    "    model.load_weights(path)\n",
    "    if finetune:\n",
    "        for layer in model.layers[:up_to]:\n",
    "            layer.trainable = False\n",
    "    return model"
   ]
  },
  {
   "cell_type": "code",
   "execution_count": 20,
   "metadata": {},
   "outputs": [
    {
     "name": "stdout",
     "output_type": "stream",
     "text": [
      "_________________________________________________________________\n",
      "Layer (type)                 Output Shape              Param #   \n",
      "=================================================================\n",
      "Conv_1 (Conv3D)              (None, 94, 112, 94, 64)   1792      \n",
      "_________________________________________________________________\n",
      "Pool_1 (MaxPooling3D)        (None, 31, 37, 31, 64)    0         \n",
      "_________________________________________________________________\n",
      "dropout_7 (Dropout)          (None, 31, 37, 31, 64)    0         \n",
      "_________________________________________________________________\n",
      "Conv_2 (Conv3D)              (None, 29, 35, 29, 64)    110656    \n",
      "_________________________________________________________________\n",
      "Pool_2 (MaxPooling3D)        (None, 9, 11, 9, 64)      0         \n",
      "_________________________________________________________________\n",
      "dropout_8 (Dropout)          (None, 9, 11, 9, 64)      0         \n",
      "_________________________________________________________________\n",
      "Conv_3 (Conv3D)              (None, 7, 9, 7, 64)       110656    \n",
      "_________________________________________________________________\n",
      "Conv_4 (Conv3D)              (None, 5, 7, 5, 64)       110656    \n",
      "_________________________________________________________________\n",
      "Pool_4 (MaxPooling3D)        (None, 1, 2, 1, 64)       0         \n",
      "_________________________________________________________________\n",
      "dropout_9 (Dropout)          (None, 1, 2, 1, 64)       0         \n",
      "_________________________________________________________________\n",
      "flatten_3 (Flatten)          (None, 128)               0         \n",
      "_________________________________________________________________\n",
      "dense_3 (Dense)              (None, 1)                 129       \n",
      "=================================================================\n",
      "Total params: 333,889\n",
      "Trainable params: 333,889\n",
      "Non-trainable params: 0\n",
      "_________________________________________________________________\n",
      "None\n"
     ]
    }
   ],
   "source": [
    "# load model weights\n",
    "model_path = \"/analysis/share/Ritter/models/fabi/ADNI/pretraining_paper/model.h5\"\n",
    "model = init_model(model_path, finetune=False, up_to=None)\n",
    "print(model.summary())"
   ]
  },
  {
   "cell_type": "markdown",
   "metadata": {},
   "source": [
    "## Visualization"
   ]
  },
  {
   "cell_type": "code",
   "execution_count": 21,
   "metadata": {
    "collapsed": true
   },
   "outputs": [],
   "source": [
    "def visualize_weights(model):\n",
    "    # Visualize weights\n",
    "    W = model.layers[0].get_weights()[0]\n",
    "    W = np.squeeze(W)[:,:,2]\n",
    "    print(\"W shape : \", W.shape)\n",
    "\n",
    "    print(\"Weights mean {}\".format(W.mean()))\n",
    "    plt.figure(figsize=(20, 5))\n",
    "    plt.title('conv1 weights')\n",
    "    plt.imshow(make_mosaic(W, 2, 2), cmap=\"gray\")\n",
    "    plt.show()"
   ]
  },
  {
   "cell_type": "code",
   "execution_count": 22,
   "metadata": {
    "collapsed": true
   },
   "outputs": [],
   "source": [
    "import numpy.ma as ma\n",
    "def make_mosaic(imgs, nrows, ncols, border=1):\n",
    "    \"\"\"\n",
    "    Given a set of images with all the same shape, makes a\n",
    "    mosaic with nrows and ncols\n",
    "    \"\"\"\n",
    "    nimgs = imgs.shape[0]\n",
    "    imshape = imgs.shape[1:]\n",
    "    \n",
    "    mosaic = ma.masked_all((nrows * imshape[0] + (nrows - 1) * border,\n",
    "                            ncols * imshape[1] + (ncols - 1) * border),\n",
    "                            dtype=np.float32)\n",
    "    \n",
    "    paddedh = imshape[0] + border\n",
    "    paddedw = imshape[1] + border\n",
    "    for i in range(nimgs):\n",
    "        row = int(np.floor(i / ncols))\n",
    "        col = i % ncols\n",
    "        \n",
    "        mosaic[row * paddedh:row * paddedh + imshape[0],\n",
    "               col * paddedw:col * paddedw + imshape[1]] = imgs[i]\n",
    "    return mosaic"
   ]
  },
  {
   "cell_type": "code",
   "execution_count": 23,
   "metadata": {
    "collapsed": true
   },
   "outputs": [],
   "source": [
    "def reset_weights(model):\n",
    "    session = K.get_session()\n",
    "    for layer in model.layers: \n",
    "        if hasattr(layer, 'kernel_initializer'):\n",
    "            layer.kernel.initializer.run(session=session)\n"
   ]
  },
  {
   "cell_type": "code",
   "execution_count": 24,
   "metadata": {},
   "outputs": [
    {
     "name": "stdout",
     "output_type": "stream",
     "text": [
      "Pre-trained model layer 1 weights:\n",
      "W shape :  (3, 3, 64)\n",
      "Weights mean -0.003789090784266591\n"
     ]
    },
    {
     "data": {
      "image/png": "[encoded data removed]",
      "text/plain": [
       "<Figure size 1440x360 with 1 Axes>"
      ]
     },
     "metadata": {
      "needs_background": "light"
     },
     "output_type": "display_data"
    },
    {
     "name": "stdout",
     "output_type": "stream",
     "text": [
      "Random model layer 1 weights:\n",
      "W shape :  (3, 3, 64)\n",
      "Weights mean -0.0010208189487457275\n"
     ]
    },
    {
     "data": {
      "image/png": "[encoded data removed]",
      "text/plain": [
       "<Figure size 1440x360 with 1 Axes>"
      ]
     },
     "metadata": {
      "needs_background": "light"
     },
     "output_type": "display_data"
    }
   ],
   "source": [
    "# Visualize weights\n",
    "print(\"Pre-trained model layer 1 weights:\")\n",
    "visualize_weights(model)\n",
    "model_untrained = load_model(model_path)\n",
    "reset_weights(model_untrained)\n",
    "print(\"Random model layer 1 weights:\")\n",
    "visualize_weights(model_untrained)"
   ]
  },
  {
   "cell_type": "markdown",
   "metadata": {},
   "source": [
    "## Training"
   ]
  },
  {
   "cell_type": "code",
   "execution_count": 25,
   "metadata": {},
   "outputs": [
    {
     "data": {
      "text/plain": [
       "(124, 96, 114, 96)"
      ]
     },
     "execution_count": 25,
     "metadata": {},
     "output_type": "execute_result"
    }
   ],
   "source": [
    "X_train.shape"
   ]
  },
  {
   "cell_type": "code",
   "execution_count": 26,
   "metadata": {
    "collapsed": true
   },
   "outputs": [],
   "source": [
    "from sklearn.model_selection import train_test_split"
   ]
  },
  {
   "cell_type": "code",
   "execution_count": 27,
   "metadata": {
    "collapsed": true
   },
   "outputs": [],
   "source": [
    "# split training set\n",
    "X_train, X_val, y_train, y_val = train_test_split(X_train, y_train, test_size=0.2, random_state=77)"
   ]
  },
  {
   "cell_type": "code",
   "execution_count": 28,
   "metadata": {},
   "outputs": [
    {
     "name": "stdout",
     "output_type": "stream",
     "text": [
      "Trial 0\n",
      "Epoch 1/200\n"
     ]
    },
    {
     "name": "stderr",
     "output_type": "stream",
     "text": [
      "/home/fabiane/anaconda2/envs/postal/lib/python3.6/site-packages/ipykernel_launcher.py:16: DeprecationWarning: Both axis > a.ndim and axis < -a.ndim - 1 are deprecated and will raise an AxisError in the future.\n",
      "  app.launch_new_instance()\n"
     ]
    },
    {
     "name": "stdout",
     "output_type": "stream",
     "text": [
      "25/25 [==============================] - 7s 299ms/step - loss: 0.9631 - acc: 0.4834 - val_loss: 0.8631 - val_acc: 0.4400\n",
      "\n",
      "Epoch 00001: val_acc improved from -inf to 0.44000, saving model to /analysis/fabiane/models/MS/pretrained/rebuild_64Net/new_script/lesions_removed_blurred/weights-augm-trial0-improvement-BEST.hdf5\n",
      "Epoch 2/200\n",
      "25/25 [==============================] - 4s 158ms/step - loss: 0.9097 - acc: 0.5234 - val_loss: 0.8396 - val_acc: 0.5600\n",
      "\n",
      "Epoch 00002: val_acc improved from 0.44000 to 0.56000, saving model to /analysis/fabiane/models/MS/pretrained/rebuild_64Net/new_script/lesions_removed_blurred/weights-augm-trial0-improvement-BEST.hdf5\n",
      "Epoch 3/200\n",
      "25/25 [==============================] - 4s 158ms/step - loss: 0.8942 - acc: 0.4902 - val_loss: 0.8578 - val_acc: 0.4400\n",
      "\n",
      "Epoch 00003: val_acc did not improve from 0.56000\n",
      "Epoch 4/200\n",
      "25/25 [==============================] - 4s 159ms/step - loss: 0.9201 - acc: 0.4834 - val_loss: 0.8186 - val_acc: 0.4800\n",
      "\n",
      "Epoch 00004: val_acc did not improve from 0.56000\n",
      "Epoch 5/200\n",
      "25/25 [==============================] - 4s 159ms/step - loss: 0.9117 - acc: 0.4566 - val_loss: 0.8428 - val_acc: 0.4400\n",
      "\n",
      "Epoch 00005: val_acc did not improve from 0.56000\n",
      "Epoch 6/200\n",
      "25/25 [==============================] - 4s 158ms/step - loss: 0.8585 - acc: 0.4534 - val_loss: 0.8423 - val_acc: 0.4400\n",
      "\n",
      "Epoch 00006: val_acc did not improve from 0.56000\n",
      "Epoch 7/200\n",
      "25/25 [==============================] - 4s 158ms/step - loss: 0.8546 - acc: 0.5466 - val_loss: 0.8088 - val_acc: 0.4000\n",
      "\n",
      "Epoch 00007: val_acc did not improve from 0.56000\n",
      "Epoch 8/200\n",
      "25/25 [==============================] - 4s 157ms/step - loss: 0.9114 - acc: 0.4902 - val_loss: 0.8411 - val_acc: 0.2800\n",
      "\n",
      "Epoch 00008: val_acc did not improve from 0.56000\n",
      "Epoch 9/200\n",
      "25/25 [==============================] - 4s 158ms/step - loss: 0.8150 - acc: 0.5202 - val_loss: 0.8222 - val_acc: 0.4400\n",
      "\n",
      "Epoch 00009: val_acc did not improve from 0.56000\n",
      "Epoch 10/200\n",
      "25/25 [==============================] - 6s 237ms/step - loss: 0.8418 - acc: 0.5066 - val_loss: 0.7955 - val_acc: 0.5200\n",
      "\n",
      "Epoch 00010: val_acc did not improve from 0.56000\n",
      "Epoch 11/200\n",
      "25/25 [==============================] - 4s 158ms/step - loss: 0.8328 - acc: 0.5234 - val_loss: 0.8043 - val_acc: 0.4400\n",
      "\n",
      "Epoch 00011: val_acc did not improve from 0.56000\n",
      "Epoch 12/200\n",
      "25/25 [==============================] - 4s 158ms/step - loss: 0.8552 - acc: 0.4602 - val_loss: 0.8530 - val_acc: 0.4400\n",
      "\n",
      "Epoch 00012: val_acc did not improve from 0.56000\n",
      "Epoch 13/200\n",
      "25/25 [==============================] - 4s 159ms/step - loss: 0.8200 - acc: 0.4634 - val_loss: 0.7692 - val_acc: 0.6400\n",
      "\n",
      "Epoch 00013: val_acc improved from 0.56000 to 0.64000, saving model to /analysis/fabiane/models/MS/pretrained/rebuild_64Net/new_script/lesions_removed_blurred/weights-augm-trial0-improvement-BEST.hdf5\n",
      "Epoch 14/200\n",
      "25/25 [==============================] - 4s 160ms/step - loss: 0.8248 - acc: 0.4366 - val_loss: 0.7607 - val_acc: 0.7200\n",
      "\n",
      "Epoch 00014: val_acc improved from 0.64000 to 0.72000, saving model to /analysis/fabiane/models/MS/pretrained/rebuild_64Net/new_script/lesions_removed_blurred/weights-augm-trial0-improvement-BEST.hdf5\n",
      "Epoch 15/200\n",
      "25/25 [==============================] - 8s 311ms/step - loss: 0.7994 - acc: 0.4834 - val_loss: 0.7771 - val_acc: 0.4800\n",
      "\n",
      "Epoch 00015: val_acc did not improve from 0.72000\n",
      "Epoch 16/200\n",
      "25/25 [==============================] - 4s 160ms/step - loss: 0.8069 - acc: 0.4998 - val_loss: 0.7528 - val_acc: 0.5600\n",
      "\n",
      "Epoch 00016: val_acc did not improve from 0.72000\n",
      "Epoch 17/200\n",
      "25/25 [==============================] - 4s 159ms/step - loss: 0.7984 - acc: 0.5134 - val_loss: 0.7823 - val_acc: 0.4400\n",
      "\n",
      "Epoch 00017: val_acc did not improve from 0.72000\n",
      "Epoch 18/200\n",
      "25/25 [==============================] - 4s 158ms/step - loss: 0.8098 - acc: 0.5234 - val_loss: 0.9172 - val_acc: 0.4400\n",
      "\n",
      "Epoch 00018: val_acc did not improve from 0.72000\n",
      "Epoch 19/200\n",
      "25/25 [==============================] - 4s 158ms/step - loss: 0.8097 - acc: 0.5266 - val_loss: 0.7722 - val_acc: 0.4800\n",
      "\n",
      "Epoch 00019: val_acc did not improve from 0.72000\n",
      "Epoch 20/200\n",
      "25/25 [==============================] - 4s 158ms/step - loss: 0.8080 - acc: 0.5202 - val_loss: 0.7057 - val_acc: 0.8000\n",
      "\n",
      "Epoch 00020: val_acc improved from 0.72000 to 0.80000, saving model to /analysis/fabiane/models/MS/pretrained/rebuild_64Net/new_script/lesions_removed_blurred/weights-augm-trial0-improvement-BEST.hdf5\n",
      "Epoch 21/200\n",
      "25/25 [==============================] - 4s 157ms/step - loss: 0.7606 - acc: 0.5666 - val_loss: 0.7131 - val_acc: 0.8000\n",
      "\n",
      "Epoch 00021: val_acc did not improve from 0.80000\n",
      "Epoch 22/200\n",
      "25/25 [==============================] - 4s 159ms/step - loss: 0.7326 - acc: 0.6199 - val_loss: 0.7036 - val_acc: 0.7200\n",
      "\n",
      "Epoch 00022: val_acc did not improve from 0.80000\n",
      "Epoch 23/200\n",
      "25/25 [==============================] - 4s 160ms/step - loss: 0.7757 - acc: 0.5734 - val_loss: 0.7893 - val_acc: 0.4400\n",
      "\n",
      "Epoch 00023: val_acc did not improve from 0.80000\n",
      "Epoch 24/200\n",
      "25/25 [==============================] - 4s 158ms/step - loss: 0.7800 - acc: 0.5266 - val_loss: 0.7630 - val_acc: 0.4800\n",
      "\n",
      "Epoch 00024: val_acc did not improve from 0.80000\n",
      "Epoch 25/200\n",
      "25/25 [==============================] - 4s 158ms/step - loss: 0.7339 - acc: 0.6066 - val_loss: 0.7638 - val_acc: 0.5200\n",
      "\n",
      "Epoch 00025: val_acc did not improve from 0.80000\n",
      "Epoch 26/200\n",
      "25/25 [==============================] - 4s 158ms/step - loss: 0.7694 - acc: 0.5366 - val_loss: 0.7091 - val_acc: 0.6800\n",
      "\n",
      "Epoch 00026: val_acc did not improve from 0.80000\n",
      "Epoch 27/200\n",
      "25/25 [==============================] - 4s 158ms/step - loss: 0.7381 - acc: 0.5666 - val_loss: 0.8209 - val_acc: 0.4400\n",
      "\n",
      "Epoch 00027: val_acc did not improve from 0.80000\n",
      "Epoch 00027: early stopping\n",
      "Trial 1\n",
      "Epoch 1/200\n",
      "25/25 [==============================] - 5s 201ms/step - loss: 0.9546 - acc: 0.5666 - val_loss: 0.8684 - val_acc: 0.5600\n",
      "\n",
      "Epoch 00001: val_acc improved from -inf to 0.56000, saving model to /analysis/fabiane/models/MS/pretrained/rebuild_64Net/new_script/lesions_removed_blurred/weights-augm-trial1-improvement-BEST.hdf5\n",
      "Epoch 2/200\n",
      "25/25 [==============================] - 4s 159ms/step - loss: 1.0102 - acc: 0.4398 - val_loss: 0.8421 - val_acc: 0.5200\n",
      "\n",
      "Epoch 00002: val_acc did not improve from 0.56000\n",
      "Epoch 3/200\n",
      "25/25 [==============================] - 4s 158ms/step - loss: 0.9680 - acc: 0.4366 - val_loss: 0.8335 - val_acc: 0.5200\n",
      "\n",
      "Epoch 00003: val_acc did not improve from 0.56000\n",
      "Epoch 4/200\n",
      "25/25 [==============================] - 4s 159ms/step - loss: 0.8676 - acc: 0.4802 - val_loss: 0.8363 - val_acc: 0.4800\n",
      "\n",
      "Epoch 00004: val_acc did not improve from 0.56000\n",
      "Epoch 5/200\n",
      "25/25 [==============================] - 4s 159ms/step - loss: 0.8570 - acc: 0.4734 - val_loss: 0.8965 - val_acc: 0.4400\n",
      "\n",
      "Epoch 00005: val_acc did not improve from 0.56000\n",
      "Epoch 6/200\n",
      "25/25 [==============================] - 4s 160ms/step - loss: 0.8756 - acc: 0.4766 - val_loss: 0.8041 - val_acc: 0.6000\n",
      "\n",
      "Epoch 00006: val_acc improved from 0.56000 to 0.60000, saving model to /analysis/fabiane/models/MS/pretrained/rebuild_64Net/new_script/lesions_removed_blurred/weights-augm-trial1-improvement-BEST.hdf5\n",
      "Epoch 7/200\n",
      "25/25 [==============================] - 4s 159ms/step - loss: 0.8773 - acc: 0.5102 - val_loss: 0.8288 - val_acc: 0.4400\n",
      "\n",
      "Epoch 00007: val_acc did not improve from 0.60000\n",
      "Epoch 8/200\n",
      "25/25 [==============================] - 6s 229ms/step - loss: 0.8786 - acc: 0.4866 - val_loss: 0.8858 - val_acc: 0.4400\n",
      "\n",
      "Epoch 00008: val_acc did not improve from 0.60000\n",
      "Epoch 9/200\n",
      "25/25 [==============================] - 4s 160ms/step - loss: 0.8461 - acc: 0.4998 - val_loss: 0.8271 - val_acc: 0.4400\n",
      "\n",
      "Epoch 00009: val_acc did not improve from 0.60000\n",
      "Epoch 10/200\n",
      "25/25 [==============================] - 4s 158ms/step - loss: 0.8278 - acc: 0.5134 - val_loss: 0.8173 - val_acc: 0.4400\n",
      "\n",
      "Epoch 00010: val_acc did not improve from 0.60000\n",
      "Epoch 11/200\n",
      "25/25 [==============================] - 4s 159ms/step - loss: 0.7761 - acc: 0.5666 - val_loss: 0.8056 - val_acc: 0.4400\n",
      "\n",
      "Epoch 00011: val_acc did not improve from 0.60000\n",
      "Epoch 00011: early stopping\n",
      "Trial 2\n",
      "Epoch 1/200\n"
     ]
    },
    {
     "name": "stdout",
     "output_type": "stream",
     "text": [
      "25/25 [==============================] - 5s 203ms/step - loss: 0.9736 - acc: 0.5502 - val_loss: 0.8517 - val_acc: 0.6000\n",
      "\n",
      "Epoch 00001: val_acc improved from -inf to 0.60000, saving model to /analysis/fabiane/models/MS/pretrained/rebuild_64Net/new_script/lesions_removed_blurred/weights-augm-trial2-improvement-BEST.hdf5\n",
      "Epoch 2/200\n",
      "25/25 [==============================] - 4s 159ms/step - loss: 0.9076 - acc: 0.4966 - val_loss: 0.8353 - val_acc: 0.5600\n",
      "\n",
      "Epoch 00002: val_acc did not improve from 0.60000\n",
      "Epoch 3/200\n",
      "25/25 [==============================] - 4s 160ms/step - loss: 0.8896 - acc: 0.5134 - val_loss: 0.8850 - val_acc: 0.4400\n",
      "\n",
      "Epoch 00003: val_acc did not improve from 0.60000\n",
      "Epoch 4/200\n",
      "25/25 [==============================] - 4s 157ms/step - loss: 0.9784 - acc: 0.4134 - val_loss: 0.8284 - val_acc: 0.4400\n",
      "\n",
      "Epoch 00004: val_acc did not improve from 0.60000\n",
      "Epoch 5/200\n",
      "25/25 [==============================] - 4s 158ms/step - loss: 0.9201 - acc: 0.3733 - val_loss: 0.7968 - val_acc: 0.5600\n",
      "\n",
      "Epoch 00005: val_acc did not improve from 0.60000\n",
      "Epoch 6/200\n",
      "25/25 [==============================] - 4s 160ms/step - loss: 0.9095 - acc: 0.4698 - val_loss: 0.8311 - val_acc: 0.4400\n",
      "\n",
      "Epoch 00006: val_acc did not improve from 0.60000\n",
      "Epoch 7/200\n",
      "25/25 [==============================] - 4s 158ms/step - loss: 0.8152 - acc: 0.5834 - val_loss: 0.7995 - val_acc: 0.5600\n",
      "\n",
      "Epoch 00007: val_acc did not improve from 0.60000\n",
      "Epoch 8/200\n",
      "25/25 [==============================] - 4s 158ms/step - loss: 0.8934 - acc: 0.4102 - val_loss: 0.7926 - val_acc: 0.5600\n",
      "\n",
      "Epoch 00008: val_acc did not improve from 0.60000\n",
      "Epoch 9/200\n",
      "25/25 [==============================] - 4s 157ms/step - loss: 0.8386 - acc: 0.5098 - val_loss: 0.7911 - val_acc: 0.5200\n",
      "\n",
      "Epoch 00009: val_acc did not improve from 0.60000\n",
      "Epoch 10/200\n",
      "25/25 [==============================] - 4s 158ms/step - loss: 0.8255 - acc: 0.4702 - val_loss: 0.8498 - val_acc: 0.4400\n",
      "\n",
      "Epoch 00010: val_acc did not improve from 0.60000\n",
      "Epoch 11/200\n",
      "25/25 [==============================] - 4s 158ms/step - loss: 0.8426 - acc: 0.5834 - val_loss: 0.8721 - val_acc: 0.4400\n",
      "\n",
      "Epoch 00011: val_acc did not improve from 0.60000\n",
      "Epoch 12/200\n",
      "25/25 [==============================] - 8s 308ms/step - loss: 0.8440 - acc: 0.4834 - val_loss: 0.7796 - val_acc: 0.6400\n",
      "\n",
      "Epoch 00012: val_acc improved from 0.60000 to 0.64000, saving model to /analysis/fabiane/models/MS/pretrained/rebuild_64Net/new_script/lesions_removed_blurred/weights-augm-trial2-improvement-BEST.hdf5\n",
      "Epoch 13/200\n",
      "25/25 [==============================] - 4s 159ms/step - loss: 0.8268 - acc: 0.5066 - val_loss: 0.7747 - val_acc: 0.6800\n",
      "\n",
      "Epoch 00013: val_acc improved from 0.64000 to 0.68000, saving model to /analysis/fabiane/models/MS/pretrained/rebuild_64Net/new_script/lesions_removed_blurred/weights-augm-trial2-improvement-BEST.hdf5\n",
      "Epoch 14/200\n",
      "25/25 [==============================] - 4s 160ms/step - loss: 0.8042 - acc: 0.5502 - val_loss: 0.7600 - val_acc: 0.6800\n",
      "\n",
      "Epoch 00014: val_acc did not improve from 0.68000\n",
      "Epoch 15/200\n",
      "25/25 [==============================] - 4s 158ms/step - loss: 0.7773 - acc: 0.5734 - val_loss: 0.7527 - val_acc: 0.8000\n",
      "\n",
      "Epoch 00015: val_acc improved from 0.68000 to 0.80000, saving model to /analysis/fabiane/models/MS/pretrained/rebuild_64Net/new_script/lesions_removed_blurred/weights-augm-trial2-improvement-BEST.hdf5\n",
      "Epoch 16/200\n",
      "25/25 [==============================] - 4s 158ms/step - loss: 0.7874 - acc: 0.5866 - val_loss: 0.7712 - val_acc: 0.4400\n",
      "\n",
      "Epoch 00016: val_acc did not improve from 0.80000\n",
      "Epoch 17/200\n",
      "25/25 [==============================] - 4s 159ms/step - loss: 0.8054 - acc: 0.5266 - val_loss: 0.7304 - val_acc: 0.6000\n",
      "\n",
      "Epoch 00017: val_acc did not improve from 0.80000\n",
      "Epoch 18/200\n",
      "25/25 [==============================] - 4s 158ms/step - loss: 0.7912 - acc: 0.5034 - val_loss: 0.7433 - val_acc: 0.5600\n",
      "\n",
      "Epoch 00018: val_acc did not improve from 0.80000\n",
      "Epoch 19/200\n",
      "25/25 [==============================] - 4s 159ms/step - loss: 0.7929 - acc: 0.5366 - val_loss: 0.7642 - val_acc: 0.4800\n",
      "\n",
      "Epoch 00019: val_acc did not improve from 0.80000\n",
      "Epoch 20/200\n",
      "25/25 [==============================] - 4s 159ms/step - loss: 0.8063 - acc: 0.5166 - val_loss: 0.7429 - val_acc: 0.6400\n",
      "\n",
      "Epoch 00020: val_acc did not improve from 0.80000\n",
      "Epoch 21/200\n",
      "25/25 [==============================] - 4s 159ms/step - loss: 0.8000 - acc: 0.4666 - val_loss: 0.7230 - val_acc: 0.8000\n",
      "\n",
      "Epoch 00021: val_acc did not improve from 0.80000\n",
      "Epoch 22/200\n",
      "25/25 [==============================] - 4s 158ms/step - loss: 0.7375 - acc: 0.5398 - val_loss: 0.7022 - val_acc: 0.5600\n",
      "\n",
      "Epoch 00022: val_acc did not improve from 0.80000\n",
      "Epoch 23/200\n",
      "25/25 [==============================] - 4s 158ms/step - loss: 0.7726 - acc: 0.5098 - val_loss: 0.7021 - val_acc: 0.6400\n",
      "\n",
      "Epoch 00023: val_acc did not improve from 0.80000\n",
      "Epoch 24/200\n",
      "25/25 [==============================] - 4s 158ms/step - loss: 0.6922 - acc: 0.6835 - val_loss: 0.7099 - val_acc: 0.7200\n",
      "\n",
      "Epoch 00024: val_acc did not improve from 0.80000\n",
      "Epoch 25/200\n",
      "25/25 [==============================] - 4s 158ms/step - loss: 0.7445 - acc: 0.6199 - val_loss: 0.6780 - val_acc: 0.6000\n",
      "\n",
      "Epoch 00025: val_acc did not improve from 0.80000\n",
      "Epoch 26/200\n",
      "25/25 [==============================] - 4s 158ms/step - loss: 0.7647 - acc: 0.5934 - val_loss: 0.7448 - val_acc: 0.4400\n",
      "\n",
      "Epoch 00026: val_acc did not improve from 0.80000\n",
      "Epoch 27/200\n",
      "25/25 [==============================] - 6s 235ms/step - loss: 0.7162 - acc: 0.6499 - val_loss: 0.6895 - val_acc: 0.6400\n",
      "\n",
      "Epoch 00027: val_acc did not improve from 0.80000\n",
      "Epoch 28/200\n",
      "25/25 [==============================] - 4s 158ms/step - loss: 0.7005 - acc: 0.6499 - val_loss: 0.6849 - val_acc: 0.7600\n",
      "\n",
      "Epoch 00028: val_acc did not improve from 0.80000\n",
      "Epoch 29/200\n",
      "25/25 [==============================] - 4s 157ms/step - loss: 0.7237 - acc: 0.6567 - val_loss: 0.7490 - val_acc: 0.5600\n",
      "\n",
      "Epoch 00029: val_acc did not improve from 0.80000\n",
      "Epoch 30/200\n",
      "25/25 [==============================] - 4s 159ms/step - loss: 0.7127 - acc: 0.6467 - val_loss: 0.6601 - val_acc: 0.7600\n",
      "\n",
      "Epoch 00030: val_acc did not improve from 0.80000\n",
      "Epoch 31/200\n",
      "25/25 [==============================] - 4s 159ms/step - loss: 0.6953 - acc: 0.5834 - val_loss: 0.6476 - val_acc: 0.7200\n",
      "\n",
      "Epoch 00031: val_acc did not improve from 0.80000\n",
      "Epoch 32/200\n",
      "25/25 [==============================] - 4s 159ms/step - loss: 0.7067 - acc: 0.6667 - val_loss: 0.6249 - val_acc: 0.7600\n",
      "\n",
      "Epoch 00032: val_acc did not improve from 0.80000\n",
      "Epoch 33/200\n",
      "25/25 [==============================] - 4s 160ms/step - loss: 0.6811 - acc: 0.6835 - val_loss: 0.6241 - val_acc: 0.7600\n",
      "\n",
      "Epoch 00033: val_acc did not improve from 0.80000\n",
      "Epoch 34/200\n",
      "25/25 [==============================] - 4s 159ms/step - loss: 0.6713 - acc: 0.6567 - val_loss: 0.6237 - val_acc: 0.9200\n",
      "\n",
      "Epoch 00034: val_acc improved from 0.80000 to 0.92000, saving model to /analysis/fabiane/models/MS/pretrained/rebuild_64Net/new_script/lesions_removed_blurred/weights-augm-trial2-improvement-BEST.hdf5\n",
      "Epoch 35/200\n",
      "25/25 [==============================] - 4s 159ms/step - loss: 0.6184 - acc: 0.7767 - val_loss: 0.6371 - val_acc: 0.7600\n",
      "\n",
      "Epoch 00035: val_acc did not improve from 0.92000\n",
      "Epoch 36/200\n",
      "25/25 [==============================] - 4s 157ms/step - loss: 0.6271 - acc: 0.6867 - val_loss: 0.8817 - val_acc: 0.4400\n",
      "\n",
      "Epoch 00036: val_acc did not improve from 0.92000\n",
      "Epoch 37/200\n",
      "25/25 [==============================] - 4s 159ms/step - loss: 0.6826 - acc: 0.6699 - val_loss: 0.5825 - val_acc: 0.8000\n",
      "\n",
      "Epoch 00037: val_acc did not improve from 0.92000\n",
      "Epoch 38/200\n",
      "25/25 [==============================] - 4s 159ms/step - loss: 0.6342 - acc: 0.7499 - val_loss: 0.6061 - val_acc: 0.8800\n",
      "\n",
      "Epoch 00038: val_acc did not improve from 0.92000\n",
      "Epoch 39/200\n",
      "25/25 [==============================] - 4s 159ms/step - loss: 0.6491 - acc: 0.6999 - val_loss: 0.6242 - val_acc: 0.8400\n",
      "\n",
      "Epoch 00039: val_acc did not improve from 0.92000\n",
      "Epoch 40/200\n",
      "25/25 [==============================] - 4s 158ms/step - loss: 0.6370 - acc: 0.6903 - val_loss: 0.6354 - val_acc: 0.8400\n",
      "\n",
      "Epoch 00040: val_acc did not improve from 0.92000\n",
      "Epoch 41/200\n"
     ]
    },
    {
     "name": "stdout",
     "output_type": "stream",
     "text": [
      "25/25 [==============================] - 4s 158ms/step - loss: 0.6211 - acc: 0.7535 - val_loss: 0.6286 - val_acc: 0.6800\n",
      "\n",
      "Epoch 00041: val_acc did not improve from 0.92000\n",
      "Epoch 42/200\n",
      "25/25 [==============================] - 4s 160ms/step - loss: 0.6812 - acc: 0.6867 - val_loss: 0.5980 - val_acc: 0.7200\n",
      "\n",
      "Epoch 00042: val_acc did not improve from 0.92000\n",
      "Epoch 00042: early stopping\n",
      "Trial 3\n",
      "Epoch 1/200\n",
      "25/25 [==============================] - 5s 210ms/step - loss: 0.9854 - acc: 0.4534 - val_loss: 0.8522 - val_acc: 0.5600\n",
      "\n",
      "Epoch 00001: val_acc improved from -inf to 0.56000, saving model to /analysis/fabiane/models/MS/pretrained/rebuild_64Net/new_script/lesions_removed_blurred/weights-augm-trial3-improvement-BEST.hdf5\n",
      "Epoch 2/200\n",
      "25/25 [==============================] - 4s 158ms/step - loss: 1.0091 - acc: 0.4534 - val_loss: 0.8434 - val_acc: 0.4800\n",
      "\n",
      "Epoch 00002: val_acc did not improve from 0.56000\n",
      "Epoch 3/200\n",
      "25/25 [==============================] - 6s 244ms/step - loss: 0.8625 - acc: 0.5034 - val_loss: 0.8267 - val_acc: 0.5600\n",
      "\n",
      "Epoch 00003: val_acc did not improve from 0.56000\n",
      "Epoch 4/200\n",
      "25/25 [==============================] - 4s 159ms/step - loss: 0.9336 - acc: 0.4502 - val_loss: 0.8222 - val_acc: 0.5600\n",
      "\n",
      "Epoch 00004: val_acc did not improve from 0.56000\n",
      "Epoch 5/200\n",
      "25/25 [==============================] - 4s 158ms/step - loss: 0.8922 - acc: 0.5166 - val_loss: 0.8233 - val_acc: 0.4400\n",
      "\n",
      "Epoch 00005: val_acc did not improve from 0.56000\n",
      "Epoch 6/200\n",
      "25/25 [==============================] - 4s 159ms/step - loss: 0.8797 - acc: 0.4866 - val_loss: 0.8166 - val_acc: 0.4400\n",
      "\n",
      "Epoch 00006: val_acc did not improve from 0.56000\n",
      "Epoch 7/200\n",
      "25/25 [==============================] - 4s 157ms/step - loss: 0.8348 - acc: 0.5566 - val_loss: 0.7972 - val_acc: 0.4800\n",
      "\n",
      "Epoch 00007: val_acc did not improve from 0.56000\n",
      "Epoch 8/200\n",
      "25/25 [==============================] - 4s 157ms/step - loss: 0.8881 - acc: 0.4034 - val_loss: 0.7987 - val_acc: 0.5600\n",
      "\n",
      "Epoch 00008: val_acc did not improve from 0.56000\n",
      "Epoch 9/200\n",
      "25/25 [==============================] - 4s 160ms/step - loss: 0.8669 - acc: 0.4934 - val_loss: 0.8022 - val_acc: 0.6000\n",
      "\n",
      "Epoch 00009: val_acc improved from 0.56000 to 0.60000, saving model to /analysis/fabiane/models/MS/pretrained/rebuild_64Net/new_script/lesions_removed_blurred/weights-augm-trial3-improvement-BEST.hdf5\n",
      "Epoch 10/200\n",
      "25/25 [==============================] - 4s 160ms/step - loss: 0.8273 - acc: 0.5366 - val_loss: 0.8153 - val_acc: 0.4400\n",
      "\n",
      "Epoch 00010: val_acc did not improve from 0.60000\n",
      "Epoch 11/200\n",
      "25/25 [==============================] - 4s 158ms/step - loss: 0.8665 - acc: 0.4066 - val_loss: 0.7945 - val_acc: 0.5600\n",
      "\n",
      "Epoch 00011: val_acc did not improve from 0.60000\n",
      "Epoch 12/200\n",
      "25/25 [==============================] - 4s 158ms/step - loss: 0.8433 - acc: 0.5066 - val_loss: 0.7839 - val_acc: 0.5200\n",
      "\n",
      "Epoch 00012: val_acc did not improve from 0.60000\n",
      "Epoch 13/200\n",
      "25/25 [==============================] - 4s 158ms/step - loss: 0.7708 - acc: 0.5402 - val_loss: 0.7965 - val_acc: 0.4800\n",
      "\n",
      "Epoch 00013: val_acc did not improve from 0.60000\n",
      "Epoch 14/200\n",
      "25/25 [==============================] - 4s 160ms/step - loss: 0.7642 - acc: 0.6199 - val_loss: 0.7693 - val_acc: 0.5600\n",
      "\n",
      "Epoch 00014: val_acc did not improve from 0.60000\n",
      "Epoch 15/200\n",
      "25/25 [==============================] - 4s 157ms/step - loss: 0.8513 - acc: 0.4002 - val_loss: 0.7788 - val_acc: 0.4400\n",
      "\n",
      "Epoch 00015: val_acc did not improve from 0.60000\n",
      "Epoch 16/200\n",
      "25/25 [==============================] - 4s 158ms/step - loss: 0.8173 - acc: 0.5102 - val_loss: 0.7722 - val_acc: 0.5200\n",
      "\n",
      "Epoch 00016: val_acc did not improve from 0.60000\n",
      "Epoch 17/200\n",
      "25/25 [==============================] - 4s 159ms/step - loss: 0.8132 - acc: 0.4102 - val_loss: 0.7613 - val_acc: 0.5200\n",
      "\n",
      "Epoch 00017: val_acc did not improve from 0.60000\n",
      "Epoch 18/200\n",
      "25/25 [==============================] - 4s 159ms/step - loss: 0.7913 - acc: 0.4534 - val_loss: 0.7380 - val_acc: 0.7200\n",
      "\n",
      "Epoch 00018: val_acc improved from 0.60000 to 0.72000, saving model to /analysis/fabiane/models/MS/pretrained/rebuild_64Net/new_script/lesions_removed_blurred/weights-augm-trial3-improvement-BEST.hdf5\n",
      "Epoch 19/200\n",
      "25/25 [==============================] - 4s 160ms/step - loss: 0.7445 - acc: 0.5734 - val_loss: 0.7794 - val_acc: 0.4400\n",
      "\n",
      "Epoch 00019: val_acc did not improve from 0.72000\n",
      "Epoch 20/200\n",
      "25/25 [==============================] - 4s 159ms/step - loss: 0.7625 - acc: 0.5802 - val_loss: 0.8107 - val_acc: 0.4400\n",
      "\n",
      "Epoch 00020: val_acc did not improve from 0.72000\n",
      "Epoch 21/200\n",
      "25/25 [==============================] - 4s 158ms/step - loss: 0.8213 - acc: 0.5534 - val_loss: 0.8222 - val_acc: 0.4400\n",
      "\n",
      "Epoch 00021: val_acc did not improve from 0.72000\n",
      "Epoch 22/200\n",
      "25/25 [==============================] - 4s 158ms/step - loss: 0.7637 - acc: 0.5398 - val_loss: 0.7234 - val_acc: 0.6400\n",
      "\n",
      "Epoch 00022: val_acc did not improve from 0.72000\n",
      "Epoch 23/200\n",
      "25/25 [==============================] - 4s 158ms/step - loss: 0.7865 - acc: 0.5302 - val_loss: 0.8071 - val_acc: 0.4400\n",
      "\n",
      "Epoch 00023: val_acc did not improve from 0.72000\n",
      "Epoch 24/200\n",
      "25/25 [==============================] - 4s 159ms/step - loss: 0.7196 - acc: 0.6599 - val_loss: 0.7426 - val_acc: 0.4800\n",
      "\n",
      "Epoch 00024: val_acc did not improve from 0.72000\n",
      "Epoch 25/200\n",
      "25/25 [==============================] - 4s 159ms/step - loss: 0.7854 - acc: 0.5534 - val_loss: 0.7384 - val_acc: 0.5200\n",
      "\n",
      "Epoch 00025: val_acc did not improve from 0.72000\n",
      "Epoch 26/200\n",
      "25/25 [==============================] - 6s 238ms/step - loss: 0.7670 - acc: 0.5234 - val_loss: 0.7591 - val_acc: 0.4800\n",
      "\n",
      "Epoch 00026: val_acc did not improve from 0.72000\n",
      "Epoch 27/200\n",
      "25/25 [==============================] - 4s 158ms/step - loss: 0.7144 - acc: 0.6367 - val_loss: 0.7503 - val_acc: 0.5200\n",
      "\n",
      "Epoch 00027: val_acc did not improve from 0.72000\n",
      "Epoch 00027: early stopping\n",
      "Trial 4\n",
      "Epoch 1/200\n",
      "25/25 [==============================] - 6s 228ms/step - loss: 0.8583 - acc: 0.5298 - val_loss: 0.9203 - val_acc: 0.4400\n",
      "\n",
      "Epoch 00001: val_acc improved from -inf to 0.44000, saving model to /analysis/fabiane/models/MS/pretrained/rebuild_64Net/new_script/lesions_removed_blurred/weights-augm-trial4-improvement-BEST.hdf5\n",
      "Epoch 2/200\n",
      "25/25 [==============================] - 4s 159ms/step - loss: 0.9753 - acc: 0.4934 - val_loss: 0.8615 - val_acc: 0.4400\n",
      "\n",
      "Epoch 00002: val_acc did not improve from 0.44000\n",
      "Epoch 3/200\n",
      "25/25 [==============================] - 4s 159ms/step - loss: 0.9858 - acc: 0.4202 - val_loss: 0.8445 - val_acc: 0.4800\n",
      "\n",
      "Epoch 00003: val_acc improved from 0.44000 to 0.48000, saving model to /analysis/fabiane/models/MS/pretrained/rebuild_64Net/new_script/lesions_removed_blurred/weights-augm-trial4-improvement-BEST.hdf5\n",
      "Epoch 4/200\n",
      "25/25 [==============================] - 4s 158ms/step - loss: 0.9241 - acc: 0.5366 - val_loss: 0.8320 - val_acc: 0.5600\n",
      "\n",
      "Epoch 00004: val_acc improved from 0.48000 to 0.56000, saving model to /analysis/fabiane/models/MS/pretrained/rebuild_64Net/new_script/lesions_removed_blurred/weights-augm-trial4-improvement-BEST.hdf5\n",
      "Epoch 5/200\n",
      "25/25 [==============================] - 4s 158ms/step - loss: 0.9031 - acc: 0.5166 - val_loss: 0.8632 - val_acc: 0.4400\n",
      "\n",
      "Epoch 00005: val_acc did not improve from 0.56000\n",
      "Epoch 6/200\n",
      "25/25 [==============================] - 4s 158ms/step - loss: 0.9768 - acc: 0.4534 - val_loss: 0.8360 - val_acc: 0.4400\n",
      "\n",
      "Epoch 00006: val_acc did not improve from 0.56000\n",
      "Epoch 7/200\n",
      "25/25 [==============================] - 4s 159ms/step - loss: 0.8617 - acc: 0.4766 - val_loss: 0.8180 - val_acc: 0.5200\n",
      "\n",
      "Epoch 00007: val_acc did not improve from 0.56000\n",
      "Epoch 8/200\n",
      "25/25 [==============================] - 4s 158ms/step - loss: 0.9137 - acc: 0.4466 - val_loss: 0.8311 - val_acc: 0.4400\n",
      "\n",
      "Epoch 00008: val_acc did not improve from 0.56000\n",
      "Epoch 9/200\n",
      "25/25 [==============================] - 4s 159ms/step - loss: 0.8510 - acc: 0.5302 - val_loss: 0.8435 - val_acc: 0.4400\n",
      "\n",
      "Epoch 00009: val_acc did not improve from 0.56000\n",
      "Epoch 10/200\n",
      "25/25 [==============================] - 4s 159ms/step - loss: 0.8384 - acc: 0.5866 - val_loss: 0.8262 - val_acc: 0.5200\n",
      "\n",
      "Epoch 00010: val_acc did not improve from 0.56000\n",
      "Epoch 11/200\n"
     ]
    },
    {
     "name": "stdout",
     "output_type": "stream",
     "text": [
      "25/25 [==============================] - 4s 159ms/step - loss: 0.8120 - acc: 0.4966 - val_loss: 0.8250 - val_acc: 0.4400\n",
      "\n",
      "Epoch 00011: val_acc did not improve from 0.56000\n",
      "Epoch 12/200\n",
      "25/25 [==============================] - 4s 159ms/step - loss: 0.8618 - acc: 0.5198 - val_loss: 0.8323 - val_acc: 0.4400\n",
      "\n",
      "Epoch 00012: val_acc did not improve from 0.56000\n",
      "Epoch 00012: early stopping\n",
      "Trial 5\n",
      "Epoch 1/200\n",
      "25/25 [==============================] - 6s 226ms/step - loss: 0.9463 - acc: 0.5334 - val_loss: 0.8503 - val_acc: 0.5600\n",
      "\n",
      "Epoch 00001: val_acc improved from -inf to 0.56000, saving model to /analysis/fabiane/models/MS/pretrained/rebuild_64Net/new_script/lesions_removed_blurred/weights-augm-trial5-improvement-BEST.hdf5\n",
      "Epoch 2/200\n",
      "25/25 [==============================] - 4s 159ms/step - loss: 1.0137 - acc: 0.3333 - val_loss: 0.8329 - val_acc: 0.5600\n",
      "\n",
      "Epoch 00002: val_acc did not improve from 0.56000\n",
      "Epoch 3/200\n",
      "25/25 [==============================] - 4s 161ms/step - loss: 0.9527 - acc: 0.4834 - val_loss: 0.8226 - val_acc: 0.5600\n",
      "\n",
      "Epoch 00003: val_acc did not improve from 0.56000\n",
      "Epoch 4/200\n",
      "25/25 [==============================] - 4s 159ms/step - loss: 0.8761 - acc: 0.5034 - val_loss: 0.8266 - val_acc: 0.4400\n",
      "\n",
      "Epoch 00004: val_acc did not improve from 0.56000\n",
      "Epoch 5/200\n",
      "25/25 [==============================] - 4s 160ms/step - loss: 0.8913 - acc: 0.4934 - val_loss: 0.8092 - val_acc: 0.5600\n",
      "\n",
      "Epoch 00005: val_acc did not improve from 0.56000\n",
      "Epoch 6/200\n",
      "25/25 [==============================] - 4s 159ms/step - loss: 0.8546 - acc: 0.5034 - val_loss: 0.8049 - val_acc: 0.4400\n",
      "\n",
      "Epoch 00006: val_acc did not improve from 0.56000\n",
      "Epoch 7/200\n",
      "25/25 [==============================] - 4s 159ms/step - loss: 0.8432 - acc: 0.4866 - val_loss: 0.7938 - val_acc: 0.6000\n",
      "\n",
      "Epoch 00007: val_acc improved from 0.56000 to 0.60000, saving model to /analysis/fabiane/models/MS/pretrained/rebuild_64Net/new_script/lesions_removed_blurred/weights-augm-trial5-improvement-BEST.hdf5\n",
      "Epoch 8/200\n",
      "25/25 [==============================] - 4s 158ms/step - loss: 0.9089 - acc: 0.4602 - val_loss: 0.7803 - val_acc: 0.5600\n",
      "\n",
      "Epoch 00008: val_acc did not improve from 0.60000\n",
      "Epoch 9/200\n",
      "25/25 [==============================] - 4s 160ms/step - loss: 0.8921 - acc: 0.4034 - val_loss: 0.7987 - val_acc: 0.4800\n",
      "\n",
      "Epoch 00009: val_acc did not improve from 0.60000\n",
      "Epoch 10/200\n",
      "25/25 [==============================] - 4s 158ms/step - loss: 0.8443 - acc: 0.4634 - val_loss: 0.7770 - val_acc: 0.5600\n",
      "\n",
      "Epoch 00010: val_acc did not improve from 0.60000\n",
      "Epoch 11/200\n",
      "25/25 [==============================] - 4s 160ms/step - loss: 0.9420 - acc: 0.4798 - val_loss: 0.7920 - val_acc: 0.4800\n",
      "\n",
      "Epoch 00011: val_acc did not improve from 0.60000\n",
      "Epoch 12/200\n",
      "25/25 [==============================] - 4s 159ms/step - loss: 0.8336 - acc: 0.5334 - val_loss: 0.7931 - val_acc: 0.5600\n",
      "\n",
      "Epoch 00012: val_acc did not improve from 0.60000\n",
      "Epoch 13/200\n",
      "25/25 [==============================] - 4s 159ms/step - loss: 0.8781 - acc: 0.5234 - val_loss: 0.8037 - val_acc: 0.4400\n",
      "\n",
      "Epoch 00013: val_acc did not improve from 0.60000\n",
      "Epoch 14/200\n",
      "25/25 [==============================] - 4s 158ms/step - loss: 0.7962 - acc: 0.5266 - val_loss: 0.8037 - val_acc: 0.4400\n",
      "\n",
      "Epoch 00014: val_acc did not improve from 0.60000\n",
      "Epoch 15/200\n",
      "25/25 [==============================] - 4s 160ms/step - loss: 0.8508 - acc: 0.4634 - val_loss: 0.7722 - val_acc: 0.5200\n",
      "\n",
      "Epoch 00015: val_acc did not improve from 0.60000\n",
      "Epoch 16/200\n",
      "25/25 [==============================] - 4s 161ms/step - loss: 0.7692 - acc: 0.5498 - val_loss: 0.7880 - val_acc: 0.4400\n",
      "\n",
      "Epoch 00016: val_acc did not improve from 0.60000\n",
      "Epoch 17/200\n",
      "25/25 [==============================] - 4s 161ms/step - loss: 0.7925 - acc: 0.5734 - val_loss: 0.7676 - val_acc: 0.6000\n",
      "\n",
      "Epoch 00017: val_acc did not improve from 0.60000\n",
      "Epoch 18/200\n",
      "25/25 [==============================] - 4s 161ms/step - loss: 0.8300 - acc: 0.5034 - val_loss: 0.7797 - val_acc: 0.4400\n",
      "\n",
      "Epoch 00018: val_acc did not improve from 0.60000\n",
      "Epoch 19/200\n",
      "25/25 [==============================] - 4s 160ms/step - loss: 0.8231 - acc: 0.5102 - val_loss: 0.7901 - val_acc: 0.4400\n",
      "\n",
      "Epoch 00019: val_acc did not improve from 0.60000\n",
      "Epoch 20/200\n",
      "25/25 [==============================] - 4s 160ms/step - loss: 0.7866 - acc: 0.4934 - val_loss: 0.7866 - val_acc: 0.4400\n",
      "\n",
      "Epoch 00020: val_acc did not improve from 0.60000\n",
      "Epoch 21/200\n",
      "25/25 [==============================] - 4s 160ms/step - loss: 0.7665 - acc: 0.5334 - val_loss: 0.7352 - val_acc: 0.6800\n",
      "\n",
      "Epoch 00021: val_acc improved from 0.60000 to 0.68000, saving model to /analysis/fabiane/models/MS/pretrained/rebuild_64Net/new_script/lesions_removed_blurred/weights-augm-trial5-improvement-BEST.hdf5\n",
      "Epoch 22/200\n",
      "25/25 [==============================] - 4s 160ms/step - loss: 0.7542 - acc: 0.5966 - val_loss: 0.7745 - val_acc: 0.4400\n",
      "\n",
      "Epoch 00022: val_acc did not improve from 0.68000\n",
      "Epoch 23/200\n",
      "25/25 [==============================] - 4s 160ms/step - loss: 0.7507 - acc: 0.6066 - val_loss: 0.6877 - val_acc: 0.6800\n",
      "\n",
      "Epoch 00023: val_acc did not improve from 0.68000\n",
      "Epoch 24/200\n",
      "25/25 [==============================] - 4s 160ms/step - loss: 0.7753 - acc: 0.5866 - val_loss: 0.7539 - val_acc: 0.6400\n",
      "\n",
      "Epoch 00024: val_acc did not improve from 0.68000\n",
      "Epoch 25/200\n",
      "25/25 [==============================] - 4s 160ms/step - loss: 0.7641 - acc: 0.6102 - val_loss: 0.7705 - val_acc: 0.4400\n",
      "\n",
      "Epoch 00025: val_acc did not improve from 0.68000\n",
      "Epoch 26/200\n",
      "25/25 [==============================] - 4s 159ms/step - loss: 0.7271 - acc: 0.6199 - val_loss: 0.6836 - val_acc: 0.7200\n",
      "\n",
      "Epoch 00026: val_acc improved from 0.68000 to 0.72000, saving model to /analysis/fabiane/models/MS/pretrained/rebuild_64Net/new_script/lesions_removed_blurred/weights-augm-trial5-improvement-BEST.hdf5\n",
      "Epoch 27/200\n",
      "25/25 [==============================] - 4s 161ms/step - loss: 0.7165 - acc: 0.5902 - val_loss: 0.6946 - val_acc: 0.6800\n",
      "\n",
      "Epoch 00027: val_acc did not improve from 0.72000\n",
      "Epoch 28/200\n",
      "25/25 [==============================] - 4s 161ms/step - loss: 0.7467 - acc: 0.5702 - val_loss: 0.7501 - val_acc: 0.4800\n",
      "\n",
      "Epoch 00028: val_acc did not improve from 0.72000\n",
      "Epoch 29/200\n",
      "25/25 [==============================] - 6s 232ms/step - loss: 0.7265 - acc: 0.6267 - val_loss: 0.6810 - val_acc: 0.6400\n",
      "\n",
      "Epoch 00029: val_acc did not improve from 0.72000\n",
      "Epoch 30/200\n",
      "25/25 [==============================] - 4s 160ms/step - loss: 0.7014 - acc: 0.6867 - val_loss: 0.7342 - val_acc: 0.4800\n",
      "\n",
      "Epoch 00030: val_acc did not improve from 0.72000\n",
      "Epoch 31/200\n",
      "25/25 [==============================] - 4s 159ms/step - loss: 0.7009 - acc: 0.6567 - val_loss: 0.8143 - val_acc: 0.4400\n",
      "\n",
      "Epoch 00031: val_acc did not improve from 0.72000\n",
      "Epoch 32/200\n",
      "25/25 [==============================] - 4s 160ms/step - loss: 0.7426 - acc: 0.5934 - val_loss: 0.6678 - val_acc: 0.7200\n",
      "\n",
      "Epoch 00032: val_acc did not improve from 0.72000\n",
      "Epoch 33/200\n",
      "25/25 [==============================] - 4s 160ms/step - loss: 0.6834 - acc: 0.6334 - val_loss: 0.6642 - val_acc: 0.8000\n",
      "\n",
      "Epoch 00033: val_acc improved from 0.72000 to 0.80000, saving model to /analysis/fabiane/models/MS/pretrained/rebuild_64Net/new_script/lesions_removed_blurred/weights-augm-trial5-improvement-BEST.hdf5\n",
      "Epoch 34/200\n",
      "25/25 [==============================] - 4s 161ms/step - loss: 0.7239 - acc: 0.6735 - val_loss: 0.7571 - val_acc: 0.4800\n",
      "\n",
      "Epoch 00034: val_acc did not improve from 0.80000\n",
      "Epoch 35/200\n",
      "25/25 [==============================] - 4s 161ms/step - loss: 0.6522 - acc: 0.7099 - val_loss: 0.6679 - val_acc: 0.8000\n",
      "\n",
      "Epoch 00035: val_acc did not improve from 0.80000\n",
      "Epoch 36/200\n",
      "25/25 [==============================] - 4s 162ms/step - loss: 0.6884 - acc: 0.7267 - val_loss: 0.6261 - val_acc: 0.8000\n",
      "\n",
      "Epoch 00036: val_acc did not improve from 0.80000\n",
      "Epoch 37/200\n",
      "25/25 [==============================] - 4s 161ms/step - loss: 0.7452 - acc: 0.5798 - val_loss: 0.7348 - val_acc: 0.5200\n",
      "\n",
      "Epoch 00037: val_acc did not improve from 0.80000\n",
      "Epoch 38/200\n",
      "25/25 [==============================] - 4s 162ms/step - loss: 0.6468 - acc: 0.7567 - val_loss: 0.6430 - val_acc: 0.7600\n",
      "\n",
      "Epoch 00038: val_acc did not improve from 0.80000\n",
      "Epoch 39/200\n"
     ]
    },
    {
     "name": "stdout",
     "output_type": "stream",
     "text": [
      "25/25 [==============================] - 4s 161ms/step - loss: 0.6324 - acc: 0.7299 - val_loss: 0.6587 - val_acc: 0.8000\n",
      "\n",
      "Epoch 00039: val_acc did not improve from 0.80000\n",
      "Epoch 40/200\n",
      "25/25 [==============================] - 4s 162ms/step - loss: 0.6482 - acc: 0.6935 - val_loss: 0.7258 - val_acc: 0.5600\n",
      "\n",
      "Epoch 00040: val_acc did not improve from 0.80000\n",
      "Epoch 41/200\n",
      "25/25 [==============================] - 4s 161ms/step - loss: 0.6470 - acc: 0.7067 - val_loss: 0.6451 - val_acc: 0.7600\n",
      "\n",
      "Epoch 00041: val_acc did not improve from 0.80000\n",
      "Epoch 00041: early stopping\n",
      "Trial 6\n",
      "Epoch 1/200\n",
      "25/25 [==============================] - 6s 234ms/step - loss: 1.0218 - acc: 0.4534 - val_loss: 0.8631 - val_acc: 0.4400\n",
      "\n",
      "Epoch 00001: val_acc improved from -inf to 0.44000, saving model to /analysis/fabiane/models/MS/pretrained/rebuild_64Net/new_script/lesions_removed_blurred/weights-augm-trial6-improvement-BEST.hdf5\n",
      "Epoch 2/200\n",
      "25/25 [==============================] - 4s 162ms/step - loss: 0.9343 - acc: 0.4602 - val_loss: 0.8699 - val_acc: 0.4400\n",
      "\n",
      "Epoch 00002: val_acc did not improve from 0.44000\n",
      "Epoch 3/200\n",
      "25/25 [==============================] - 4s 161ms/step - loss: 0.9737 - acc: 0.4334 - val_loss: 0.8825 - val_acc: 0.4400\n",
      "\n",
      "Epoch 00003: val_acc did not improve from 0.44000\n",
      "Epoch 4/200\n",
      "25/25 [==============================] - 4s 161ms/step - loss: 0.8931 - acc: 0.4866 - val_loss: 0.8641 - val_acc: 0.4400\n",
      "\n",
      "Epoch 00004: val_acc did not improve from 0.44000\n",
      "Epoch 5/200\n",
      "25/25 [==============================] - 4s 161ms/step - loss: 0.9064 - acc: 0.4734 - val_loss: 0.8763 - val_acc: 0.4400\n",
      "\n",
      "Epoch 00005: val_acc did not improve from 0.44000\n",
      "Epoch 6/200\n",
      "25/25 [==============================] - 4s 161ms/step - loss: 0.9145 - acc: 0.4666 - val_loss: 0.9275 - val_acc: 0.4400\n",
      "\n",
      "Epoch 00006: val_acc did not improve from 0.44000\n",
      "Epoch 00006: early stopping\n",
      "Training Time: 0.0h:12.0m:42.6264066696167s\n",
      "Validation final accuracies: \n",
      " [0.44, 0.44, 0.72, 0.52, 0.44, 0.76, 0.44]\n",
      "Validation final accuracies mean: 0.5371428571428571\n",
      "Validation best accuracies: \n",
      " [0.8, 0.6, 0.92, 0.72, 0.56, 0.8, 0.44]\n",
      "Validation best accuracies mean: 0.6914285714285715\n",
      "Validation balanced accuracies: \n",
      " [0.5, 0.5, 0.6915584415584416, 0.5714285714285714, 0.5, 0.7564935064935066, 0.5]\n",
      "Validation balanced accuracies mean: 0.5742115027829314\n"
     ]
    }
   ],
   "source": [
    "# training args\n",
    "lr = 0.0005\n",
    "lr_decay = 0.001\n",
    "transforms = [intensity, sagittal_flip, translate]\n",
    "\n",
    "num_trials = 7\n",
    "store_models = True\n",
    "\n",
    "# callbacks\n",
    "earlystop = EarlyStopping(monitor='val_loss', min_delta=0, patience=5, verbose=1, mode='auto')\n",
    "\n",
    "accuracies = []\n",
    "balanced_accuracies = []\n",
    "max_acc = []\n",
    "\n",
    "for i in range(num_trials):\n",
    "    print(\"Trial %i\" %i)\n",
    "    \n",
    "    # init model\n",
    "    model = init_model(model_path, finetune=False, up_to=None)    \n",
    "    opti = Adam(lr=lr, decay=lr_decay)\n",
    "    model.compile(optimizer=opti, loss='binary_crossentropy', metrics=['accuracy'])\n",
    "    \n",
    "    # callbacks\n",
    "    earlystop = EarlyStopping(monitor='val_loss', min_delta=0, patience=5, verbose=1, mode='auto')\n",
    "    if store_models:\n",
    "        result_path = os.path.join(result_dir, \"weights-augm-trial%i-improvement-BEST.hdf5\" %i)\n",
    "        model_checkpoint = ModelCheckpoint(result_path, monitor='val_acc', verbose=1, save_best_only=True, mode='max', save_weights_only=True)\n",
    "        callbacks = [earlystop, model_checkpoint]\n",
    "    else:\n",
    "        callbacks = [earlystop]\n",
    "        \n",
    "    train_loader = CISDataset(X_train, y_train, transform=transforms, batch_size=b, shuffle=True, mask=mask)\n",
    "    val_loader = CISDataset(X_val, y_val, transform=[intensity], batch_size=1, shuffle=False, mask=mask)\n",
    "    \n",
    "    # Start training\n",
    "    history = model.fit_generator(train_loader,\n",
    "                        epochs=num_epochs,\n",
    "                        verbose=1,\n",
    "                        validation_data=val_loader,\n",
    "                        callbacks=callbacks)\n",
    "    \n",
    "    # Evaluation\n",
    "    y_pred = model.predict_generator(val_loader)\n",
    "    #y_true = [item for sublist in [val_loader[batch_idx][1] for batch_idx in range(len(val_loader))] for item in sublist]\n",
    "    bal_acc = balanced_accuracy(y_val, y_pred>0.5)\n",
    "    accuracies.append(history.history[\"val_acc\"][-1])\n",
    "    balanced_accuracies.append(bal_acc)\n",
    "    max_acc.append(np.max(history.history[\"val_acc\"]))\n",
    "\n",
    "training_time = time.time() - start_time\n",
    "print(\"Training Time: {}h:{}m:{}s\".format(\n",
    "            training_time//3600, (training_time//60)%60, training_time%60))\n",
    "\n",
    "print(\"Validation final accuracies: \\n {}\".format(accuracies))\n",
    "print(\"Validation final accuracies mean: {}\".format(np.mean(accuracies)))\n",
    "print(\"Validation best accuracies: \\n {}\".format(max_acc))\n",
    "print(\"Validation best accuracies mean: {}\".format(np.mean(max_acc)))\n",
    "print(\"Validation balanced accuracies: \\n {}\".format(balanced_accuracies))\n",
    "print(\"Validation balanced accuracies mean: {}\".format(np.mean(balanced_accuracies)))\n",
    "\n"
   ]
  },
  {
   "cell_type": "code",
   "execution_count": 29,
   "metadata": {
    "collapsed": true
   },
   "outputs": [],
   "source": [
    "training_time = time.time() - start_time"
   ]
  },
  {
   "cell_type": "markdown",
   "metadata": {},
   "source": [
    "# Evaluation"
   ]
  },
  {
   "cell_type": "code",
   "execution_count": 30,
   "metadata": {
    "collapsed": true
   },
   "outputs": [],
   "source": [
    "weights = [\"weights-augm-trial0-improvement-BEST.hdf5\",\n",
    "           \"weights-augm-trial1-improvement-BEST.hdf5\",\n",
    "           \"weights-augm-trial2-improvement-BEST.hdf5\",\n",
    "           \"weights-augm-trial3-improvement-BEST.hdf5\",\n",
    "           \"weights-augm-trial4-improvement-BEST.hdf5\",\n",
    "           \"weights-augm-trial5-improvement-BEST.hdf5\",\n",
    "           \"weights-augm-trial6-improvement-BEST.hdf5\",\n",
    "          ]"
   ]
  },
  {
   "cell_type": "code",
   "execution_count": 31,
   "metadata": {
    "collapsed": true
   },
   "outputs": [],
   "source": [
    "# load holdout set\n",
    "test_loader = CISDataset(X_holdout, y_holdout, transform=[intensity], batch_size=1, shuffle=False, mask=mask)"
   ]
  },
  {
   "cell_type": "code",
   "execution_count": 32,
   "metadata": {},
   "outputs": [
    {
     "name": "stdout",
     "output_type": "stream",
     "text": [
      "Fold 0\n"
     ]
    },
    {
     "name": "stderr",
     "output_type": "stream",
     "text": [
      "/home/fabiane/anaconda2/envs/postal/lib/python3.6/site-packages/ipykernel_launcher.py:16: DeprecationWarning: Both axis > a.ndim and axis < -a.ndim - 1 are deprecated and will raise an AxisError in the future.\n",
      "  app.launch_new_instance()\n"
     ]
    },
    {
     "name": "stdout",
     "output_type": "stream",
     "text": [
      "Model accuracy 52.17 %\n",
      "Balanced accuracy 51.92 %\n",
      "Fold 1\n",
      "Model accuracy 47.83 %\n",
      "Balanced accuracy 52.69 %\n",
      "Fold 2\n",
      "Model accuracy 69.57 %\n",
      "Balanced accuracy 66.15 %\n",
      "Fold 3\n",
      "Model accuracy 56.52 %\n",
      "Balanced accuracy 55.77 %\n",
      "Fold 4\n",
      "Model accuracy 43.48 %\n",
      "Balanced accuracy 50.00 %\n",
      "Fold 5\n",
      "Model accuracy 78.26 %\n",
      "Balanced accuracy 76.15 %\n",
      "Fold 6\n",
      "Model accuracy 56.52 %\n",
      "Balanced accuracy 50.00 %\n",
      "######## Final results ########\n",
      "Accuracy mean 57.76 %\n",
      "Balanced accuracy mean 57.53 %\n"
     ]
    }
   ],
   "source": [
    "accuracies = []\n",
    "balanced_accuracies = []\n",
    "for fold, weight in enumerate(weights):\n",
    "    print(\"Fold {}\".format(fold))\n",
    "    model = load_model(model_path)\n",
    "    model_dir = os.path.join(result_dir, weight)\n",
    "    model.load_weights(model_dir)\n",
    "    \n",
    "    opti = Adam(lr=lr, decay=lr_decay)\n",
    "    model.compile(optimizer=opti,\n",
    "              loss='binary_crossentropy',\n",
    "              metrics=['accuracy'])\n",
    "    \n",
    "    res = model.evaluate_generator(test_loader)\n",
    "    print(\"Model accuracy {:.2f} %\".format(res[1]*100))\n",
    "    \n",
    "    y_pred = (model.predict_generator(test_loader) > 0.5) * 1\n",
    "    bal_acc = balanced_accuracy(y_holdout, y_pred)\n",
    "    print(\"Balanced accuracy {:.2f} %\".format(bal_acc*100))\n",
    "    \n",
    "    accuracies.append(res[1])\n",
    "    balanced_accuracies.append(bal_acc)\n",
    "print(\"######## Final results ########\")\n",
    "print(\"Accuracy mean {:.2f} %\".format(np.mean(accuracies)*100))\n",
    "print(\"Balanced accuracy mean {:.2f} %\".format(np.mean(balanced_accuracies)*100))"
   ]
  },
  {
   "cell_type": "code",
   "execution_count": 33,
   "metadata": {
    "collapsed": true
   },
   "outputs": [],
   "source": [
    "total_time = time.time() - start_time"
   ]
  },
  {
   "cell_type": "code",
   "execution_count": 34,
   "metadata": {},
   "outputs": [
    {
     "name": "stdout",
     "output_type": "stream",
     "text": [
      "Training Time: 0.0h:12.0m:42.642473459243774s\n",
      "Total time elapsed: 0.0h:13.0m:29.874017000198364s\n"
     ]
    }
   ],
   "source": [
    "print(\"Training Time: {}h:{}m:{}s\".format(\n",
    "            training_time//3600, (training_time//60)%60, training_time%60))\n",
    "print(\"Total time elapsed: {}h:{}m:{}s\".format(\n",
    "            total_time//3600, (total_time//60)%60, total_time%60))"
   ]
  },
  {
   "cell_type": "code",
   "execution_count": 35,
   "metadata": {
    "collapsed": true
   },
   "outputs": [],
   "source": [
    "quit()"
   ]
  },
  {
   "cell_type": "code",
   "execution_count": null,
   "metadata": {
    "collapsed": true
   },
   "outputs": [],
   "source": []
  }
 ],
 "metadata": {
  "kernelspec": {
   "display_name": "Python (postal)",
   "language": "python",
   "name": "postal"
  },
  "language_info": {
   "codemirror_mode": {
    "name": "ipython",
    "version": 3
   },
   "file_extension": ".py",
   "mimetype": "text/x-python",
   "name": "python",
   "nbconvert_exporter": "python",
   "pygments_lexer": "ipython3",
   "version": "3.6.6"
  }
 },
 "nbformat": 4,
 "nbformat_minor": 2
}
