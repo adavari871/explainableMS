{
 "cells": [
  {
   "cell_type": "code",
   "execution_count": 3,
   "metadata": {
    "collapsed": true
   },
   "outputs": [],
   "source": [
    "import numpy as np\n",
    "import nibabel as nib\n",
    "import h5py\n",
    "import pandas as pd\n",
    "from scipy.ndimage.interpolation import zoom\n",
    "\n",
    "import sys\n",
    "sys.path.append(\"../\")\n",
    "from config import indices_holdout, doc_dir"
   ]
  },
  {
   "cell_type": "code",
   "execution_count": 5,
   "metadata": {
    "collapsed": true
   },
   "outputs": [],
   "source": [
    "output_shape = (96, 114, 96)\n",
    "z_factor=0.525"
   ]
  },
  {
   "cell_type": "code",
   "execution_count": 6,
   "metadata": {
    "collapsed": true
   },
   "outputs": [],
   "source": [
    "df = pd.read_csv(doc_dir)"
   ]
  },
  {
   "cell_type": "code",
   "execution_count": 7,
   "metadata": {},
   "outputs": [
    {
     "data": {
      "text/html": [
       "<div>\n",
       "<style scoped>\n",
       "    .dataframe tbody tr th:only-of-type {\n",
       "        vertical-align: middle;\n",
       "    }\n",
       "\n",
       "    .dataframe tbody tr th {\n",
       "        vertical-align: top;\n",
       "    }\n",
       "\n",
       "    .dataframe thead th {\n",
       "        text-align: right;\n",
       "    }\n",
       "</style>\n",
       "<table border=\"1\" class=\"dataframe\">\n",
       "  <thead>\n",
       "    <tr style=\"text-align: right;\">\n",
       "      <th></th>\n",
       "      <th>file</th>\n",
       "      <th>label</th>\n",
       "      <th>name</th>\n",
       "      <th>path</th>\n",
       "      <th>time</th>\n",
       "    </tr>\n",
       "  </thead>\n",
       "  <tbody>\n",
       "    <tr>\n",
       "      <th>0</th>\n",
       "      <td>VIMS_MS_027_1_FLAIR.nii.gz</td>\n",
       "      <td>MS</td>\n",
       "      <td>VIMS_MS_027</td>\n",
       "      <td>/analysis/share/Ritter/MS/CIS/03_MS/VIMS_MS_02...</td>\n",
       "      <td>1.0</td>\n",
       "    </tr>\n",
       "    <tr>\n",
       "      <th>1</th>\n",
       "      <td>VIMS_MS_043_1_FLAIR.nii.gz</td>\n",
       "      <td>MS</td>\n",
       "      <td>VIMS_MS_043</td>\n",
       "      <td>/analysis/share/Ritter/MS/CIS/03_MS/VIMS_MS_04...</td>\n",
       "      <td>1.0</td>\n",
       "    </tr>\n",
       "    <tr>\n",
       "      <th>2</th>\n",
       "      <td>VIMS_MS_141_1_FLAIR.nii.gz</td>\n",
       "      <td>MS</td>\n",
       "      <td>VIMS_MS_141</td>\n",
       "      <td>/analysis/share/Ritter/MS/CIS/03_MS/VIMS_MS_14...</td>\n",
       "      <td>1.0</td>\n",
       "    </tr>\n",
       "    <tr>\n",
       "      <th>3</th>\n",
       "      <td>VIMS_MS_137_1_FLAIR.nii.gz</td>\n",
       "      <td>MS</td>\n",
       "      <td>VIMS_MS_137</td>\n",
       "      <td>/analysis/share/Ritter/MS/CIS/03_MS/VIMS_MS_13...</td>\n",
       "      <td>1.0</td>\n",
       "    </tr>\n",
       "    <tr>\n",
       "      <th>4</th>\n",
       "      <td>VIMS_HC_022_1_FLAIR.nii.gz</td>\n",
       "      <td>HC</td>\n",
       "      <td>VIMS_HC_022</td>\n",
       "      <td>/analysis/share/Ritter/MS/CIS/02_HC/VIMS_HC_02...</td>\n",
       "      <td>1.0</td>\n",
       "    </tr>\n",
       "  </tbody>\n",
       "</table>\n",
       "</div>"
      ],
      "text/plain": [
       "                         file label         name  \\\n",
       "0  VIMS_MS_027_1_FLAIR.nii.gz    MS  VIMS_MS_027   \n",
       "1  VIMS_MS_043_1_FLAIR.nii.gz    MS  VIMS_MS_043   \n",
       "2  VIMS_MS_141_1_FLAIR.nii.gz    MS  VIMS_MS_141   \n",
       "3  VIMS_MS_137_1_FLAIR.nii.gz    MS  VIMS_MS_137   \n",
       "4  VIMS_HC_022_1_FLAIR.nii.gz    HC  VIMS_HC_022   \n",
       "\n",
       "                                                path  time  \n",
       "0  /analysis/share/Ritter/MS/CIS/03_MS/VIMS_MS_02...   1.0  \n",
       "1  /analysis/share/Ritter/MS/CIS/03_MS/VIMS_MS_04...   1.0  \n",
       "2  /analysis/share/Ritter/MS/CIS/03_MS/VIMS_MS_14...   1.0  \n",
       "3  /analysis/share/Ritter/MS/CIS/03_MS/VIMS_MS_13...   1.0  \n",
       "4  /analysis/share/Ritter/MS/CIS/02_HC/VIMS_HC_02...   1.0  "
      ]
     },
     "execution_count": 7,
     "metadata": {},
     "output_type": "execute_result"
    }
   ],
   "source": [
    "df.head()"
   ]
  },
  {
   "cell_type": "code",
   "execution_count": 8,
   "metadata": {
    "collapsed": true
   },
   "outputs": [],
   "source": [
    "# split datasets\n",
    "holdout_df = df.iloc[indices_holdout]\n",
    "train_df = df.drop(indices_holdout)\n",
    "\n",
    "holdout_df.reset_index(inplace=True)\n",
    "holdout_df = holdout_df.drop(\"index\", axis=\"columns\")\n",
    "train_df.reset_index(inplace=True)\n",
    "train_df = train_df.drop(\"index\", axis=\"columns\")"
   ]
  },
  {
   "cell_type": "code",
   "execution_count": 9,
   "metadata": {},
   "outputs": [
    {
     "data": {
      "text/html": [
       "<div>\n",
       "<style scoped>\n",
       "    .dataframe tbody tr th:only-of-type {\n",
       "        vertical-align: middle;\n",
       "    }\n",
       "\n",
       "    .dataframe tbody tr th {\n",
       "        vertical-align: top;\n",
       "    }\n",
       "\n",
       "    .dataframe thead th {\n",
       "        text-align: right;\n",
       "    }\n",
       "</style>\n",
       "<table border=\"1\" class=\"dataframe\">\n",
       "  <thead>\n",
       "    <tr style=\"text-align: right;\">\n",
       "      <th></th>\n",
       "      <th>file</th>\n",
       "      <th>label</th>\n",
       "      <th>name</th>\n",
       "      <th>path</th>\n",
       "      <th>time</th>\n",
       "    </tr>\n",
       "  </thead>\n",
       "  <tbody>\n",
       "    <tr>\n",
       "      <th>0</th>\n",
       "      <td>VIMS_MS_118_1_FLAIR.nii.gz</td>\n",
       "      <td>MS</td>\n",
       "      <td>VIMS_MS_118</td>\n",
       "      <td>/analysis/share/Ritter/MS/CIS/03_MS/VIMS_MS_11...</td>\n",
       "      <td>1.0</td>\n",
       "    </tr>\n",
       "    <tr>\n",
       "      <th>1</th>\n",
       "      <td>VIMS_MS_041_1_FLAIR.nii.gz</td>\n",
       "      <td>MS</td>\n",
       "      <td>VIMS_MS_041</td>\n",
       "      <td>/analysis/share/Ritter/MS/CIS/03_MS/VIMS_MS_04...</td>\n",
       "      <td>1.0</td>\n",
       "    </tr>\n",
       "    <tr>\n",
       "      <th>2</th>\n",
       "      <td>VIMS_MS_132_1_FLAIR.nii.gz</td>\n",
       "      <td>MS</td>\n",
       "      <td>VIMS_MS_132</td>\n",
       "      <td>/analysis/share/Ritter/MS/CIS/03_MS/VIMS_MS_13...</td>\n",
       "      <td>1.0</td>\n",
       "    </tr>\n",
       "    <tr>\n",
       "      <th>3</th>\n",
       "      <td>RS_GK_002_1_FLAIR.nii.gz</td>\n",
       "      <td>HC</td>\n",
       "      <td>RS_GK_002</td>\n",
       "      <td>/analysis/share/Ritter/MS/CIS/02_HC/RS_GK_002/...</td>\n",
       "      <td>1.0</td>\n",
       "    </tr>\n",
       "    <tr>\n",
       "      <th>4</th>\n",
       "      <td>VIMS_MS_073_1_FLAIR.nii.gz</td>\n",
       "      <td>MS</td>\n",
       "      <td>VIMS_MS_073</td>\n",
       "      <td>/analysis/share/Ritter/MS/CIS/03_MS/VIMS_MS_07...</td>\n",
       "      <td>1.0</td>\n",
       "    </tr>\n",
       "  </tbody>\n",
       "</table>\n",
       "</div>"
      ],
      "text/plain": [
       "                         file label         name  \\\n",
       "0  VIMS_MS_118_1_FLAIR.nii.gz    MS  VIMS_MS_118   \n",
       "1  VIMS_MS_041_1_FLAIR.nii.gz    MS  VIMS_MS_041   \n",
       "2  VIMS_MS_132_1_FLAIR.nii.gz    MS  VIMS_MS_132   \n",
       "3    RS_GK_002_1_FLAIR.nii.gz    HC    RS_GK_002   \n",
       "4  VIMS_MS_073_1_FLAIR.nii.gz    MS  VIMS_MS_073   \n",
       "\n",
       "                                                path  time  \n",
       "0  /analysis/share/Ritter/MS/CIS/03_MS/VIMS_MS_11...   1.0  \n",
       "1  /analysis/share/Ritter/MS/CIS/03_MS/VIMS_MS_04...   1.0  \n",
       "2  /analysis/share/Ritter/MS/CIS/03_MS/VIMS_MS_13...   1.0  \n",
       "3  /analysis/share/Ritter/MS/CIS/02_HC/RS_GK_002/...   1.0  \n",
       "4  /analysis/share/Ritter/MS/CIS/03_MS/VIMS_MS_07...   1.0  "
      ]
     },
     "execution_count": 9,
     "metadata": {},
     "output_type": "execute_result"
    }
   ],
   "source": [
    "holdout_df.head()"
   ]
  },
  {
   "cell_type": "code",
   "execution_count": 10,
   "metadata": {},
   "outputs": [
    {
     "data": {
      "text/html": [
       "<div>\n",
       "<style scoped>\n",
       "    .dataframe tbody tr th:only-of-type {\n",
       "        vertical-align: middle;\n",
       "    }\n",
       "\n",
       "    .dataframe tbody tr th {\n",
       "        vertical-align: top;\n",
       "    }\n",
       "\n",
       "    .dataframe thead th {\n",
       "        text-align: right;\n",
       "    }\n",
       "</style>\n",
       "<table border=\"1\" class=\"dataframe\">\n",
       "  <thead>\n",
       "    <tr style=\"text-align: right;\">\n",
       "      <th></th>\n",
       "      <th>file</th>\n",
       "      <th>label</th>\n",
       "      <th>name</th>\n",
       "      <th>path</th>\n",
       "      <th>time</th>\n",
       "    </tr>\n",
       "  </thead>\n",
       "  <tbody>\n",
       "    <tr>\n",
       "      <th>0</th>\n",
       "      <td>VIMS_MS_027_1_FLAIR.nii.gz</td>\n",
       "      <td>MS</td>\n",
       "      <td>VIMS_MS_027</td>\n",
       "      <td>/analysis/share/Ritter/MS/CIS/03_MS/VIMS_MS_02...</td>\n",
       "      <td>1.0</td>\n",
       "    </tr>\n",
       "    <tr>\n",
       "      <th>1</th>\n",
       "      <td>VIMS_MS_043_1_FLAIR.nii.gz</td>\n",
       "      <td>MS</td>\n",
       "      <td>VIMS_MS_043</td>\n",
       "      <td>/analysis/share/Ritter/MS/CIS/03_MS/VIMS_MS_04...</td>\n",
       "      <td>1.0</td>\n",
       "    </tr>\n",
       "    <tr>\n",
       "      <th>2</th>\n",
       "      <td>VIMS_MS_141_1_FLAIR.nii.gz</td>\n",
       "      <td>MS</td>\n",
       "      <td>VIMS_MS_141</td>\n",
       "      <td>/analysis/share/Ritter/MS/CIS/03_MS/VIMS_MS_14...</td>\n",
       "      <td>1.0</td>\n",
       "    </tr>\n",
       "    <tr>\n",
       "      <th>3</th>\n",
       "      <td>VIMS_MS_137_1_FLAIR.nii.gz</td>\n",
       "      <td>MS</td>\n",
       "      <td>VIMS_MS_137</td>\n",
       "      <td>/analysis/share/Ritter/MS/CIS/03_MS/VIMS_MS_13...</td>\n",
       "      <td>1.0</td>\n",
       "    </tr>\n",
       "    <tr>\n",
       "      <th>4</th>\n",
       "      <td>VIMS_HC_022_1_FLAIR.nii.gz</td>\n",
       "      <td>HC</td>\n",
       "      <td>VIMS_HC_022</td>\n",
       "      <td>/analysis/share/Ritter/MS/CIS/02_HC/VIMS_HC_02...</td>\n",
       "      <td>1.0</td>\n",
       "    </tr>\n",
       "  </tbody>\n",
       "</table>\n",
       "</div>"
      ],
      "text/plain": [
       "                         file label         name  \\\n",
       "0  VIMS_MS_027_1_FLAIR.nii.gz    MS  VIMS_MS_027   \n",
       "1  VIMS_MS_043_1_FLAIR.nii.gz    MS  VIMS_MS_043   \n",
       "2  VIMS_MS_141_1_FLAIR.nii.gz    MS  VIMS_MS_141   \n",
       "3  VIMS_MS_137_1_FLAIR.nii.gz    MS  VIMS_MS_137   \n",
       "4  VIMS_HC_022_1_FLAIR.nii.gz    HC  VIMS_HC_022   \n",
       "\n",
       "                                                path  time  \n",
       "0  /analysis/share/Ritter/MS/CIS/03_MS/VIMS_MS_02...   1.0  \n",
       "1  /analysis/share/Ritter/MS/CIS/03_MS/VIMS_MS_04...   1.0  \n",
       "2  /analysis/share/Ritter/MS/CIS/03_MS/VIMS_MS_14...   1.0  \n",
       "3  /analysis/share/Ritter/MS/CIS/03_MS/VIMS_MS_13...   1.0  \n",
       "4  /analysis/share/Ritter/MS/CIS/02_HC/VIMS_HC_02...   1.0  "
      ]
     },
     "execution_count": 10,
     "metadata": {},
     "output_type": "execute_result"
    }
   ],
   "source": [
    "train_df.head()"
   ]
  },
  {
   "cell_type": "code",
   "execution_count": 11,
   "metadata": {},
   "outputs": [
    {
     "name": "stdout",
     "output_type": "stream",
     "text": [
      "124\n",
      "23\n"
     ]
    }
   ],
   "source": [
    "print(len(train_df))\n",
    "print(len(holdout_df))"
   ]
  },
  {
   "cell_type": "code",
   "execution_count": 12,
   "metadata": {},
   "outputs": [
    {
     "data": {
      "text/plain": [
       "(124, 96, 114, 96)"
      ]
     },
     "execution_count": 12,
     "metadata": {},
     "output_type": "execute_result"
    }
   ],
   "source": [
    "(len(train_df), ) + output_shape"
   ]
  },
  {
   "cell_type": "code",
   "execution_count": 13,
   "metadata": {
    "collapsed": true
   },
   "outputs": [],
   "source": [
    "# load images in matrix\n",
    "def create_dataset(dataset, z_factor, output_shape):\n",
    "    data_matrix = np.empty(shape=((len(dataset),) + output_shape))\n",
    "    labels = np.empty(shape=((len(dataset),)))\n",
    "    for idx, row in dataset.iterrows():\n",
    "        path = row[\"path\"]\n",
    "        # switch to filled lesions\n",
    "        path = path.replace(\"FLAIR\", \"FLAIR_lesions_filled_incl-WM-mask\")\n",
    "        try:\n",
    "            scan = nib.load(path)\n",
    "        except:\n",
    "            print(\"Couldnt find file: {}\".format(path))\n",
    "        struct_arr = scan.get_data().astype(np.float32)\n",
    "        struct_arr = zoom(struct_arr, z_factor)\n",
    "        data_matrix[idx] = struct_arr\n",
    "        labels[idx] = (row[\"label\"] == \"MS\") *1\n",
    "    return data_matrix, labels"
   ]
  },
  {
   "cell_type": "code",
   "execution_count": 14,
   "metadata": {},
   "outputs": [
    {
     "name": "stderr",
     "output_type": "stream",
     "text": [
      "/home/fabiane/.local/lib/python3.6/site-packages/scipy/ndimage/interpolation.py:583: UserWarning: From scipy 0.13.0, the output shape of zoom() is calculated with round() instead of int() - for these inputs the size of the returned array has changed.\n",
      "  \"the returned array has changed.\", UserWarning)\n"
     ]
    },
    {
     "name": "stdout",
     "output_type": "stream",
     "text": [
      "Couldnt find file: /analysis/share/Ritter/MS/CIS/03_MS/VIMS_MS_149/VIMS_MS_149_1/BET_VIMS_MS_149_1_FLAIR_lesions_filled_incl-WM-mask.nii.gz\n",
      "Couldnt find file: /analysis/share/Ritter/MS/CIS/03_MS/VIMS_MS_077/VIMS_MS_077_1/BET_VIMS_MS_077_1_FLAIR_lesions_filled_incl-WM-mask.nii.gz\n",
      "Couldnt find file: /analysis/share/Ritter/MS/CIS/02_HC/RS_GK_022/RS_GK_022_1/BET_RS_GK_022_1_FLAIR_lesions_filled_incl-WM-mask.nii.gz\n",
      "Couldnt find file: /analysis/share/Ritter/MS/CIS/02_HC/RS_GK_015/RS_GK_015_1/BET_RS_GK_015_1_FLAIR_lesions_filled_incl-WM-mask.nii.gz\n"
     ]
    }
   ],
   "source": [
    "train_dataset, train_labels = create_dataset(train_df, z_factor=z_factor, output_shape=output_shape)\n",
    "holdout_dataset, holdout_labels = create_dataset(holdout_df, z_factor=z_factor, output_shape=output_shape)"
   ]
  },
  {
   "cell_type": "code",
   "execution_count": 15,
   "metadata": {},
   "outputs": [
    {
     "name": "stdout",
     "output_type": "stream",
     "text": [
      "(124, 96, 114, 96)\n",
      "(23, 96, 114, 96)\n"
     ]
    }
   ],
   "source": [
    "print(train_dataset.shape)\n",
    "print(holdout_dataset.shape)"
   ]
  },
  {
   "cell_type": "code",
   "execution_count": 16,
   "metadata": {
    "collapsed": true
   },
   "outputs": [],
   "source": [
    "import matplotlib.pyplot as plt"
   ]
  },
  {
   "cell_type": "code",
   "execution_count": 17,
   "metadata": {},
   "outputs": [
    {
     "data": {
      "image/png": "[encoded data removed]",
      "text/plain": [
       "<matplotlib.figure.Figure at 0x7f9b34b52908>"
      ]
     },
     "metadata": {},
     "output_type": "display_data"
    }
   ],
   "source": [
    "plt.imshow(train_dataset[-1][:,:,48], cmap='gray')\n",
    "plt.show()"
   ]
  },
  {
   "cell_type": "code",
   "execution_count": 20,
   "metadata": {},
   "outputs": [
    {
     "data": {
      "image/png": "[encoded data removed]",
      "text/plain": [
       "<matplotlib.figure.Figure at 0x7f9b32a080f0>"
      ]
     },
     "metadata": {},
     "output_type": "display_data"
    }
   ],
   "source": [
    "plt.figure(figsize=(12, 8))\n",
    "plt.imshow(holdout_dataset[6][:,:,48], cmap='gray')\n",
    "plt.show()"
   ]
  },
  {
   "cell_type": "code",
   "execution_count": 21,
   "metadata": {
    "collapsed": true
   },
   "outputs": [],
   "source": [
    "h5 = h5py.File('/analysis/share/Ritter/MS/CIS/train_dataset_FLAIR_lesions_filled_inclWMmask.h5', 'w')\n",
    "h5.create_dataset('X', data=train_dataset)\n",
    "h5.create_dataset('y', data=train_labels)\n",
    "h5.close()"
   ]
  },
  {
   "cell_type": "code",
   "execution_count": 22,
   "metadata": {
    "collapsed": true
   },
   "outputs": [],
   "source": [
    "h5 = h5py.File('/analysis/share/Ritter/MS/CIS/holdout_dataset_FLAIR_lesions_filled_inclWMmask.h5', 'w')\n",
    "h5.create_dataset('X', data=holdout_dataset)\n",
    "h5.create_dataset('y', data=holdout_labels)\n",
    "h5.close()"
   ]
  },
  {
   "cell_type": "code",
   "execution_count": null,
   "metadata": {
    "collapsed": true
   },
   "outputs": [],
   "source": []
  }
 ],
 "metadata": {
  "kernelspec": {
   "display_name": "Python (mort)",
   "language": "python",
   "name": "mort"
  },
  "language_info": {
   "codemirror_mode": {
    "name": "ipython",
    "version": 3
   },
   "file_extension": ".py",
   "mimetype": "text/x-python",
   "name": "python",
   "nbconvert_exporter": "python",
   "pygments_lexer": "ipython3",
   "version": "3.6.3"
  }
 },
 "nbformat": 4,
 "nbformat_minor": 2
}
