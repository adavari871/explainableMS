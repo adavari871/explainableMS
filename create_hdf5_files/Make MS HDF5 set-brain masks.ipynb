{
 "cells": [
  {
   "cell_type": "code",
   "execution_count": 1,
   "metadata": {},
   "outputs": [
    {
     "name": "stderr",
     "output_type": "stream",
     "text": [
      "/home/fabiane/anaconda2/envs/mort/lib/python3.6/site-packages/h5py/__init__.py:36: FutureWarning: Conversion of the second argument of issubdtype from `float` to `np.floating` is deprecated. In future, it will be treated as `np.float64 == np.dtype(float).type`.\n",
      "  from ._conv import register_converters as _register_converters\n"
     ]
    }
   ],
   "source": [
    "import numpy as np\n",
    "import nibabel as nib\n",
    "import h5py\n",
    "import pandas as pd\n",
    "from scipy.ndimage.interpolation import zoom\n",
    "\n",
    "import sys\n",
    "sys.path.append(\"../\")\n",
    "from config import doc_dir, indices_holdout"
   ]
  },
  {
   "cell_type": "code",
   "execution_count": 2,
   "metadata": {
    "collapsed": true
   },
   "outputs": [],
   "source": [
    "doc_dir = \"/analysis/fabiane/data/MS/explMS/file_list_HC_MS_BET_FLAIR.csv\""
   ]
  },
  {
   "cell_type": "code",
   "execution_count": 3,
   "metadata": {
    "collapsed": true
   },
   "outputs": [],
   "source": [
    "output_shape = (96, 114, 96)\n",
    "z_factor=0.525"
   ]
  },
  {
   "cell_type": "code",
   "execution_count": 4,
   "metadata": {
    "collapsed": true
   },
   "outputs": [],
   "source": [
    "df = pd.read_csv(doc_dir)"
   ]
  },
  {
   "cell_type": "code",
   "execution_count": 5,
   "metadata": {},
   "outputs": [
    {
     "data": {
      "text/html": [
       "<div>\n",
       "<style scoped>\n",
       "    .dataframe tbody tr th:only-of-type {\n",
       "        vertical-align: middle;\n",
       "    }\n",
       "\n",
       "    .dataframe tbody tr th {\n",
       "        vertical-align: top;\n",
       "    }\n",
       "\n",
       "    .dataframe thead th {\n",
       "        text-align: right;\n",
       "    }\n",
       "</style>\n",
       "<table border=\"1\" class=\"dataframe\">\n",
       "  <thead>\n",
       "    <tr style=\"text-align: right;\">\n",
       "      <th></th>\n",
       "      <th>file</th>\n",
       "      <th>label</th>\n",
       "      <th>name</th>\n",
       "      <th>path</th>\n",
       "      <th>time</th>\n",
       "    </tr>\n",
       "  </thead>\n",
       "  <tbody>\n",
       "    <tr>\n",
       "      <th>0</th>\n",
       "      <td>VIMS_MS_027_1_FLAIR.nii.gz</td>\n",
       "      <td>MS</td>\n",
       "      <td>VIMS_MS_027</td>\n",
       "      <td>/analysis/share/Ritter/MS/CIS/03_MS/VIMS_MS_02...</td>\n",
       "      <td>1.0</td>\n",
       "    </tr>\n",
       "    <tr>\n",
       "      <th>1</th>\n",
       "      <td>VIMS_MS_043_1_FLAIR.nii.gz</td>\n",
       "      <td>MS</td>\n",
       "      <td>VIMS_MS_043</td>\n",
       "      <td>/analysis/share/Ritter/MS/CIS/03_MS/VIMS_MS_04...</td>\n",
       "      <td>1.0</td>\n",
       "    </tr>\n",
       "    <tr>\n",
       "      <th>2</th>\n",
       "      <td>VIMS_MS_141_1_FLAIR.nii.gz</td>\n",
       "      <td>MS</td>\n",
       "      <td>VIMS_MS_141</td>\n",
       "      <td>/analysis/share/Ritter/MS/CIS/03_MS/VIMS_MS_14...</td>\n",
       "      <td>1.0</td>\n",
       "    </tr>\n",
       "    <tr>\n",
       "      <th>3</th>\n",
       "      <td>VIMS_MS_137_1_FLAIR.nii.gz</td>\n",
       "      <td>MS</td>\n",
       "      <td>VIMS_MS_137</td>\n",
       "      <td>/analysis/share/Ritter/MS/CIS/03_MS/VIMS_MS_13...</td>\n",
       "      <td>1.0</td>\n",
       "    </tr>\n",
       "    <tr>\n",
       "      <th>4</th>\n",
       "      <td>VIMS_HC_022_1_FLAIR.nii.gz</td>\n",
       "      <td>HC</td>\n",
       "      <td>VIMS_HC_022</td>\n",
       "      <td>/analysis/share/Ritter/MS/CIS/02_HC/VIMS_HC_02...</td>\n",
       "      <td>1.0</td>\n",
       "    </tr>\n",
       "  </tbody>\n",
       "</table>\n",
       "</div>"
      ],
      "text/plain": [
       "                         file label         name  \\\n",
       "0  VIMS_MS_027_1_FLAIR.nii.gz    MS  VIMS_MS_027   \n",
       "1  VIMS_MS_043_1_FLAIR.nii.gz    MS  VIMS_MS_043   \n",
       "2  VIMS_MS_141_1_FLAIR.nii.gz    MS  VIMS_MS_141   \n",
       "3  VIMS_MS_137_1_FLAIR.nii.gz    MS  VIMS_MS_137   \n",
       "4  VIMS_HC_022_1_FLAIR.nii.gz    HC  VIMS_HC_022   \n",
       "\n",
       "                                                path  time  \n",
       "0  /analysis/share/Ritter/MS/CIS/03_MS/VIMS_MS_02...   1.0  \n",
       "1  /analysis/share/Ritter/MS/CIS/03_MS/VIMS_MS_04...   1.0  \n",
       "2  /analysis/share/Ritter/MS/CIS/03_MS/VIMS_MS_14...   1.0  \n",
       "3  /analysis/share/Ritter/MS/CIS/03_MS/VIMS_MS_13...   1.0  \n",
       "4  /analysis/share/Ritter/MS/CIS/02_HC/VIMS_HC_02...   1.0  "
      ]
     },
     "execution_count": 5,
     "metadata": {},
     "output_type": "execute_result"
    }
   ],
   "source": [
    "df.head()"
   ]
  },
  {
   "cell_type": "code",
   "execution_count": 6,
   "metadata": {
    "collapsed": true
   },
   "outputs": [],
   "source": [
    "# split datasets\n",
    "holdout_df = df.iloc[indices_holdout]\n",
    "train_df = df.drop(indices_holdout)\n",
    "\n",
    "holdout_df.reset_index(inplace=True)\n",
    "holdout_df = holdout_df.drop(\"index\", axis=\"columns\")\n",
    "train_df.reset_index(inplace=True)\n",
    "train_df = train_df.drop(\"index\", axis=\"columns\")"
   ]
  },
  {
   "cell_type": "code",
   "execution_count": 7,
   "metadata": {},
   "outputs": [
    {
     "data": {
      "text/html": [
       "<div>\n",
       "<style scoped>\n",
       "    .dataframe tbody tr th:only-of-type {\n",
       "        vertical-align: middle;\n",
       "    }\n",
       "\n",
       "    .dataframe tbody tr th {\n",
       "        vertical-align: top;\n",
       "    }\n",
       "\n",
       "    .dataframe thead th {\n",
       "        text-align: right;\n",
       "    }\n",
       "</style>\n",
       "<table border=\"1\" class=\"dataframe\">\n",
       "  <thead>\n",
       "    <tr style=\"text-align: right;\">\n",
       "      <th></th>\n",
       "      <th>file</th>\n",
       "      <th>label</th>\n",
       "      <th>name</th>\n",
       "      <th>path</th>\n",
       "      <th>time</th>\n",
       "    </tr>\n",
       "  </thead>\n",
       "  <tbody>\n",
       "    <tr>\n",
       "      <th>0</th>\n",
       "      <td>VIMS_MS_118_1_FLAIR.nii.gz</td>\n",
       "      <td>MS</td>\n",
       "      <td>VIMS_MS_118</td>\n",
       "      <td>/analysis/share/Ritter/MS/CIS/03_MS/VIMS_MS_11...</td>\n",
       "      <td>1.0</td>\n",
       "    </tr>\n",
       "    <tr>\n",
       "      <th>1</th>\n",
       "      <td>VIMS_MS_041_1_FLAIR.nii.gz</td>\n",
       "      <td>MS</td>\n",
       "      <td>VIMS_MS_041</td>\n",
       "      <td>/analysis/share/Ritter/MS/CIS/03_MS/VIMS_MS_04...</td>\n",
       "      <td>1.0</td>\n",
       "    </tr>\n",
       "    <tr>\n",
       "      <th>2</th>\n",
       "      <td>VIMS_MS_132_1_FLAIR.nii.gz</td>\n",
       "      <td>MS</td>\n",
       "      <td>VIMS_MS_132</td>\n",
       "      <td>/analysis/share/Ritter/MS/CIS/03_MS/VIMS_MS_13...</td>\n",
       "      <td>1.0</td>\n",
       "    </tr>\n",
       "    <tr>\n",
       "      <th>3</th>\n",
       "      <td>RS_GK_002_1_FLAIR.nii.gz</td>\n",
       "      <td>HC</td>\n",
       "      <td>RS_GK_002</td>\n",
       "      <td>/analysis/share/Ritter/MS/CIS/02_HC/RS_GK_002/...</td>\n",
       "      <td>1.0</td>\n",
       "    </tr>\n",
       "    <tr>\n",
       "      <th>4</th>\n",
       "      <td>VIMS_MS_073_1_FLAIR.nii.gz</td>\n",
       "      <td>MS</td>\n",
       "      <td>VIMS_MS_073</td>\n",
       "      <td>/analysis/share/Ritter/MS/CIS/03_MS/VIMS_MS_07...</td>\n",
       "      <td>1.0</td>\n",
       "    </tr>\n",
       "  </tbody>\n",
       "</table>\n",
       "</div>"
      ],
      "text/plain": [
       "                         file label         name  \\\n",
       "0  VIMS_MS_118_1_FLAIR.nii.gz    MS  VIMS_MS_118   \n",
       "1  VIMS_MS_041_1_FLAIR.nii.gz    MS  VIMS_MS_041   \n",
       "2  VIMS_MS_132_1_FLAIR.nii.gz    MS  VIMS_MS_132   \n",
       "3    RS_GK_002_1_FLAIR.nii.gz    HC    RS_GK_002   \n",
       "4  VIMS_MS_073_1_FLAIR.nii.gz    MS  VIMS_MS_073   \n",
       "\n",
       "                                                path  time  \n",
       "0  /analysis/share/Ritter/MS/CIS/03_MS/VIMS_MS_11...   1.0  \n",
       "1  /analysis/share/Ritter/MS/CIS/03_MS/VIMS_MS_04...   1.0  \n",
       "2  /analysis/share/Ritter/MS/CIS/03_MS/VIMS_MS_13...   1.0  \n",
       "3  /analysis/share/Ritter/MS/CIS/02_HC/RS_GK_002/...   1.0  \n",
       "4  /analysis/share/Ritter/MS/CIS/03_MS/VIMS_MS_07...   1.0  "
      ]
     },
     "execution_count": 7,
     "metadata": {},
     "output_type": "execute_result"
    }
   ],
   "source": [
    "holdout_df.head()"
   ]
  },
  {
   "cell_type": "code",
   "execution_count": 8,
   "metadata": {},
   "outputs": [
    {
     "data": {
      "text/html": [
       "<div>\n",
       "<style scoped>\n",
       "    .dataframe tbody tr th:only-of-type {\n",
       "        vertical-align: middle;\n",
       "    }\n",
       "\n",
       "    .dataframe tbody tr th {\n",
       "        vertical-align: top;\n",
       "    }\n",
       "\n",
       "    .dataframe thead th {\n",
       "        text-align: right;\n",
       "    }\n",
       "</style>\n",
       "<table border=\"1\" class=\"dataframe\">\n",
       "  <thead>\n",
       "    <tr style=\"text-align: right;\">\n",
       "      <th></th>\n",
       "      <th>file</th>\n",
       "      <th>label</th>\n",
       "      <th>name</th>\n",
       "      <th>path</th>\n",
       "      <th>time</th>\n",
       "    </tr>\n",
       "  </thead>\n",
       "  <tbody>\n",
       "    <tr>\n",
       "      <th>0</th>\n",
       "      <td>VIMS_MS_027_1_FLAIR.nii.gz</td>\n",
       "      <td>MS</td>\n",
       "      <td>VIMS_MS_027</td>\n",
       "      <td>/analysis/share/Ritter/MS/CIS/03_MS/VIMS_MS_02...</td>\n",
       "      <td>1.0</td>\n",
       "    </tr>\n",
       "    <tr>\n",
       "      <th>1</th>\n",
       "      <td>VIMS_MS_043_1_FLAIR.nii.gz</td>\n",
       "      <td>MS</td>\n",
       "      <td>VIMS_MS_043</td>\n",
       "      <td>/analysis/share/Ritter/MS/CIS/03_MS/VIMS_MS_04...</td>\n",
       "      <td>1.0</td>\n",
       "    </tr>\n",
       "    <tr>\n",
       "      <th>2</th>\n",
       "      <td>VIMS_MS_141_1_FLAIR.nii.gz</td>\n",
       "      <td>MS</td>\n",
       "      <td>VIMS_MS_141</td>\n",
       "      <td>/analysis/share/Ritter/MS/CIS/03_MS/VIMS_MS_14...</td>\n",
       "      <td>1.0</td>\n",
       "    </tr>\n",
       "    <tr>\n",
       "      <th>3</th>\n",
       "      <td>VIMS_MS_137_1_FLAIR.nii.gz</td>\n",
       "      <td>MS</td>\n",
       "      <td>VIMS_MS_137</td>\n",
       "      <td>/analysis/share/Ritter/MS/CIS/03_MS/VIMS_MS_13...</td>\n",
       "      <td>1.0</td>\n",
       "    </tr>\n",
       "    <tr>\n",
       "      <th>4</th>\n",
       "      <td>VIMS_HC_022_1_FLAIR.nii.gz</td>\n",
       "      <td>HC</td>\n",
       "      <td>VIMS_HC_022</td>\n",
       "      <td>/analysis/share/Ritter/MS/CIS/02_HC/VIMS_HC_02...</td>\n",
       "      <td>1.0</td>\n",
       "    </tr>\n",
       "  </tbody>\n",
       "</table>\n",
       "</div>"
      ],
      "text/plain": [
       "                         file label         name  \\\n",
       "0  VIMS_MS_027_1_FLAIR.nii.gz    MS  VIMS_MS_027   \n",
       "1  VIMS_MS_043_1_FLAIR.nii.gz    MS  VIMS_MS_043   \n",
       "2  VIMS_MS_141_1_FLAIR.nii.gz    MS  VIMS_MS_141   \n",
       "3  VIMS_MS_137_1_FLAIR.nii.gz    MS  VIMS_MS_137   \n",
       "4  VIMS_HC_022_1_FLAIR.nii.gz    HC  VIMS_HC_022   \n",
       "\n",
       "                                                path  time  \n",
       "0  /analysis/share/Ritter/MS/CIS/03_MS/VIMS_MS_02...   1.0  \n",
       "1  /analysis/share/Ritter/MS/CIS/03_MS/VIMS_MS_04...   1.0  \n",
       "2  /analysis/share/Ritter/MS/CIS/03_MS/VIMS_MS_14...   1.0  \n",
       "3  /analysis/share/Ritter/MS/CIS/03_MS/VIMS_MS_13...   1.0  \n",
       "4  /analysis/share/Ritter/MS/CIS/02_HC/VIMS_HC_02...   1.0  "
      ]
     },
     "execution_count": 8,
     "metadata": {},
     "output_type": "execute_result"
    }
   ],
   "source": [
    "train_df.head()"
   ]
  },
  {
   "cell_type": "code",
   "execution_count": 9,
   "metadata": {},
   "outputs": [
    {
     "name": "stdout",
     "output_type": "stream",
     "text": [
      "124\n",
      "23\n"
     ]
    }
   ],
   "source": [
    "print(len(train_df))\n",
    "print(len(holdout_df))"
   ]
  },
  {
   "cell_type": "code",
   "execution_count": 10,
   "metadata": {},
   "outputs": [
    {
     "data": {
      "text/plain": [
       "(124, 96, 114, 96)"
      ]
     },
     "execution_count": 10,
     "metadata": {},
     "output_type": "execute_result"
    }
   ],
   "source": [
    "(len(train_df), ) + output_shape"
   ]
  },
  {
   "cell_type": "code",
   "execution_count": 11,
   "metadata": {},
   "outputs": [
    {
     "data": {
      "text/plain": [
       "(96, 114, 96)"
      ]
     },
     "execution_count": 11,
     "metadata": {},
     "output_type": "execute_result"
    }
   ],
   "source": [
    "output_shape = (182, 218, 182) "
   ]
  },
  {
   "cell_type": "code",
   "execution_count": 16,
   "metadata": {
    "collapsed": true
   },
   "outputs": [],
   "source": [
    "# load images in matrix\n",
    "def create_dataset(dataset, z_factor, output_shape):\n",
    "    data_matrix = np.empty(shape=((len(dataset),) + output_shape))\n",
    "    labels = np.empty(shape=((len(dataset),)))\n",
    "    for idx, row in dataset.iterrows():\n",
    "        path = row[\"path\"]\n",
    "        # switch to mprage\n",
    "        path = path.replace(\"FLAIR\", \"MPRAGE\")\n",
    "        path = path.replace(\"/Ritter/MS\", \"/Ritter/Dataset/MS\")\n",
    "        path = path.replace(\".nii.gz\", \".nii\")\n",
    "        GM_path = path.replace(\"BET_\", \"c1\")\n",
    "        WM_path = path.replace(\"BET_\", \"c2\")\n",
    "        CSF_path = path.replace(\"BET_\", \"c3\")\n",
    "        \n",
    "        # in case of no lesion mask fill with random values\n",
    "        try:\n",
    "            GM = nib.load(GM_path).get_data().astype(np.float32)\n",
    "            WM = nib.load(WM_path).get_data().astype(np.float32)\n",
    "            CSF = nib.load(CSF_path).get_data().astype(np.float32)\n",
    "            mask = np.zeros_like(GM)\n",
    "            mask[np.where(np.logical_or(np.greater(WM, CSF), np.greater(GM, CSF)))] = 1\n",
    "            #struct_arr = zoom(mask, z_factor, order=0) #order 0 = NN interpolation\n",
    "            struct_arr = mask\n",
    "        except(FileNotFoundError):\n",
    "            print(\"File not Found: {}\".format(path))\n",
    "            struct_arr = np.random.rand(output_shape[0], output_shape[1], output_shape[2])\n",
    "        data_matrix[idx] = struct_arr\n",
    "        labels[idx] = (row[\"label\"] == \"MS\") *1\n",
    "    return data_matrix, labels"
   ]
  },
  {
   "cell_type": "code",
   "execution_count": 17,
   "metadata": {},
   "outputs": [
    {
     "name": "stdout",
     "output_type": "stream",
     "text": [
      "File not Found: /analysis/share/Ritter/Dataset/MS/CIS/03_MS/VIMS_MS_027/VIMS_MS_027_1/BET_VIMS_MS_027_1_MPRAGE.nii\n",
      "File not Found: /analysis/share/Ritter/Dataset/MS/CIS/03_MS/VIMS_MS_043/VIMS_MS_043_1/BET_VIMS_MS_043_1_MPRAGE.nii\n",
      "File not Found: /analysis/share/Ritter/Dataset/MS/CIS/03_MS/VIMS_MS_141/VIMS_MS_141_1/BET_VIMS_MS_141_1_MPRAGE.nii\n",
      "File not Found: /analysis/share/Ritter/Dataset/MS/CIS/03_MS/VIMS_MS_137/VIMS_MS_137_1/BET_VIMS_MS_137_1_MPRAGE.nii\n",
      "File not Found: /analysis/share/Ritter/Dataset/MS/CIS/02_HC/VIMS_HC_022/VIMS_HC_022_1/BET_VIMS_HC_022_1_MPRAGE.nii\n",
      "File not Found: /analysis/share/Ritter/Dataset/MS/CIS/02_HC/RS_GK_021/RS_GK_021_1/BET_RS_GK_021_1_MPRAGE.nii\n",
      "File not Found: /analysis/share/Ritter/Dataset/MS/CIS/03_MS/VIMS_MS_088/VIMS_MS_088_1/BET_VIMS_MS_088_1_MPRAGE.nii\n",
      "File not Found: /analysis/share/Ritter/Dataset/MS/CIS/02_HC/VIMS_HC_045/VIMS_HC_045_1/BET_VIMS_HC_045_1_MPRAGE.nii\n",
      "File not Found: /analysis/share/Ritter/Dataset/MS/CIS/03_MS/VIMS_MS_071/VIMS_MS_071_1/BET_VIMS_MS_071_1_MPRAGE.nii\n",
      "File not Found: /analysis/share/Ritter/Dataset/MS/CIS/02_HC/RS_GK_012/RS_GK_012_1/BET_RS_GK_012_1_MPRAGE.nii\n",
      "File not Found: /analysis/share/Ritter/Dataset/MS/CIS/03_MS/VIMS_MS_068/VIMS_MS_068_1/BET_VIMS_MS_068_1_MPRAGE.nii\n",
      "File not Found: /analysis/share/Ritter/Dataset/MS/CIS/03_MS/VIMS_MS_047/VIMS_MS_047_1/BET_VIMS_MS_047_1_MPRAGE.nii\n",
      "File not Found: /analysis/share/Ritter/Dataset/MS/CIS/03_MS/VIMS_MS_003/VIMS_MS_003_1/BET_VIMS_MS_003_1_MPRAGE.nii\n",
      "File not Found: /analysis/share/Ritter/Dataset/MS/CIS/03_MS/VIMS_MS_006/VIMS_MS_006_1/BET_VIMS_MS_006_1_MPRAGE.nii\n",
      "File not Found: /analysis/share/Ritter/Dataset/MS/CIS/02_HC/RS_GK_020/RS_GK_020_1/BET_RS_GK_020_1_MPRAGE.nii\n",
      "File not Found: /analysis/share/Ritter/Dataset/MS/CIS/02_HC/VIMS_HC_065/VIMS_HC_065_1/BET_VIMS_HC_065_1_MPRAGE.nii\n",
      "File not Found: /analysis/share/Ritter/Dataset/MS/CIS/02_HC/RS_GK_018/RS_GK_018_1/BET_RS_GK_018_1_MPRAGE.nii\n",
      "File not Found: /analysis/share/Ritter/Dataset/MS/CIS/03_MS/VIMS_MS_050/VIMS_MS_050_1/BET_VIMS_MS_050_1_MPRAGE.nii\n",
      "File not Found: /analysis/share/Ritter/Dataset/MS/CIS/03_MS/VIMS_MS_040/VIMS_MS_040_1/BET_VIMS_MS_040_1_MPRAGE.nii\n",
      "File not Found: /analysis/share/Ritter/Dataset/MS/CIS/02_HC/RS_GK_007/RS_GK_007_1/BET_RS_GK_007_1_MPRAGE.nii\n",
      "File not Found: /analysis/share/Ritter/Dataset/MS/CIS/02_HC/RS_GK_008/RS_GK_008_1/BET_RS_GK_008_1_MPRAGE.nii\n",
      "File not Found: /analysis/share/Ritter/Dataset/MS/CIS/02_HC/VIMS_HC_057/VIMS_HC_057_1/BET_VIMS_HC_057_1_MPRAGE.nii\n",
      "File not Found: /analysis/share/Ritter/Dataset/MS/CIS/02_HC/VIMS_HC_013/VIMS_HC_013_1/BET_VIMS_HC_013_1_MPRAGE.nii\n",
      "File not Found: /analysis/share/Ritter/Dataset/MS/CIS/02_HC/RS_GK_024/RS_GK_024_1/BET_RS_GK_024_1_MPRAGE.nii\n",
      "File not Found: /analysis/share/Ritter/Dataset/MS/CIS/03_MS/VIMS_MS_002/VIMS_MS_002_1/BET_VIMS_MS_002_1_MPRAGE.nii\n",
      "File not Found: /analysis/share/Ritter/Dataset/MS/CIS/02_HC/RS_GK_025/RS_GK_025_1/BET_RS_GK_025_1_MPRAGE.nii\n",
      "File not Found: /analysis/share/Ritter/Dataset/MS/CIS/02_HC/RS_GK_031/RS_GK_031_1/BET_RS_GK_031_1_MPRAGE.nii\n",
      "File not Found: /analysis/share/Ritter/Dataset/MS/CIS/03_MS/VIMS_MS_094/VIMS_MS_094_1/BET_VIMS_MS_094_1_MPRAGE.nii\n",
      "File not Found: /analysis/share/Ritter/Dataset/MS/CIS/02_HC/VIMS_HC_062/VIMS_HC_062_1/BET_VIMS_HC_062_1_MPRAGE.nii\n",
      "File not Found: /analysis/share/Ritter/Dataset/MS/CIS/03_MS/VIMS_MS_004/VIMS_MS_004_1/BET_VIMS_MS_004_1_MPRAGE.nii\n",
      "File not Found: /analysis/share/Ritter/Dataset/MS/CIS/02_HC/VIMS_HC_025/VIMS_HC_025_1/BET_VIMS_HC_025_1_MPRAGE.nii\n",
      "File not Found: /analysis/share/Ritter/Dataset/MS/CIS/02_HC/RS_GK_004/RS_GK_004_1/BET_RS_GK_004_1_MPRAGE.nii\n",
      "File not Found: /analysis/share/Ritter/Dataset/MS/CIS/02_HC/VIMS_HC_139/VIMS_HC_139_1/BET_VIMS_HC_139_1_MPRAGE.nii\n",
      "File not Found: /analysis/share/Ritter/Dataset/MS/CIS/03_MS/VIMS_MS_024/VIMS_MS_024_1/BET_VIMS_MS_024_1_MPRAGE.nii\n",
      "File not Found: /analysis/share/Ritter/Dataset/MS/CIS/03_MS/VIMS_MS_117/VIMS_MS_117_1/BET_VIMS_MS_117_1_MPRAGE.nii\n",
      "File not Found: /analysis/share/Ritter/Dataset/MS/CIS/02_HC/VIMS_HC_023/VIMS_HC_023_1/BET_VIMS_HC_023_1_MPRAGE.nii\n",
      "File not Found: /analysis/share/Ritter/Dataset/MS/CIS/03_MS/VIMS_MS_039/VIMS_MS_039_1/BET_VIMS_MS_039_1_MPRAGE.nii\n",
      "File not Found: /analysis/share/Ritter/Dataset/MS/CIS/02_HC/VIMS_HC_056/VIMS_HC_056_1/BET_VIMS_HC_056_1_MPRAGE.nii\n",
      "File not Found: /analysis/share/Ritter/Dataset/MS/CIS/03_MS/VIMS_MS_044/VIMS_MS_044_1/BET_VIMS_MS_044_1_MPRAGE.nii\n",
      "File not Found: /analysis/share/Ritter/Dataset/MS/CIS/02_HC/VIMS_HC_070/VIMS_HC_070_1/BET_VIMS_HC_070_1_MPRAGE.nii\n",
      "File not Found: /analysis/share/Ritter/Dataset/MS/CIS/03_MS/VIMS_MS_129/VIMS_MS_129_1/BET_VIMS_MS_129_1_MPRAGE.nii\n",
      "File not Found: /analysis/share/Ritter/Dataset/MS/CIS/03_MS/VIMS_MS_115/VIMS_MS_115_1/BET_VIMS_MS_115_1_MPRAGE.nii\n",
      "File not Found: /analysis/share/Ritter/Dataset/MS/CIS/02_HC/VIMS_HC_061/VIMS_HC_061_1/BET_VIMS_HC_061_1_MPRAGE.nii\n",
      "File not Found: /analysis/share/Ritter/Dataset/MS/CIS/02_HC/RS_GK_009/RS_GK_009_1/BET_RS_GK_009_1_MPRAGE.nii\n",
      "File not Found: /analysis/share/Ritter/Dataset/MS/CIS/03_MS/VIMS_MS_149/VIMS_MS_149_1/BET_VIMS_MS_149_1_MPRAGE.nii\n",
      "File not Found: /analysis/share/Ritter/Dataset/MS/CIS/02_HC/VIMS_HC_054/VIMS_HC_054_1/BET_VIMS_HC_054_1_MPRAGE.nii\n",
      "File not Found: /analysis/share/Ritter/Dataset/MS/CIS/02_HC/RS_GK_003/RS_GK_003_1/BET_RS_GK_003_1_MPRAGE.nii\n",
      "File not Found: /analysis/share/Ritter/Dataset/MS/CIS/02_HC/RS_GK_028/RS_GK_028_1/BET_RS_GK_028_1_MPRAGE.nii\n",
      "File not Found: /analysis/share/Ritter/Dataset/MS/CIS/02_HC/VIMS_HC_015/VIMS_HC_015_1/BET_VIMS_HC_015_1_MPRAGE.nii\n",
      "File not Found: /analysis/share/Ritter/Dataset/MS/CIS/02_HC/VIMS_HC_018/VIMS_HC_018_1/BET_VIMS_HC_018_1_MPRAGE.nii\n",
      "File not Found: /analysis/share/Ritter/Dataset/MS/CIS/03_MS/VIMS_MS_089/VIMS_MS_089_1/BET_VIMS_MS_089_1_MPRAGE.nii\n",
      "File not Found: /analysis/share/Ritter/Dataset/MS/CIS/03_MS/VIMS_MS_077/VIMS_MS_077_1/BET_VIMS_MS_077_1_MPRAGE.nii\n",
      "File not Found: /analysis/share/Ritter/Dataset/MS/CIS/03_MS/VIMS_MS_122/VIMS_MS_122_1/BET_VIMS_MS_122_1_MPRAGE.nii\n",
      "File not Found: /analysis/share/Ritter/Dataset/MS/CIS/03_MS/VIMS_MS_120/VIMS_MS_120_1/BET_VIMS_MS_120_1_MPRAGE.nii\n",
      "File not Found: /analysis/share/Ritter/Dataset/MS/CIS/03_MS/VIMS_MS_075/VIMS_MS_075_1/BET_VIMS_MS_075_1_MPRAGE.nii\n",
      "File not Found: /analysis/share/Ritter/Dataset/MS/CIS/03_MS/VIMS_MS_067/VIMS_MS_067_1/BET_VIMS_MS_067_1_MPRAGE.nii\n",
      "File not Found: /analysis/share/Ritter/Dataset/MS/CIS/03_MS/VIMS_MS_084/VIMS_MS_084_1/BET_VIMS_MS_084_1_MPRAGE.nii\n",
      "File not Found: /analysis/share/Ritter/Dataset/MS/CIS/03_MS/VIMS_MS_038/VIMS_MS_038_1/BET_VIMS_MS_038_1_MPRAGE.nii\n",
      "File not Found: /analysis/share/Ritter/Dataset/MS/CIS/03_MS/VIMS_MS_123/VIMS_MS_123_1/BET_VIMS_MS_123_1_MPRAGE.nii\n",
      "File not Found: /analysis/share/Ritter/Dataset/MS/CIS/03_MS/VIMS_MS_036/VIMS_MS_036_1/BET_VIMS_MS_036_1_MPRAGE.nii\n",
      "File not Found: /analysis/share/Ritter/Dataset/MS/CIS/03_MS/VIMS_MS_133/VIMS_MS_133_1/BET_VIMS_MS_133_1_MPRAGE.nii\n",
      "File not Found: /analysis/share/Ritter/Dataset/MS/CIS/02_HC/VIMS_HC_034/VIMS_HC_034_1/BET_VIMS_HC_034_1_MPRAGE.nii\n",
      "File not Found: /analysis/share/Ritter/Dataset/MS/CIS/03_MS/VIMS_MS_028/VIMS_MS_028_1/BET_VIMS_MS_028_1_MPRAGE.nii\n",
      "File not Found: /analysis/share/Ritter/Dataset/MS/CIS/03_MS/VIMS_MS_113/VIMS_MS_113_1/BET_VIMS_MS_113_1_MPRAGE.nii\n",
      "File not Found: /analysis/share/Ritter/Dataset/MS/CIS/02_HC/VIMS_HC_058/VIMS_HC_058_1/BET_VIMS_HC_058_1_MPRAGE.nii\n",
      "File not Found: /analysis/share/Ritter/Dataset/MS/CIS/03_MS/VIMS_MS_069/VIMS_MS_069_1/BET_VIMS_MS_069_1_MPRAGE.nii\n",
      "File not Found: /analysis/share/Ritter/Dataset/MS/CIS/03_MS/VIMS_MS_045/VIMS_MS_045_1/BET_VIMS_MS_045_1_MPRAGE.nii\n",
      "File not Found: /analysis/share/Ritter/Dataset/MS/CIS/03_MS/VIMS_MS_116/VIMS_MS_116_1/BET_VIMS_MS_116_1_MPRAGE.nii\n",
      "File not Found: /analysis/share/Ritter/Dataset/MS/CIS/03_MS/VIMS_MS_031/VIMS_MS_031_1/BET_VIMS_MS_031_1_MPRAGE.nii\n",
      "File not Found: /analysis/share/Ritter/Dataset/MS/CIS/03_MS/VIMS_MS_079/VIMS_MS_079_1/BET_VIMS_MS_079_1_MPRAGE.nii\n",
      "File not Found: /analysis/share/Ritter/Dataset/MS/CIS/03_MS/VIMS_MS_046/VIMS_MS_046_1/BET_VIMS_MS_046_1_MPRAGE.nii\n",
      "File not Found: /analysis/share/Ritter/Dataset/MS/CIS/03_MS/VIMS_MS_049/VIMS_MS_049_1/BET_VIMS_MS_049_1_MPRAGE.nii\n",
      "File not Found: /analysis/share/Ritter/Dataset/MS/CIS/02_HC/RS_GK_005/RS_GK_005_1/BET_RS_GK_005_1_MPRAGE.nii\n",
      "File not Found: /analysis/share/Ritter/Dataset/MS/CIS/02_HC/VIMS_HC_097/VIMS_HC_097_1/BET_VIMS_HC_097_1_MPRAGE.nii\n",
      "File not Found: /analysis/share/Ritter/Dataset/MS/CIS/02_HC/RS_GK_023/RS_GK_023_1/BET_RS_GK_023_1_MPRAGE.nii\n",
      "File not Found: /analysis/share/Ritter/Dataset/MS/CIS/02_HC/RS_GK_006/RS_GK_006_1/BET_RS_GK_006_1_MPRAGE.nii\n",
      "File not Found: /analysis/share/Ritter/Dataset/MS/CIS/02_HC/VIMS_HC_033/VIMS_HC_033_1/BET_VIMS_HC_033_1_MPRAGE.nii\n",
      "File not Found: /analysis/share/Ritter/Dataset/MS/CIS/02_HC/VIMS_HC_060/VIMS_HC_060_1/BET_VIMS_HC_060_1_MPRAGE.nii\n",
      "File not Found: /analysis/share/Ritter/Dataset/MS/CIS/03_MS/VIMS_MS_143/VIMS_MS_143_1/BET_VIMS_MS_143_1_MPRAGE.nii\n",
      "File not Found: /analysis/share/Ritter/Dataset/MS/CIS/03_MS/VIMS_MS_112/VIMS_MS_112_1/BET_VIMS_MS_112_1_MPRAGE.nii\n",
      "File not Found: /analysis/share/Ritter/Dataset/MS/CIS/03_MS/VIMS_MS_035/VIMS_MS_035_1/BET_VIMS_MS_035_1_MPRAGE.nii\n",
      "File not Found: /analysis/share/Ritter/Dataset/MS/CIS/03_MS/VIMS_MS_037/VIMS_MS_037_1/BET_VIMS_MS_037_1_MPRAGE.nii\n",
      "File not Found: /analysis/share/Ritter/Dataset/MS/CIS/02_HC/VIMS_HC_105/VIMS_HC_105_1/BET_VIMS_HC_105_1_MPRAGE.nii\n",
      "File not Found: /analysis/share/Ritter/Dataset/MS/CIS/03_MS/VIMS_MS_029/VIMS_MS_029_1/BET_VIMS_MS_029_1_MPRAGE.nii\n"
     ]
    },
    {
     "name": "stdout",
     "output_type": "stream",
     "text": [
      "File not Found: /analysis/share/Ritter/Dataset/MS/CIS/02_HC/RS_GK_029/RS_GK_029_1/BET_RS_GK_029_1_MPRAGE.nii\n",
      "File not Found: /analysis/share/Ritter/Dataset/MS/CIS/03_MS/VIMS_MS_104/VIMS_MS_104_1/BET_VIMS_MS_104_1_MPRAGE.nii\n",
      "File not Found: /analysis/share/Ritter/Dataset/MS/CIS/02_HC/RS_GK_022/RS_GK_022_1/BET_RS_GK_022_1_MPRAGE.nii\n",
      "File not Found: /analysis/share/Ritter/Dataset/MS/CIS/03_MS/VIMS_MS_131/VIMS_MS_131_1/BET_VIMS_MS_131_1_MPRAGE.nii\n",
      "File not Found: /analysis/share/Ritter/Dataset/MS/CIS/03_MS/VIMS_MS_138/VIMS_MS_138_1/BET_VIMS_MS_138_1_MPRAGE.nii\n",
      "File not Found: /analysis/share/Ritter/Dataset/MS/CIS/03_MS/VIMS_MS_090/VIMS_MS_090_1/BET_VIMS_MS_090_1_MPRAGE.nii\n",
      "File not Found: /analysis/share/Ritter/Dataset/MS/CIS/02_HC/VIMS_HC_091/VIMS_HC_091_1/BET_VIMS_HC_091_1_MPRAGE.nii\n",
      "File not Found: /analysis/share/Ritter/Dataset/MS/CIS/03_MS/VIMS_MS_020/VIMS_MS_020_1/BET_VIMS_MS_020_1_MPRAGE.nii\n",
      "File not Found: /analysis/share/Ritter/Dataset/MS/CIS/03_MS/VIMS_MS_124/VIMS_MS_124_1/BET_VIMS_MS_124_1_MPRAGE.nii\n",
      "File not Found: /analysis/share/Ritter/Dataset/MS/CIS/03_MS/VIMS_MS_074/VIMS_MS_074_1/BET_VIMS_MS_074_1_MPRAGE.nii\n",
      "File not Found: /analysis/share/Ritter/Dataset/MS/CIS/02_HC/RS_GK_016/RS_GK_016_1/BET_RS_GK_016_1_MPRAGE.nii\n",
      "File not Found: /analysis/share/Ritter/Dataset/MS/CIS/03_MS/VIMS_MS_086/VIMS_MS_086_1/BET_VIMS_MS_086_1_MPRAGE.nii\n",
      "File not Found: /analysis/share/Ritter/Dataset/MS/CIS/02_HC/VIMS_HC_119/VIMS_HC_119_1/BET_VIMS_HC_119_1_MPRAGE.nii\n",
      "File not Found: /analysis/share/Ritter/Dataset/MS/CIS/03_MS/VIMS_MS_142/VIMS_MS_142_1/BET_VIMS_MS_142_1_MPRAGE.nii\n",
      "File not Found: /analysis/share/Ritter/Dataset/MS/CIS/02_HC/VIMS_HC_096/VIMS_HC_096_1/BET_VIMS_HC_096_1_MPRAGE.nii\n",
      "File not Found: /analysis/share/Ritter/Dataset/MS/CIS/02_HC/VIMS_HC_076/VIMS_HC_076_1/BET_VIMS_HC_076_1_MPRAGE.nii\n",
      "File not Found: /analysis/share/Ritter/Dataset/MS/CIS/02_HC/VIMS_HC_009/VIMS_HC_009_1/BET_VIMS_HC_009_1_MPRAGE.nii\n",
      "File not Found: /analysis/share/Ritter/Dataset/MS/CIS/02_HC/VIMS_HC_005/VIMS_HC_005_1/BET_VIMS_HC_005_1_MPRAGE.nii\n",
      "File not Found: /analysis/share/Ritter/Dataset/MS/CIS/02_HC/VIMS_HC_021/VIMS_HC_021_1/BET_VIMS_HC_021_1_MPRAGE.nii\n",
      "File not Found: /analysis/share/Ritter/Dataset/MS/CIS/02_HC/VIMS_HC_080/VIMS_HC_080_1/BET_VIMS_HC_080_1_MPRAGE.nii\n",
      "File not Found: /analysis/share/Ritter/Dataset/MS/CIS/02_HC/VIMS_HC_081/VIMS_HC_081_1/BET_VIMS_HC_081_1_MPRAGE.nii\n",
      "File not Found: /analysis/share/Ritter/Dataset/MS/CIS/03_MS/VIMS_MS_048/VIMS_MS_048_1/BET_VIMS_MS_048_1_MPRAGE.nii\n",
      "File not Found: /analysis/share/Ritter/Dataset/MS/CIS/03_MS/VIMS_MS_099/VIMS_MS_099_1/BET_VIMS_MS_099_1_MPRAGE.nii\n",
      "File not Found: /analysis/share/Ritter/Dataset/MS/CIS/02_HC/VIMS_HC_055/VIMS_HC_055_1/BET_VIMS_HC_055_1_MPRAGE.nii\n",
      "File not Found: /analysis/share/Ritter/Dataset/MS/CIS/02_HC/VIMS_HC_032/VIMS_HC_032_1/BET_VIMS_HC_032_1_MPRAGE.nii\n",
      "File not Found: /analysis/share/Ritter/Dataset/MS/CIS/02_HC/RS_GK_014/RS_GK_014_1/BET_RS_GK_014_1_MPRAGE.nii\n",
      "File not Found: /analysis/share/Ritter/Dataset/MS/CIS/02_HC/RS_GK_015/RS_GK_015_1/BET_RS_GK_015_1_MPRAGE.nii\n",
      "File not Found: /analysis/share/Ritter/Dataset/MS/CIS/02_HC/RS_GK_026/RS_GK_026_1/BET_RS_GK_026_1_MPRAGE.nii\n",
      "File not Found: /analysis/share/Ritter/Dataset/MS/CIS/03_MS/VIMS_MS_017/VIMS_MS_017_1/BET_VIMS_MS_017_1_MPRAGE.nii\n",
      "File not Found: /analysis/share/Ritter/Dataset/MS/CIS/02_HC/RS_GK_013/RS_GK_013_1/BET_RS_GK_013_1_MPRAGE.nii\n",
      "File not Found: /analysis/share/Ritter/Dataset/MS/CIS/03_MS/VIMS_MS_135/VIMS_MS_135_1/BET_VIMS_MS_135_1_MPRAGE.nii\n",
      "File not Found: /analysis/share/Ritter/Dataset/MS/CIS/02_HC/VIMS_HC_052/VIMS_HC_052_1/BET_VIMS_HC_052_1_MPRAGE.nii\n",
      "File not Found: /analysis/share/Ritter/Dataset/MS/CIS/03_MS/VIMS_MS_092/VIMS_MS_092_1/BET_VIMS_MS_092_1_MPRAGE.nii\n",
      "File not Found: /analysis/share/Ritter/Dataset/MS/CIS/02_HC/VIMS_HC_066/VIMS_HC_066_1/BET_VIMS_HC_066_1_MPRAGE.nii\n",
      "File not Found: /analysis/share/Ritter/Dataset/MS/CIS/02_HC/RS_GK_001/RS_GK_001_1/BET_RS_GK_001_1_MPRAGE.nii\n",
      "File not Found: /analysis/share/Ritter/Dataset/MS/CIS/03_MS/VIMS_MS_093/VIMS_MS_093_1/BET_VIMS_MS_093_1_MPRAGE.nii\n",
      "File not Found: /analysis/share/Ritter/Dataset/MS/CIS/02_HC/RS_GK_027/RS_GK_027_1/BET_RS_GK_027_1_MPRAGE.nii\n",
      "File not Found: /analysis/share/Ritter/Dataset/MS/CIS/02_HC/VIMS_HC_016/VIMS_HC_016_1/BET_VIMS_HC_016_1_MPRAGE.nii\n",
      "File not Found: /analysis/share/Ritter/Dataset/MS/CIS/03_MS/VIMS_MS_053/VIMS_MS_053_1/BET_VIMS_MS_053_1_MPRAGE.nii\n",
      "File not Found: /analysis/share/Ritter/Dataset/MS/CIS/02_HC/VIMS_HC_030/VIMS_HC_030_1/BET_VIMS_HC_030_1_MPRAGE.nii\n",
      "File not Found: /analysis/share/Ritter/Dataset/MS/CIS/03_MS/VIMS_MS_118/VIMS_MS_118_1/BET_VIMS_MS_118_1_MPRAGE.nii\n",
      "File not Found: /analysis/share/Ritter/Dataset/MS/CIS/03_MS/VIMS_MS_041/VIMS_MS_041_1/BET_VIMS_MS_041_1_MPRAGE.nii\n",
      "File not Found: /analysis/share/Ritter/Dataset/MS/CIS/03_MS/VIMS_MS_132/VIMS_MS_132_1/BET_VIMS_MS_132_1_MPRAGE.nii\n",
      "File not Found: /analysis/share/Ritter/Dataset/MS/CIS/02_HC/RS_GK_002/RS_GK_002_1/BET_RS_GK_002_1_MPRAGE.nii\n",
      "File not Found: /analysis/share/Ritter/Dataset/MS/CIS/03_MS/VIMS_MS_073/VIMS_MS_073_1/BET_VIMS_MS_073_1_MPRAGE.nii\n",
      "File not Found: /analysis/share/Ritter/Dataset/MS/CIS/02_HC/VIMS_HC_019/VIMS_HC_019_1/BET_VIMS_HC_019_1_MPRAGE.nii\n",
      "File not Found: /analysis/share/Ritter/Dataset/MS/CIS/03_MS/VIMS_MS_072/VIMS_MS_072_1/BET_VIMS_MS_072_1_MPRAGE.nii\n",
      "File not Found: /analysis/share/Ritter/Dataset/MS/CIS/02_HC/VIMS_HC_106/VIMS_HC_106_1/BET_VIMS_HC_106_1_MPRAGE.nii\n",
      "File not Found: /analysis/share/Ritter/Dataset/MS/CIS/03_MS/VIMS_MS_140/VIMS_MS_140_1/BET_VIMS_MS_140_1_MPRAGE.nii\n",
      "File not Found: /analysis/share/Ritter/Dataset/MS/CIS/03_MS/VIMS_MS_134/VIMS_MS_134_1/BET_VIMS_MS_134_1_MPRAGE.nii\n",
      "File not Found: /analysis/share/Ritter/Dataset/MS/CIS/02_HC/VIMS_HC_114/VIMS_HC_114_1/BET_VIMS_HC_114_1_MPRAGE.nii\n",
      "File not Found: /analysis/share/Ritter/Dataset/MS/CIS/03_MS/VIMS_MS_059/VIMS_MS_059_1/BET_VIMS_MS_059_1_MPRAGE.nii\n",
      "File not Found: /analysis/share/Ritter/Dataset/MS/CIS/03_MS/VIMS_MS_001/VIMS_MS_001_1/BET_VIMS_MS_001_1_MPRAGE.nii\n",
      "File not Found: /analysis/share/Ritter/Dataset/MS/CIS/03_MS/VIMS_MS_078/VIMS_MS_078_1/BET_VIMS_MS_078_1_MPRAGE.nii\n",
      "File not Found: /analysis/share/Ritter/Dataset/MS/CIS/03_MS/VIMS_MS_087/VIMS_MS_087_1/BET_VIMS_MS_087_1_MPRAGE.nii\n",
      "File not Found: /analysis/share/Ritter/Dataset/MS/CIS/02_HC/VIMS_HC_014/VIMS_HC_014_1/BET_VIMS_HC_014_1_MPRAGE.nii\n",
      "File not Found: /analysis/share/Ritter/Dataset/MS/CIS/02_HC/RS_GK_017/RS_GK_017_1/BET_RS_GK_017_1_MPRAGE.nii\n",
      "File not Found: /analysis/share/Ritter/Dataset/MS/CIS/02_HC/RS_GK_011/RS_GK_011_1/BET_RS_GK_011_1_MPRAGE.nii\n",
      "File not Found: /analysis/share/Ritter/Dataset/MS/CIS/03_MS/VIMS_MS_012/VIMS_MS_012_1/BET_VIMS_MS_012_1_MPRAGE.nii\n",
      "File not Found: /analysis/share/Ritter/Dataset/MS/CIS/02_HC/RS_GK_010/RS_GK_010_1/BET_RS_GK_010_1_MPRAGE.nii\n",
      "File not Found: /analysis/share/Ritter/Dataset/MS/CIS/02_HC/RS_GK_030/RS_GK_030_1/BET_RS_GK_030_1_MPRAGE.nii\n",
      "File not Found: /analysis/share/Ritter/Dataset/MS/CIS/03_MS/VIMS_MS_144/VIMS_MS_144_1/BET_VIMS_MS_144_1_MPRAGE.nii\n",
      "File not Found: /analysis/share/Ritter/Dataset/MS/CIS/02_HC/VIMS_HC_042/VIMS_HC_042_1/BET_VIMS_HC_042_1_MPRAGE.nii\n"
     ]
    }
   ],
   "source": [
    "train_dataset, train_labels = create_dataset(train_df, z_factor=z_factor, output_shape=output_shape)\n",
    "holdout_dataset, holdout_labels = create_dataset(holdout_df, z_factor=z_factor, output_shape=output_shape)"
   ]
  },
  {
   "cell_type": "code",
   "execution_count": 13,
   "metadata": {},
   "outputs": [
    {
     "name": "stdout",
     "output_type": "stream",
     "text": [
      "(124, 96, 114, 96)\n",
      "(23, 96, 114, 96)\n"
     ]
    }
   ],
   "source": [
    "print(train_dataset.shape)\n",
    "print(holdout_dataset.shape)"
   ]
  },
  {
   "cell_type": "code",
   "execution_count": 14,
   "metadata": {
    "collapsed": true
   },
   "outputs": [],
   "source": [
    "import matplotlib.pyplot as plt"
   ]
  },
  {
   "cell_type": "code",
   "execution_count": 15,
   "metadata": {},
   "outputs": [
    {
     "data": {
      "text/plain": [
       "file                            VIMS_HC_030_1_FLAIR.nii.gz\n",
       "label                                                   HC\n",
       "name                                           VIMS_HC_030\n",
       "path     /analysis/share/Ritter/MS/CIS/02_HC/VIMS_HC_03...\n",
       "time                                                     1\n",
       "Name: 123, dtype: object"
      ]
     },
     "execution_count": 15,
     "metadata": {},
     "output_type": "execute_result"
    }
   ],
   "source": [
    "train_df.iloc[-1]"
   ]
  },
  {
   "cell_type": "code",
   "execution_count": 16,
   "metadata": {},
   "outputs": [
    {
     "data": {
      "text/plain": [
       "0.0"
      ]
     },
     "execution_count": 16,
     "metadata": {},
     "output_type": "execute_result"
    }
   ],
   "source": [
    "train_dataset[-1].max()"
   ]
  },
  {
   "cell_type": "code",
   "execution_count": 17,
   "metadata": {},
   "outputs": [
    {
     "data": {
      "image/png": "[encoded data removed]",
      "text/plain": [
       "<matplotlib.figure.Figure at 0x7f97eca97e80>"
      ]
     },
     "metadata": {},
     "output_type": "display_data"
    }
   ],
   "source": [
    "plt.imshow(train_dataset[-2][:,:,48], cmap='gray')\n",
    "plt.show()"
   ]
  },
  {
   "cell_type": "code",
   "execution_count": 18,
   "metadata": {},
   "outputs": [
    {
     "data": {
      "image/png": "[encoded data removed]",
      "text/plain": [
       "<matplotlib.figure.Figure at 0x7f97eca850b8>"
      ]
     },
     "metadata": {},
     "output_type": "display_data"
    }
   ],
   "source": [
    "plt.imshow(holdout_dataset[-1][:,:,48], cmap='gray')\n",
    "plt.show()"
   ]
  },
  {
   "cell_type": "code",
   "execution_count": 19,
   "metadata": {
    "collapsed": true
   },
   "outputs": [],
   "source": [
    "h5 = h5py.File('/data/Ritter/MS/CIS/train_dataset_brain_masks.h5', 'w')\n",
    "h5.create_dataset('masks', data=train_dataset)\n",
    "h5.close()"
   ]
  },
  {
   "cell_type": "code",
   "execution_count": 20,
   "metadata": {
    "collapsed": true
   },
   "outputs": [],
   "source": [
    "h5 = h5py.File('/data/Ritter/MS/CIS/holdout_dataset_brain_masks.h5', 'w')\n",
    "h5.create_dataset('masks', data=holdout_dataset)\n",
    "h5.close()"
   ]
  },
  {
   "cell_type": "code",
   "execution_count": null,
   "metadata": {
    "collapsed": true
   },
   "outputs": [],
   "source": []
  }
 ],
 "metadata": {
  "kernelspec": {
   "display_name": "Python (mort)",
   "language": "python",
   "name": "mort"
  },
  "language_info": {
   "codemirror_mode": {
    "name": "ipython",
    "version": 3
   },
   "file_extension": ".py",
   "mimetype": "text/x-python",
   "name": "python",
   "nbconvert_exporter": "python",
   "pygments_lexer": "ipython3",
   "version": "3.6.3"
  }
 },
 "nbformat": 4,
 "nbformat_minor": 2
}
