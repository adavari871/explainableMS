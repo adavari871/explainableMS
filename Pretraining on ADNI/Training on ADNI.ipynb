{
 "cells": [
  {
   "cell_type": "code",
   "execution_count": null,
   "metadata": {
    "collapsed": true
   },
   "outputs": [],
   "source": [
    "%load_ext autoreload\n",
    "%autoreload 2"
   ]
  },
  {
   "cell_type": "code",
   "execution_count": null,
   "metadata": {},
   "outputs": [],
   "source": [
    "import numpy as np\n",
    "import pandas as pd\n",
    "import nibabel as nib\n",
    "import nilearn\n",
    "\n",
    "from scipy.ndimage.interpolation import zoom\n",
    "from sklearn.utils import shuffle\n",
    "from sklearn.model_selection import GroupShuffleSplit\n",
    "from sklearn.metrics import confusion_matrix\n",
    "from sklearn.model_selection import KFold\n",
    "\n",
    "import matplotlib.pyplot as plt\n",
    "import os\n",
    "import time\n",
    "import h5py\n",
    "\n",
    "# keras\n",
    "from keras.models import Sequential\n",
    "from keras.layers import Input, Conv3D, Flatten, Dense, MaxPooling3D, Dropout\n",
    "from keras.regularizers import l2\n",
    "from keras.optimizers import Adam\n",
    "from keras.models import load_model\n",
    "from keras.callbacks import EarlyStopping, ModelCheckpoint\n",
    "from keras.utils import Sequence\n",
    "\n",
    "from config import *\n",
    "from utils import specificity\n",
    "from utils import sensitivity"
   ]
  },
  {
   "cell_type": "code",
   "execution_count": null,
   "metadata": {
    "collapsed": true
   },
   "outputs": [],
   "source": [
    "# Start timing\n",
    "start_time = time.time()"
   ]
  },
  {
   "cell_type": "code",
   "execution_count": 4,
   "metadata": {
    "collapsed": true
   },
   "outputs": [],
   "source": [
    "# Tensorflow settings\n",
    "import tensorflow as tf\n",
    "from keras.backend.tensorflow_backend import set_session, get_session\n",
    "\n",
    "config = tf.ConfigProto()\n",
    "config.gpu_options.visible_device_list = \"7\"\n",
    "sess = tf.Session(config=config)\n",
    "set_session(sess)"
   ]
  },
  {
   "cell_type": "code",
   "execution_count": 5,
   "metadata": {
    "collapsed": true
   },
   "outputs": [],
   "source": [
    "dtype = np.float32\n",
    "result_dir = \"/analysis/share/Ritter/models/fabi/ADNI/pretraining_paper/\""
   ]
  },
  {
   "cell_type": "code",
   "execution_count": 6,
   "metadata": {
    "collapsed": true
   },
   "outputs": [],
   "source": [
    "!mkdir -p $result_dir"
   ]
  },
  {
   "cell_type": "code",
   "execution_count": 7,
   "metadata": {
    "collapsed": true
   },
   "outputs": [],
   "source": [
    "# load hdf5 files and extract columns\n",
    "train_h5 = h5py.File(\"/analysis/share/ADNI/HDF5_files/train_2yr_and_unique_screening-921_subjects-96_114_96_shape-masked.h5\", 'r')\n",
    "holdout_h5 = h5py.File(\"/analysis/share/ADNI/HDF5_files/test_2yr_and_unique_screening-150_subjects-96_114_96_shape-masked.h5\", 'r')\n",
    "\n",
    "X_train, y_train, files_train = train_h5['X'], train_h5['y'], train_h5[\"files\"]\n",
    "X_holdout, y_holdout = holdout_h5['X'], holdout_h5['y']"
   ]
  },
  {
   "cell_type": "code",
   "execution_count": 8,
   "metadata": {
    "collapsed": true
   },
   "outputs": [],
   "source": [
    "# convert data to numpy arrays\n",
    "X_train = np.expand_dims(np.array(X_train, dtype=dtype), 4)\n",
    "y_train = np.array(y_train)\n",
    "\n",
    "X_holdout = np.expand_dims(np.array(X_holdout, dtype=dtype), 4)\n",
    "y_holdout = np.array(y_holdout)"
   ]
  },
  {
   "cell_type": "code",
   "execution_count": 9,
   "metadata": {},
   "outputs": [
    {
     "name": "stdout",
     "output_type": "stream",
     "text": [
      "Total datset length: 921\n",
      "Number of healthy controls: 464\n",
      "Number of AD patients: 457\n"
     ]
    }
   ],
   "source": [
    "print(\"Total datset length: {}\".format(len(y_train)))\n",
    "print(\"Number of healthy controls: {}\".format(len(np.array(y_train)[np.array(y_train)==0.])))\n",
    "print(\"Number of AD patients: {}\".format(len(np.array(y_train)[np.array(y_train)==1.])))"
   ]
  },
  {
   "cell_type": "code",
   "execution_count": 10,
   "metadata": {
    "collapsed": true
   },
   "outputs": [],
   "source": [
    "class ADNIDataset(Sequence):\n",
    "    def __init__(self, X, y, transform=None, batch_size=4, z_factor=None, shuffle=True, mask=None):\n",
    "        self.X = X\n",
    "        self.y = y\n",
    "        self.transform = transform\n",
    "        self.batch_size = batch_size\n",
    "        self.z_factor = z_factor\n",
    "        self.shuffle = shuffle\n",
    "        self.mask = mask\n",
    "        \n",
    "    def __len__(self):\n",
    "        return int(np.ceil(len(self.y)/self.batch_size))\n",
    "    \n",
    "    def __getitem__(self, idx):\n",
    "        # add BET\n",
    "        image = np.expand_dims(self.X[idx * self.batch_size:(idx + 1) * self.batch_size],5)\n",
    "        label = np.array(self.y[idx * self.batch_size:(idx + 1) * self.batch_size], dtype=np.int8)\n",
    "        \n",
    "        if self.mask is not None:\n",
    "            for i in range(image.shape[0]):\n",
    "                image[i] *= self.mask\n",
    "        \n",
    "        for transformation in self.transform:\n",
    "            image = transformation(image)\n",
    "        \n",
    "        return image, label\n",
    "    \n",
    "    def on_epoch_end(self):\n",
    "        if self.shuffle:\n",
    "            self.X, self.y = shuffle(self.X, self.y)"
   ]
  },
  {
   "cell_type": "code",
   "execution_count": 11,
   "metadata": {
    "collapsed": true
   },
   "outputs": [],
   "source": [
    "# images are already masked\n",
    "mask = None"
   ]
  },
  {
   "cell_type": "markdown",
   "metadata": {},
   "source": [
    "# Model"
   ]
  },
  {
   "cell_type": "code",
   "execution_count": 12,
   "metadata": {
    "collapsed": true
   },
   "outputs": [],
   "source": [
    "def SixtyFourNet(input_shape, drop_rate=0., weight_dcay=0.):\n",
    "    model = Sequential()\n",
    "    model.add(Conv3D(64, kernel_size=3, \n",
    "                     input_shape=(input_shape[1], input_shape[2], input_shape[3], 1), \n",
    "                     activation='elu', padding='valid', name='Conv_1'))\n",
    "    model.add(MaxPooling3D(pool_size=3, name='Pool_1'))\n",
    "    model.add(Dropout(drop_rate))\n",
    "    model.add(Conv3D(64, kernel_size=3, padding='valid', activation='elu', name='Conv_2'))\n",
    "\n",
    "    model.add(MaxPooling3D(pool_size=3, name='Pool_2'))\n",
    "    model.add(Dropout(drop_rate))\n",
    "\n",
    "    model.add(Conv3D(64, kernel_size=3, padding='valid', activation='elu', name='Conv_3',\n",
    "                     kernel_regularizer=l2(weight_dcay)))\n",
    "    model.add(Conv3D(64, kernel_size=3, padding='valid', activation='elu', name='Conv_4',\n",
    "                     kernel_regularizer=l2(weight_dcay)))\n",
    "    model.add(MaxPooling3D(pool_size=3, name='Pool_4'))\n",
    "    model.add(Dropout(drop_rate))\n",
    "\n",
    "    model.add(Flatten())\n",
    "    model.add(Dense(units=1, activation='sigmoid'))\n",
    "    return model"
   ]
  },
  {
   "cell_type": "markdown",
   "metadata": {},
   "source": [
    "# Normalization"
   ]
  },
  {
   "cell_type": "code",
   "execution_count": 13,
   "metadata": {
    "collapsed": true
   },
   "outputs": [],
   "source": [
    "files_train = np.array(files_train)"
   ]
  },
  {
   "cell_type": "code",
   "execution_count": 14,
   "metadata": {
    "collapsed": true
   },
   "outputs": [],
   "source": [
    "names_train = [item[53:53+10].decode('utf-8') for item in files_train]"
   ]
  },
  {
   "cell_type": "markdown",
   "metadata": {},
   "source": [
    "### Normalize min-max"
   ]
  },
  {
   "cell_type": "code",
   "execution_count": 15,
   "metadata": {
    "collapsed": true
   },
   "outputs": [],
   "source": [
    "for i in range(len(X_train)):\n",
    "    X_train[i] -= np.min(X_train[i])\n",
    "    X_train[i] /= np.max(X_train[i])\n",
    "    \n",
    "for i in range(len(X_holdout)):\n",
    "    X_holdout[i] -= np.min(X_holdout[i])\n",
    "    X_holdout[i] /= np.max(X_holdout[i])"
   ]
  },
  {
   "cell_type": "markdown",
   "metadata": {},
   "source": [
    "### Normalize by voxel and split data"
   ]
  },
  {
   "cell_type": "code",
   "execution_count": 16,
   "metadata": {
    "collapsed": true
   },
   "outputs": [],
   "source": [
    "GSS = GroupShuffleSplit(n_splits=1, test_size=0.15, random_state=22)\n",
    "indices = list(GSS.split(names_train, groups=names_train))[0]\n",
    "train_idx, val_idx = indices[0], indices[1]\n",
    "\n",
    "mean = np.mean(X_train[train_idx], axis=0)\n",
    "std = np.std(X_train[train_idx], axis=0)\n",
    "X_train = (X_train - mean) / (std)"
   ]
  },
  {
   "cell_type": "code",
   "execution_count": 17,
   "metadata": {
    "collapsed": true
   },
   "outputs": [],
   "source": [
    "# shuffle indices test\n",
    "np.random.shuffle(train_idx)\n",
    "np.random.shuffle(val_idx)"
   ]
  },
  {
   "cell_type": "code",
   "execution_count": 18,
   "metadata": {},
   "outputs": [
    {
     "data": {
      "image/png": "[encoded data removed]",
      "text/plain": [
       "<Figure size 432x288 with 1 Axes>"
      ]
     },
     "metadata": {
      "needs_background": "light"
     },
     "output_type": "display_data"
    }
   ],
   "source": [
    "plt.imshow(X_train[4][:,:,46,0], cmap='gray')\n",
    "plt.show()"
   ]
  },
  {
   "cell_type": "code",
   "execution_count": null,
   "metadata": {},
   "outputs": [
    {
     "data": {
      "text/plain": [
       "(array([  2.,   5.,  13.,  19.,  42.,  71., 133., 317., 288.,  31.]),\n",
       " array([-5.081064  , -4.3799    , -3.6787355 , -2.977571  , -2.2764065 ,\n",
       "        -1.5752423 , -0.8740778 , -0.17291342,  0.528251  ,  1.2294154 ,\n",
       "         1.9305798 ], dtype=float32),\n",
       " <a list of 10 Patch objects>)"
      ]
     },
     "execution_count": 19,
     "metadata": {},
     "output_type": "execute_result"
    },
    {
     "data": {
      "image/png": "[encoded data removed]",
      "text/plain": [
       "<Figure size 432x288 with 1 Axes>"
      ]
     },
     "metadata": {
      "needs_background": "light"
     },
     "output_type": "display_data"
    }
   ],
   "source": [
    "plt.hist(X_train[:,40,71,40,0].flatten())"
   ]
  },
  {
   "cell_type": "code",
   "execution_count": null,
   "metadata": {},
   "outputs": [
    {
     "data": {
      "text/plain": [
       "array([[1.3599842, 1.3599842, 1.3599842, ..., 1.3599842, 1.3599842,\n",
       "        1.3599842],\n",
       "       [1.3599842, 1.3599842, 1.3599842, ..., 1.3599842, 1.3599842,\n",
       "        1.3599842],\n",
       "       [1.3599842, 1.3599842, 1.3599842, ..., 1.3599842, 1.3599842,\n",
       "        1.3599842],\n",
       "       ...,\n",
       "       [1.3599842, 1.3599842, 1.3599842, ..., 1.3599842, 1.3599842,\n",
       "        1.3599842],\n",
       "       [1.3599842, 1.3599842, 1.3599842, ..., 1.3599842, 1.3599842,\n",
       "        1.3599842],\n",
       "       [1.3599842, 1.3599842, 1.3599842, ..., 1.3599842, 1.3599842,\n",
       "        1.3599842]], dtype=float32)"
      ]
     },
     "execution_count": 20,
     "metadata": {},
     "output_type": "execute_result"
    }
   ],
   "source": [
    "X_train[4][:,:,46, 0]"
   ]
  },
  {
   "cell_type": "markdown",
   "metadata": {},
   "source": [
    "# Training"
   ]
  },
  {
   "cell_type": "code",
   "execution_count": null,
   "metadata": {},
   "outputs": [
    {
     "name": "stdout",
     "output_type": "stream",
     "text": [
      "Train on 808 samples, validate on 113 samples\n",
      "Epoch 1/45\n",
      "808/808 [==============================] - 37s 46ms/step - loss: 3.4665 - acc: 0.5186 - val_loss: 1.7074 - val_acc: 0.5487\n",
      "Epoch 2/45\n",
      "808/808 [==============================] - 35s 44ms/step - loss: 1.2723 - acc: 0.5322 - val_loss: 0.8836 - val_acc: 0.7168\n",
      "Epoch 3/45\n",
      "808/808 [==============================] - 35s 43ms/step - loss: 0.8929 - acc: 0.5693 - val_loss: 1.1688 - val_acc: 0.4248\n",
      "Epoch 4/45\n",
      "808/808 [==============================] - 35s 43ms/step - loss: 1.1174 - acc: 0.5594 - val_loss: 0.8326 - val_acc: 0.7080\n",
      "Epoch 5/45\n",
      "808/808 [==============================] - 35s 44ms/step - loss: 0.7833 - acc: 0.6374 - val_loss: 0.7307 - val_acc: 0.7257\n",
      "Epoch 6/45\n",
      "808/808 [==============================] - 36s 44ms/step - loss: 0.7815 - acc: 0.6770 - val_loss: 0.7792 - val_acc: 0.7876\n",
      "Epoch 7/45\n",
      "808/808 [==============================] - 35s 44ms/step - loss: 1.3208 - acc: 0.6002 - val_loss: 1.1329 - val_acc: 0.6814\n",
      "Epoch 8/45\n",
      "808/808 [==============================] - 35s 43ms/step - loss: 1.0477 - acc: 0.6101 - val_loss: 0.7658 - val_acc: 0.6283\n",
      "Epoch 9/45\n",
      "808/808 [==============================] - 36s 44ms/step - loss: 0.7869 - acc: 0.6621 - val_loss: 0.6864 - val_acc: 0.7611\n",
      "Epoch 10/45\n",
      "808/808 [==============================] - 36s 44ms/step - loss: 0.9652 - acc: 0.6671 - val_loss: 1.2230 - val_acc: 0.6549\n",
      "Epoch 11/45\n",
      "808/808 [==============================] - 35s 44ms/step - loss: 1.1955 - acc: 0.5903 - val_loss: 1.1335 - val_acc: 0.4513\n",
      "Epoch 12/45\n",
      "808/808 [==============================] - 35s 44ms/step - loss: 0.9307 - acc: 0.5186 - val_loss: 0.7331 - val_acc: 0.7876\n",
      "Epoch 13/45\n",
      "808/808 [==============================] - 35s 44ms/step - loss: 0.8448 - acc: 0.6312 - val_loss: 0.8474 - val_acc: 0.8142\n",
      "Epoch 14/45\n",
      "808/808 [==============================] - 35s 43ms/step - loss: 0.7298 - acc: 0.7327 - val_loss: 0.7026 - val_acc: 0.7434\n",
      "Epoch 15/45\n",
      "808/808 [==============================] - 35s 44ms/step - loss: 0.6787 - acc: 0.7649 - val_loss: 0.6742 - val_acc: 0.7788\n",
      "Epoch 16/45\n",
      "808/808 [==============================] - 35s 44ms/step - loss: 0.7399 - acc: 0.7537 - val_loss: 0.9585 - val_acc: 0.7611\n",
      "Epoch 17/45\n",
      "808/808 [==============================] - 36s 44ms/step - loss: 0.8757 - acc: 0.7240 - val_loss: 0.7815 - val_acc: 0.7168\n",
      "Epoch 18/45\n",
      "808/808 [==============================] - 35s 43ms/step - loss: 0.7707 - acc: 0.7661 - val_loss: 0.7755 - val_acc: 0.7345\n",
      "Epoch 19/45\n",
      "808/808 [==============================] - 35s 43ms/step - loss: 0.7125 - acc: 0.7933 - val_loss: 0.7507 - val_acc: 0.7257\n",
      "Epoch 20/45\n",
      "808/808 [==============================] - 35s 43ms/step - loss: 0.7764 - acc: 0.7797 - val_loss: 0.8341 - val_acc: 0.7434\n",
      "Epoch 21/45\n",
      "808/808 [==============================] - 35s 43ms/step - loss: 0.7473 - acc: 0.7933 - val_loss: 0.9985 - val_acc: 0.6903\n",
      "Epoch 22/45\n",
      "808/808 [==============================] - 35s 44ms/step - loss: 0.6706 - acc: 0.8069 - val_loss: 0.6439 - val_acc: 0.7257\n",
      "Epoch 23/45\n",
      "808/808 [==============================] - 35s 43ms/step - loss: 0.7329 - acc: 0.8082 - val_loss: 0.9274 - val_acc: 0.7345\n",
      "Epoch 24/45\n",
      "808/808 [==============================] - 35s 43ms/step - loss: 0.9166 - acc: 0.8032 - val_loss: 0.8125 - val_acc: 0.7257\n",
      "Epoch 25/45\n",
      "808/808 [==============================] - 35s 43ms/step - loss: 0.6417 - acc: 0.8280 - val_loss: 0.8071 - val_acc: 0.7345\n",
      "Epoch 26/45\n",
      "808/808 [==============================] - 35s 43ms/step - loss: 1.0343 - acc: 0.7908 - val_loss: 1.0135 - val_acc: 0.7522\n",
      "Epoch 27/45\n",
      "808/808 [==============================] - 35s 44ms/step - loss: 0.8042 - acc: 0.8069 - val_loss: 0.8290 - val_acc: 0.7788\n",
      "Epoch 28/45\n",
      "808/808 [==============================] - 35s 44ms/step - loss: 0.7077 - acc: 0.8502 - val_loss: 0.9796 - val_acc: 0.7699\n",
      "Epoch 29/45\n",
      "808/808 [==============================] - 35s 43ms/step - loss: 0.8719 - acc: 0.8082 - val_loss: 1.0360 - val_acc: 0.7434\n",
      "Epoch 30/45\n",
      "808/808 [==============================] - 35s 43ms/step - loss: 0.7213 - acc: 0.8676 - val_loss: 0.7970 - val_acc: 0.7080\n",
      "Epoch 31/45\n",
      "808/808 [==============================] - 35s 43ms/step - loss: 0.7055 - acc: 0.8453 - val_loss: 1.0029 - val_acc: 0.7699\n",
      "Epoch 32/45\n",
      "808/808 [==============================] - 35s 43ms/step - loss: 0.6772 - acc: 0.8725 - val_loss: 0.9624 - val_acc: 0.7257\n"
     ]
    },
    {
     "data": {
      "image/png": "[encoded data removed]",
      "text/plain": [
       "<Figure size 792x288 with 2 Axes>"
      ]
     },
     "metadata": {
      "needs_background": "light"
     },
     "output_type": "display_data"
    },
    {
     "name": "stdout",
     "output_type": "stream",
     "text": [
      "Final epoch results:\n",
      "Balanced Accuracy: 74.13 %\n",
      "Sensitivity: 58.06 %\n",
      "Specificity: 90.20 %\n",
      "Train on 808 samples, validate on 113 samples\n",
      "Epoch 1/45\n",
      "808/808 [==============================] - 35s 44ms/step - loss: 3.4834 - acc: 0.5000 - val_loss: 1.3873 - val_acc: 0.5664\n",
      "Epoch 2/45\n",
      "808/808 [==============================] - 35s 43ms/step - loss: 4.4095 - acc: 0.5124 - val_loss: 5.0048 - val_acc: 0.5398\n",
      "Epoch 3/45\n",
      "808/808 [==============================] - 35s 43ms/step - loss: 4.9001 - acc: 0.5161 - val_loss: 4.0660 - val_acc: 0.4779\n",
      "Epoch 4/45\n",
      "808/808 [==============================] - 35s 44ms/step - loss: 1.7850 - acc: 0.4901 - val_loss: 1.1510 - val_acc: 0.4513\n",
      "Epoch 5/45\n",
      "808/808 [==============================] - 35s 43ms/step - loss: 1.0143 - acc: 0.5062 - val_loss: 0.8774 - val_acc: 0.4513\n",
      "Epoch 6/45\n",
      "808/808 [==============================] - 35s 43ms/step - loss: 1.0424 - acc: 0.5235 - val_loss: 0.9179 - val_acc: 0.5487\n",
      "Epoch 7/45\n",
      "808/808 [==============================] - 35s 43ms/step - loss: 0.8822 - acc: 0.4938 - val_loss: 0.7914 - val_acc: 0.5487\n",
      "Epoch 8/45\n",
      "808/808 [==============================] - 35s 43ms/step - loss: 4.3090 - acc: 0.4691 - val_loss: 2.5769 - val_acc: 0.4336\n",
      "Epoch 9/45\n",
      "808/808 [==============================] - 35s 43ms/step - loss: 1.8519 - acc: 0.5198 - val_loss: 1.4778 - val_acc: 0.4513\n",
      "Epoch 10/45\n",
      "808/808 [==============================] - 35s 43ms/step - loss: 1.2521 - acc: 0.4777 - val_loss: 1.0564 - val_acc: 0.5487\n",
      "Epoch 11/45\n",
      "808/808 [==============================] - 36s 44ms/step - loss: 1.2017 - acc: 0.5235 - val_loss: 1.0182 - val_acc: 0.4513\n",
      "Epoch 12/45\n",
      "808/808 [==============================] - 35s 44ms/step - loss: 0.9706 - acc: 0.4988 - val_loss: 0.9271 - val_acc: 0.5487\n",
      "Epoch 13/45\n",
      "808/808 [==============================] - 35s 44ms/step - loss: 0.9547 - acc: 0.5136 - val_loss: 0.8411 - val_acc: 0.5487\n",
      "Epoch 14/45\n",
      "808/808 [==============================] - 35s 44ms/step - loss: 0.9159 - acc: 0.4926 - val_loss: 0.8678 - val_acc: 0.5487\n",
      "Epoch 15/45\n",
      "808/808 [==============================] - 35s 44ms/step - loss: 0.9580 - acc: 0.4950 - val_loss: 0.8875 - val_acc: 0.5487\n",
      "Epoch 16/45\n",
      "808/808 [==============================] - 35s 43ms/step - loss: 0.9186 - acc: 0.5000 - val_loss: 0.9314 - val_acc: 0.4513\n",
      "Epoch 17/45\n",
      "808/808 [==============================] - 35s 43ms/step - loss: 0.8700 - acc: 0.5260 - val_loss: 0.8042 - val_acc: 0.4513\n"
     ]
    },
    {
     "data": {
      "image/png": "[encoded data removed]",
      "text/plain": [
       "<Figure size 792x288 with 2 Axes>"
      ]
     },
     "metadata": {
      "needs_background": "light"
     },
     "output_type": "display_data"
    },
    {
     "name": "stdout",
     "output_type": "stream",
     "text": [
      "Final epoch results:\n",
      "Balanced Accuracy: 50.00 %\n",
      "Sensitivity: 0.00 %\n",
      "Specificity: 100.00 %\n",
      "Train on 808 samples, validate on 113 samples\n",
      "Epoch 1/45\n",
      "808/808 [==============================] - 36s 44ms/step - loss: 3.7464 - acc: 0.5149 - val_loss: 1.6941 - val_acc: 0.4513\n",
      "Epoch 2/45\n",
      "808/808 [==============================] - 35s 43ms/step - loss: 1.2892 - acc: 0.5099 - val_loss: 0.9788 - val_acc: 0.6106\n",
      "Epoch 3/45\n",
      "808/808 [==============================] - 35s 43ms/step - loss: 2.3642 - acc: 0.4777 - val_loss: 4.8350 - val_acc: 0.5752\n",
      "Epoch 4/45\n",
      "808/808 [==============================] - 35s 43ms/step - loss: 3.1604 - acc: 0.4938 - val_loss: 1.5005 - val_acc: 0.5487\n",
      "Epoch 5/45\n",
      "808/808 [==============================] - 35s 44ms/step - loss: 1.2564 - acc: 0.5037 - val_loss: 1.0184 - val_acc: 0.5487\n",
      "Epoch 6/45\n",
      "808/808 [==============================] - 35s 43ms/step - loss: 1.0263 - acc: 0.4950 - val_loss: 1.1116 - val_acc: 0.4513\n",
      "Epoch 7/45\n",
      "808/808 [==============================] - 35s 43ms/step - loss: 1.1296 - acc: 0.4876 - val_loss: 0.8793 - val_acc: 0.5487\n",
      "Epoch 8/45\n",
      "808/808 [==============================] - 35s 43ms/step - loss: 0.8812 - acc: 0.5062 - val_loss: 0.8003 - val_acc: 0.5487\n",
      "Epoch 9/45\n",
      "808/808 [==============================] - 35s 43ms/step - loss: 0.8055 - acc: 0.5087 - val_loss: 0.7684 - val_acc: 0.4513\n",
      "Epoch 10/45\n",
      "808/808 [==============================] - 35s 43ms/step - loss: 0.8150 - acc: 0.5074 - val_loss: 0.8863 - val_acc: 0.4513\n",
      "Epoch 11/45\n",
      "808/808 [==============================] - 35s 43ms/step - loss: 0.7977 - acc: 0.5062 - val_loss: 0.7529 - val_acc: 0.4513\n",
      "Epoch 12/45\n",
      "808/808 [==============================] - 35s 43ms/step - loss: 0.9724 - acc: 0.4864 - val_loss: 0.8447 - val_acc: 0.4513\n",
      "Epoch 13/45\n",
      "808/808 [==============================] - 35s 43ms/step - loss: 0.7800 - acc: 0.5186 - val_loss: 0.7816 - val_acc: 0.4513\n",
      "Epoch 14/45\n",
      "808/808 [==============================] - 35s 44ms/step - loss: 0.7537 - acc: 0.5136 - val_loss: 0.7192 - val_acc: 0.5487\n",
      "Epoch 15/45\n",
      "808/808 [==============================] - 35s 43ms/step - loss: 0.8553 - acc: 0.5186 - val_loss: 0.9059 - val_acc: 0.4513\n",
      "Epoch 16/45\n",
      "808/808 [==============================] - 35s 43ms/step - loss: 0.8564 - acc: 0.5161 - val_loss: 0.8811 - val_acc: 0.4513\n",
      "Epoch 17/45\n",
      "808/808 [==============================] - 35s 43ms/step - loss: 0.7705 - acc: 0.5347 - val_loss: 0.7354 - val_acc: 0.4513\n",
      "Epoch 18/45\n",
      "808/808 [==============================] - 35s 43ms/step - loss: 0.7883 - acc: 0.5223 - val_loss: 0.7668 - val_acc: 0.5752\n",
      "Epoch 19/45\n",
      "808/808 [==============================] - 35s 43ms/step - loss: 0.7626 - acc: 0.5173 - val_loss: 0.8027 - val_acc: 0.5487\n",
      "Epoch 20/45\n",
      "808/808 [==============================] - 35s 44ms/step - loss: 0.8066 - acc: 0.5000 - val_loss: 0.7346 - val_acc: 0.4513\n",
      "Epoch 21/45\n",
      "808/808 [==============================] - 35s 43ms/step - loss: 0.7407 - acc: 0.4938 - val_loss: 0.7265 - val_acc: 0.5752\n",
      "Epoch 22/45\n",
      "808/808 [==============================] - 36s 44ms/step - loss: 0.7485 - acc: 0.5582 - val_loss: 0.7601 - val_acc: 0.4513\n",
      "Epoch 23/45\n",
      "808/808 [==============================] - 35s 44ms/step - loss: 0.7824 - acc: 0.5087 - val_loss: 0.7162 - val_acc: 0.5487\n",
      "Epoch 24/45\n",
      "808/808 [==============================] - 35s 44ms/step - loss: 0.7255 - acc: 0.5334 - val_loss: 0.7290 - val_acc: 0.4513\n",
      "Epoch 25/45\n",
      "808/808 [==============================] - 35s 44ms/step - loss: 0.7719 - acc: 0.5000 - val_loss: 1.0133 - val_acc: 0.5664\n",
      "Epoch 26/45\n",
      "808/808 [==============================] - 35s 43ms/step - loss: 1.3485 - acc: 0.5074 - val_loss: 0.7942 - val_acc: 0.5487\n",
      "Epoch 27/45\n",
      "808/808 [==============================] - 35s 44ms/step - loss: 0.7654 - acc: 0.4604 - val_loss: 0.7145 - val_acc: 0.5487\n",
      "Epoch 28/45\n",
      "808/808 [==============================] - 35s 44ms/step - loss: 0.8110 - acc: 0.5050 - val_loss: 1.1328 - val_acc: 0.5487\n",
      "Epoch 29/45\n",
      "808/808 [==============================] - 35s 44ms/step - loss: 0.8722 - acc: 0.4950 - val_loss: 0.7460 - val_acc: 0.5487\n",
      "Epoch 30/45\n",
      "808/808 [==============================] - 35s 43ms/step - loss: 0.7579 - acc: 0.4827 - val_loss: 1.0199 - val_acc: 0.4513\n",
      "Epoch 31/45\n",
      "808/808 [==============================] - 35s 43ms/step - loss: 0.7565 - acc: 0.5347 - val_loss: 0.7871 - val_acc: 0.4690\n",
      "Epoch 32/45\n",
      "808/808 [==============================] - 36s 44ms/step - loss: 0.8475 - acc: 0.4975 - val_loss: 0.7475 - val_acc: 0.4513\n"
     ]
    }
   ],
   "source": [
    "# training args\n",
    "lr = 0.002\n",
    "lr_decay = 0.\n",
    "\n",
    "num_trials = 10\n",
    "patience = 10\n",
    "store_models = True\n",
    "\n",
    "best_epoch_acc = []\n",
    "final_epoch_sens = []\n",
    "final_epoch_spec = []\n",
    "\n",
    "for i in range(num_trials):\n",
    "    # init model\n",
    "    model = SixtyFourNet(drop_rate=0.3, weight_dcay=0.04, input_shape=X_train.shape)\n",
    "    opti = Adam(lr=lr, decay=lr_decay)\n",
    "    model.compile(loss='binary_crossentropy', optimizer=opti, metrics=['accuracy'])\n",
    "    \n",
    "    #callbacks\n",
    "    earlystopping = EarlyStopping(monitor='val_loss', min_delta=0, patience=patience, verbose=0, mode='auto')\n",
    "    model_checkpoint = ModelCheckpoint(os.path.join(result_dir, \"model_trial_%i.h5\" %i), monitor='val_acc', verbose=0, save_best_only=True, mode='max')\n",
    "\n",
    "    if store_models:\n",
    "        callbacks = [earlystopping, model_checkpoint]\n",
    "    else:\n",
    "        callbacks = [earlystopping]\n",
    "    \n",
    "    # Start training\n",
    "    history = model.fit(\n",
    "        X_train[train_idx],\n",
    "        y_train[train_idx],\n",
    "        epochs=num_epochs,\n",
    "        batch_size=b,\n",
    "        validation_data=(X_train[val_idx],y_train[val_idx]),\n",
    "        callbacks=callbacks,\n",
    "        shuffle=True\n",
    "    )\n",
    "    training_time = time.time() - start_time\n",
    "    # Plot training curves\n",
    "    plt.figure(figsize=(11, 4))\n",
    "    plt.subplot(1, 2, 1)\n",
    "    plt.plot(history.history[\"loss\"])\n",
    "    plt.plot(history.history[\"val_loss\"])\n",
    "    plt.legend([\"Train\", \"Val\"])\n",
    "    plt.title(\"Loss\")\n",
    "    plt.subplot(1, 2, 2)\n",
    "    plt.plot(history.history[\"acc\"])\n",
    "    plt.plot(history.history[\"val_acc\"])\n",
    "    plt.legend([\"Train\", \"Val\"])\n",
    "    plt.title(\"Accuracy\")\n",
    "    plt.show()    \n",
    "    # Evaluation\n",
    "    y_pred = model.predict(X_train[val_idx], batch_size=1).flatten() # predict and turn into 1-dimensional array\n",
    "    sens = sensitivity(y_train[val_idx], y_pred>0.5)\n",
    "    spec = specificity(y_train[val_idx], y_pred>0.5)\n",
    "    # Store results\n",
    "    best_epoch = np.argmax(history.history[\"val_acc\"])\n",
    "    best_epoch_acc.append(history.history[\"val_acc\"][best_epoch])\n",
    "    final_epoch_sens.append(sens)\n",
    "    final_epoch_spec.append(spec)\n",
    "    # Print results\n",
    "    print(\"Final epoch results:\")\n",
    "    print(\"Balanced Accuracy: {:.2f} %\".format(((sens + spec) * 100) / 2))\n",
    "    print(\"Sensitivity: {:.2f} %\".format(sens * 100))\n",
    "    print(\"Specificity: {:.2f} %\".format(spec * 100))"
   ]
  },
  {
   "cell_type": "code",
   "execution_count": null,
   "metadata": {
    "collapsed": true
   },
   "outputs": [],
   "source": [
    "print(\"All best val accuracies: {}\".format(best_epoch_acc))\n",
    "print(\"Average best validation accuracy over {} trials: {:.5f} (std: {:.5f})\".format(num_trials, np.mean(best_epoch_acc), np.std(best_epoch_acc)))"
   ]
  },
  {
   "cell_type": "code",
   "execution_count": null,
   "metadata": {
    "collapsed": true
   },
   "outputs": [],
   "source": [
    "print(\"Final epochs sensitivity: {}\".format(final_epoch_sens))\n",
    "print(\"Final epochs specificity: {}\".format(final_epoch_spec))"
   ]
  },
  {
   "cell_type": "code",
   "execution_count": null,
   "metadata": {
    "collapsed": true
   },
   "outputs": [],
   "source": [
    "print(\"Training Time: {}h:{}m:{}s\".format(\n",
    "            training_time//3600, (training_time//60)%60, training_time%60))"
   ]
  },
  {
   "cell_type": "code",
   "execution_count": null,
   "metadata": {
    "collapsed": true
   },
   "outputs": [],
   "source": [
    "np.max(history.history[\"val_acc\"])"
   ]
  },
  {
   "cell_type": "code",
   "execution_count": null,
   "metadata": {
    "collapsed": true
   },
   "outputs": [],
   "source": [
    "quit()"
   ]
  },
  {
   "cell_type": "code",
   "execution_count": null,
   "metadata": {
    "collapsed": true
   },
   "outputs": [],
   "source": []
  }
 ],
 "metadata": {
  "kernelspec": {
   "display_name": "Python (postal)",
   "language": "python",
   "name": "postal"
  },
  "language_info": {
   "codemirror_mode": {
    "name": "ipython",
    "version": 3
   },
   "file_extension": ".py",
   "mimetype": "text/x-python",
   "name": "python",
   "nbconvert_exporter": "python",
   "pygments_lexer": "ipython3",
   "version": "3.6.6"
  }
 },
 "nbformat": 4,
 "nbformat_minor": 2
}
