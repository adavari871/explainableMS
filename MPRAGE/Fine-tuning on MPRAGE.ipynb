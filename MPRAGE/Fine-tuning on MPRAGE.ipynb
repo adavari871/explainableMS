{
 "cells": [
  {
   "cell_type": "markdown",
   "metadata": {},
   "source": [
    "For fine-tuning we have 3 datasets: train, validation and holdout"
   ]
  },
  {
   "cell_type": "code",
   "execution_count": 1,
   "metadata": {},
   "outputs": [
    {
     "name": "stderr",
     "output_type": "stream",
     "text": [
      "Using TensorFlow backend.\n"
     ]
    }
   ],
   "source": [
    "import numpy as np\n",
    "import pandas as pd\n",
    "import nibabel as nib\n",
    "import nilearn\n",
    "\n",
    "from scipy.ndimage.interpolation import zoom\n",
    "from sklearn.utils import shuffle\n",
    "from sklearn.model_selection import GroupShuffleSplit\n",
    "from sklearn.metrics import confusion_matrix\n",
    "from sklearn.model_selection import KFold\n",
    "\n",
    "import matplotlib.pyplot as plt\n",
    "import os\n",
    "import time\n",
    "import h5py\n",
    "\n",
    "# keras\n",
    "from keras.regularizers import l2\n",
    "from keras.optimizers import Adam\n",
    "from keras.models import load_model\n",
    "from keras.callbacks import EarlyStopping, ModelCheckpoint\n",
    "from keras.utils import Sequence\n",
    "import keras.backend as K\n",
    "\n",
    "from config import *\n",
    "from utils import specificity, sensitivity, balanced_accuracy, IntensityRescale, sagittal_flip, translate"
   ]
  },
  {
   "cell_type": "code",
   "execution_count": 2,
   "metadata": {
    "collapsed": true
   },
   "outputs": [],
   "source": [
    "# Start timing\n",
    "start_time = time.time()"
   ]
  },
  {
   "cell_type": "code",
   "execution_count": 3,
   "metadata": {
    "collapsed": true
   },
   "outputs": [],
   "source": [
    "#percent = 0.5\n",
    "import tensorflow as tf\n",
    "from keras.backend.tensorflow_backend import set_session\n",
    "\n",
    "\n",
    "config = tf.ConfigProto()\n",
    "#config.gpu_options.per_process_gpu_memory_fraction = percent\n",
    "config.gpu_options.visible_device_list = \"4\"\n",
    "set_session(tf.Session(config=config))"
   ]
  },
  {
   "cell_type": "code",
   "execution_count": 4,
   "metadata": {
    "collapsed": true
   },
   "outputs": [],
   "source": [
    "zero_one_normalize = True\n",
    "dtype = np.float32\n",
    "result_dir = \"/analysis/fabiane/models/MS/pretrained/rebuild_64Net/new_script/MPRAGE\""
   ]
  },
  {
   "cell_type": "code",
   "execution_count": 5,
   "metadata": {
    "collapsed": true
   },
   "outputs": [],
   "source": [
    "!mkdir -p $result_dir"
   ]
  },
  {
   "cell_type": "code",
   "execution_count": 6,
   "metadata": {
    "collapsed": true
   },
   "outputs": [],
   "source": [
    "# load hdf5 files and extract columns\n",
    "train_h5 = h5py.File('/analysis/share/Ritter/MS/CIS/train_dataset_MPRAGE.h5', 'r')\n",
    "holdout_h5 = h5py.File('/analysis/share/Ritter/MS/CIS/holdout_dataset_MPRAGE.h5', 'r')\n",
    "\n",
    "X_train, y_train = train_h5['X'], train_h5['y']\n",
    "X_holdout, y_holdout = holdout_h5['X'], holdout_h5['y']"
   ]
  },
  {
   "cell_type": "code",
   "execution_count": 7,
   "metadata": {
    "collapsed": true
   },
   "outputs": [],
   "source": [
    "# convert data to numpy arrays\n",
    "X_train = np.array(X_train, dtype=dtype)\n",
    "y_train = np.array(y_train)\n",
    "\n",
    "X_holdout = np.array(X_holdout, dtype=dtype)\n",
    "y_holdout = np.array(y_holdout)"
   ]
  },
  {
   "cell_type": "code",
   "execution_count": 8,
   "metadata": {},
   "outputs": [
    {
     "name": "stdout",
     "output_type": "stream",
     "text": [
      "Total datset length: 124\n",
      "Number of healthy controls: 61\n",
      "Number of MS patients: 63\n"
     ]
    }
   ],
   "source": [
    "print(\"Total datset length: {}\".format(len(y_train)))\n",
    "print(\"Number of healthy controls: {}\".format(len(np.array(y_train)[np.array(y_train)==0.])))\n",
    "print(\"Number of MS patients: {}\".format(len(np.array(y_train)[np.array(y_train)==1.])))"
   ]
  },
  {
   "cell_type": "code",
   "execution_count": 9,
   "metadata": {
    "collapsed": true
   },
   "outputs": [],
   "source": [
    "class CISDataset(Sequence):\n",
    "    def __init__(self, X, y, transform=None, batch_size=4, z_factor=None, shuffle=True, mask=None):\n",
    "        self.X = X\n",
    "        self.y = y\n",
    "        self.transform = transform\n",
    "        self.batch_size = batch_size\n",
    "        self.z_factor = z_factor\n",
    "        self.shuffle = shuffle\n",
    "        self.mask = mask\n",
    "        \n",
    "    def __len__(self):\n",
    "        return int(np.ceil(len(self.y)/self.batch_size))\n",
    "    \n",
    "    def __getitem__(self, idx):\n",
    "        # add BET\n",
    "        image = np.expand_dims(self.X[idx * self.batch_size:(idx + 1) * self.batch_size],5)\n",
    "        #label = np.array((batch_idx['label'] == \"MS\")* 1, dtype=np.int8) \n",
    "        label = np.array(self.y[idx * self.batch_size:(idx + 1) * self.batch_size], dtype=np.int8)\n",
    "        \n",
    "        if self.mask is not None:\n",
    "            for i in range(image.shape[0]):\n",
    "                image[i] *= self.mask\n",
    "        \n",
    "        for transformation in self.transform:\n",
    "            image = transformation(image)\n",
    "        \n",
    "        return image, label\n",
    "    \n",
    "    def on_epoch_end(self):\n",
    "        if self.shuffle:\n",
    "            self.X, self.y = shuffle(self.X, self.y)"
   ]
  },
  {
   "cell_type": "code",
   "execution_count": 10,
   "metadata": {
    "collapsed": true
   },
   "outputs": [],
   "source": [
    "mask = None"
   ]
  },
  {
   "cell_type": "code",
   "execution_count": 11,
   "metadata": {
    "collapsed": true
   },
   "outputs": [],
   "source": [
    "intensity = IntensityRescale(masked=False)"
   ]
  },
  {
   "cell_type": "code",
   "execution_count": 12,
   "metadata": {
    "collapsed": true
   },
   "outputs": [],
   "source": [
    "if zero_one_normalize:\n",
    "    cis_data = CISDataset(X_train, y_train, transform=[intensity], batch_size=4)\n",
    "else:\n",
    "    cis_data = CISDataset(X_train, y_train, batch_size=4)"
   ]
  },
  {
   "cell_type": "code",
   "execution_count": 13,
   "metadata": {},
   "outputs": [
    {
     "name": "stderr",
     "output_type": "stream",
     "text": [
      "/home/fabiane/anaconda2/envs/postal/lib/python3.6/site-packages/ipykernel_launcher.py:16: DeprecationWarning: Both axis > a.ndim and axis < -a.ndim - 1 are deprecated and will raise an AxisError in the future.\n",
      "  app.launch_new_instance()\n"
     ]
    },
    {
     "data": {
      "image/png": "[encoded data removed]",
      "text/plain": [
       "<Figure size 432x288 with 1 Axes>"
      ]
     },
     "metadata": {
      "needs_background": "light"
     },
     "output_type": "display_data"
    }
   ],
   "source": [
    "plt.figure()\n",
    "plt.title(\"Normalized between zero and 1\")\n",
    "plt.hist(cis_data[4][0][0].flatten())\n",
    "plt.show()"
   ]
  },
  {
   "cell_type": "code",
   "execution_count": 14,
   "metadata": {},
   "outputs": [
    {
     "name": "stderr",
     "output_type": "stream",
     "text": [
      "/home/fabiane/anaconda2/envs/postal/lib/python3.6/site-packages/ipykernel_launcher.py:16: DeprecationWarning: Both axis > a.ndim and axis < -a.ndim - 1 are deprecated and will raise an AxisError in the future.\n",
      "  app.launch_new_instance()\n"
     ]
    },
    {
     "data": {
      "image/png": "[encoded data removed]",
      "text/plain": [
       "<Figure size 432x288 with 1 Axes>"
      ]
     },
     "metadata": {
      "needs_background": "light"
     },
     "output_type": "display_data"
    }
   ],
   "source": [
    "plt.figure()\n",
    "plt.title(\"Scan image\")\n",
    "plt.imshow(np.squeeze(cis_data[4][0][0])[:,:,42], cmap='gray')\n",
    "plt.show()"
   ]
  },
  {
   "cell_type": "markdown",
   "metadata": {},
   "source": [
    "# Model"
   ]
  },
  {
   "cell_type": "code",
   "execution_count": 15,
   "metadata": {
    "collapsed": true
   },
   "outputs": [],
   "source": [
    "def init_model(path, finetune=True, up_to=7):\n",
    "    model = load_model(path)\n",
    "    model.load_weights(path)\n",
    "    if finetune:\n",
    "        for layer in model.layers[:up_to]:\n",
    "            layer.trainable = False\n",
    "    return model"
   ]
  },
  {
   "cell_type": "code",
   "execution_count": 16,
   "metadata": {},
   "outputs": [
    {
     "name": "stdout",
     "output_type": "stream",
     "text": [
      "_________________________________________________________________\n",
      "Layer (type)                 Output Shape              Param #   \n",
      "=================================================================\n",
      "Conv_1 (Conv3D)              (None, 94, 112, 94, 64)   1792      \n",
      "_________________________________________________________________\n",
      "Pool_1 (MaxPooling3D)        (None, 31, 37, 31, 64)    0         \n",
      "_________________________________________________________________\n",
      "dropout_7 (Dropout)          (None, 31, 37, 31, 64)    0         \n",
      "_________________________________________________________________\n",
      "Conv_2 (Conv3D)              (None, 29, 35, 29, 64)    110656    \n",
      "_________________________________________________________________\n",
      "Pool_2 (MaxPooling3D)        (None, 9, 11, 9, 64)      0         \n",
      "_________________________________________________________________\n",
      "dropout_8 (Dropout)          (None, 9, 11, 9, 64)      0         \n",
      "_________________________________________________________________\n",
      "Conv_3 (Conv3D)              (None, 7, 9, 7, 64)       110656    \n",
      "_________________________________________________________________\n",
      "Conv_4 (Conv3D)              (None, 5, 7, 5, 64)       110656    \n",
      "_________________________________________________________________\n",
      "Pool_4 (MaxPooling3D)        (None, 1, 2, 1, 64)       0         \n",
      "_________________________________________________________________\n",
      "dropout_9 (Dropout)          (None, 1, 2, 1, 64)       0         \n",
      "_________________________________________________________________\n",
      "flatten_3 (Flatten)          (None, 128)               0         \n",
      "_________________________________________________________________\n",
      "dense_3 (Dense)              (None, 1)                 129       \n",
      "=================================================================\n",
      "Total params: 333,889\n",
      "Trainable params: 333,889\n",
      "Non-trainable params: 0\n",
      "_________________________________________________________________\n",
      "None\n"
     ]
    }
   ],
   "source": [
    "# load model weights\n",
    "model_path = \"/analysis/share/Ritter/models/fabi/ADNI/pretraining_paper/model.h5\"\n",
    "model = init_model(model_path, finetune=False, up_to=None)\n",
    "print(model.summary())"
   ]
  },
  {
   "cell_type": "markdown",
   "metadata": {},
   "source": [
    "## Visualization"
   ]
  },
  {
   "cell_type": "code",
   "execution_count": 17,
   "metadata": {
    "collapsed": true
   },
   "outputs": [],
   "source": [
    "def visualize_weights(model):\n",
    "    # Visualize weights\n",
    "    W = model.layers[0].get_weights()[0]\n",
    "    W = np.squeeze(W)[:,:,2]\n",
    "    print(\"W shape : \", W.shape)\n",
    "\n",
    "    print(\"Weights mean {}\".format(W.mean()))\n",
    "    plt.figure(figsize=(20, 5))\n",
    "    plt.title('conv1 weights')\n",
    "    plt.imshow(make_mosaic(W, 2, 2), cmap=\"gray\")\n",
    "    plt.show()"
   ]
  },
  {
   "cell_type": "code",
   "execution_count": 18,
   "metadata": {
    "collapsed": true
   },
   "outputs": [],
   "source": [
    "import numpy.ma as ma\n",
    "def make_mosaic(imgs, nrows, ncols, border=1):\n",
    "    \"\"\"\n",
    "    Given a set of images with all the same shape, makes a\n",
    "    mosaic with nrows and ncols\n",
    "    \"\"\"\n",
    "    nimgs = imgs.shape[0]\n",
    "    imshape = imgs.shape[1:]\n",
    "    \n",
    "    mosaic = ma.masked_all((nrows * imshape[0] + (nrows - 1) * border,\n",
    "                            ncols * imshape[1] + (ncols - 1) * border),\n",
    "                            dtype=np.float32)\n",
    "    \n",
    "    paddedh = imshape[0] + border\n",
    "    paddedw = imshape[1] + border\n",
    "    for i in range(nimgs):\n",
    "        row = int(np.floor(i / ncols))\n",
    "        col = i % ncols\n",
    "        \n",
    "        mosaic[row * paddedh:row * paddedh + imshape[0],\n",
    "               col * paddedw:col * paddedw + imshape[1]] = imgs[i]\n",
    "    return mosaic"
   ]
  },
  {
   "cell_type": "code",
   "execution_count": 19,
   "metadata": {
    "collapsed": true
   },
   "outputs": [],
   "source": [
    "def reset_weights(model):\n",
    "    session = K.get_session()\n",
    "    for layer in model.layers: \n",
    "        if hasattr(layer, 'kernel_initializer'):\n",
    "            layer.kernel.initializer.run(session=session)\n"
   ]
  },
  {
   "cell_type": "code",
   "execution_count": 20,
   "metadata": {},
   "outputs": [
    {
     "name": "stdout",
     "output_type": "stream",
     "text": [
      "Pre-trained model layer 1 weights:\n",
      "W shape :  (3, 3, 64)\n",
      "Weights mean -0.003789090784266591\n"
     ]
    },
    {
     "data": {
      "image/png": "[encoded data removed]",
      "text/plain": [
       "<Figure size 1440x360 with 1 Axes>"
      ]
     },
     "metadata": {
      "needs_background": "light"
     },
     "output_type": "display_data"
    },
    {
     "name": "stdout",
     "output_type": "stream",
     "text": [
      "Random model layer 1 weights:\n",
      "W shape :  (3, 3, 64)\n",
      "Weights mean 0.0008080286206677556\n"
     ]
    },
    {
     "data": {
      "image/png": "[encoded data removed]",
      "text/plain": [
       "<Figure size 1440x360 with 1 Axes>"
      ]
     },
     "metadata": {
      "needs_background": "light"
     },
     "output_type": "display_data"
    }
   ],
   "source": [
    "# Visualize weights\n",
    "print(\"Pre-trained model layer 1 weights:\")\n",
    "visualize_weights(model)\n",
    "model_untrained = load_model(model_path)\n",
    "reset_weights(model_untrained)\n",
    "print(\"Random model layer 1 weights:\")\n",
    "visualize_weights(model_untrained)"
   ]
  },
  {
   "cell_type": "markdown",
   "metadata": {},
   "source": [
    "## Training"
   ]
  },
  {
   "cell_type": "code",
   "execution_count": 21,
   "metadata": {},
   "outputs": [
    {
     "data": {
      "text/plain": [
       "(124, 96, 114, 96)"
      ]
     },
     "execution_count": 21,
     "metadata": {},
     "output_type": "execute_result"
    }
   ],
   "source": [
    "X_train.shape"
   ]
  },
  {
   "cell_type": "code",
   "execution_count": 22,
   "metadata": {
    "collapsed": true
   },
   "outputs": [],
   "source": [
    "from sklearn.model_selection import train_test_split"
   ]
  },
  {
   "cell_type": "code",
   "execution_count": 23,
   "metadata": {
    "collapsed": true
   },
   "outputs": [],
   "source": [
    "# split training set\n",
    "X_train, X_val, y_train, y_val = train_test_split(X_train, y_train, test_size=0.1, random_state=77)"
   ]
  },
  {
   "cell_type": "code",
   "execution_count": 24,
   "metadata": {},
   "outputs": [
    {
     "name": "stdout",
     "output_type": "stream",
     "text": [
      "Trial 0\n",
      "Epoch 1/200\n"
     ]
    },
    {
     "name": "stderr",
     "output_type": "stream",
     "text": [
      "/home/fabiane/anaconda2/envs/postal/lib/python3.6/site-packages/ipykernel_launcher.py:16: DeprecationWarning: Both axis > a.ndim and axis < -a.ndim - 1 are deprecated and will raise an AxisError in the future.\n",
      "  app.launch_new_instance()\n"
     ]
    },
    {
     "name": "stdout",
     "output_type": "stream",
     "text": [
      "28/28 [==============================] - 9s 307ms/step - loss: 1.0286 - acc: 0.4673 - val_loss: 0.8644 - val_acc: 0.6923\n",
      "\n",
      "Epoch 00001: val_acc improved from -inf to 0.69231, saving model to /analysis/fabiane/models/MS/pretrained/rebuild_64Net/new_script/MPRAGE/weights-augm-trial0-improvement-BEST.hdf5\n",
      "Epoch 2/200\n",
      "28/28 [==============================] - 4s 155ms/step - loss: 0.9160 - acc: 0.5209 - val_loss: 0.9101 - val_acc: 0.3077\n",
      "\n",
      "Epoch 00002: val_acc did not improve from 0.69231\n",
      "Epoch 3/200\n",
      "28/28 [==============================] - 4s 159ms/step - loss: 0.9610 - acc: 0.4941 - val_loss: 0.9218 - val_acc: 0.3077\n",
      "\n",
      "Epoch 00003: val_acc did not improve from 0.69231\n",
      "Epoch 4/200\n",
      "28/28 [==============================] - 5s 167ms/step - loss: 0.9220 - acc: 0.4673 - val_loss: 0.8504 - val_acc: 0.3077\n",
      "\n",
      "Epoch 00004: val_acc did not improve from 0.69231\n",
      "Epoch 5/200\n",
      "28/28 [==============================] - 4s 158ms/step - loss: 0.8876 - acc: 0.5298 - val_loss: 0.7818 - val_acc: 0.6923\n",
      "\n",
      "Epoch 00005: val_acc did not improve from 0.69231\n",
      "Epoch 6/200\n",
      "28/28 [==============================] - 5s 181ms/step - loss: 0.8711 - acc: 0.5177 - val_loss: 0.8501 - val_acc: 0.3077\n",
      "\n",
      "Epoch 00006: val_acc did not improve from 0.69231\n",
      "Epoch 7/200\n",
      "28/28 [==============================] - 5s 165ms/step - loss: 0.9180 - acc: 0.4762 - val_loss: 0.8245 - val_acc: 0.3077\n",
      "\n",
      "Epoch 00007: val_acc did not improve from 0.69231\n",
      "Epoch 8/200\n",
      "28/28 [==============================] - 5s 173ms/step - loss: 0.8630 - acc: 0.4702 - val_loss: 0.8328 - val_acc: 0.1538\n",
      "\n",
      "Epoch 00008: val_acc did not improve from 0.69231\n",
      "Epoch 9/200\n",
      "28/28 [==============================] - 5s 170ms/step - loss: 0.9242 - acc: 0.4762 - val_loss: 0.9816 - val_acc: 0.3077\n",
      "\n",
      "Epoch 00009: val_acc did not improve from 0.69231\n",
      "Epoch 10/200\n",
      "28/28 [==============================] - 5s 173ms/step - loss: 0.8324 - acc: 0.5595 - val_loss: 0.7496 - val_acc: 0.6923\n",
      "\n",
      "Epoch 00010: val_acc did not improve from 0.69231\n",
      "Epoch 11/200\n",
      "28/28 [==============================] - 5s 171ms/step - loss: 1.0115 - acc: 0.4941 - val_loss: 0.7847 - val_acc: 0.6923\n",
      "\n",
      "Epoch 00011: val_acc did not improve from 0.69231\n",
      "Epoch 12/200\n",
      "28/28 [==============================] - 5s 168ms/step - loss: 0.8418 - acc: 0.5506 - val_loss: 0.8974 - val_acc: 0.3077\n",
      "\n",
      "Epoch 00012: val_acc did not improve from 0.69231\n",
      "Epoch 13/200\n",
      "28/28 [==============================] - 5s 179ms/step - loss: 0.8364 - acc: 0.5388 - val_loss: 0.8535 - val_acc: 0.3077\n",
      "\n",
      "Epoch 00013: val_acc did not improve from 0.69231\n",
      "Epoch 14/200\n",
      "28/28 [==============================] - 5s 164ms/step - loss: 0.7884 - acc: 0.5416 - val_loss: 0.8670 - val_acc: 0.3077\n",
      "\n",
      "Epoch 00014: val_acc did not improve from 0.69231\n",
      "Epoch 15/200\n",
      "28/28 [==============================] - 5s 162ms/step - loss: 0.8425 - acc: 0.5059 - val_loss: 0.8849 - val_acc: 0.3077\n",
      "\n",
      "Epoch 00015: val_acc did not improve from 0.69231\n",
      "Epoch 00015: early stopping\n",
      "Trial 1\n",
      "Epoch 1/200\n",
      "28/28 [==============================] - 6s 229ms/step - loss: 1.0019 - acc: 0.4644 - val_loss: 1.1719 - val_acc: 0.3077\n",
      "\n",
      "Epoch 00001: val_acc improved from -inf to 0.30769, saving model to /analysis/fabiane/models/MS/pretrained/rebuild_64Net/new_script/MPRAGE/weights-augm-trial1-improvement-BEST.hdf5\n",
      "Epoch 2/200\n",
      "28/28 [==============================] - 4s 156ms/step - loss: 1.0181 - acc: 0.4494 - val_loss: 0.7723 - val_acc: 0.6923\n",
      "\n",
      "Epoch 00002: val_acc improved from 0.30769 to 0.69231, saving model to /analysis/fabiane/models/MS/pretrained/rebuild_64Net/new_script/MPRAGE/weights-augm-trial1-improvement-BEST.hdf5\n",
      "Epoch 3/200\n",
      "28/28 [==============================] - 5s 167ms/step - loss: 1.0878 - acc: 0.4734 - val_loss: 0.9215 - val_acc: 0.3077\n",
      "\n",
      "Epoch 00003: val_acc did not improve from 0.69231\n",
      "Epoch 4/200\n",
      "28/28 [==============================] - 5s 165ms/step - loss: 1.0000 - acc: 0.5388 - val_loss: 0.9011 - val_acc: 0.3077\n",
      "\n",
      "Epoch 00004: val_acc did not improve from 0.69231\n",
      "Epoch 5/200\n",
      "28/28 [==============================] - 5s 168ms/step - loss: 0.8702 - acc: 0.5327 - val_loss: 0.8174 - val_acc: 0.6923\n",
      "\n",
      "Epoch 00005: val_acc did not improve from 0.69231\n",
      "Epoch 6/200\n",
      "28/28 [==============================] - 5s 167ms/step - loss: 0.9310 - acc: 0.3691 - val_loss: 0.8850 - val_acc: 0.3077\n",
      "\n",
      "Epoch 00006: val_acc did not improve from 0.69231\n",
      "Epoch 7/200\n",
      "28/28 [==============================] - 5s 163ms/step - loss: 0.8629 - acc: 0.4852 - val_loss: 0.8482 - val_acc: 0.3077\n",
      "\n",
      "Epoch 00007: val_acc did not improve from 0.69231\n",
      "Epoch 00007: early stopping\n",
      "Trial 2\n",
      "Epoch 1/200\n",
      "28/28 [==============================] - 6s 220ms/step - loss: 1.0220 - acc: 0.4255 - val_loss: 1.0860 - val_acc: 0.3077\n",
      "\n",
      "Epoch 00001: val_acc improved from -inf to 0.30769, saving model to /analysis/fabiane/models/MS/pretrained/rebuild_64Net/new_script/MPRAGE/weights-augm-trial2-improvement-BEST.hdf5\n",
      "Epoch 2/200\n",
      "28/28 [==============================] - 4s 156ms/step - loss: 0.9330 - acc: 0.5713 - val_loss: 0.8436 - val_acc: 0.6923\n",
      "\n",
      "Epoch 00002: val_acc improved from 0.30769 to 0.69231, saving model to /analysis/fabiane/models/MS/pretrained/rebuild_64Net/new_script/MPRAGE/weights-augm-trial2-improvement-BEST.hdf5\n",
      "Epoch 3/200\n",
      "28/28 [==============================] - 4s 160ms/step - loss: 0.9966 - acc: 0.5445 - val_loss: 0.8877 - val_acc: 0.3077\n",
      "\n",
      "Epoch 00003: val_acc did not improve from 0.69231\n",
      "Epoch 4/200\n",
      "28/28 [==============================] - 5s 162ms/step - loss: 1.0809 - acc: 0.4287 - val_loss: 0.8726 - val_acc: 0.3077\n",
      "\n",
      "Epoch 00004: val_acc did not improve from 0.69231\n",
      "Epoch 5/200\n",
      "28/28 [==============================] - 5s 171ms/step - loss: 0.9054 - acc: 0.5774 - val_loss: 0.9455 - val_acc: 0.3077\n",
      "\n",
      "Epoch 00005: val_acc did not improve from 0.69231\n",
      "Epoch 6/200\n",
      "28/28 [==============================] - 5s 168ms/step - loss: 0.8470 - acc: 0.5298 - val_loss: 0.8212 - val_acc: 0.1538\n",
      "\n",
      "Epoch 00006: val_acc did not improve from 0.69231\n",
      "Epoch 7/200\n",
      "28/28 [==============================] - 5s 178ms/step - loss: 0.8946 - acc: 0.4941 - val_loss: 0.8090 - val_acc: 0.1538\n",
      "\n",
      "Epoch 00007: val_acc did not improve from 0.69231\n",
      "Epoch 8/200\n",
      "28/28 [==============================] - 5s 168ms/step - loss: 0.8683 - acc: 0.4880 - val_loss: 0.8614 - val_acc: 0.3077\n",
      "\n",
      "Epoch 00008: val_acc did not improve from 0.69231\n",
      "Epoch 9/200\n",
      "28/28 [==============================] - 5s 175ms/step - loss: 0.8087 - acc: 0.5269 - val_loss: 0.7461 - val_acc: 0.6923\n",
      "\n",
      "Epoch 00009: val_acc did not improve from 0.69231\n",
      "Epoch 10/200\n",
      "28/28 [==============================] - 5s 171ms/step - loss: 0.8193 - acc: 0.5327 - val_loss: 0.7670 - val_acc: 0.6923\n",
      "\n",
      "Epoch 00010: val_acc did not improve from 0.69231\n",
      "Epoch 11/200\n",
      "28/28 [==============================] - 5s 163ms/step - loss: 0.8196 - acc: 0.4702 - val_loss: 0.7936 - val_acc: 0.3077\n",
      "\n",
      "Epoch 00011: val_acc did not improve from 0.69231\n",
      "Epoch 12/200\n",
      "28/28 [==============================] - 5s 178ms/step - loss: 0.8297 - acc: 0.4584 - val_loss: 0.7837 - val_acc: 0.3077\n",
      "\n",
      "Epoch 00012: val_acc did not improve from 0.69231\n",
      "Epoch 13/200\n",
      "28/28 [==============================] - 5s 161ms/step - loss: 0.8146 - acc: 0.4791 - val_loss: 0.8584 - val_acc: 0.3077\n",
      "\n",
      "Epoch 00013: val_acc did not improve from 0.69231\n",
      "Epoch 14/200\n",
      "28/28 [==============================] - 5s 180ms/step - loss: 0.8205 - acc: 0.4523 - val_loss: 0.8137 - val_acc: 0.3077\n",
      "\n",
      "Epoch 00014: val_acc did not improve from 0.69231\n",
      "Epoch 00014: early stopping\n",
      "Trial 3\n",
      "Epoch 1/200\n",
      "28/28 [==============================] - 7s 234ms/step - loss: 1.0259 - acc: 0.4673 - val_loss: 0.9168 - val_acc: 0.3077\n",
      "\n",
      "Epoch 00001: val_acc improved from -inf to 0.30769, saving model to /analysis/fabiane/models/MS/pretrained/rebuild_64Net/new_script/MPRAGE/weights-augm-trial3-improvement-BEST.hdf5\n",
      "Epoch 2/200\n",
      "28/28 [==============================] - 4s 156ms/step - loss: 0.9587 - acc: 0.4970 - val_loss: 0.8976 - val_acc: 0.3077\n",
      "\n",
      "Epoch 00002: val_acc did not improve from 0.30769\n",
      "Epoch 3/200\n",
      "28/28 [==============================] - 5s 170ms/step - loss: 0.9054 - acc: 0.5209 - val_loss: 0.8528 - val_acc: 0.3077\n",
      "\n",
      "Epoch 00003: val_acc did not improve from 0.30769\n",
      "Epoch 4/200\n",
      "28/28 [==============================] - 5s 165ms/step - loss: 0.8680 - acc: 0.5534 - val_loss: 0.8316 - val_acc: 0.3077\n"
     ]
    },
    {
     "name": "stdout",
     "output_type": "stream",
     "text": [
      "\n",
      "Epoch 00004: val_acc did not improve from 0.30769\n",
      "Epoch 5/200\n",
      "28/28 [==============================] - 5s 178ms/step - loss: 0.9221 - acc: 0.4584 - val_loss: 0.8212 - val_acc: 0.3077\n",
      "\n",
      "Epoch 00005: val_acc did not improve from 0.30769\n",
      "Epoch 6/200\n",
      "28/28 [==============================] - 5s 173ms/step - loss: 0.8901 - acc: 0.4820 - val_loss: 0.8139 - val_acc: 0.3077\n",
      "\n",
      "Epoch 00006: val_acc did not improve from 0.30769\n",
      "Epoch 7/200\n",
      "28/28 [==============================] - 5s 179ms/step - loss: 0.8355 - acc: 0.4880 - val_loss: 0.8452 - val_acc: 0.3077\n",
      "\n",
      "Epoch 00007: val_acc did not improve from 0.30769\n",
      "Epoch 8/200\n",
      "28/28 [==============================] - 5s 170ms/step - loss: 0.8564 - acc: 0.4316 - val_loss: 0.8142 - val_acc: 0.3077\n",
      "\n",
      "Epoch 00008: val_acc did not improve from 0.30769\n",
      "Epoch 9/200\n",
      "28/28 [==============================] - 5s 165ms/step - loss: 0.8396 - acc: 0.4762 - val_loss: 0.7928 - val_acc: 0.3077\n",
      "\n",
      "Epoch 00009: val_acc did not improve from 0.30769\n",
      "Epoch 10/200\n",
      "28/28 [==============================] - 5s 168ms/step - loss: 0.7993 - acc: 0.4852 - val_loss: 0.7455 - val_acc: 0.6923\n",
      "\n",
      "Epoch 00010: val_acc improved from 0.30769 to 0.69231, saving model to /analysis/fabiane/models/MS/pretrained/rebuild_64Net/new_script/MPRAGE/weights-augm-trial3-improvement-BEST.hdf5\n",
      "Epoch 11/200\n",
      "28/28 [==============================] - 4s 158ms/step - loss: 0.8489 - acc: 0.4405 - val_loss: 0.7955 - val_acc: 0.3077\n",
      "\n",
      "Epoch 00011: val_acc did not improve from 0.69231\n",
      "Epoch 12/200\n",
      "28/28 [==============================] - 5s 170ms/step - loss: 0.7541 - acc: 0.5327 - val_loss: 0.7977 - val_acc: 0.3077\n",
      "\n",
      "Epoch 00012: val_acc did not improve from 0.69231\n",
      "Epoch 13/200\n",
      "28/28 [==============================] - 5s 163ms/step - loss: 0.7733 - acc: 0.5148 - val_loss: 0.7903 - val_acc: 0.3077\n",
      "\n",
      "Epoch 00013: val_acc did not improve from 0.69231\n",
      "Epoch 14/200\n",
      "28/28 [==============================] - 5s 167ms/step - loss: 0.7604 - acc: 0.4909 - val_loss: 0.7702 - val_acc: 0.3077\n",
      "\n",
      "Epoch 00014: val_acc did not improve from 0.69231\n",
      "Epoch 15/200\n",
      "28/28 [==============================] - 5s 162ms/step - loss: 0.7887 - acc: 0.4584 - val_loss: 0.7673 - val_acc: 0.3077\n",
      "\n",
      "Epoch 00015: val_acc did not improve from 0.69231\n",
      "Epoch 00015: early stopping\n",
      "Trial 4\n",
      "Epoch 1/200\n",
      "28/28 [==============================] - 6s 232ms/step - loss: 1.0925 - acc: 0.5180 - val_loss: 1.3498 - val_acc: 0.3077\n",
      "\n",
      "Epoch 00001: val_acc improved from -inf to 0.30769, saving model to /analysis/fabiane/models/MS/pretrained/rebuild_64Net/new_script/MPRAGE/weights-augm-trial4-improvement-BEST.hdf5\n",
      "Epoch 2/200\n",
      "28/28 [==============================] - 4s 156ms/step - loss: 0.9385 - acc: 0.6695 - val_loss: 0.8233 - val_acc: 0.6923\n",
      "\n",
      "Epoch 00002: val_acc improved from 0.30769 to 0.69231, saving model to /analysis/fabiane/models/MS/pretrained/rebuild_64Net/new_script/MPRAGE/weights-augm-trial4-improvement-BEST.hdf5\n",
      "Epoch 3/200\n",
      "28/28 [==============================] - 4s 160ms/step - loss: 0.9437 - acc: 0.5180 - val_loss: 0.8782 - val_acc: 0.3077\n",
      "\n",
      "Epoch 00003: val_acc did not improve from 0.69231\n",
      "Epoch 4/200\n",
      "28/28 [==============================] - 5s 165ms/step - loss: 0.9656 - acc: 0.4405 - val_loss: 0.8226 - val_acc: 0.6923\n",
      "\n",
      "Epoch 00004: val_acc did not improve from 0.69231\n",
      "Epoch 5/200\n",
      "28/28 [==============================] - 5s 165ms/step - loss: 0.8860 - acc: 0.5834 - val_loss: 0.8230 - val_acc: 0.3077\n",
      "\n",
      "Epoch 00005: val_acc did not improve from 0.69231\n",
      "Epoch 6/200\n",
      "28/28 [==============================] - 5s 168ms/step - loss: 0.8293 - acc: 0.5716 - val_loss: 0.9651 - val_acc: 0.3077\n",
      "\n",
      "Epoch 00006: val_acc did not improve from 0.69231\n",
      "Epoch 7/200\n",
      "28/28 [==============================] - 5s 167ms/step - loss: 0.8353 - acc: 0.5002 - val_loss: 0.8606 - val_acc: 0.3077\n",
      "\n",
      "Epoch 00007: val_acc did not improve from 0.69231\n",
      "Epoch 8/200\n",
      "28/28 [==============================] - 5s 164ms/step - loss: 0.8288 - acc: 0.5416 - val_loss: 0.8056 - val_acc: 0.3077\n",
      "\n",
      "Epoch 00008: val_acc did not improve from 0.69231\n",
      "Epoch 9/200\n",
      "28/28 [==============================] - 5s 168ms/step - loss: 0.7821 - acc: 0.5952 - val_loss: 0.8273 - val_acc: 0.3077\n",
      "\n",
      "Epoch 00009: val_acc did not improve from 0.69231\n",
      "Epoch 10/200\n",
      "28/28 [==============================] - 5s 168ms/step - loss: 0.7942 - acc: 0.5002 - val_loss: 0.7989 - val_acc: 0.3077\n",
      "\n",
      "Epoch 00010: val_acc did not improve from 0.69231\n",
      "Epoch 11/200\n",
      "28/28 [==============================] - 5s 166ms/step - loss: 0.7964 - acc: 0.5774 - val_loss: 0.8015 - val_acc: 0.3077\n",
      "\n",
      "Epoch 00011: val_acc did not improve from 0.69231\n",
      "Epoch 12/200\n",
      "28/28 [==============================] - 5s 167ms/step - loss: 0.8007 - acc: 0.5298 - val_loss: 0.7732 - val_acc: 0.3077\n",
      "\n",
      "Epoch 00012: val_acc did not improve from 0.69231\n",
      "Epoch 13/200\n",
      "28/28 [==============================] - 5s 162ms/step - loss: 0.8178 - acc: 0.5238 - val_loss: 0.7745 - val_acc: 0.3077\n",
      "\n",
      "Epoch 00013: val_acc did not improve from 0.69231\n",
      "Epoch 14/200\n",
      "28/28 [==============================] - 5s 169ms/step - loss: 0.8024 - acc: 0.4734 - val_loss: 0.7822 - val_acc: 0.3077\n",
      "\n",
      "Epoch 00014: val_acc did not improve from 0.69231\n",
      "Epoch 15/200\n",
      "28/28 [==============================] - 5s 166ms/step - loss: 0.7979 - acc: 0.5356 - val_loss: 0.7785 - val_acc: 0.3077\n",
      "\n",
      "Epoch 00015: val_acc did not improve from 0.69231\n",
      "Epoch 16/200\n",
      "28/28 [==============================] - 5s 166ms/step - loss: 0.8064 - acc: 0.5002 - val_loss: 0.7667 - val_acc: 0.3077\n",
      "\n",
      "Epoch 00016: val_acc did not improve from 0.69231\n",
      "Epoch 17/200\n",
      "28/28 [==============================] - 5s 172ms/step - loss: 0.8096 - acc: 0.4494 - val_loss: 0.7732 - val_acc: 0.3077\n",
      "\n",
      "Epoch 00017: val_acc did not improve from 0.69231\n",
      "Epoch 18/200\n",
      "28/28 [==============================] - 5s 171ms/step - loss: 0.8209 - acc: 0.4823 - val_loss: 0.7767 - val_acc: 0.3077\n",
      "\n",
      "Epoch 00018: val_acc did not improve from 0.69231\n",
      "Epoch 19/200\n",
      "28/28 [==============================] - 5s 169ms/step - loss: 0.8280 - acc: 0.4137 - val_loss: 0.7299 - val_acc: 0.4615\n",
      "\n",
      "Epoch 00019: val_acc did not improve from 0.69231\n",
      "Epoch 20/200\n",
      "28/28 [==============================] - 5s 171ms/step - loss: 0.7914 - acc: 0.5002 - val_loss: 0.8360 - val_acc: 0.3077\n",
      "\n",
      "Epoch 00020: val_acc did not improve from 0.69231\n",
      "Epoch 21/200\n",
      "28/28 [==============================] - 5s 167ms/step - loss: 0.7898 - acc: 0.5359 - val_loss: 0.7578 - val_acc: 0.5385\n",
      "\n",
      "Epoch 00021: val_acc did not improve from 0.69231\n",
      "Epoch 22/200\n",
      "28/28 [==============================] - 5s 162ms/step - loss: 0.8171 - acc: 0.5148 - val_loss: 0.9132 - val_acc: 0.3077\n",
      "\n",
      "Epoch 00022: val_acc did not improve from 0.69231\n",
      "Epoch 23/200\n",
      "28/28 [==============================] - 5s 168ms/step - loss: 0.8444 - acc: 0.4376 - val_loss: 0.7975 - val_acc: 0.3077\n",
      "\n",
      "Epoch 00023: val_acc did not improve from 0.69231\n",
      "Epoch 24/200\n",
      "28/28 [==============================] - 5s 167ms/step - loss: 0.7998 - acc: 0.5445 - val_loss: 0.7322 - val_acc: 0.5385\n",
      "\n",
      "Epoch 00024: val_acc did not improve from 0.69231\n",
      "Epoch 00024: early stopping\n",
      "Trial 5\n",
      "Epoch 1/200\n",
      "28/28 [==============================] - 7s 240ms/step - loss: 0.9724 - acc: 0.5506 - val_loss: 0.8480 - val_acc: 0.6154\n",
      "\n",
      "Epoch 00001: val_acc improved from -inf to 0.61538, saving model to /analysis/fabiane/models/MS/pretrained/rebuild_64Net/new_script/MPRAGE/weights-augm-trial5-improvement-BEST.hdf5\n",
      "Epoch 2/200\n",
      "28/28 [==============================] - 5s 162ms/step - loss: 0.9039 - acc: 0.5269 - val_loss: 0.7914 - val_acc: 0.6923\n",
      "\n",
      "Epoch 00002: val_acc improved from 0.61538 to 0.69231, saving model to /analysis/fabiane/models/MS/pretrained/rebuild_64Net/new_script/MPRAGE/weights-augm-trial5-improvement-BEST.hdf5\n",
      "Epoch 3/200\n",
      "28/28 [==============================] - 5s 163ms/step - loss: 0.9102 - acc: 0.4880 - val_loss: 0.8429 - val_acc: 0.3077\n",
      "\n",
      "Epoch 00003: val_acc did not improve from 0.69231\n",
      "Epoch 4/200\n",
      "28/28 [==============================] - 5s 171ms/step - loss: 0.9059 - acc: 0.5506 - val_loss: 0.8182 - val_acc: 0.3077\n",
      "\n",
      "Epoch 00004: val_acc did not improve from 0.69231\n",
      "Epoch 5/200\n",
      "28/28 [==============================] - 5s 163ms/step - loss: 0.8906 - acc: 0.4791 - val_loss: 0.7797 - val_acc: 0.6923\n",
      "\n",
      "Epoch 00005: val_acc did not improve from 0.69231\n",
      "Epoch 6/200\n"
     ]
    },
    {
     "name": "stdout",
     "output_type": "stream",
     "text": [
      "28/28 [==============================] - 5s 164ms/step - loss: 0.8368 - acc: 0.5327 - val_loss: 0.8811 - val_acc: 0.3077\n",
      "\n",
      "Epoch 00006: val_acc did not improve from 0.69231\n",
      "Epoch 7/200\n",
      "28/28 [==============================] - 5s 172ms/step - loss: 0.8321 - acc: 0.4880 - val_loss: 0.7780 - val_acc: 0.4615\n",
      "\n",
      "Epoch 00007: val_acc did not improve from 0.69231\n",
      "Epoch 8/200\n",
      "28/28 [==============================] - 5s 168ms/step - loss: 0.8179 - acc: 0.5209 - val_loss: 0.7806 - val_acc: 0.3077\n",
      "\n",
      "Epoch 00008: val_acc did not improve from 0.69231\n",
      "Epoch 9/200\n",
      "28/28 [==============================] - 5s 168ms/step - loss: 0.7822 - acc: 0.4852 - val_loss: 0.7121 - val_acc: 0.7692\n",
      "\n",
      "Epoch 00009: val_acc improved from 0.69231 to 0.76923, saving model to /analysis/fabiane/models/MS/pretrained/rebuild_64Net/new_script/MPRAGE/weights-augm-trial5-improvement-BEST.hdf5\n",
      "Epoch 10/200\n",
      "28/28 [==============================] - 5s 163ms/step - loss: 0.8747 - acc: 0.4108 - val_loss: 0.7975 - val_acc: 0.3077\n",
      "\n",
      "Epoch 00010: val_acc did not improve from 0.76923\n",
      "Epoch 11/200\n",
      "28/28 [==============================] - 5s 163ms/step - loss: 0.8437 - acc: 0.5655 - val_loss: 0.8577 - val_acc: 0.3077\n",
      "\n",
      "Epoch 00011: val_acc did not improve from 0.76923\n",
      "Epoch 12/200\n",
      "28/28 [==============================] - 5s 172ms/step - loss: 0.8499 - acc: 0.4376 - val_loss: 0.8402 - val_acc: 0.3077\n",
      "\n",
      "Epoch 00012: val_acc did not improve from 0.76923\n",
      "Epoch 13/200\n",
      "28/28 [==============================] - 5s 163ms/step - loss: 0.8304 - acc: 0.4823 - val_loss: 0.8829 - val_acc: 0.3077\n",
      "\n",
      "Epoch 00013: val_acc did not improve from 0.76923\n",
      "Epoch 14/200\n",
      "28/28 [==============================] - 5s 170ms/step - loss: 0.8377 - acc: 0.4852 - val_loss: 0.7608 - val_acc: 0.6923\n",
      "\n",
      "Epoch 00014: val_acc did not improve from 0.76923\n",
      "Epoch 00014: early stopping\n",
      "Trial 6\n",
      "Epoch 1/200\n",
      "28/28 [==============================] - 7s 247ms/step - loss: 0.9710 - acc: 0.5059 - val_loss: 0.8401 - val_acc: 0.6923\n",
      "\n",
      "Epoch 00001: val_acc improved from -inf to 0.69231, saving model to /analysis/fabiane/models/MS/pretrained/rebuild_64Net/new_script/MPRAGE/weights-augm-trial6-improvement-BEST.hdf5\n",
      "Epoch 2/200\n",
      "28/28 [==============================] - 4s 157ms/step - loss: 0.9483 - acc: 0.4405 - val_loss: 0.9133 - val_acc: 0.3077\n",
      "\n",
      "Epoch 00002: val_acc did not improve from 0.69231\n",
      "Epoch 3/200\n",
      "28/28 [==============================] - 5s 172ms/step - loss: 0.9654 - acc: 0.4673 - val_loss: 0.8351 - val_acc: 0.3077\n",
      "\n",
      "Epoch 00003: val_acc did not improve from 0.69231\n",
      "Epoch 4/200\n",
      "28/28 [==============================] - 5s 176ms/step - loss: 0.8499 - acc: 0.6102 - val_loss: 0.7993 - val_acc: 0.6923\n",
      "\n",
      "Epoch 00004: val_acc did not improve from 0.69231\n",
      "Epoch 5/200\n",
      "28/28 [==============================] - 5s 177ms/step - loss: 0.8884 - acc: 0.4555 - val_loss: 0.7968 - val_acc: 0.3077\n",
      "\n",
      "Epoch 00005: val_acc did not improve from 0.69231\n",
      "Epoch 6/200\n",
      "28/28 [==============================] - 5s 164ms/step - loss: 0.8456 - acc: 0.5448 - val_loss: 0.8191 - val_acc: 0.3077\n",
      "\n",
      "Epoch 00006: val_acc did not improve from 0.69231\n",
      "Epoch 7/200\n",
      "28/28 [==============================] - 5s 175ms/step - loss: 0.8827 - acc: 0.4523 - val_loss: 1.7405 - val_acc: 0.3077\n",
      "\n",
      "Epoch 00007: val_acc did not improve from 0.69231\n",
      "Epoch 8/200\n",
      "28/28 [==============================] - 5s 163ms/step - loss: 0.8872 - acc: 0.5059 - val_loss: 0.8711 - val_acc: 0.3077\n",
      "\n",
      "Epoch 00008: val_acc did not improve from 0.69231\n",
      "Epoch 9/200\n",
      "28/28 [==============================] - 5s 165ms/step - loss: 0.8860 - acc: 0.4880 - val_loss: 0.7967 - val_acc: 0.6923\n",
      "\n",
      "Epoch 00009: val_acc did not improve from 0.69231\n",
      "Epoch 10/200\n",
      "28/28 [==============================] - 5s 165ms/step - loss: 0.8289 - acc: 0.5148 - val_loss: 0.8149 - val_acc: 0.3077\n",
      "\n",
      "Epoch 00010: val_acc did not improve from 0.69231\n",
      "Epoch 11/200\n",
      "28/28 [==============================] - 5s 172ms/step - loss: 0.8390 - acc: 0.5148 - val_loss: 0.7825 - val_acc: 0.3077\n",
      "\n",
      "Epoch 00011: val_acc did not improve from 0.69231\n",
      "Epoch 12/200\n",
      "28/28 [==============================] - 5s 163ms/step - loss: 0.8432 - acc: 0.4880 - val_loss: 0.8396 - val_acc: 0.3077\n",
      "\n",
      "Epoch 00012: val_acc did not improve from 0.69231\n",
      "Epoch 13/200\n",
      "28/28 [==============================] - 5s 162ms/step - loss: 0.8720 - acc: 0.3959 - val_loss: 0.8148 - val_acc: 0.3077\n",
      "\n",
      "Epoch 00013: val_acc did not improve from 0.69231\n",
      "Epoch 14/200\n",
      "28/28 [==============================] - 5s 161ms/step - loss: 0.8248 - acc: 0.4494 - val_loss: 0.7806 - val_acc: 0.3077\n",
      "\n",
      "Epoch 00014: val_acc did not improve from 0.69231\n",
      "Epoch 15/200\n",
      "28/28 [==============================] - 5s 169ms/step - loss: 0.8010 - acc: 0.5209 - val_loss: 0.7662 - val_acc: 0.3077\n",
      "\n",
      "Epoch 00015: val_acc did not improve from 0.69231\n",
      "Epoch 16/200\n",
      "28/28 [==============================] - 4s 160ms/step - loss: 0.8176 - acc: 0.4048 - val_loss: 0.7860 - val_acc: 0.3077\n",
      "\n",
      "Epoch 00016: val_acc did not improve from 0.69231\n",
      "Epoch 17/200\n",
      "28/28 [==============================] - 5s 167ms/step - loss: 0.7965 - acc: 0.4941 - val_loss: 0.7705 - val_acc: 0.3077\n",
      "\n",
      "Epoch 00017: val_acc did not improve from 0.69231\n",
      "Epoch 18/200\n",
      "28/28 [==============================] - 5s 170ms/step - loss: 0.7769 - acc: 0.5030 - val_loss: 0.7648 - val_acc: 0.3077\n",
      "\n",
      "Epoch 00018: val_acc did not improve from 0.69231\n",
      "Epoch 19/200\n",
      "28/28 [==============================] - 5s 164ms/step - loss: 0.8053 - acc: 0.4880 - val_loss: 0.7588 - val_acc: 0.3077\n",
      "\n",
      "Epoch 00019: val_acc did not improve from 0.69231\n",
      "Epoch 20/200\n",
      "28/28 [==============================] - 5s 162ms/step - loss: 0.7888 - acc: 0.5238 - val_loss: 0.7754 - val_acc: 0.3077\n",
      "\n",
      "Epoch 00020: val_acc did not improve from 0.69231\n",
      "Epoch 21/200\n",
      "28/28 [==============================] - 5s 164ms/step - loss: 0.8201 - acc: 0.4048 - val_loss: 0.7760 - val_acc: 0.3077\n",
      "\n",
      "Epoch 00021: val_acc did not improve from 0.69231\n",
      "Epoch 22/200\n",
      "28/28 [==============================] - 5s 165ms/step - loss: 0.7441 - acc: 0.5388 - val_loss: 0.7564 - val_acc: 0.3077\n",
      "\n",
      "Epoch 00022: val_acc did not improve from 0.69231\n",
      "Epoch 23/200\n",
      "28/28 [==============================] - 5s 167ms/step - loss: 0.7908 - acc: 0.4970 - val_loss: 0.7819 - val_acc: 0.3077\n",
      "\n",
      "Epoch 00023: val_acc did not improve from 0.69231\n",
      "Epoch 24/200\n",
      "28/28 [==============================] - 5s 168ms/step - loss: 0.7746 - acc: 0.5059 - val_loss: 0.7688 - val_acc: 0.3077\n",
      "\n",
      "Epoch 00024: val_acc did not improve from 0.69231\n",
      "Epoch 25/200\n",
      "28/28 [==============================] - 5s 164ms/step - loss: 0.7684 - acc: 0.5030 - val_loss: 0.7395 - val_acc: 0.3077\n",
      "\n",
      "Epoch 00025: val_acc did not improve from 0.69231\n",
      "Epoch 26/200\n",
      "28/28 [==============================] - 5s 167ms/step - loss: 0.7711 - acc: 0.5059 - val_loss: 0.7532 - val_acc: 0.3077\n",
      "\n",
      "Epoch 00026: val_acc did not improve from 0.69231\n",
      "Epoch 27/200\n",
      "28/28 [==============================] - 5s 162ms/step - loss: 0.7631 - acc: 0.5684 - val_loss: 0.7442 - val_acc: 0.3077\n",
      "\n",
      "Epoch 00027: val_acc did not improve from 0.69231\n",
      "Epoch 28/200\n",
      "28/28 [==============================] - 5s 167ms/step - loss: 0.7933 - acc: 0.4970 - val_loss: 0.7316 - val_acc: 0.3077\n",
      "\n",
      "Epoch 00028: val_acc did not improve from 0.69231\n",
      "Epoch 29/200\n",
      "28/28 [==============================] - 5s 168ms/step - loss: 0.7628 - acc: 0.5298 - val_loss: 0.7693 - val_acc: 0.3077\n",
      "\n",
      "Epoch 00029: val_acc did not improve from 0.69231\n",
      "Epoch 30/200\n",
      "28/28 [==============================] - 5s 164ms/step - loss: 0.7547 - acc: 0.4880 - val_loss: 0.7623 - val_acc: 0.3077\n",
      "\n",
      "Epoch 00030: val_acc did not improve from 0.69231\n",
      "Epoch 31/200\n",
      "28/28 [==============================] - 5s 165ms/step - loss: 0.7473 - acc: 0.4762 - val_loss: 0.7373 - val_acc: 0.3077\n",
      "\n",
      "Epoch 00031: val_acc did not improve from 0.69231\n",
      "Epoch 32/200\n",
      "28/28 [==============================] - 5s 172ms/step - loss: 0.7634 - acc: 0.4941 - val_loss: 0.8658 - val_acc: 0.3077\n",
      "\n",
      "Epoch 00032: val_acc did not improve from 0.69231\n",
      "Epoch 33/200\n",
      "28/28 [==============================] - 5s 169ms/step - loss: 0.7839 - acc: 0.5088 - val_loss: 0.7521 - val_acc: 0.3077\n",
      "\n",
      "Epoch 00033: val_acc did not improve from 0.69231\n",
      "Epoch 00033: early stopping\n",
      "Trial 7\n",
      "Epoch 1/200\n",
      "28/28 [==============================] - 7s 252ms/step - loss: 1.1421 - acc: 0.4345 - val_loss: 0.7781 - val_acc: 0.6923\n"
     ]
    },
    {
     "name": "stdout",
     "output_type": "stream",
     "text": [
      "\n",
      "Epoch 00001: val_acc improved from -inf to 0.69231, saving model to /analysis/fabiane/models/MS/pretrained/rebuild_64Net/new_script/MPRAGE/weights-augm-trial7-improvement-BEST.hdf5\n",
      "Epoch 2/200\n",
      "28/28 [==============================] - 4s 157ms/step - loss: 0.9104 - acc: 0.5388 - val_loss: 0.8686 - val_acc: 0.3077\n",
      "\n",
      "Epoch 00002: val_acc did not improve from 0.69231\n",
      "Epoch 3/200\n",
      "28/28 [==============================] - 5s 161ms/step - loss: 0.9315 - acc: 0.5238 - val_loss: 0.8543 - val_acc: 0.3077\n",
      "\n",
      "Epoch 00003: val_acc did not improve from 0.69231\n",
      "Epoch 4/200\n",
      "28/28 [==============================] - 5s 171ms/step - loss: 0.9920 - acc: 0.4048 - val_loss: 0.8342 - val_acc: 0.3077\n",
      "\n",
      "Epoch 00004: val_acc did not improve from 0.69231\n",
      "Epoch 5/200\n",
      "28/28 [==============================] - 5s 167ms/step - loss: 0.8988 - acc: 0.5327 - val_loss: 0.8636 - val_acc: 0.3077\n",
      "\n",
      "Epoch 00005: val_acc did not improve from 0.69231\n",
      "Epoch 6/200\n",
      "28/28 [==============================] - 5s 171ms/step - loss: 0.8608 - acc: 0.5298 - val_loss: 0.8100 - val_acc: 0.3077\n",
      "\n",
      "Epoch 00006: val_acc did not improve from 0.69231\n",
      "Epoch 00006: early stopping\n",
      "Trial 8\n",
      "Epoch 1/200\n",
      "28/28 [==============================] - 7s 252ms/step - loss: 1.2727 - acc: 0.4852 - val_loss: 0.8246 - val_acc: 0.6923\n",
      "\n",
      "Epoch 00001: val_acc improved from -inf to 0.69231, saving model to /analysis/fabiane/models/MS/pretrained/rebuild_64Net/new_script/MPRAGE/weights-augm-trial8-improvement-BEST.hdf5\n",
      "Epoch 2/200\n",
      "28/28 [==============================] - 4s 160ms/step - loss: 1.0863 - acc: 0.5388 - val_loss: 1.9985 - val_acc: 0.3077\n",
      "\n",
      "Epoch 00002: val_acc did not improve from 0.69231\n",
      "Epoch 3/200\n",
      "28/28 [==============================] - 5s 170ms/step - loss: 1.0340 - acc: 0.5595 - val_loss: 0.8723 - val_acc: 0.4615\n",
      "\n",
      "Epoch 00003: val_acc did not improve from 0.69231\n",
      "Epoch 4/200\n",
      "28/28 [==============================] - 5s 166ms/step - loss: 0.9768 - acc: 0.4376 - val_loss: 0.8933 - val_acc: 0.3077\n",
      "\n",
      "Epoch 00004: val_acc did not improve from 0.69231\n",
      "Epoch 5/200\n",
      "28/28 [==============================] - 5s 170ms/step - loss: 0.9203 - acc: 0.5298 - val_loss: 0.9890 - val_acc: 0.3077\n",
      "\n",
      "Epoch 00005: val_acc did not improve from 0.69231\n",
      "Epoch 6/200\n",
      "28/28 [==============================] - 5s 164ms/step - loss: 0.9474 - acc: 0.5148 - val_loss: 0.8742 - val_acc: 0.3077\n",
      "\n",
      "Epoch 00006: val_acc did not improve from 0.69231\n",
      "Epoch 00006: early stopping\n",
      "Trial 9\n",
      "Epoch 1/200\n",
      "28/28 [==============================] - 8s 272ms/step - loss: 1.0015 - acc: 0.4494 - val_loss: 0.8214 - val_acc: 0.6923\n",
      "\n",
      "Epoch 00001: val_acc improved from -inf to 0.69231, saving model to /analysis/fabiane/models/MS/pretrained/rebuild_64Net/new_script/MPRAGE/weights-augm-trial9-improvement-BEST.hdf5\n",
      "Epoch 2/200\n",
      "28/28 [==============================] - 4s 160ms/step - loss: 1.1144 - acc: 0.3394 - val_loss: 0.8478 - val_acc: 0.2308\n",
      "\n",
      "Epoch 00002: val_acc did not improve from 0.69231\n",
      "Epoch 3/200\n",
      "28/28 [==============================] - 5s 170ms/step - loss: 0.8660 - acc: 0.5534 - val_loss: 1.1648 - val_acc: 0.3077\n",
      "\n",
      "Epoch 00003: val_acc did not improve from 0.69231\n",
      "Epoch 4/200\n",
      "28/28 [==============================] - 4s 159ms/step - loss: 0.9453 - acc: 0.5238 - val_loss: 0.8791 - val_acc: 0.3077\n",
      "\n",
      "Epoch 00004: val_acc did not improve from 0.69231\n",
      "Epoch 5/200\n",
      "28/28 [==============================] - 5s 165ms/step - loss: 0.9673 - acc: 0.4584 - val_loss: 0.8354 - val_acc: 0.3077\n",
      "\n",
      "Epoch 00005: val_acc did not improve from 0.69231\n",
      "Epoch 6/200\n",
      "28/28 [==============================] - 5s 169ms/step - loss: 0.8785 - acc: 0.5356 - val_loss: 1.4586 - val_acc: 0.3077\n",
      "\n",
      "Epoch 00006: val_acc did not improve from 0.69231\n",
      "Epoch 00006: early stopping\n",
      "Training Time: 0.0h:13.0m:0.6799447536468506s\n",
      "Validation final accuracies: \n",
      " [0.3076923076923077, 0.3076923076923077, 0.3076923076923077, 0.3076923076923077, 0.5384615384615384, 0.6923076923076923, 0.3076923076923077, 0.3076923076923077, 0.3076923076923077, 0.3076923076923077]\n",
      "Validation final accuracies mean: 0.36923076923076925\n",
      "Validation best accuracies: \n",
      " [0.6923076923076923, 0.6923076923076923, 0.6923076923076923, 0.6923076923076923, 0.6923076923076923, 0.7692307692307693, 0.6923076923076923, 0.6923076923076923, 0.6923076923076923, 0.6923076923076923]\n",
      "Validation best accuracies mean: 0.7\n",
      "Validation balanced accuracies: \n",
      " [0.5, 0.5, 0.5, 0.5, 0.5277777777777778, 0.5, 0.5, 0.5, 0.5, 0.5]\n",
      "Validation balanced accuracies mean: 0.5027777777777778\n",
      "Validation final sensitivities: \n",
      " [1.0, 1.0, 1.0, 1.0, 0.5, 0.0, 1.0, 1.0, 1.0, 1.0]\n",
      "Validation final sensitivities' mean: 0.85\n",
      "Validation final specificities: \n",
      " [0.0, 0.0, 0.0, 0.0, 0.5555555555555556, 1.0, 0.0, 0.0, 0.0, 0.0]\n",
      "Validation final specificities' mean: 0.15555555555555556\n"
     ]
    }
   ],
   "source": [
    "# training args\n",
    "lr = 0.001\n",
    "lr_decay = 0.003\n",
    "transforms = [intensity, sagittal_flip, translate]\n",
    "\n",
    "num_trials = 10\n",
    "store_models = True\n",
    "\n",
    "accuracies = []\n",
    "balanced_accuracies = []\n",
    "sensitivities = []\n",
    "specificities = []\n",
    "max_acc = []\n",
    "\n",
    "for i in range(num_trials):\n",
    "    print(\"Trial %i\" %i)\n",
    "    \n",
    "    # init model\n",
    "    model = init_model(model_path, finetune=False, up_to=None)    \n",
    "    opti = Adam(lr=lr, decay=lr_decay)\n",
    "    model.compile(optimizer=opti, loss='binary_crossentropy', metrics=['accuracy'])\n",
    "    \n",
    "    # callbacks\n",
    "    earlystop = EarlyStopping(monitor='val_loss', min_delta=0, patience=5, verbose=1, mode='auto')\n",
    "    if store_models:\n",
    "        result_path = os.path.join(result_dir, \"weights-augm-trial%i-improvement-BEST.hdf5\" %i)\n",
    "        model_checkpoint = ModelCheckpoint(result_path, monitor='val_acc', verbose=1, save_best_only=True, mode='max', save_weights_only=True)\n",
    "        callbacks = [earlystop, model_checkpoint]\n",
    "    else:\n",
    "        callbacks = [earlystop]\n",
    "        \n",
    "    train_loader = CISDataset(X_train, y_train, transform=transforms, batch_size=b, shuffle=True)\n",
    "    val_loader = CISDataset(X_val, y_val, transform=[intensity], batch_size=1, shuffle=False)\n",
    "    \n",
    "    # Start training\n",
    "    history = model.fit_generator(train_loader,\n",
    "                        epochs=num_epochs,\n",
    "                        verbose=1,\n",
    "                        validation_data=val_loader,\n",
    "                        callbacks=callbacks)\n",
    "    \n",
    "    # Evaluation\n",
    "    y_pred = model.predict_generator(val_loader)\n",
    "    #y_true = [item for sublist in [val_loader[batch_idx][1] for batch_idx in range(len(val_loader))] for item in sublist]\n",
    "    bal_acc = balanced_accuracy(y_val, y_pred>0.5)\n",
    "    sens = sensitivity(y_val, y_pred>0.5)\n",
    "    spec = specificity(y_val, y_pred>0.5)\n",
    "    # Store results\n",
    "    accuracies.append(history.history[\"val_acc\"][-1])\n",
    "    balanced_accuracies.append(bal_acc)\n",
    "    max_acc.append(np.max(history.history[\"val_acc\"]))\n",
    "    sensitivities.append(sens)\n",
    "    specificities.append(spec)\n",
    "\n",
    "training_time = time.time() - start_time\n",
    "print(\"Training Time: {}h:{}m:{}s\".format(\n",
    "            training_time//3600, (training_time//60)%60, training_time%60))\n",
    "\n",
    "print(\"Validation final accuracies: \\n {}\".format(accuracies))\n",
    "print(\"Validation final accuracies mean: {}\".format(np.mean(accuracies)))\n",
    "print(\"Validation best accuracies: \\n {}\".format(max_acc))\n",
    "print(\"Validation best accuracies mean: {}\".format(np.mean(max_acc)))\n",
    "print(\"Validation balanced accuracies: \\n {}\".format(balanced_accuracies))\n",
    "print(\"Validation balanced accuracies mean: {}\".format(np.mean(balanced_accuracies)))\n",
    "print(\"Validation final sensitivities: \\n {}\".format(sensitivities))\n",
    "print(\"Validation final sensitivities' mean: {}\".format(np.mean(sensitivities)))\n",
    "print(\"Validation final specificities: \\n {}\".format(specificities))\n",
    "print(\"Validation final specificities' mean: {}\".format(np.mean(specificities)))"
   ]
  },
  {
   "cell_type": "code",
   "execution_count": 25,
   "metadata": {
    "collapsed": true
   },
   "outputs": [],
   "source": [
    "training_time = time.time() - start_time"
   ]
  },
  {
   "cell_type": "markdown",
   "metadata": {},
   "source": [
    "# Evaluation"
   ]
  },
  {
   "cell_type": "code",
   "execution_count": 26,
   "metadata": {
    "collapsed": true
   },
   "outputs": [],
   "source": [
    "weights = [\"weights-augm-trial%i-improvement-BEST.hdf5\"%i for i in range(num_trials)]"
   ]
  },
  {
   "cell_type": "code",
   "execution_count": 27,
   "metadata": {
    "collapsed": true
   },
   "outputs": [],
   "source": [
    "# load holdout set\n",
    "test_loader = CISDataset(X_holdout, y_holdout, transform=[intensity], batch_size=1, shuffle=False)"
   ]
  },
  {
   "cell_type": "code",
   "execution_count": 28,
   "metadata": {},
   "outputs": [
    {
     "name": "stdout",
     "output_type": "stream",
     "text": [
      "Fold 0\n"
     ]
    },
    {
     "name": "stderr",
     "output_type": "stream",
     "text": [
      "/home/fabiane/anaconda2/envs/postal/lib/python3.6/site-packages/ipykernel_launcher.py:16: DeprecationWarning: Both axis > a.ndim and axis < -a.ndim - 1 are deprecated and will raise an AxisError in the future.\n",
      "  app.launch_new_instance()\n"
     ]
    },
    {
     "name": "stdout",
     "output_type": "stream",
     "text": [
      "Model accuracy 34.78 %\n",
      "Balanced accuracy 35.38 %\n",
      "Sensitivity 30.77 %\n",
      "Specificity 40.00 %\n",
      "Fold 1\n",
      "Model accuracy 43.48 %\n",
      "Balanced accuracy 50.00 %\n",
      "Sensitivity 0.00 %\n",
      "Specificity 100.00 %\n",
      "Fold 2\n",
      "Model accuracy 43.48 %\n",
      "Balanced accuracy 50.00 %\n",
      "Sensitivity 0.00 %\n",
      "Specificity 100.00 %\n",
      "Fold 3\n",
      "Model accuracy 43.48 %\n",
      "Balanced accuracy 50.00 %\n",
      "Sensitivity 0.00 %\n",
      "Specificity 100.00 %\n",
      "Fold 4\n",
      "Model accuracy 43.48 %\n",
      "Balanced accuracy 50.00 %\n",
      "Sensitivity 0.00 %\n",
      "Specificity 100.00 %\n",
      "Fold 5\n",
      "Model accuracy 60.87 %\n",
      "Balanced accuracy 65.38 %\n",
      "Sensitivity 30.77 %\n",
      "Specificity 100.00 %\n",
      "Fold 6\n",
      "Model accuracy 43.48 %\n",
      "Balanced accuracy 50.00 %\n",
      "Sensitivity 0.00 %\n",
      "Specificity 100.00 %\n",
      "Fold 7\n",
      "Model accuracy 43.48 %\n",
      "Balanced accuracy 50.00 %\n",
      "Sensitivity 0.00 %\n",
      "Specificity 100.00 %\n",
      "Fold 8\n",
      "Model accuracy 43.48 %\n",
      "Balanced accuracy 50.00 %\n",
      "Sensitivity 0.00 %\n",
      "Specificity 100.00 %\n",
      "Fold 9\n",
      "Model accuracy 43.48 %\n",
      "Balanced accuracy 50.00 %\n",
      "Sensitivity 0.00 %\n",
      "Specificity 100.00 %\n",
      "######## Final results ########\n",
      "Accuracy mean 44.35 %\n",
      "Balanced accuracy mean 50.08 %\n",
      "Sensitivity mean 6.15 %\n",
      "Specificity mean 94.00 %\n"
     ]
    }
   ],
   "source": [
    "accuracies = []\n",
    "balanced_accuracies = []\n",
    "sensitivities = []\n",
    "specificities = []\n",
    "for fold, weight in enumerate(weights):\n",
    "    print(\"Fold {}\".format(fold))\n",
    "    model = load_model(model_path)\n",
    "    model_dir = os.path.join(result_dir, weight)\n",
    "    model.load_weights(model_dir)\n",
    "    \n",
    "    opti = Adam(lr=lr, decay=lr_decay)\n",
    "    model.compile(optimizer=opti,\n",
    "              loss='binary_crossentropy',\n",
    "              metrics=['accuracy'])\n",
    "    \n",
    "    # Evaluate\n",
    "    res = model.evaluate_generator(test_loader)\n",
    "    y_pred = model.predict_generator(test_loader)\n",
    "    bal_acc = balanced_accuracy(y_holdout, y_pred>0.5)\n",
    "    sens = sensitivity(y_holdout, y_pred>0.5)\n",
    "    spec = specificity(y_holdout, y_pred>0.5)\n",
    "    # Store results\n",
    "    accuracies.append(res[1])\n",
    "    balanced_accuracies.append(bal_acc)\n",
    "    sensitivities.append(sens)\n",
    "    specificities.append(spec)\n",
    "    # Print results\n",
    "    print(\"Model accuracy {:.2f} %\".format(res[1]*100))\n",
    "    print(\"Balanced accuracy {:.2f} %\".format(bal_acc*100))\n",
    "    print(\"Sensitivity {:.2f} %\".format(sens*100))\n",
    "    print(\"Specificity {:.2f} %\".format(spec*100))\n",
    "    \n",
    "    \n",
    "print(\"######## Final results ########\")\n",
    "print(\"Accuracy mean {:.2f} %\".format(np.mean(accuracies)*100))\n",
    "print(\"Balanced accuracy mean {:.2f} %\".format(np.mean(balanced_accuracies)*100))\n",
    "print(\"Sensitivity mean {:.2f} %\".format(np.mean(sensitivities)*100))\n",
    "print(\"Specificity mean {:.2f} %\".format(np.mean(specificities)*100))"
   ]
  },
  {
   "cell_type": "code",
   "execution_count": 29,
   "metadata": {
    "collapsed": true
   },
   "outputs": [],
   "source": [
    "total_time = time.time() - start_time"
   ]
  },
  {
   "cell_type": "code",
   "execution_count": 30,
   "metadata": {},
   "outputs": [
    {
     "name": "stdout",
     "output_type": "stream",
     "text": [
      "Training Time: 0.0h:13.0m:0.6913394927978516s\n",
      "Total time elapsed: 0.0h:15.0m:4.118826389312744s\n"
     ]
    }
   ],
   "source": [
    "print(\"Training Time: {}h:{}m:{}s\".format(\n",
    "            training_time//3600, (training_time//60)%60, training_time%60))\n",
    "print(\"Total time elapsed: {}h:{}m:{}s\".format(\n",
    "            total_time//3600, (total_time//60)%60, total_time%60))"
   ]
  },
  {
   "cell_type": "code",
   "execution_count": 31,
   "metadata": {
    "collapsed": true
   },
   "outputs": [],
   "source": [
    "quit()"
   ]
  },
  {
   "cell_type": "code",
   "execution_count": null,
   "metadata": {
    "collapsed": true
   },
   "outputs": [],
   "source": []
  }
 ],
 "metadata": {
  "kernelspec": {
   "display_name": "Python (postal)",
   "language": "python",
   "name": "postal"
  },
  "language_info": {
   "codemirror_mode": {
    "name": "ipython",
    "version": 3
   },
   "file_extension": ".py",
   "mimetype": "text/x-python",
   "name": "python",
   "nbconvert_exporter": "python",
   "pygments_lexer": "ipython3",
   "version": "3.6.6"
  }
 },
 "nbformat": 4,
 "nbformat_minor": 2
}
