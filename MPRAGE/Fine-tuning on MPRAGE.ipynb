{
 "cells": [
  {
   "cell_type": "markdown",
   "metadata": {},
   "source": [
    "For fine-tuning we have 3 datasets: train, validation and holdout"
   ]
  },
  {
   "cell_type": "code",
   "execution_count": 1,
   "metadata": {},
   "outputs": [
    {
     "name": "stderr",
     "output_type": "stream",
     "text": [
      "Using TensorFlow backend.\n"
     ]
    }
   ],
   "source": [
    "import numpy as np\n",
    "import pandas as pd\n",
    "import nibabel as nib\n",
    "import nilearn\n",
    "\n",
    "from scipy.ndimage.interpolation import zoom\n",
    "from sklearn.utils import shuffle\n",
    "from sklearn.model_selection import GroupShuffleSplit\n",
    "from sklearn.metrics import confusion_matrix\n",
    "from sklearn.model_selection import KFold\n",
    "\n",
    "import matplotlib.pyplot as plt\n",
    "import os\n",
    "import time\n",
    "import h5py\n",
    "\n",
    "# keras\n",
    "from keras.regularizers import l2\n",
    "from keras.optimizers import Adam\n",
    "from keras.models import load_model\n",
    "from keras.callbacks import EarlyStopping, ModelCheckpoint\n",
    "from keras.utils import Sequence\n",
    "import keras.backend as K\n",
    "\n",
    "from config import *\n",
    "from utils import specificity, sensitivity, balanced_accuracy, IntensityRescale, sagittal_flip, translate"
   ]
  },
  {
   "cell_type": "code",
   "execution_count": 2,
   "metadata": {
    "collapsed": true
   },
   "outputs": [],
   "source": [
    "# Start timing\n",
    "start_time = time.time()"
   ]
  },
  {
   "cell_type": "code",
   "execution_count": 3,
   "metadata": {
    "collapsed": true
   },
   "outputs": [],
   "source": [
    "#percent = 0.5\n",
    "import tensorflow as tf\n",
    "from keras.backend.tensorflow_backend import set_session\n",
    "\n",
    "\n",
    "config = tf.ConfigProto()\n",
    "#config.gpu_options.per_process_gpu_memory_fraction = percent\n",
    "config.gpu_options.visible_device_list = \"4\"\n",
    "set_session(tf.Session(config=config))"
   ]
  },
  {
   "cell_type": "code",
   "execution_count": 4,
   "metadata": {
    "collapsed": true
   },
   "outputs": [],
   "source": [
    "zero_one_normalize = True\n",
    "dtype = np.float32\n",
    "result_dir = \"/analysis/fabiane/models/MS/pretrained/rebuild_64Net/new_script/MPRAGE\""
   ]
  },
  {
   "cell_type": "code",
   "execution_count": 5,
   "metadata": {
    "collapsed": true
   },
   "outputs": [],
   "source": [
    "!mkdir -p $result_dir"
   ]
  },
  {
   "cell_type": "code",
   "execution_count": 6,
   "metadata": {
    "collapsed": true
   },
   "outputs": [],
   "source": [
    "# load hdf5 files and extract columns\n",
    "train_h5 = h5py.File('/analysis/share/Ritter/MS/CIS/train_dataset_MPRAGE.h5', 'r')\n",
    "holdout_h5 = h5py.File('/analysis/share/Ritter/MS/CIS/holdout_dataset_MPRAGE.h5', 'r')\n",
    "\n",
    "X_train, y_train = train_h5['X'], train_h5['y']\n",
    "X_holdout, y_holdout = holdout_h5['X'], holdout_h5['y']"
   ]
  },
  {
   "cell_type": "code",
   "execution_count": 7,
   "metadata": {
    "collapsed": true
   },
   "outputs": [],
   "source": [
    "# convert data to numpy arrays\n",
    "X_train = np.array(X_train, dtype=dtype)\n",
    "y_train = np.array(y_train)\n",
    "\n",
    "X_holdout = np.array(X_holdout, dtype=dtype)\n",
    "y_holdout = np.array(y_holdout)"
   ]
  },
  {
   "cell_type": "code",
   "execution_count": 8,
   "metadata": {},
   "outputs": [
    {
     "name": "stdout",
     "output_type": "stream",
     "text": [
      "Total datset length: 124\n",
      "Number of healthy controls: 61\n",
      "Number of MS patients: 63\n"
     ]
    }
   ],
   "source": [
    "print(\"Total datset length: {}\".format(len(y_train)))\n",
    "print(\"Number of healthy controls: {}\".format(len(np.array(y_train)[np.array(y_train)==0.])))\n",
    "print(\"Number of MS patients: {}\".format(len(np.array(y_train)[np.array(y_train)==1.])))"
   ]
  },
  {
   "cell_type": "code",
   "execution_count": 9,
   "metadata": {
    "collapsed": true
   },
   "outputs": [],
   "source": [
    "class CISDataset(Sequence):\n",
    "    def __init__(self, X, y, transform=None, batch_size=4, z_factor=None, shuffle=True, mask=None):\n",
    "        self.X = X\n",
    "        self.y = y\n",
    "        self.transform = transform\n",
    "        self.batch_size = batch_size\n",
    "        self.z_factor = z_factor\n",
    "        self.shuffle = shuffle\n",
    "        self.mask = mask\n",
    "        \n",
    "    def __len__(self):\n",
    "        return int(np.ceil(len(self.y)/self.batch_size))\n",
    "    \n",
    "    def __getitem__(self, idx):\n",
    "        # add BET\n",
    "        image = np.expand_dims(self.X[idx * self.batch_size:(idx + 1) * self.batch_size],5)\n",
    "        #label = np.array((batch_idx['label'] == \"MS\")* 1, dtype=np.int8) \n",
    "        label = np.array(self.y[idx * self.batch_size:(idx + 1) * self.batch_size], dtype=np.int8)\n",
    "        \n",
    "        if self.mask is not None:\n",
    "            for i in range(image.shape[0]):\n",
    "                image[i] *= self.mask\n",
    "        \n",
    "        for transformation in self.transform:\n",
    "            image = transformation(image)\n",
    "        \n",
    "        return image, label\n",
    "    \n",
    "    def on_epoch_end(self):\n",
    "        if self.shuffle:\n",
    "            self.X, self.y = shuffle(self.X, self.y)"
   ]
  },
  {
   "cell_type": "code",
   "execution_count": 10,
   "metadata": {
    "collapsed": true
   },
   "outputs": [],
   "source": [
    "mask = None"
   ]
  },
  {
   "cell_type": "code",
   "execution_count": 11,
   "metadata": {
    "collapsed": true
   },
   "outputs": [],
   "source": [
    "intensity = IntensityRescale(masked=False)"
   ]
  },
  {
   "cell_type": "code",
   "execution_count": 12,
   "metadata": {
    "collapsed": true
   },
   "outputs": [],
   "source": [
    "if zero_one_normalize:\n",
    "    cis_data = CISDataset(X_train, y_train, transform=[intensity], batch_size=4)\n",
    "else:\n",
    "    cis_data = CISDataset(X_train, y_train, batch_size=4)"
   ]
  },
  {
   "cell_type": "code",
   "execution_count": 13,
   "metadata": {},
   "outputs": [
    {
     "name": "stderr",
     "output_type": "stream",
     "text": [
      "/home/fabiane/anaconda2/envs/postal/lib/python3.6/site-packages/ipykernel_launcher.py:16: DeprecationWarning: Both axis > a.ndim and axis < -a.ndim - 1 are deprecated and will raise an AxisError in the future.\n",
      "  app.launch_new_instance()\n"
     ]
    },
    {
     "data": {
      "image/png": "[encoded data removed]",
      "text/plain": [
       "<Figure size 432x288 with 1 Axes>"
      ]
     },
     "metadata": {
      "needs_background": "light"
     },
     "output_type": "display_data"
    }
   ],
   "source": [
    "plt.figure()\n",
    "plt.title(\"Normalized between zero and 1\")\n",
    "plt.hist(cis_data[4][0][0].flatten())\n",
    "plt.show()"
   ]
  },
  {
   "cell_type": "code",
   "execution_count": 14,
   "metadata": {},
   "outputs": [
    {
     "name": "stderr",
     "output_type": "stream",
     "text": [
      "/home/fabiane/anaconda2/envs/postal/lib/python3.6/site-packages/ipykernel_launcher.py:16: DeprecationWarning: Both axis > a.ndim and axis < -a.ndim - 1 are deprecated and will raise an AxisError in the future.\n",
      "  app.launch_new_instance()\n"
     ]
    },
    {
     "data": {
      "image/png": "[encoded data removed]",
      "text/plain": [
       "<Figure size 432x288 with 1 Axes>"
      ]
     },
     "metadata": {
      "needs_background": "light"
     },
     "output_type": "display_data"
    }
   ],
   "source": [
    "plt.figure()\n",
    "plt.title(\"Scan image\")\n",
    "plt.imshow(np.squeeze(cis_data[4][0][0])[:,:,42], cmap='gray')\n",
    "plt.show()"
   ]
  },
  {
   "cell_type": "markdown",
   "metadata": {},
   "source": [
    "# Model"
   ]
  },
  {
   "cell_type": "code",
   "execution_count": 15,
   "metadata": {
    "collapsed": true
   },
   "outputs": [],
   "source": [
    "def init_model(path, finetune=True, up_to=7):\n",
    "    model = load_model(path)\n",
    "    model.load_weights(path)\n",
    "    if finetune:\n",
    "        for layer in model.layers[:up_to]:\n",
    "            layer.trainable = False\n",
    "    return model"
   ]
  },
  {
   "cell_type": "code",
   "execution_count": 16,
   "metadata": {},
   "outputs": [
    {
     "name": "stdout",
     "output_type": "stream",
     "text": [
      "_________________________________________________________________\n",
      "Layer (type)                 Output Shape              Param #   \n",
      "=================================================================\n",
      "Conv_1 (Conv3D)              (None, 94, 112, 94, 64)   1792      \n",
      "_________________________________________________________________\n",
      "Pool_1 (MaxPooling3D)        (None, 31, 37, 31, 64)    0         \n",
      "_________________________________________________________________\n",
      "dropout_7 (Dropout)          (None, 31, 37, 31, 64)    0         \n",
      "_________________________________________________________________\n",
      "Conv_2 (Conv3D)              (None, 29, 35, 29, 64)    110656    \n",
      "_________________________________________________________________\n",
      "Pool_2 (MaxPooling3D)        (None, 9, 11, 9, 64)      0         \n",
      "_________________________________________________________________\n",
      "dropout_8 (Dropout)          (None, 9, 11, 9, 64)      0         \n",
      "_________________________________________________________________\n",
      "Conv_3 (Conv3D)              (None, 7, 9, 7, 64)       110656    \n",
      "_________________________________________________________________\n",
      "Conv_4 (Conv3D)              (None, 5, 7, 5, 64)       110656    \n",
      "_________________________________________________________________\n",
      "Pool_4 (MaxPooling3D)        (None, 1, 2, 1, 64)       0         \n",
      "_________________________________________________________________\n",
      "dropout_9 (Dropout)          (None, 1, 2, 1, 64)       0         \n",
      "_________________________________________________________________\n",
      "flatten_3 (Flatten)          (None, 128)               0         \n",
      "_________________________________________________________________\n",
      "dense_3 (Dense)              (None, 1)                 129       \n",
      "=================================================================\n",
      "Total params: 333,889\n",
      "Trainable params: 333,889\n",
      "Non-trainable params: 0\n",
      "_________________________________________________________________\n",
      "None\n"
     ]
    }
   ],
   "source": [
    "# load model weights\n",
    "model_path = \"/analysis/share/Ritter/models/fabi/ADNI/pretraining_paper/model.h5\"\n",
    "model = init_model(model_path, finetune=False, up_to=None)\n",
    "print(model.summary())"
   ]
  },
  {
   "cell_type": "markdown",
   "metadata": {},
   "source": [
    "## Visualization"
   ]
  },
  {
   "cell_type": "code",
   "execution_count": 17,
   "metadata": {
    "collapsed": true
   },
   "outputs": [],
   "source": [
    "def visualize_weights(model):\n",
    "    # Visualize weights\n",
    "    W = model.layers[0].get_weights()[0]\n",
    "    W = np.squeeze(W)[:,:,2]\n",
    "    print(\"W shape : \", W.shape)\n",
    "\n",
    "    print(\"Weights mean {}\".format(W.mean()))\n",
    "    plt.figure(figsize=(20, 5))\n",
    "    plt.title('conv1 weights')\n",
    "    plt.imshow(make_mosaic(W, 2, 2), cmap=\"gray\")\n",
    "    plt.show()"
   ]
  },
  {
   "cell_type": "code",
   "execution_count": 18,
   "metadata": {
    "collapsed": true
   },
   "outputs": [],
   "source": [
    "import numpy.ma as ma\n",
    "def make_mosaic(imgs, nrows, ncols, border=1):\n",
    "    \"\"\"\n",
    "    Given a set of images with all the same shape, makes a\n",
    "    mosaic with nrows and ncols\n",
    "    \"\"\"\n",
    "    nimgs = imgs.shape[0]\n",
    "    imshape = imgs.shape[1:]\n",
    "    \n",
    "    mosaic = ma.masked_all((nrows * imshape[0] + (nrows - 1) * border,\n",
    "                            ncols * imshape[1] + (ncols - 1) * border),\n",
    "                            dtype=np.float32)\n",
    "    \n",
    "    paddedh = imshape[0] + border\n",
    "    paddedw = imshape[1] + border\n",
    "    for i in range(nimgs):\n",
    "        row = int(np.floor(i / ncols))\n",
    "        col = i % ncols\n",
    "        \n",
    "        mosaic[row * paddedh:row * paddedh + imshape[0],\n",
    "               col * paddedw:col * paddedw + imshape[1]] = imgs[i]\n",
    "    return mosaic"
   ]
  },
  {
   "cell_type": "code",
   "execution_count": 19,
   "metadata": {
    "collapsed": true
   },
   "outputs": [],
   "source": [
    "def reset_weights(model):\n",
    "    session = K.get_session()\n",
    "    for layer in model.layers: \n",
    "        if hasattr(layer, 'kernel_initializer'):\n",
    "            layer.kernel.initializer.run(session=session)\n"
   ]
  },
  {
   "cell_type": "code",
   "execution_count": 20,
   "metadata": {},
   "outputs": [
    {
     "name": "stdout",
     "output_type": "stream",
     "text": [
      "Pre-trained model layer 1 weights:\n",
      "W shape :  (3, 3, 64)\n",
      "Weights mean -0.003789090784266591\n"
     ]
    },
    {
     "data": {
      "image/png": "[encoded data removed]",
      "text/plain": [
       "<Figure size 1440x360 with 1 Axes>"
      ]
     },
     "metadata": {
      "needs_background": "light"
     },
     "output_type": "display_data"
    },
    {
     "name": "stdout",
     "output_type": "stream",
     "text": [
      "Random model layer 1 weights:\n",
      "W shape :  (3, 3, 64)\n",
      "Weights mean 0.0015803300775587559\n"
     ]
    },
    {
     "data": {
      "image/png": "[encoded data removed]",
      "text/plain": [
       "<Figure size 1440x360 with 1 Axes>"
      ]
     },
     "metadata": {
      "needs_background": "light"
     },
     "output_type": "display_data"
    }
   ],
   "source": [
    "# Visualize weights\n",
    "print(\"Pre-trained model layer 1 weights:\")\n",
    "visualize_weights(model)\n",
    "model_untrained = load_model(model_path)\n",
    "reset_weights(model_untrained)\n",
    "print(\"Random model layer 1 weights:\")\n",
    "visualize_weights(model_untrained)"
   ]
  },
  {
   "cell_type": "markdown",
   "metadata": {},
   "source": [
    "## Training"
   ]
  },
  {
   "cell_type": "code",
   "execution_count": 21,
   "metadata": {},
   "outputs": [
    {
     "data": {
      "text/plain": [
       "(124, 96, 114, 96)"
      ]
     },
     "execution_count": 21,
     "metadata": {},
     "output_type": "execute_result"
    }
   ],
   "source": [
    "X_train.shape"
   ]
  },
  {
   "cell_type": "code",
   "execution_count": 22,
   "metadata": {
    "collapsed": true
   },
   "outputs": [],
   "source": [
    "from sklearn.model_selection import train_test_split"
   ]
  },
  {
   "cell_type": "code",
   "execution_count": 23,
   "metadata": {
    "collapsed": true
   },
   "outputs": [],
   "source": [
    "# split training set\n",
    "X_train, X_val, y_train, y_val = train_test_split(X_train, y_train, test_size=0.2, random_state=77)"
   ]
  },
  {
   "cell_type": "code",
   "execution_count": 24,
   "metadata": {},
   "outputs": [
    {
     "name": "stdout",
     "output_type": "stream",
     "text": [
      "Trial 0\n",
      "Epoch 1/200\n"
     ]
    },
    {
     "name": "stderr",
     "output_type": "stream",
     "text": [
      "/home/fabiane/anaconda2/envs/postal/lib/python3.6/site-packages/ipykernel_launcher.py:16: DeprecationWarning: Both axis > a.ndim and axis < -a.ndim - 1 are deprecated and will raise an AxisError in the future.\n",
      "  app.launch_new_instance()\n"
     ]
    },
    {
     "name": "stdout",
     "output_type": "stream",
     "text": [
      "25/25 [==============================] - 7s 297ms/step - loss: 1.0023 - acc: 0.4934 - val_loss: 0.9913 - val_acc: 0.4400\n",
      "\n",
      "Epoch 00001: val_acc improved from -inf to 0.44000, saving model to /analysis/fabiane/models/MS/pretrained/rebuild_64Net/new_script/MPRAGE/weights-augm-trial0-improvement-BEST.hdf5\n",
      "Epoch 2/200\n",
      "25/25 [==============================] - 4s 156ms/step - loss: 1.0520 - acc: 0.4834 - val_loss: 0.8484 - val_acc: 0.5600\n",
      "\n",
      "Epoch 00002: val_acc improved from 0.44000 to 0.56000, saving model to /analysis/fabiane/models/MS/pretrained/rebuild_64Net/new_script/MPRAGE/weights-augm-trial0-improvement-BEST.hdf5\n",
      "Epoch 3/200\n",
      "25/25 [==============================] - 5s 213ms/step - loss: 0.9178 - acc: 0.4534 - val_loss: 0.8382 - val_acc: 0.3600\n",
      "\n",
      "Epoch 00003: val_acc did not improve from 0.56000\n",
      "Epoch 4/200\n",
      "25/25 [==============================] - 4s 158ms/step - loss: 0.9229 - acc: 0.4566 - val_loss: 0.8739 - val_acc: 0.4400\n",
      "\n",
      "Epoch 00004: val_acc did not improve from 0.56000\n",
      "Epoch 5/200\n",
      "25/25 [==============================] - 4s 157ms/step - loss: 0.8771 - acc: 0.5434 - val_loss: 0.7986 - val_acc: 0.5600\n",
      "\n",
      "Epoch 00005: val_acc did not improve from 0.56000\n",
      "Epoch 6/200\n",
      "25/25 [==============================] - 4s 157ms/step - loss: 0.8245 - acc: 0.5798 - val_loss: 0.8345 - val_acc: 0.4400\n",
      "\n",
      "Epoch 00006: val_acc did not improve from 0.56000\n",
      "Epoch 7/200\n",
      "25/25 [==============================] - 4s 157ms/step - loss: 0.8642 - acc: 0.5666 - val_loss: 0.8355 - val_acc: 0.4400\n",
      "\n",
      "Epoch 00007: val_acc did not improve from 0.56000\n",
      "Epoch 8/200\n",
      "25/25 [==============================] - 4s 159ms/step - loss: 0.8656 - acc: 0.5066 - val_loss: 0.8657 - val_acc: 0.4400\n",
      "\n",
      "Epoch 00008: val_acc did not improve from 0.56000\n",
      "Epoch 9/200\n",
      "25/25 [==============================] - 4s 158ms/step - loss: 0.8409 - acc: 0.4766 - val_loss: 0.7971 - val_acc: 0.4400\n",
      "\n",
      "Epoch 00009: val_acc did not improve from 0.56000\n",
      "Epoch 10/200\n",
      "25/25 [==============================] - 4s 157ms/step - loss: 0.8629 - acc: 0.5066 - val_loss: 0.7759 - val_acc: 0.4800\n",
      "\n",
      "Epoch 00010: val_acc did not improve from 0.56000\n",
      "Epoch 11/200\n",
      "25/25 [==============================] - 4s 157ms/step - loss: 0.8202 - acc: 0.5066 - val_loss: 0.7979 - val_acc: 0.4400\n",
      "\n",
      "Epoch 00011: val_acc did not improve from 0.56000\n",
      "Epoch 12/200\n",
      "25/25 [==============================] - 4s 158ms/step - loss: 0.8206 - acc: 0.5466 - val_loss: 0.8214 - val_acc: 0.4400\n",
      "\n",
      "Epoch 00012: val_acc did not improve from 0.56000\n",
      "Epoch 13/200\n",
      "25/25 [==============================] - 6s 236ms/step - loss: 0.8079 - acc: 0.5698 - val_loss: 0.7677 - val_acc: 0.6400\n",
      "\n",
      "Epoch 00013: val_acc improved from 0.56000 to 0.64000, saving model to /analysis/fabiane/models/MS/pretrained/rebuild_64Net/new_script/MPRAGE/weights-augm-trial0-improvement-BEST.hdf5\n",
      "Epoch 14/200\n",
      "25/25 [==============================] - 4s 158ms/step - loss: 0.7909 - acc: 0.5898 - val_loss: 0.8371 - val_acc: 0.4400\n",
      "\n",
      "Epoch 00014: val_acc did not improve from 0.64000\n",
      "Epoch 15/200\n",
      "25/25 [==============================] - 4s 157ms/step - loss: 0.8152 - acc: 0.5566 - val_loss: 0.7991 - val_acc: 0.4400\n",
      "\n",
      "Epoch 00015: val_acc did not improve from 0.64000\n",
      "Epoch 16/200\n",
      "25/25 [==============================] - 4s 157ms/step - loss: 0.7657 - acc: 0.5366 - val_loss: 0.8108 - val_acc: 0.4800\n",
      "\n",
      "Epoch 00016: val_acc did not improve from 0.64000\n",
      "Epoch 17/200\n",
      "25/25 [==============================] - 4s 158ms/step - loss: 0.8053 - acc: 0.4666 - val_loss: 0.7444 - val_acc: 0.5600\n",
      "\n",
      "Epoch 00017: val_acc did not improve from 0.64000\n",
      "Epoch 18/200\n",
      "25/25 [==============================] - 4s 158ms/step - loss: 0.7403 - acc: 0.6199 - val_loss: 0.8734 - val_acc: 0.4400\n",
      "\n",
      "Epoch 00018: val_acc did not improve from 0.64000\n",
      "Epoch 19/200\n",
      "25/25 [==============================] - 4s 158ms/step - loss: 0.8033 - acc: 0.5298 - val_loss: 0.8461 - val_acc: 0.4800\n",
      "\n",
      "Epoch 00019: val_acc did not improve from 0.64000\n",
      "Epoch 20/200\n",
      "25/25 [==============================] - 4s 157ms/step - loss: 0.7784 - acc: 0.5566 - val_loss: 0.7985 - val_acc: 0.4400\n",
      "\n",
      "Epoch 00020: val_acc did not improve from 0.64000\n",
      "Epoch 21/200\n",
      "25/25 [==============================] - 4s 158ms/step - loss: 0.7529 - acc: 0.5766 - val_loss: 0.7515 - val_acc: 0.6000\n",
      "\n",
      "Epoch 00021: val_acc did not improve from 0.64000\n",
      "Epoch 22/200\n",
      "25/25 [==============================] - 4s 159ms/step - loss: 0.7341 - acc: 0.5934 - val_loss: 0.7501 - val_acc: 0.6000\n",
      "\n",
      "Epoch 00022: val_acc did not improve from 0.64000\n",
      "Epoch 00022: early stopping\n",
      "Trial 1\n",
      "Epoch 1/200\n",
      "25/25 [==============================] - 11s 447ms/step - loss: 1.0338 - acc: 0.4502 - val_loss: 0.8773 - val_acc: 0.4400\n",
      "\n",
      "Epoch 00001: val_acc improved from -inf to 0.44000, saving model to /analysis/fabiane/models/MS/pretrained/rebuild_64Net/new_script/MPRAGE/weights-augm-trial1-improvement-BEST.hdf5\n",
      "Epoch 2/200\n",
      "25/25 [==============================] - 4s 157ms/step - loss: 0.9103 - acc: 0.4866 - val_loss: 0.8529 - val_acc: 0.4400\n",
      "\n",
      "Epoch 00002: val_acc did not improve from 0.44000\n",
      "Epoch 3/200\n",
      "25/25 [==============================] - 4s 158ms/step - loss: 0.9535 - acc: 0.4602 - val_loss: 0.8215 - val_acc: 0.4400\n",
      "\n",
      "Epoch 00003: val_acc did not improve from 0.44000\n",
      "Epoch 4/200\n",
      "25/25 [==============================] - 4s 159ms/step - loss: 0.8900 - acc: 0.4366 - val_loss: 0.8028 - val_acc: 0.4400\n",
      "\n",
      "Epoch 00004: val_acc did not improve from 0.44000\n",
      "Epoch 5/200\n",
      "25/25 [==============================] - 4s 158ms/step - loss: 0.9049 - acc: 0.4666 - val_loss: 0.7878 - val_acc: 0.4000\n",
      "\n",
      "Epoch 00005: val_acc did not improve from 0.44000\n",
      "Epoch 6/200\n",
      "25/25 [==============================] - 4s 158ms/step - loss: 0.8219 - acc: 0.5434 - val_loss: 0.7831 - val_acc: 0.5600\n",
      "\n",
      "Epoch 00006: val_acc improved from 0.44000 to 0.56000, saving model to /analysis/fabiane/models/MS/pretrained/rebuild_64Net/new_script/MPRAGE/weights-augm-trial1-improvement-BEST.hdf5\n",
      "Epoch 7/200\n",
      "25/25 [==============================] - 4s 159ms/step - loss: 0.8814 - acc: 0.4434 - val_loss: 0.7885 - val_acc: 0.5600\n",
      "\n",
      "Epoch 00007: val_acc did not improve from 0.56000\n",
      "Epoch 8/200\n",
      "25/25 [==============================] - 4s 159ms/step - loss: 0.9090 - acc: 0.4266 - val_loss: 0.7948 - val_acc: 0.4400\n",
      "\n",
      "Epoch 00008: val_acc did not improve from 0.56000\n",
      "Epoch 9/200\n",
      "25/25 [==============================] - 4s 159ms/step - loss: 0.8702 - acc: 0.4434 - val_loss: 0.7930 - val_acc: 0.4400\n",
      "\n",
      "Epoch 00009: val_acc did not improve from 0.56000\n",
      "Epoch 10/200\n",
      "25/25 [==============================] - 4s 160ms/step - loss: 0.8585 - acc: 0.4802 - val_loss: 0.7862 - val_acc: 0.4400\n",
      "\n",
      "Epoch 00010: val_acc did not improve from 0.56000\n",
      "Epoch 11/200\n",
      "25/25 [==============================] - 4s 159ms/step - loss: 0.7966 - acc: 0.5698 - val_loss: 0.7740 - val_acc: 0.4400\n",
      "\n",
      "Epoch 00011: val_acc did not improve from 0.56000\n",
      "Epoch 12/200\n",
      "25/25 [==============================] - 4s 159ms/step - loss: 0.7965 - acc: 0.5198 - val_loss: 0.7694 - val_acc: 0.4400\n",
      "\n",
      "Epoch 00012: val_acc did not improve from 0.56000\n",
      "Epoch 13/200\n",
      "25/25 [==============================] - 4s 159ms/step - loss: 0.7729 - acc: 0.5098 - val_loss: 0.7580 - val_acc: 0.4400\n",
      "\n",
      "Epoch 00013: val_acc did not improve from 0.56000\n",
      "Epoch 14/200\n",
      "25/25 [==============================] - 4s 160ms/step - loss: 0.8280 - acc: 0.4298 - val_loss: 0.7591 - val_acc: 0.4400\n",
      "\n",
      "Epoch 00014: val_acc did not improve from 0.56000\n",
      "Epoch 15/200\n",
      "25/25 [==============================] - 6s 221ms/step - loss: 0.7828 - acc: 0.5434 - val_loss: 0.7451 - val_acc: 0.5600\n",
      "\n",
      "Epoch 00015: val_acc did not improve from 0.56000\n",
      "Epoch 16/200\n",
      "25/25 [==============================] - 4s 159ms/step - loss: 0.7467 - acc: 0.5066 - val_loss: 0.7426 - val_acc: 0.4400\n",
      "\n",
      "Epoch 00016: val_acc did not improve from 0.56000\n",
      "Epoch 17/200\n",
      "25/25 [==============================] - 4s 159ms/step - loss: 0.7755 - acc: 0.5002 - val_loss: 0.7476 - val_acc: 0.4400\n",
      "\n",
      "Epoch 00017: val_acc did not improve from 0.56000\n",
      "Epoch 18/200\n",
      "25/25 [==============================] - 4s 160ms/step - loss: 0.7522 - acc: 0.5102 - val_loss: 0.7463 - val_acc: 0.4400\n",
      "\n",
      "Epoch 00018: val_acc did not improve from 0.56000\n",
      "Epoch 19/200\n",
      "25/25 [==============================] - 4s 158ms/step - loss: 0.8273 - acc: 0.4934 - val_loss: 0.7282 - val_acc: 0.5600\n"
     ]
    },
    {
     "name": "stdout",
     "output_type": "stream",
     "text": [
      "\n",
      "Epoch 00019: val_acc did not improve from 0.56000\n",
      "Epoch 20/200\n",
      "25/25 [==============================] - 4s 158ms/step - loss: 0.8137 - acc: 0.5066 - val_loss: 0.9126 - val_acc: 0.4400\n",
      "\n",
      "Epoch 00020: val_acc did not improve from 0.56000\n",
      "Epoch 21/200\n",
      "25/25 [==============================] - 4s 160ms/step - loss: 0.8162 - acc: 0.4502 - val_loss: 0.7662 - val_acc: 0.4400\n",
      "\n",
      "Epoch 00021: val_acc did not improve from 0.56000\n",
      "Epoch 22/200\n",
      "25/25 [==============================] - 4s 160ms/step - loss: 0.8411 - acc: 0.5166 - val_loss: 0.7474 - val_acc: 0.4400\n",
      "\n",
      "Epoch 00022: val_acc did not improve from 0.56000\n",
      "Epoch 23/200\n",
      "25/25 [==============================] - 5s 193ms/step - loss: 0.8581 - acc: 0.3966 - val_loss: 0.7438 - val_acc: 0.4400\n",
      "\n",
      "Epoch 00023: val_acc did not improve from 0.56000\n",
      "Epoch 24/200\n",
      "25/25 [==============================] - 4s 159ms/step - loss: 0.7696 - acc: 0.5034 - val_loss: 0.7481 - val_acc: 0.4400\n",
      "\n",
      "Epoch 00024: val_acc did not improve from 0.56000\n",
      "Epoch 00024: early stopping\n",
      "Trial 2\n",
      "Epoch 1/200\n",
      "25/25 [==============================] - 5s 213ms/step - loss: 0.9692 - acc: 0.5466 - val_loss: 0.8876 - val_acc: 0.5600\n",
      "\n",
      "Epoch 00001: val_acc improved from -inf to 0.56000, saving model to /analysis/fabiane/models/MS/pretrained/rebuild_64Net/new_script/MPRAGE/weights-augm-trial2-improvement-BEST.hdf5\n",
      "Epoch 2/200\n",
      "25/25 [==============================] - 4s 159ms/step - loss: 1.1401 - acc: 0.4266 - val_loss: 0.8677 - val_acc: 0.5600\n",
      "\n",
      "Epoch 00002: val_acc did not improve from 0.56000\n",
      "Epoch 3/200\n",
      "25/25 [==============================] - 4s 160ms/step - loss: 1.0987 - acc: 0.4302 - val_loss: 0.8600 - val_acc: 0.4000\n",
      "\n",
      "Epoch 00003: val_acc did not improve from 0.56000\n",
      "Epoch 4/200\n",
      "25/25 [==============================] - 4s 159ms/step - loss: 0.9209 - acc: 0.4666 - val_loss: 0.8527 - val_acc: 0.5600\n",
      "\n",
      "Epoch 00004: val_acc did not improve from 0.56000\n",
      "Epoch 5/200\n",
      "25/25 [==============================] - 4s 159ms/step - loss: 0.9664 - acc: 0.4666 - val_loss: 0.8405 - val_acc: 0.4400\n",
      "\n",
      "Epoch 00005: val_acc did not improve from 0.56000\n",
      "Epoch 6/200\n",
      "25/25 [==============================] - 4s 159ms/step - loss: 0.9279 - acc: 0.4234 - val_loss: 0.8366 - val_acc: 0.4400\n",
      "\n",
      "Epoch 00006: val_acc did not improve from 0.56000\n",
      "Epoch 7/200\n",
      "25/25 [==============================] - 4s 159ms/step - loss: 0.8953 - acc: 0.4534 - val_loss: 0.8086 - val_acc: 0.4400\n",
      "\n",
      "Epoch 00007: val_acc did not improve from 0.56000\n",
      "Epoch 8/200\n",
      "25/25 [==============================] - 4s 158ms/step - loss: 0.8951 - acc: 0.4734 - val_loss: 0.8130 - val_acc: 0.4400\n",
      "\n",
      "Epoch 00008: val_acc did not improve from 0.56000\n",
      "Epoch 9/200\n",
      "25/25 [==============================] - 4s 160ms/step - loss: 0.8428 - acc: 0.5366 - val_loss: 0.8383 - val_acc: 0.4400\n",
      "\n",
      "Epoch 00009: val_acc did not improve from 0.56000\n",
      "Epoch 10/200\n",
      "25/25 [==============================] - 4s 160ms/step - loss: 0.8359 - acc: 0.5366 - val_loss: 0.8112 - val_acc: 0.4400\n",
      "\n",
      "Epoch 00010: val_acc did not improve from 0.56000\n",
      "Epoch 11/200\n",
      "25/25 [==============================] - 4s 159ms/step - loss: 0.8826 - acc: 0.4434 - val_loss: 0.8543 - val_acc: 0.4400\n",
      "\n",
      "Epoch 00011: val_acc did not improve from 0.56000\n",
      "Epoch 12/200\n",
      "25/25 [==============================] - 4s 159ms/step - loss: 0.8900 - acc: 0.4234 - val_loss: 0.8050 - val_acc: 0.4400\n",
      "\n",
      "Epoch 00012: val_acc did not improve from 0.56000\n",
      "Epoch 13/200\n",
      "25/25 [==============================] - 4s 161ms/step - loss: 0.8614 - acc: 0.5198 - val_loss: 0.7803 - val_acc: 0.4400\n",
      "\n",
      "Epoch 00013: val_acc did not improve from 0.56000\n",
      "Epoch 14/200\n",
      "25/25 [==============================] - 4s 161ms/step - loss: 0.9058 - acc: 0.4734 - val_loss: 0.7710 - val_acc: 0.5600\n",
      "\n",
      "Epoch 00014: val_acc did not improve from 0.56000\n",
      "Epoch 15/200\n",
      "25/25 [==============================] - 4s 159ms/step - loss: 0.8466 - acc: 0.4734 - val_loss: 0.7676 - val_acc: 0.5200\n",
      "\n",
      "Epoch 00015: val_acc did not improve from 0.56000\n",
      "Epoch 16/200\n",
      "25/25 [==============================] - 4s 160ms/step - loss: 0.8297 - acc: 0.4602 - val_loss: 0.7573 - val_acc: 0.5200\n",
      "\n",
      "Epoch 00016: val_acc did not improve from 0.56000\n",
      "Epoch 17/200\n",
      "25/25 [==============================] - 4s 161ms/step - loss: 0.7799 - acc: 0.5534 - val_loss: 0.7647 - val_acc: 0.4400\n",
      "\n",
      "Epoch 00017: val_acc did not improve from 0.56000\n",
      "Epoch 18/200\n",
      "25/25 [==============================] - 4s 160ms/step - loss: 0.8545 - acc: 0.3733 - val_loss: 0.7694 - val_acc: 0.4400\n",
      "\n",
      "Epoch 00018: val_acc did not improve from 0.56000\n",
      "Epoch 19/200\n",
      "25/25 [==============================] - 4s 161ms/step - loss: 0.8223 - acc: 0.4634 - val_loss: 0.7328 - val_acc: 0.6000\n",
      "\n",
      "Epoch 00019: val_acc improved from 0.56000 to 0.60000, saving model to /analysis/fabiane/models/MS/pretrained/rebuild_64Net/new_script/MPRAGE/weights-augm-trial2-improvement-BEST.hdf5\n",
      "Epoch 20/200\n",
      "25/25 [==============================] - 4s 160ms/step - loss: 0.7633 - acc: 0.5434 - val_loss: 0.7449 - val_acc: 0.5200\n",
      "\n",
      "Epoch 00020: val_acc did not improve from 0.60000\n",
      "Epoch 21/200\n",
      "25/25 [==============================] - 4s 160ms/step - loss: 0.7683 - acc: 0.4834 - val_loss: 0.7183 - val_acc: 0.6000\n",
      "\n",
      "Epoch 00021: val_acc did not improve from 0.60000\n",
      "Epoch 22/200\n",
      "25/25 [==============================] - 4s 160ms/step - loss: 0.7671 - acc: 0.4934 - val_loss: 0.7444 - val_acc: 0.6000\n",
      "\n",
      "Epoch 00022: val_acc did not improve from 0.60000\n",
      "Epoch 23/200\n",
      "25/25 [==============================] - 4s 160ms/step - loss: 0.7446 - acc: 0.5534 - val_loss: 0.7459 - val_acc: 0.5200\n",
      "\n",
      "Epoch 00023: val_acc did not improve from 0.60000\n",
      "Epoch 24/200\n",
      "25/25 [==============================] - 4s 160ms/step - loss: 0.7460 - acc: 0.4966 - val_loss: 0.7530 - val_acc: 0.4400\n",
      "\n",
      "Epoch 00024: val_acc did not improve from 0.60000\n",
      "Epoch 25/200\n",
      "25/25 [==============================] - 4s 160ms/step - loss: 0.7570 - acc: 0.4866 - val_loss: 0.7755 - val_acc: 0.4400\n",
      "\n",
      "Epoch 00025: val_acc did not improve from 0.60000\n",
      "Epoch 26/200\n",
      "25/25 [==============================] - 4s 159ms/step - loss: 0.7519 - acc: 0.6066 - val_loss: 0.7147 - val_acc: 0.6000\n",
      "\n",
      "Epoch 00026: val_acc did not improve from 0.60000\n",
      "Epoch 27/200\n",
      "25/25 [==============================] - 4s 159ms/step - loss: 0.7430 - acc: 0.5866 - val_loss: 0.7194 - val_acc: 0.5200\n",
      "\n",
      "Epoch 00027: val_acc did not improve from 0.60000\n",
      "Epoch 28/200\n",
      "25/25 [==============================] - 4s 159ms/step - loss: 0.7175 - acc: 0.6166 - val_loss: 0.7529 - val_acc: 0.5200\n",
      "\n",
      "Epoch 00028: val_acc did not improve from 0.60000\n",
      "Epoch 29/200\n",
      "25/25 [==============================] - 4s 160ms/step - loss: 0.7080 - acc: 0.6334 - val_loss: 0.7267 - val_acc: 0.5600\n",
      "\n",
      "Epoch 00029: val_acc did not improve from 0.60000\n",
      "Epoch 30/200\n",
      "25/25 [==============================] - 4s 160ms/step - loss: 0.7076 - acc: 0.5766 - val_loss: 0.7500 - val_acc: 0.5600\n",
      "\n",
      "Epoch 00030: val_acc did not improve from 0.60000\n",
      "Epoch 31/200\n",
      "25/25 [==============================] - 4s 160ms/step - loss: 0.6899 - acc: 0.6334 - val_loss: 0.7488 - val_acc: 0.4800\n",
      "\n",
      "Epoch 00031: val_acc did not improve from 0.60000\n",
      "Epoch 00031: early stopping\n",
      "Trial 3\n",
      "Epoch 1/200\n",
      "25/25 [==============================] - 7s 297ms/step - loss: 1.0043 - acc: 0.5434 - val_loss: 0.8862 - val_acc: 0.5600\n",
      "\n",
      "Epoch 00001: val_acc improved from -inf to 0.56000, saving model to /analysis/fabiane/models/MS/pretrained/rebuild_64Net/new_script/MPRAGE/weights-augm-trial3-improvement-BEST.hdf5\n",
      "Epoch 2/200\n",
      "25/25 [==============================] - 4s 159ms/step - loss: 1.1281 - acc: 0.3834 - val_loss: 0.8624 - val_acc: 0.5600\n",
      "\n",
      "Epoch 00002: val_acc did not improve from 0.56000\n",
      "Epoch 3/200\n",
      "25/25 [==============================] - 4s 160ms/step - loss: 0.9094 - acc: 0.5866 - val_loss: 0.8416 - val_acc: 0.5600\n",
      "\n",
      "Epoch 00003: val_acc did not improve from 0.56000\n",
      "Epoch 4/200\n",
      "25/25 [==============================] - 4s 160ms/step - loss: 1.0192 - acc: 0.5002 - val_loss: 0.8446 - val_acc: 0.4400\n",
      "\n",
      "Epoch 00004: val_acc did not improve from 0.56000\n",
      "Epoch 5/200\n",
      "25/25 [==============================] - 4s 160ms/step - loss: 0.9107 - acc: 0.5234 - val_loss: 0.8391 - val_acc: 0.4400\n",
      "\n",
      "Epoch 00005: val_acc did not improve from 0.56000\n",
      "Epoch 6/200\n",
      "25/25 [==============================] - 4s 160ms/step - loss: 0.9251 - acc: 0.4534 - val_loss: 0.8140 - val_acc: 0.4400\n"
     ]
    },
    {
     "name": "stdout",
     "output_type": "stream",
     "text": [
      "\n",
      "Epoch 00006: val_acc did not improve from 0.56000\n",
      "Epoch 7/200\n",
      "25/25 [==============================] - 4s 160ms/step - loss: 0.8389 - acc: 0.5134 - val_loss: 0.8059 - val_acc: 0.4400\n",
      "\n",
      "Epoch 00007: val_acc did not improve from 0.56000\n",
      "Epoch 8/200\n",
      "25/25 [==============================] - 4s 160ms/step - loss: 0.8682 - acc: 0.4334 - val_loss: 0.7965 - val_acc: 0.4400\n",
      "\n",
      "Epoch 00008: val_acc did not improve from 0.56000\n",
      "Epoch 9/200\n",
      "25/25 [==============================] - 4s 160ms/step - loss: 0.7673 - acc: 0.5734 - val_loss: 0.8011 - val_acc: 0.4400\n",
      "\n",
      "Epoch 00009: val_acc did not improve from 0.56000\n",
      "Epoch 10/200\n",
      "25/25 [==============================] - 4s 160ms/step - loss: 0.7750 - acc: 0.5034 - val_loss: 0.7900 - val_acc: 0.4400\n",
      "\n",
      "Epoch 00010: val_acc did not improve from 0.56000\n",
      "Epoch 11/200\n",
      "25/25 [==============================] - 4s 160ms/step - loss: 0.8088 - acc: 0.5666 - val_loss: 0.7757 - val_acc: 0.4400\n",
      "\n",
      "Epoch 00011: val_acc did not improve from 0.56000\n",
      "Epoch 12/200\n",
      "25/25 [==============================] - 4s 161ms/step - loss: 0.8462 - acc: 0.4534 - val_loss: 0.7612 - val_acc: 0.4400\n",
      "\n",
      "Epoch 00012: val_acc did not improve from 0.56000\n",
      "Epoch 13/200\n",
      "25/25 [==============================] - 4s 160ms/step - loss: 0.7824 - acc: 0.5666 - val_loss: 0.7701 - val_acc: 0.4400\n",
      "\n",
      "Epoch 00013: val_acc did not improve from 0.56000\n",
      "Epoch 14/200\n",
      "25/25 [==============================] - 4s 160ms/step - loss: 0.8397 - acc: 0.4798 - val_loss: 0.7641 - val_acc: 0.4400\n",
      "\n",
      "Epoch 00014: val_acc did not improve from 0.56000\n",
      "Epoch 15/200\n",
      "25/25 [==============================] - 4s 160ms/step - loss: 0.8385 - acc: 0.5134 - val_loss: 0.7516 - val_acc: 0.4400\n",
      "\n",
      "Epoch 00015: val_acc did not improve from 0.56000\n",
      "Epoch 16/200\n",
      "25/25 [==============================] - 4s 160ms/step - loss: 0.8613 - acc: 0.4702 - val_loss: 0.7515 - val_acc: 0.4400\n",
      "\n",
      "Epoch 00016: val_acc did not improve from 0.56000\n",
      "Epoch 17/200\n",
      "25/25 [==============================] - 4s 159ms/step - loss: 0.8003 - acc: 0.5134 - val_loss: 0.7597 - val_acc: 0.4400\n",
      "\n",
      "Epoch 00017: val_acc did not improve from 0.56000\n",
      "Epoch 18/200\n",
      "25/25 [==============================] - 4s 160ms/step - loss: 0.7884 - acc: 0.5134 - val_loss: 0.7432 - val_acc: 0.4400\n",
      "\n",
      "Epoch 00018: val_acc did not improve from 0.56000\n",
      "Epoch 19/200\n",
      "25/25 [==============================] - 4s 160ms/step - loss: 0.7315 - acc: 0.5698 - val_loss: 0.7509 - val_acc: 0.4400\n",
      "\n",
      "Epoch 00019: val_acc did not improve from 0.56000\n",
      "Epoch 20/200\n",
      "25/25 [==============================] - 4s 160ms/step - loss: 0.8135 - acc: 0.4902 - val_loss: 0.7398 - val_acc: 0.4800\n",
      "\n",
      "Epoch 00020: val_acc did not improve from 0.56000\n",
      "Epoch 21/200\n",
      "25/25 [==============================] - 4s 159ms/step - loss: 0.8200 - acc: 0.4366 - val_loss: 0.7639 - val_acc: 0.5600\n",
      "\n",
      "Epoch 00021: val_acc did not improve from 0.56000\n",
      "Epoch 22/200\n",
      "25/25 [==============================] - 5s 215ms/step - loss: 0.9155 - acc: 0.5298 - val_loss: 0.7382 - val_acc: 0.6800\n",
      "\n",
      "Epoch 00022: val_acc improved from 0.56000 to 0.68000, saving model to /analysis/fabiane/models/MS/pretrained/rebuild_64Net/new_script/MPRAGE/weights-augm-trial3-improvement-BEST.hdf5\n",
      "Epoch 23/200\n",
      "25/25 [==============================] - 4s 160ms/step - loss: 0.7990 - acc: 0.4434 - val_loss: 0.7423 - val_acc: 0.6000\n",
      "\n",
      "Epoch 00023: val_acc did not improve from 0.68000\n",
      "Epoch 24/200\n",
      "25/25 [==============================] - 4s 160ms/step - loss: 0.8360 - acc: 0.4566 - val_loss: 0.7948 - val_acc: 0.4400\n",
      "\n",
      "Epoch 00024: val_acc did not improve from 0.68000\n",
      "Epoch 25/200\n",
      "25/25 [==============================] - 4s 160ms/step - loss: 0.8153 - acc: 0.4334 - val_loss: 0.7690 - val_acc: 0.4800\n",
      "\n",
      "Epoch 00025: val_acc did not improve from 0.68000\n",
      "Epoch 26/200\n",
      "25/25 [==============================] - 4s 159ms/step - loss: 0.7793 - acc: 0.5366 - val_loss: 0.9221 - val_acc: 0.4400\n",
      "\n",
      "Epoch 00026: val_acc did not improve from 0.68000\n",
      "Epoch 27/200\n",
      "25/25 [==============================] - 4s 160ms/step - loss: 0.8037 - acc: 0.4666 - val_loss: 0.7502 - val_acc: 0.4800\n",
      "\n",
      "Epoch 00027: val_acc did not improve from 0.68000\n",
      "Epoch 00027: early stopping\n",
      "Trial 4\n",
      "Epoch 1/200\n",
      "25/25 [==============================] - 6s 235ms/step - loss: 0.9873 - acc: 0.4666 - val_loss: 0.8509 - val_acc: 0.5600\n",
      "\n",
      "Epoch 00001: val_acc improved from -inf to 0.56000, saving model to /analysis/fabiane/models/MS/pretrained/rebuild_64Net/new_script/MPRAGE/weights-augm-trial4-improvement-BEST.hdf5\n",
      "Epoch 2/200\n",
      "25/25 [==============================] - 4s 160ms/step - loss: 0.8396 - acc: 0.5802 - val_loss: 0.8282 - val_acc: 0.4400\n",
      "\n",
      "Epoch 00002: val_acc did not improve from 0.56000\n",
      "Epoch 3/200\n",
      "25/25 [==============================] - 4s 162ms/step - loss: 0.8409 - acc: 0.4902 - val_loss: 0.8119 - val_acc: 0.4400\n",
      "\n",
      "Epoch 00003: val_acc did not improve from 0.56000\n",
      "Epoch 4/200\n",
      "25/25 [==============================] - 4s 160ms/step - loss: 0.9770 - acc: 0.4566 - val_loss: 0.7835 - val_acc: 0.5600\n",
      "\n",
      "Epoch 00004: val_acc did not improve from 0.56000\n",
      "Epoch 5/200\n",
      "25/25 [==============================] - 4s 162ms/step - loss: 0.9362 - acc: 0.4834 - val_loss: 0.7953 - val_acc: 0.5600\n",
      "\n",
      "Epoch 00005: val_acc did not improve from 0.56000\n",
      "Epoch 6/200\n",
      "25/25 [==============================] - 4s 161ms/step - loss: 0.9460 - acc: 0.4898 - val_loss: 0.9544 - val_acc: 0.4400\n",
      "\n",
      "Epoch 00006: val_acc did not improve from 0.56000\n",
      "Epoch 7/200\n",
      "25/25 [==============================] - 4s 160ms/step - loss: 0.9444 - acc: 0.4202 - val_loss: 0.8082 - val_acc: 0.4400\n",
      "\n",
      "Epoch 00007: val_acc did not improve from 0.56000\n",
      "Epoch 8/200\n",
      "25/25 [==============================] - 4s 161ms/step - loss: 0.8912 - acc: 0.4834 - val_loss: 0.8060 - val_acc: 0.4400\n",
      "\n",
      "Epoch 00008: val_acc did not improve from 0.56000\n",
      "Epoch 9/200\n",
      "25/25 [==============================] - 4s 160ms/step - loss: 0.8554 - acc: 0.5334 - val_loss: 0.7990 - val_acc: 0.4400\n",
      "\n",
      "Epoch 00009: val_acc did not improve from 0.56000\n",
      "Epoch 00009: early stopping\n",
      "Trial 5\n",
      "Epoch 1/200\n",
      "25/25 [==============================] - 6s 228ms/step - loss: 1.0305 - acc: 0.5766 - val_loss: 0.8778 - val_acc: 0.4400\n",
      "\n",
      "Epoch 00001: val_acc improved from -inf to 0.44000, saving model to /analysis/fabiane/models/MS/pretrained/rebuild_64Net/new_script/MPRAGE/weights-augm-trial5-improvement-BEST.hdf5\n",
      "Epoch 2/200\n",
      "25/25 [==============================] - 4s 160ms/step - loss: 1.0228 - acc: 0.4534 - val_loss: 0.8917 - val_acc: 0.4400\n",
      "\n",
      "Epoch 00002: val_acc did not improve from 0.44000\n",
      "Epoch 3/200\n",
      "25/25 [==============================] - 4s 160ms/step - loss: 1.0263 - acc: 0.4502 - val_loss: 0.8411 - val_acc: 0.5600\n",
      "\n",
      "Epoch 00003: val_acc improved from 0.44000 to 0.56000, saving model to /analysis/fabiane/models/MS/pretrained/rebuild_64Net/new_script/MPRAGE/weights-augm-trial5-improvement-BEST.hdf5\n",
      "Epoch 4/200\n",
      "25/25 [==============================] - 4s 160ms/step - loss: 0.8770 - acc: 0.5034 - val_loss: 0.8271 - val_acc: 0.5600\n",
      "\n",
      "Epoch 00004: val_acc did not improve from 0.56000\n",
      "Epoch 5/200\n",
      "25/25 [==============================] - 4s 160ms/step - loss: 0.8761 - acc: 0.4666 - val_loss: 0.8241 - val_acc: 0.4400\n",
      "\n",
      "Epoch 00005: val_acc did not improve from 0.56000\n",
      "Epoch 6/200\n",
      "25/25 [==============================] - 4s 161ms/step - loss: 0.8726 - acc: 0.4866 - val_loss: 0.8104 - val_acc: 0.4400\n",
      "\n",
      "Epoch 00006: val_acc did not improve from 0.56000\n",
      "Epoch 7/200\n",
      "25/25 [==============================] - 4s 159ms/step - loss: 0.8262 - acc: 0.5334 - val_loss: 0.7901 - val_acc: 0.4400\n",
      "\n",
      "Epoch 00007: val_acc did not improve from 0.56000\n",
      "Epoch 8/200\n",
      "25/25 [==============================] - 4s 161ms/step - loss: 0.8464 - acc: 0.4634 - val_loss: 0.7821 - val_acc: 0.4400\n",
      "\n",
      "Epoch 00008: val_acc did not improve from 0.56000\n",
      "Epoch 9/200\n",
      "25/25 [==============================] - 4s 161ms/step - loss: 0.8253 - acc: 0.4798 - val_loss: 0.7776 - val_acc: 0.4400\n",
      "\n",
      "Epoch 00009: val_acc did not improve from 0.56000\n",
      "Epoch 10/200\n",
      "25/25 [==============================] - 4s 160ms/step - loss: 0.8939 - acc: 0.4434 - val_loss: 0.7853 - val_acc: 0.4400\n",
      "\n",
      "Epoch 00010: val_acc did not improve from 0.56000\n",
      "Epoch 11/200\n",
      "25/25 [==============================] - 4s 161ms/step - loss: 0.8360 - acc: 0.5266 - val_loss: 0.7717 - val_acc: 0.4400\n",
      "\n",
      "Epoch 00011: val_acc did not improve from 0.56000\n",
      "Epoch 12/200\n"
     ]
    },
    {
     "name": "stdout",
     "output_type": "stream",
     "text": [
      "25/25 [==============================] - 4s 159ms/step - loss: 0.7938 - acc: 0.5234 - val_loss: 0.7669 - val_acc: 0.4400\n",
      "\n",
      "Epoch 00012: val_acc did not improve from 0.56000\n",
      "Epoch 13/200\n",
      "25/25 [==============================] - 4s 161ms/step - loss: 0.7748 - acc: 0.4798 - val_loss: 0.7641 - val_acc: 0.4400\n",
      "\n",
      "Epoch 00013: val_acc did not improve from 0.56000\n",
      "Epoch 14/200\n",
      "25/25 [==============================] - 4s 161ms/step - loss: 0.8043 - acc: 0.4766 - val_loss: 0.7488 - val_acc: 0.4000\n",
      "\n",
      "Epoch 00014: val_acc did not improve from 0.56000\n",
      "Epoch 15/200\n",
      "25/25 [==============================] - 4s 161ms/step - loss: 0.7689 - acc: 0.5866 - val_loss: 0.7422 - val_acc: 0.5600\n",
      "\n",
      "Epoch 00015: val_acc did not improve from 0.56000\n",
      "Epoch 16/200\n",
      "25/25 [==============================] - 4s 161ms/step - loss: 0.8336 - acc: 0.5202 - val_loss: 0.7488 - val_acc: 0.5600\n",
      "\n",
      "Epoch 00016: val_acc did not improve from 0.56000\n",
      "Epoch 17/200\n",
      "25/25 [==============================] - 4s 162ms/step - loss: 0.8087 - acc: 0.5634 - val_loss: 0.7551 - val_acc: 0.4400\n",
      "\n",
      "Epoch 00017: val_acc did not improve from 0.56000\n",
      "Epoch 18/200\n",
      "25/25 [==============================] - 4s 161ms/step - loss: 0.8013 - acc: 0.4902 - val_loss: 0.7633 - val_acc: 0.4400\n",
      "\n",
      "Epoch 00018: val_acc did not improve from 0.56000\n",
      "Epoch 19/200\n",
      "25/25 [==============================] - 4s 161ms/step - loss: 0.7942 - acc: 0.5666 - val_loss: 0.8009 - val_acc: 0.4400\n",
      "\n",
      "Epoch 00019: val_acc did not improve from 0.56000\n",
      "Epoch 20/200\n",
      "25/25 [==============================] - 4s 160ms/step - loss: 0.8076 - acc: 0.5234 - val_loss: 0.7740 - val_acc: 0.4400\n",
      "\n",
      "Epoch 00020: val_acc did not improve from 0.56000\n",
      "Epoch 00020: early stopping\n",
      "Trial 6\n",
      "Epoch 1/200\n",
      "25/25 [==============================] - 6s 238ms/step - loss: 1.0071 - acc: 0.5466 - val_loss: 0.8634 - val_acc: 0.5600\n",
      "\n",
      "Epoch 00001: val_acc improved from -inf to 0.56000, saving model to /analysis/fabiane/models/MS/pretrained/rebuild_64Net/new_script/MPRAGE/weights-augm-trial6-improvement-BEST.hdf5\n",
      "Epoch 2/200\n",
      "25/25 [==============================] - 4s 161ms/step - loss: 1.0580 - acc: 0.4534 - val_loss: 0.8576 - val_acc: 0.5600\n",
      "\n",
      "Epoch 00002: val_acc did not improve from 0.56000\n",
      "Epoch 3/200\n",
      "25/25 [==============================] - 4s 161ms/step - loss: 0.9438 - acc: 0.4666 - val_loss: 0.8573 - val_acc: 0.4400\n",
      "\n",
      "Epoch 00003: val_acc did not improve from 0.56000\n",
      "Epoch 4/200\n",
      "25/25 [==============================] - 4s 161ms/step - loss: 0.8620 - acc: 0.6234 - val_loss: 0.8343 - val_acc: 0.4400\n",
      "\n",
      "Epoch 00004: val_acc did not improve from 0.56000\n",
      "Epoch 5/200\n",
      "25/25 [==============================] - 4s 160ms/step - loss: 0.9430 - acc: 0.4966 - val_loss: 0.8060 - val_acc: 0.5600\n",
      "\n",
      "Epoch 00005: val_acc did not improve from 0.56000\n",
      "Epoch 6/200\n",
      "25/25 [==============================] - 4s 161ms/step - loss: 0.8893 - acc: 0.4634 - val_loss: 0.8307 - val_acc: 0.4400\n",
      "\n",
      "Epoch 00006: val_acc did not improve from 0.56000\n",
      "Epoch 7/200\n",
      "25/25 [==============================] - 4s 162ms/step - loss: 0.8865 - acc: 0.4566 - val_loss: 0.8327 - val_acc: 0.4400\n",
      "\n",
      "Epoch 00007: val_acc did not improve from 0.56000\n",
      "Epoch 8/200\n",
      "25/25 [==============================] - 4s 161ms/step - loss: 0.8775 - acc: 0.5066 - val_loss: 0.7991 - val_acc: 0.4400\n",
      "\n",
      "Epoch 00008: val_acc did not improve from 0.56000\n",
      "Epoch 9/200\n",
      "25/25 [==============================] - 4s 161ms/step - loss: 0.8817 - acc: 0.4734 - val_loss: 0.7750 - val_acc: 0.5600\n",
      "\n",
      "Epoch 00009: val_acc did not improve from 0.56000\n",
      "Epoch 10/200\n",
      "25/25 [==============================] - 4s 161ms/step - loss: 0.8569 - acc: 0.4702 - val_loss: 0.7810 - val_acc: 0.4400\n",
      "\n",
      "Epoch 00010: val_acc did not improve from 0.56000\n",
      "Epoch 11/200\n",
      "25/25 [==============================] - 4s 160ms/step - loss: 0.8000 - acc: 0.5434 - val_loss: 0.8114 - val_acc: 0.4400\n",
      "\n",
      "Epoch 00011: val_acc did not improve from 0.56000\n",
      "Epoch 12/200\n",
      "25/25 [==============================] - 4s 160ms/step - loss: 0.8612 - acc: 0.5466 - val_loss: 0.7858 - val_acc: 0.4400\n",
      "\n",
      "Epoch 00012: val_acc did not improve from 0.56000\n",
      "Epoch 13/200\n",
      "25/25 [==============================] - 4s 161ms/step - loss: 0.8345 - acc: 0.4734 - val_loss: 0.7987 - val_acc: 0.4400\n",
      "\n",
      "Epoch 00013: val_acc did not improve from 0.56000\n",
      "Epoch 14/200\n",
      "25/25 [==============================] - 4s 161ms/step - loss: 0.8153 - acc: 0.5434 - val_loss: 0.8061 - val_acc: 0.4400\n",
      "\n",
      "Epoch 00014: val_acc did not improve from 0.56000\n",
      "Epoch 00014: early stopping\n",
      "Training Time: 0.0h:11.0m:16.737501621246338s\n",
      "Validation final accuracies: \n",
      " [0.6, 0.44, 0.48, 0.48, 0.44, 0.44, 0.44]\n",
      "Validation final accuracies mean: 0.47428571428571425\n",
      "Validation best accuracies: \n",
      " [0.64, 0.56, 0.6, 0.68, 0.56, 0.56, 0.56]\n",
      "Validation best accuracies mean: 0.5942857142857143\n",
      "Validation balanced accuracies: \n",
      " [0.5844155844155844, 0.5, 0.487012987012987, 0.525974025974026, 0.5, 0.5, 0.5]\n",
      "Validation balanced accuracies mean: 0.5139146567717996\n"
     ]
    }
   ],
   "source": [
    "# training args\n",
    "lr = 0.001\n",
    "lr_decay = 0.003\n",
    "transforms = [intensity, sagittal_flip, translate]\n",
    "\n",
    "num_trials = 7\n",
    "store_models = True\n",
    "\n",
    "# callbacks\n",
    "earlystop = EarlyStopping(monitor='val_loss', min_delta=0, patience=5, verbose=1, mode='auto')\n",
    "\n",
    "accuracies = []\n",
    "balanced_accuracies = []\n",
    "max_acc = []\n",
    "\n",
    "for i in range(num_trials):\n",
    "    print(\"Trial %i\" %i)\n",
    "    \n",
    "    # init model\n",
    "    model = init_model(model_path, finetune=False, up_to=None)    \n",
    "    opti = Adam(lr=lr, decay=lr_decay)\n",
    "    model.compile(optimizer=opti, loss='binary_crossentropy', metrics=['accuracy'])\n",
    "    \n",
    "    # callbacks\n",
    "    earlystop = EarlyStopping(monitor='val_loss', min_delta=0, patience=5, verbose=1, mode='auto')\n",
    "    if store_models:\n",
    "        result_path = os.path.join(result_dir, \"weights-augm-trial%i-improvement-BEST.hdf5\" %i)\n",
    "        model_checkpoint = ModelCheckpoint(result_path, monitor='val_acc', verbose=1, save_best_only=True, mode='max', save_weights_only=True)\n",
    "        callbacks = [earlystop, model_checkpoint]\n",
    "    else:\n",
    "        callbacks = [earlystop]\n",
    "        \n",
    "    train_loader = CISDataset(X_train, y_train, transform=transforms, batch_size=b, shuffle=True)\n",
    "    val_loader = CISDataset(X_val, y_val, transform=[intensity], batch_size=1, shuffle=False)\n",
    "    \n",
    "    # Start training\n",
    "    history = model.fit_generator(train_loader,\n",
    "                        epochs=num_epochs,\n",
    "                        verbose=1,\n",
    "                        validation_data=val_loader,\n",
    "                        callbacks=callbacks)\n",
    "    \n",
    "    # Evaluation\n",
    "    y_pred = model.predict_generator(val_loader)\n",
    "    #y_true = [item for sublist in [val_loader[batch_idx][1] for batch_idx in range(len(val_loader))] for item in sublist]\n",
    "    bal_acc = balanced_accuracy(y_val, y_pred>0.5)\n",
    "    accuracies.append(history.history[\"val_acc\"][-1])\n",
    "    balanced_accuracies.append(bal_acc)\n",
    "    max_acc.append(np.max(history.history[\"val_acc\"]))\n",
    "\n",
    "training_time = time.time() - start_time\n",
    "print(\"Training Time: {}h:{}m:{}s\".format(\n",
    "            training_time//3600, (training_time//60)%60, training_time%60))\n",
    "\n",
    "print(\"Validation final accuracies: \\n {}\".format(accuracies))\n",
    "print(\"Validation final accuracies mean: {}\".format(np.mean(accuracies)))\n",
    "print(\"Validation best accuracies: \\n {}\".format(max_acc))\n",
    "print(\"Validation best accuracies mean: {}\".format(np.mean(max_acc)))\n",
    "print(\"Validation balanced accuracies: \\n {}\".format(balanced_accuracies))\n",
    "print(\"Validation balanced accuracies mean: {}\".format(np.mean(balanced_accuracies)))\n",
    "\n"
   ]
  },
  {
   "cell_type": "code",
   "execution_count": 25,
   "metadata": {
    "collapsed": true
   },
   "outputs": [],
   "source": [
    "training_time = time.time() - start_time"
   ]
  },
  {
   "cell_type": "markdown",
   "metadata": {},
   "source": [
    "# Evaluation"
   ]
  },
  {
   "cell_type": "code",
   "execution_count": 26,
   "metadata": {
    "collapsed": true
   },
   "outputs": [],
   "source": [
    "weights = [\"weights-augm-trial0-improvement-BEST.hdf5\",\n",
    "           \"weights-augm-trial1-improvement-BEST.hdf5\",\n",
    "           \"weights-augm-trial2-improvement-BEST.hdf5\",\n",
    "           \"weights-augm-trial3-improvement-BEST.hdf5\",\n",
    "           \"weights-augm-trial4-improvement-BEST.hdf5\",\n",
    "           \"weights-augm-trial5-improvement-BEST.hdf5\",\n",
    "           \"weights-augm-trial6-improvement-BEST.hdf5\",\n",
    "          ]"
   ]
  },
  {
   "cell_type": "code",
   "execution_count": 27,
   "metadata": {
    "collapsed": true
   },
   "outputs": [],
   "source": [
    "# load holdout set\n",
    "test_loader = CISDataset(X_holdout, y_holdout, transform=[intensity], batch_size=1, shuffle=False)"
   ]
  },
  {
   "cell_type": "code",
   "execution_count": 28,
   "metadata": {},
   "outputs": [
    {
     "name": "stdout",
     "output_type": "stream",
     "text": [
      "Fold 0\n"
     ]
    },
    {
     "name": "stderr",
     "output_type": "stream",
     "text": [
      "/home/fabiane/anaconda2/envs/postal/lib/python3.6/site-packages/ipykernel_launcher.py:16: DeprecationWarning: Both axis > a.ndim and axis < -a.ndim - 1 are deprecated and will raise an AxisError in the future.\n",
      "  app.launch_new_instance()\n"
     ]
    },
    {
     "name": "stdout",
     "output_type": "stream",
     "text": [
      "Model accuracy 56.52 %\n",
      "Balanced accuracy 59.23 %\n",
      "Fold 1\n",
      "Model accuracy 43.48 %\n",
      "Balanced accuracy 50.00 %\n",
      "Fold 2\n",
      "Model accuracy 65.22 %\n",
      "Balanced accuracy 66.92 %\n",
      "Fold 3\n",
      "Model accuracy 73.91 %\n",
      "Balanced accuracy 73.46 %\n",
      "Fold 4\n",
      "Model accuracy 47.83 %\n",
      "Balanced accuracy 53.85 %\n",
      "Fold 5\n",
      "Model accuracy 43.48 %\n",
      "Balanced accuracy 50.00 %\n",
      "Fold 6\n",
      "Model accuracy 43.48 %\n",
      "Balanced accuracy 50.00 %\n",
      "######## Final results ########\n",
      "Accuracy mean 53.42 %\n",
      "Balanced accuracy mean 57.64 %\n"
     ]
    }
   ],
   "source": [
    "accuracies = []\n",
    "balanced_accuracies = []\n",
    "for fold, weight in enumerate(weights):\n",
    "    print(\"Fold {}\".format(fold))\n",
    "    model = load_model(model_path)\n",
    "    model_dir = os.path.join(result_dir, weight)\n",
    "    model.load_weights(model_dir)\n",
    "    \n",
    "    opti = Adam(lr=lr, decay=lr_decay)\n",
    "    model.compile(optimizer=opti,\n",
    "              loss='binary_crossentropy',\n",
    "              metrics=['accuracy'])\n",
    "    \n",
    "    res = model.evaluate_generator(test_loader)\n",
    "    print(\"Model accuracy {:.2f} %\".format(res[1]*100))\n",
    "    \n",
    "    y_pred = (model.predict_generator(test_loader) > 0.5) * 1\n",
    "    bal_acc = balanced_accuracy(y_holdout, y_pred)\n",
    "    print(\"Balanced accuracy {:.2f} %\".format(bal_acc*100))\n",
    "    \n",
    "    accuracies.append(res[1])\n",
    "    balanced_accuracies.append(bal_acc)\n",
    "print(\"######## Final results ########\")\n",
    "print(\"Accuracy mean {:.2f} %\".format(np.mean(accuracies)*100))\n",
    "print(\"Balanced accuracy mean {:.2f} %\".format(np.mean(balanced_accuracies)*100))"
   ]
  },
  {
   "cell_type": "code",
   "execution_count": 29,
   "metadata": {
    "collapsed": true
   },
   "outputs": [],
   "source": [
    "total_time = time.time() - start_time"
   ]
  },
  {
   "cell_type": "code",
   "execution_count": 30,
   "metadata": {},
   "outputs": [
    {
     "name": "stdout",
     "output_type": "stream",
     "text": [
      "Training Time: 0.0h:11.0m:16.749820947647095s\n",
      "Total time elapsed: 0.0h:12.0m:7.232309103012085s\n"
     ]
    }
   ],
   "source": [
    "print(\"Training Time: {}h:{}m:{}s\".format(\n",
    "            training_time//3600, (training_time//60)%60, training_time%60))\n",
    "print(\"Total time elapsed: {}h:{}m:{}s\".format(\n",
    "            total_time//3600, (total_time//60)%60, total_time%60))"
   ]
  },
  {
   "cell_type": "code",
   "execution_count": 31,
   "metadata": {
    "collapsed": true
   },
   "outputs": [],
   "source": [
    "quit()"
   ]
  },
  {
   "cell_type": "code",
   "execution_count": null,
   "metadata": {
    "collapsed": true
   },
   "outputs": [],
   "source": []
  }
 ],
 "metadata": {
  "kernelspec": {
   "display_name": "Python (postal)",
   "language": "python",
   "name": "postal"
  },
  "language_info": {
   "codemirror_mode": {
    "name": "ipython",
    "version": 3
   },
   "file_extension": ".py",
   "mimetype": "text/x-python",
   "name": "python",
   "nbconvert_exporter": "python",
   "pygments_lexer": "ipython3",
   "version": "3.6.6"
  }
 },
 "nbformat": 4,
 "nbformat_minor": 2
}
