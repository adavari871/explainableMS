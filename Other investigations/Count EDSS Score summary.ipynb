{
 "cells": [
  {
   "cell_type": "code",
   "execution_count": 1,
   "metadata": {
    "collapsed": true
   },
   "outputs": [],
   "source": [
    "import numpy as np\n",
    "import h5py\n",
    "import matplotlib.pyplot as plt"
   ]
  },
  {
   "cell_type": "code",
   "execution_count": 2,
   "metadata": {
    "collapsed": true
   },
   "outputs": [],
   "source": [
    "import sys\n",
    "sys.path.append(\"../\")"
   ]
  },
  {
   "cell_type": "code",
   "execution_count": 3,
   "metadata": {
    "collapsed": true
   },
   "outputs": [],
   "source": [
    "from config import *"
   ]
  },
  {
   "cell_type": "code",
   "execution_count": 4,
   "metadata": {
    "collapsed": true
   },
   "outputs": [],
   "source": [
    "# paths\n",
    "train_h5 = h5py.File(\"/analysis/fabiane/data/MS/explMS/train_dataset_with_edss.h5\")\n",
    "holdout_h5 = h5py.File(\"/analysis/fabiane/data/MS/explMS/holdout_dataset_with_edss.h5\")"
   ]
  },
  {
   "cell_type": "code",
   "execution_count": 5,
   "metadata": {
    "collapsed": true
   },
   "outputs": [],
   "source": [
    "train_edss = np.array(train_h5['edss'])\n",
    "holdout_edss = np.array(holdout_h5['edss'])\n",
    "\n",
    "train_labels = np.array(train_h5['y'])\n",
    "holdout_labels = np.array(holdout_h5['y'])"
   ]
  },
  {
   "cell_type": "code",
   "execution_count": 6,
   "metadata": {},
   "outputs": [
    {
     "data": {
      "text/plain": [
       "array([1., 1., 1., 1., 0., 0., 1., 0., 1., 0., 1., 1., 1., 1., 0., 0., 0.,\n",
       "       1., 1., 0., 0., 0., 0., 0., 1., 0., 0., 1., 0., 1., 0., 0., 0., 1.,\n",
       "       1., 0., 1., 0., 1., 0., 1., 1., 0., 0., 1., 0., 0., 0., 0., 0., 1.,\n",
       "       1., 1., 1., 1., 1., 1., 1., 1., 1., 1., 0., 1., 1., 0., 1., 1., 1.,\n",
       "       1., 1., 1., 1., 0., 0., 0., 0., 0., 0., 1., 1., 1., 1., 0., 1., 0.,\n",
       "       1., 0., 1., 1., 1., 0., 1., 1., 1., 0., 1., 0., 1., 0., 0., 0., 0.,\n",
       "       0., 0., 0., 1., 1., 0., 0., 0., 0., 0., 1., 0., 1., 0., 1., 0., 0.,\n",
       "       1., 0., 0., 1., 0.])"
      ]
     },
     "execution_count": 6,
     "metadata": {},
     "output_type": "execute_result"
    }
   ],
   "source": [
    "train_labels"
   ]
  },
  {
   "cell_type": "code",
   "execution_count": 7,
   "metadata": {},
   "outputs": [
    {
     "data": {
      "text/plain": [
       "array([2. , 1. , 2. , 2.5, nan, nan, 5. , nan, 2. , nan, 2. , 3.5, 3. ,\n",
       "       2.5, nan, nan, nan, 4.5, 3. , nan, nan, nan, nan, nan, 2. , nan,\n",
       "       nan, 2. , nan, 3. , nan, nan, nan, 1.5, 3. , nan, 4. , nan, nan,\n",
       "       nan, 1.5, 3. , nan, nan, 1. , nan, nan, nan, nan, nan, 1.5, 6.5,\n",
       "       4. , 1. , 1.5, 1.5, 6. , 2. , 1. , 1.5, 1. , nan, 6. , nan, nan,\n",
       "       1. , nan, 2.5, 2.5, 4.5, 2. , 3.5, nan, nan, nan, nan, nan, nan,\n",
       "       3. , 4.5, 2.5, 2.5, nan, 0. , nan, 2.5, nan, nan, nan, 1. , nan,\n",
       "       2.5, 2.5, 0. , nan, 4.5, nan, 3.5, nan, nan, nan, nan, nan, nan,\n",
       "       nan, 1. , 6. , nan, nan, nan, nan, nan, 1.5, nan, 2. , nan, 0. ,\n",
       "       nan, nan, 2.5, nan, nan, 3.5, nan])"
      ]
     },
     "execution_count": 7,
     "metadata": {},
     "output_type": "execute_result"
    }
   ],
   "source": [
    "train_edss"
   ]
  },
  {
   "cell_type": "code",
   "execution_count": 8,
   "metadata": {
    "collapsed": true
   },
   "outputs": [],
   "source": [
    "train_ms_locations = np.where(train_labels==1)\n",
    "holdout_ms_locations = np.where(holdout_labels==1)"
   ]
  },
  {
   "cell_type": "code",
   "execution_count": 9,
   "metadata": {
    "collapsed": true
   },
   "outputs": [],
   "source": [
    "all_ms_edss_scores = np.concatenate((train_edss[train_ms_locations], holdout_edss[holdout_ms_locations]))"
   ]
  },
  {
   "cell_type": "code",
   "execution_count": 10,
   "metadata": {},
   "outputs": [
    {
     "name": "stdout",
     "output_type": "stream",
     "text": [
      "Mean EDSS MS 2.63\n",
      "Median EDSS MS 2.50\n",
      "Std EDSS MS 1.48\n",
      "Max EDSS MS 6.50\n",
      "Min EDSS MS 0.00\n"
     ]
    }
   ],
   "source": [
    "print(\"Mean EDSS MS {:.2f}\".format(np.nanmean(all_ms_edss_scores)))\n",
    "print(\"Median EDSS MS {:.2f}\".format(np.nanmedian(all_ms_edss_scores)))\n",
    "print(\"Std EDSS MS {:.2f}\".format(np.nanstd(all_ms_edss_scores)))\n",
    "print(\"Max EDSS MS {:.2f}\".format(np.nanmax(all_ms_edss_scores)))\n",
    "print(\"Min EDSS MS {:.2f}\".format(np.nanmin(all_ms_edss_scores)))"
   ]
  },
  {
   "cell_type": "code",
   "execution_count": 27,
   "metadata": {},
   "outputs": [
    {
     "name": "stdout",
     "output_type": "stream",
     "text": [
      "Number of missings 5\n"
     ]
    }
   ],
   "source": [
    "print(\"Number of missings {}\".format(np.isnan(all_ms_edss_scores).sum()))"
   ]
  },
  {
   "cell_type": "code",
   "execution_count": null,
   "metadata": {
    "collapsed": true
   },
   "outputs": [],
   "source": [
    "dd"
   ]
  }
 ],
 "metadata": {
  "kernelspec": {
   "display_name": "Python (postal)",
   "language": "python",
   "name": "postal"
  },
  "language_info": {
   "codemirror_mode": {
    "name": "ipython",
    "version": 3
   },
   "file_extension": ".py",
   "mimetype": "text/x-python",
   "name": "python",
   "nbconvert_exporter": "python",
   "pygments_lexer": "ipython3",
   "version": "3.6.6"
  }
 },
 "nbformat": 4,
 "nbformat_minor": 2
}
