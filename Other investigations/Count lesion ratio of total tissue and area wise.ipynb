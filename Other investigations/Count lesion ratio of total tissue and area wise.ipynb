{
 "cells": [
  {
   "cell_type": "code",
   "execution_count": 1,
   "metadata": {
    "collapsed": true
   },
   "outputs": [],
   "source": [
    "import numpy as np\n",
    "import h5py\n",
    "import matplotlib.pyplot as plt"
   ]
  },
  {
   "cell_type": "code",
   "execution_count": 2,
   "metadata": {
    "collapsed": true
   },
   "outputs": [],
   "source": [
    "import sys\n",
    "sys.path.append(\"../\")"
   ]
  },
  {
   "cell_type": "code",
   "execution_count": 3,
   "metadata": {
    "collapsed": true
   },
   "outputs": [],
   "source": [
    "from config import *"
   ]
  },
  {
   "cell_type": "code",
   "execution_count": 4,
   "metadata": {
    "collapsed": true
   },
   "outputs": [],
   "source": [
    "# paths\n",
    "train_brain_h5 = h5py.File(\"/analysis/fabiane/data/MS/explMS/train_dataset_brain_masks_fullres.h5\")\n",
    "holdout_brain_h5 = h5py.File(\"/analysis/fabiane/data/MS/explMS/holdout_dataset_brain_masks_fullres.h5\")\n",
    "train_lesions_h5 = h5py.File(\"/analysis/fabiane/data/MS/explMS/train_dataset_lesions_fullres.h5\")\n",
    "holdout_lesions_h5 = h5py.File(\"/analysis/fabiane/data/MS/explMS/holdout_dataset_lesions_fullres.h5\")"
   ]
  },
  {
   "cell_type": "code",
   "execution_count": 5,
   "metadata": {
    "collapsed": true
   },
   "outputs": [],
   "source": [
    "import pandas as pd"
   ]
  },
  {
   "cell_type": "code",
   "execution_count": 6,
   "metadata": {
    "collapsed": true
   },
   "outputs": [],
   "source": [
    "df = pd.read_csv(\"/analysis/fabiane/data/MS/explMS/file_list_HC_MS_BET_FLAIR.csv\")"
   ]
  },
  {
   "cell_type": "code",
   "execution_count": 7,
   "metadata": {},
   "outputs": [
    {
     "data": {
      "text/html": [
       "<div>\n",
       "<style scoped>\n",
       "    .dataframe tbody tr th:only-of-type {\n",
       "        vertical-align: middle;\n",
       "    }\n",
       "\n",
       "    .dataframe tbody tr th {\n",
       "        vertical-align: top;\n",
       "    }\n",
       "\n",
       "    .dataframe thead th {\n",
       "        text-align: right;\n",
       "    }\n",
       "</style>\n",
       "<table border=\"1\" class=\"dataframe\">\n",
       "  <thead>\n",
       "    <tr style=\"text-align: right;\">\n",
       "      <th></th>\n",
       "      <th>file</th>\n",
       "      <th>label</th>\n",
       "      <th>name</th>\n",
       "      <th>path</th>\n",
       "      <th>time</th>\n",
       "    </tr>\n",
       "  </thead>\n",
       "  <tbody>\n",
       "    <tr>\n",
       "      <th>85</th>\n",
       "      <td>VIMS_MS_079_1_FLAIR.nii.gz</td>\n",
       "      <td>MS</td>\n",
       "      <td>VIMS_MS_079</td>\n",
       "      <td>/analysis/share/Ritter/MS/CIS/03_MS/VIMS_MS_07...</td>\n",
       "      <td>1.0</td>\n",
       "    </tr>\n",
       "    <tr>\n",
       "      <th>86</th>\n",
       "      <td>VIMS_MS_046_1_FLAIR.nii.gz</td>\n",
       "      <td>MS</td>\n",
       "      <td>VIMS_MS_046</td>\n",
       "      <td>/analysis/share/Ritter/MS/CIS/03_MS/VIMS_MS_04...</td>\n",
       "      <td>1.0</td>\n",
       "    </tr>\n",
       "    <tr>\n",
       "      <th>87</th>\n",
       "      <td>VIMS_MS_049_1_FLAIR.nii.gz</td>\n",
       "      <td>MS</td>\n",
       "      <td>VIMS_MS_049</td>\n",
       "      <td>/analysis/share/Ritter/MS/CIS/03_MS/VIMS_MS_04...</td>\n",
       "      <td>1.0</td>\n",
       "    </tr>\n",
       "    <tr>\n",
       "      <th>88</th>\n",
       "      <td>RS_GK_005_1_FLAIR.nii.gz</td>\n",
       "      <td>HC</td>\n",
       "      <td>RS_GK_005</td>\n",
       "      <td>/analysis/share/Ritter/MS/CIS/02_HC/RS_GK_005/...</td>\n",
       "      <td>1.0</td>\n",
       "    </tr>\n",
       "    <tr>\n",
       "      <th>89</th>\n",
       "      <td>VIMS_MS_072_1_FLAIR.nii.gz</td>\n",
       "      <td>MS</td>\n",
       "      <td>VIMS_MS_072</td>\n",
       "      <td>/analysis/share/Ritter/MS/CIS/03_MS/VIMS_MS_07...</td>\n",
       "      <td>1.0</td>\n",
       "    </tr>\n",
       "    <tr>\n",
       "      <th>90</th>\n",
       "      <td>VIMS_HC_097_1_FLAIR.nii.gz</td>\n",
       "      <td>HC</td>\n",
       "      <td>VIMS_HC_097</td>\n",
       "      <td>/analysis/share/Ritter/MS/CIS/02_HC/VIMS_HC_09...</td>\n",
       "      <td>1.0</td>\n",
       "    </tr>\n",
       "    <tr>\n",
       "      <th>91</th>\n",
       "      <td>VIMS_MS_001_1_FLAIR.nii.gz</td>\n",
       "      <td>MS</td>\n",
       "      <td>VIMS_MS_001</td>\n",
       "      <td>/analysis/share/Ritter/MS/CIS/03_MS/VIMS_MS_00...</td>\n",
       "      <td>1.0</td>\n",
       "    </tr>\n",
       "    <tr>\n",
       "      <th>92</th>\n",
       "      <td>RS_GK_023_1_FLAIR.nii.gz</td>\n",
       "      <td>HC</td>\n",
       "      <td>RS_GK_023</td>\n",
       "      <td>/analysis/share/Ritter/MS/CIS/02_HC/RS_GK_023/...</td>\n",
       "      <td>1.0</td>\n",
       "    </tr>\n",
       "    <tr>\n",
       "      <th>93</th>\n",
       "      <td>VIMS_MS_041_1_FLAIR.nii.gz</td>\n",
       "      <td>MS</td>\n",
       "      <td>VIMS_MS_041</td>\n",
       "      <td>/analysis/share/Ritter/MS/CIS/03_MS/VIMS_MS_04...</td>\n",
       "      <td>1.0</td>\n",
       "    </tr>\n",
       "    <tr>\n",
       "      <th>94</th>\n",
       "      <td>RS_GK_006_1_FLAIR.nii.gz</td>\n",
       "      <td>HC</td>\n",
       "      <td>RS_GK_006</td>\n",
       "      <td>/analysis/share/Ritter/MS/CIS/02_HC/RS_GK_006/...</td>\n",
       "      <td>1.0</td>\n",
       "    </tr>\n",
       "  </tbody>\n",
       "</table>\n",
       "</div>"
      ],
      "text/plain": [
       "                          file label         name  \\\n",
       "85  VIMS_MS_079_1_FLAIR.nii.gz    MS  VIMS_MS_079   \n",
       "86  VIMS_MS_046_1_FLAIR.nii.gz    MS  VIMS_MS_046   \n",
       "87  VIMS_MS_049_1_FLAIR.nii.gz    MS  VIMS_MS_049   \n",
       "88    RS_GK_005_1_FLAIR.nii.gz    HC    RS_GK_005   \n",
       "89  VIMS_MS_072_1_FLAIR.nii.gz    MS  VIMS_MS_072   \n",
       "90  VIMS_HC_097_1_FLAIR.nii.gz    HC  VIMS_HC_097   \n",
       "91  VIMS_MS_001_1_FLAIR.nii.gz    MS  VIMS_MS_001   \n",
       "92    RS_GK_023_1_FLAIR.nii.gz    HC    RS_GK_023   \n",
       "93  VIMS_MS_041_1_FLAIR.nii.gz    MS  VIMS_MS_041   \n",
       "94    RS_GK_006_1_FLAIR.nii.gz    HC    RS_GK_006   \n",
       "\n",
       "                                                 path  time  \n",
       "85  /analysis/share/Ritter/MS/CIS/03_MS/VIMS_MS_07...   1.0  \n",
       "86  /analysis/share/Ritter/MS/CIS/03_MS/VIMS_MS_04...   1.0  \n",
       "87  /analysis/share/Ritter/MS/CIS/03_MS/VIMS_MS_04...   1.0  \n",
       "88  /analysis/share/Ritter/MS/CIS/02_HC/RS_GK_005/...   1.0  \n",
       "89  /analysis/share/Ritter/MS/CIS/03_MS/VIMS_MS_07...   1.0  \n",
       "90  /analysis/share/Ritter/MS/CIS/02_HC/VIMS_HC_09...   1.0  \n",
       "91  /analysis/share/Ritter/MS/CIS/03_MS/VIMS_MS_00...   1.0  \n",
       "92  /analysis/share/Ritter/MS/CIS/02_HC/RS_GK_023/...   1.0  \n",
       "93  /analysis/share/Ritter/MS/CIS/03_MS/VIMS_MS_04...   1.0  \n",
       "94  /analysis/share/Ritter/MS/CIS/02_HC/RS_GK_006/...   1.0  "
      ]
     },
     "execution_count": 7,
     "metadata": {},
     "output_type": "execute_result"
    }
   ],
   "source": [
    "df.iloc[85:95]"
   ]
  },
  {
   "cell_type": "code",
   "execution_count": 8,
   "metadata": {
    "collapsed": true
   },
   "outputs": [],
   "source": [
    "lesion_masks_train = train_lesions_h5['masks']\n",
    "lesion_masks_holdout = holdout_lesions_h5['masks']"
   ]
  },
  {
   "cell_type": "code",
   "execution_count": 9,
   "metadata": {
    "collapsed": true
   },
   "outputs": [],
   "source": [
    "brain_masks_train = train_brain_h5['masks']\n",
    "brain_masks_holdout = holdout_brain_h5['masks']"
   ]
  },
  {
   "cell_type": "code",
   "execution_count": 10,
   "metadata": {},
   "outputs": [
    {
     "data": {
      "text/plain": [
       "1.0"
      ]
     },
     "execution_count": 10,
     "metadata": {},
     "output_type": "execute_result"
    }
   ],
   "source": [
    "np.max(lesion_masks_train)"
   ]
  },
  {
   "cell_type": "code",
   "execution_count": 11,
   "metadata": {},
   "outputs": [
    {
     "data": {
      "text/plain": [
       "1.0"
      ]
     },
     "execution_count": 11,
     "metadata": {},
     "output_type": "execute_result"
    }
   ],
   "source": [
    "np.max(lesion_masks_holdout)"
   ]
  },
  {
   "cell_type": "code",
   "execution_count": 12,
   "metadata": {},
   "outputs": [
    {
     "data": {
      "text/plain": [
       "124"
      ]
     },
     "execution_count": 12,
     "metadata": {},
     "output_type": "execute_result"
    }
   ],
   "source": [
    "len(lesion_masks_train)"
   ]
  },
  {
   "cell_type": "code",
   "execution_count": 13,
   "metadata": {
    "collapsed": true
   },
   "outputs": [],
   "source": [
    "# split dataframe\n",
    "holdout_df = df.iloc[indices_holdout].reset_index()\n",
    "train_df = df.drop(indices_holdout).reset_index()"
   ]
  },
  {
   "cell_type": "code",
   "execution_count": 14,
   "metadata": {},
   "outputs": [
    {
     "data": {
      "text/html": [
       "<div>\n",
       "<style scoped>\n",
       "    .dataframe tbody tr th:only-of-type {\n",
       "        vertical-align: middle;\n",
       "    }\n",
       "\n",
       "    .dataframe tbody tr th {\n",
       "        vertical-align: top;\n",
       "    }\n",
       "\n",
       "    .dataframe thead th {\n",
       "        text-align: right;\n",
       "    }\n",
       "</style>\n",
       "<table border=\"1\" class=\"dataframe\">\n",
       "  <thead>\n",
       "    <tr style=\"text-align: right;\">\n",
       "      <th></th>\n",
       "      <th>index</th>\n",
       "      <th>file</th>\n",
       "      <th>name</th>\n",
       "      <th>path</th>\n",
       "      <th>time</th>\n",
       "    </tr>\n",
       "    <tr>\n",
       "      <th>label</th>\n",
       "      <th></th>\n",
       "      <th></th>\n",
       "      <th></th>\n",
       "      <th></th>\n",
       "      <th></th>\n",
       "    </tr>\n",
       "  </thead>\n",
       "  <tbody>\n",
       "    <tr>\n",
       "      <th>HC</th>\n",
       "      <td>61</td>\n",
       "      <td>61</td>\n",
       "      <td>61</td>\n",
       "      <td>61</td>\n",
       "      <td>61</td>\n",
       "    </tr>\n",
       "    <tr>\n",
       "      <th>MS</th>\n",
       "      <td>63</td>\n",
       "      <td>63</td>\n",
       "      <td>63</td>\n",
       "      <td>63</td>\n",
       "      <td>63</td>\n",
       "    </tr>\n",
       "  </tbody>\n",
       "</table>\n",
       "</div>"
      ],
      "text/plain": [
       "       index  file  name  path  time\n",
       "label                               \n",
       "HC        61    61    61    61    61\n",
       "MS        63    63    63    63    63"
      ]
     },
     "execution_count": 14,
     "metadata": {},
     "output_type": "execute_result"
    }
   ],
   "source": [
    "train_df.groupby(\"label\").count()"
   ]
  },
  {
   "cell_type": "code",
   "execution_count": 15,
   "metadata": {},
   "outputs": [
    {
     "data": {
      "text/html": [
       "<div>\n",
       "<style scoped>\n",
       "    .dataframe tbody tr th:only-of-type {\n",
       "        vertical-align: middle;\n",
       "    }\n",
       "\n",
       "    .dataframe tbody tr th {\n",
       "        vertical-align: top;\n",
       "    }\n",
       "\n",
       "    .dataframe thead th {\n",
       "        text-align: right;\n",
       "    }\n",
       "</style>\n",
       "<table border=\"1\" class=\"dataframe\">\n",
       "  <thead>\n",
       "    <tr style=\"text-align: right;\">\n",
       "      <th></th>\n",
       "      <th>index</th>\n",
       "      <th>file</th>\n",
       "      <th>name</th>\n",
       "      <th>path</th>\n",
       "      <th>time</th>\n",
       "    </tr>\n",
       "    <tr>\n",
       "      <th>label</th>\n",
       "      <th></th>\n",
       "      <th></th>\n",
       "      <th></th>\n",
       "      <th></th>\n",
       "      <th></th>\n",
       "    </tr>\n",
       "  </thead>\n",
       "  <tbody>\n",
       "    <tr>\n",
       "      <th>HC</th>\n",
       "      <td>10</td>\n",
       "      <td>10</td>\n",
       "      <td>10</td>\n",
       "      <td>10</td>\n",
       "      <td>10</td>\n",
       "    </tr>\n",
       "    <tr>\n",
       "      <th>MS</th>\n",
       "      <td>13</td>\n",
       "      <td>13</td>\n",
       "      <td>13</td>\n",
       "      <td>13</td>\n",
       "      <td>13</td>\n",
       "    </tr>\n",
       "  </tbody>\n",
       "</table>\n",
       "</div>"
      ],
      "text/plain": [
       "       index  file  name  path  time\n",
       "label                               \n",
       "HC        10    10    10    10    10\n",
       "MS        13    13    13    13    13"
      ]
     },
     "execution_count": 15,
     "metadata": {},
     "output_type": "execute_result"
    }
   ],
   "source": [
    "holdout_df.groupby(\"label\").count()"
   ]
  },
  {
   "cell_type": "markdown",
   "metadata": {},
   "source": [
    "# Lesion ratios"
   ]
  },
  {
   "cell_type": "code",
   "execution_count": 16,
   "metadata": {
    "scrolled": false
   },
   "outputs": [
    {
     "name": "stdout",
     "output_type": "stream",
     "text": [
      "No lesion mask\n",
      "No lesion mask\n",
      "No lesion mask\n",
      "No lesion mask\n",
      "0.004380442567354902\n"
     ]
    }
   ],
   "source": [
    "# calculate ratio of all subjects with lesions\n",
    "lesion_ratio = []\n",
    "lesion_sum = []\n",
    "lesion_sum_hc = []\n",
    "lesion_sum_ms = []\n",
    "\n",
    "for idx, row in train_df.iterrows():\n",
    "    lm, bm = lesion_masks_train[idx], brain_masks_train[idx]\n",
    "    if np.sum(lm) > 0:\n",
    "        # catch scans without lesion masks i.e. contain random info\n",
    "        if np.max(lm) != 1 and np.max(lm) != 0 and np.min(lm) != 0:\n",
    "            print(\"No lesion mask\")\n",
    "        else:\n",
    "            ratio = np.sum(lm)/np.sum(bm)\n",
    "            lesion_ratio.append(ratio)\n",
    "            lesion_sum.append(np.sum(lm))\n",
    "            if row[\"label\"] == \"MS\":\n",
    "                lesion_sum_ms.append(np.sum(lm))\n",
    "            else:\n",
    "                lesion_sum_hc.append(np.sum(lm))\n",
    "\n",
    "for idx, row in holdout_df.iterrows():\n",
    "    lm, bm = lesion_masks_holdout[idx], brain_masks_holdout[idx]\n",
    "    if np.sum(lm) > 0:\n",
    "        # catch scans without lesion masks i.e. contain random info\n",
    "        if np.max(lm) != 1 and np.max(lm) != 0 and np.min(lm) != 0:\n",
    "            print(\"No lesion mask\")\n",
    "        else:\n",
    "            ratio = np.sum(lm)/np.sum(bm)\n",
    "            lesion_ratio.append(ratio)\n",
    "            lesion_sum.append(np.sum(lm))\n",
    "            if row[\"label\"] == \"MS\":\n",
    "                lesion_sum_ms.append(np.sum(lm))\n",
    "            else:\n",
    "                lesion_sum_hc.append(np.sum(lm))\n",
    "    \n",
    "print(np.mean(lesion_ratio))"
   ]
  },
  {
   "cell_type": "code",
   "execution_count": 17,
   "metadata": {},
   "outputs": [
    {
     "data": {
      "text/plain": [
       "0.05145555500148515"
      ]
     },
     "execution_count": 17,
     "metadata": {},
     "output_type": "execute_result"
    }
   ],
   "source": [
    "np.max(lesion_ratio)"
   ]
  },
  {
   "cell_type": "code",
   "execution_count": 18,
   "metadata": {},
   "outputs": [
    {
     "data": {
      "text/plain": [
       "7.279298494004132e-06"
      ]
     },
     "execution_count": 18,
     "metadata": {},
     "output_type": "execute_result"
    }
   ],
   "source": [
    "np.min(lesion_ratio)"
   ]
  },
  {
   "cell_type": "code",
   "execution_count": 19,
   "metadata": {},
   "outputs": [
    {
     "data": {
      "image/png": "[encoded data removed]",
      "text/plain": [
       "<Figure size 432x288 with 1 Axes>"
      ]
     },
     "metadata": {
      "needs_background": "light"
     },
     "output_type": "display_data"
    }
   ],
   "source": [
    "plt.hist(lesion_ratio, bins=60)\n",
    "plt.show()"
   ]
  },
  {
   "cell_type": "code",
   "execution_count": 20,
   "metadata": {},
   "outputs": [
    {
     "name": "stdout",
     "output_type": "stream",
     "text": [
      "Mean lesion ratio 0.4380 %\n",
      "Std lesion ratio 0.7160 %\n",
      "Max lesion ratio 5.1456 %\n",
      "Min lesion ratio 0.0007 %\n"
     ]
    }
   ],
   "source": [
    "print(\"Mean lesion ratio {:.4f} %\".format(np.mean(lesion_ratio) * 100))\n",
    "print(\"Std lesion ratio {:.4f} %\".format(np.std(lesion_ratio) * 100))\n",
    "print(\"Max lesion ratio {:.4f} %\".format(np.max(lesion_ratio) * 100))\n",
    "print(\"Min lesion ratio {:.4f} %\".format(np.min(lesion_ratio) * 100))"
   ]
  },
  {
   "cell_type": "code",
   "execution_count": 21,
   "metadata": {},
   "outputs": [
    {
     "name": "stdout",
     "output_type": "stream",
     "text": [
      "No lesion mask in training. abel: MS\n",
      "No lesion mask in training. abel: MS\n",
      "No lesion mask in training. abel: HC\n",
      "No lesion mask in training. abel: HC\n"
     ]
    }
   ],
   "source": [
    "# calculate sums of all subjects\n",
    "lesion_sum = []\n",
    "lesion_sum_hc = []\n",
    "lesion_sum_ms = []\n",
    "\n",
    "for idx, row in train_df.iterrows():\n",
    "    lm, bm = lesion_masks_train[idx], brain_masks_train[idx]\n",
    "    # catch scans without lesion masks i.e. contain random info\n",
    "    if np.max(lm) != 1 and np.max(lm) != 0 and np.min(lm) != 0:\n",
    "        print(\"No lesion mask in training. abel: {}\".format(row[\"label\"]))\n",
    "    else:\n",
    "        lesion_sum.append(np.sum(lm))\n",
    "        if row[\"label\"] == \"MS\":\n",
    "            lesion_sum_ms.append(np.sum(lm))\n",
    "        else:\n",
    "            lesion_sum_hc.append(np.sum(lm))\n",
    "\n",
    "for idx, row in holdout_df.iterrows():\n",
    "    lm, bm = lesion_masks_holdout[idx], brain_masks_holdout[idx]\n",
    "    # catch scans without lesion masks i.e. contain random info\n",
    "    if np.max(lm) != 1 and np.max(lm) != 0 and np.min(lm) != 0:\n",
    "        print(\"No lesion mask in holdout\")\n",
    "    else:\n",
    "        lesion_sum.append(np.sum(lm))\n",
    "        if row[\"label\"] == \"MS\":\n",
    "            lesion_sum_ms.append(np.sum(lm))\n",
    "        else:\n",
    "            lesion_sum_hc.append(np.sum(lm))"
   ]
  },
  {
   "cell_type": "code",
   "execution_count": 22,
   "metadata": {},
   "outputs": [
    {
     "name": "stdout",
     "output_type": "stream",
     "text": [
      "Mean lesion sum 4044.76\n",
      "Std lesion sum 6851.58\n",
      "Max lesion sum 47466.00\n",
      "Min lesion sum 0.00\n"
     ]
    }
   ],
   "source": [
    "print(\"Mean lesion sum {:.2f}\".format(np.mean(lesion_sum)))\n",
    "print(\"Std lesion sum {:.2f}\".format(np.std(lesion_sum)))\n",
    "print(\"Max lesion sum {:.2f}\".format(np.max(lesion_sum)))\n",
    "print(\"Min lesion sum {:.2f}\".format(np.min(lesion_sum)))"
   ]
  },
  {
   "cell_type": "code",
   "execution_count": 23,
   "metadata": {},
   "outputs": [
    {
     "name": "stdout",
     "output_type": "stream",
     "text": [
      "Mean lesion sum HC 571.78\n",
      "Std lesion sum HC 1941.21\n",
      "Max lesion sum HC 14977.00\n",
      "Min lesion sum HC 0.00\n"
     ]
    }
   ],
   "source": [
    "print(\"Mean lesion sum HC {:.2f}\".format(np.mean(lesion_sum_hc)))\n",
    "print(\"Std lesion sum HC {:.2f}\".format(np.std(lesion_sum_hc)))\n",
    "print(\"Max lesion sum HC {:.2f}\".format(np.max(lesion_sum_hc)))\n",
    "print(\"Min lesion sum HC {:.2f}\".format(np.min(lesion_sum_hc)))"
   ]
  },
  {
   "cell_type": "code",
   "execution_count": 24,
   "metadata": {},
   "outputs": [
    {
     "name": "stdout",
     "output_type": "stream",
     "text": [
      "Mean lesion sum MS 7283.08\n",
      "Std lesion sum MS 8091.32\n",
      "Max lesion sum MS 47466.00\n",
      "Min lesion sum MS 121.00\n"
     ]
    }
   ],
   "source": [
    "print(\"Mean lesion sum MS {:.2f}\".format(np.mean(lesion_sum_ms)))\n",
    "print(\"Std lesion sum MS {:.2f}\".format(np.std(lesion_sum_ms)))\n",
    "print(\"Max lesion sum MS {:.2f}\".format(np.max(lesion_sum_ms)))\n",
    "print(\"Min lesion sum MS {:.2f}\".format(np.min(lesion_sum_ms)))"
   ]
  },
  {
   "cell_type": "code",
   "execution_count": 25,
   "metadata": {},
   "outputs": [
    {
     "data": {
      "text/plain": [
       "74"
      ]
     },
     "execution_count": 25,
     "metadata": {},
     "output_type": "execute_result"
    }
   ],
   "source": [
    "len(lesion_sum_ms)"
   ]
  },
  {
   "cell_type": "code",
   "execution_count": 26,
   "metadata": {},
   "outputs": [
    {
     "data": {
      "text/plain": [
       "69"
      ]
     },
     "execution_count": 26,
     "metadata": {},
     "output_type": "execute_result"
    }
   ],
   "source": [
    "len(lesion_sum_hc)"
   ]
  },
  {
   "cell_type": "markdown",
   "metadata": {
    "collapsed": true
   },
   "source": [
    "# Lesion area distribution"
   ]
  },
  {
   "cell_type": "code",
   "execution_count": 27,
   "metadata": {},
   "outputs": [],
   "source": [
    "from utils import load_nifti, heatmap_per_region, aggregate_regions"
   ]
  },
  {
   "cell_type": "code",
   "execution_count": 37,
   "metadata": {
    "collapsed": true
   },
   "outputs": [],
   "source": [
    "wm_atlas_path = \"/analysis/fabiane/atlases/JHU/JHU-ICBM-labels-1mm.nii.gz\"\n",
    "wm_atlas = load_nifti(wm_atlas_path)"
   ]
  },
  {
   "cell_type": "code",
   "execution_count": 38,
   "metadata": {},
   "outputs": [
    {
     "data": {
      "image/png": "[encoded data removed]",
      "text/plain": [
       "<Figure size 432x288 with 1 Axes>"
      ]
     },
     "metadata": {
      "needs_background": "light"
     },
     "output_type": "display_data"
    }
   ],
   "source": [
    "plt.imshow(wm_atlas[:,:,96])\n",
    "plt.show()"
   ]
  },
  {
   "cell_type": "code",
   "execution_count": 39,
   "metadata": {
    "collapsed": true
   },
   "outputs": [],
   "source": [
    "shape = (182, 218, 182)"
   ]
  },
  {
   "cell_type": "code",
   "execution_count": 40,
   "metadata": {},
   "outputs": [
    {
     "name": "stdout",
     "output_type": "stream",
     "text": [
      "No lesion mask in training. abel: MS\n",
      "No lesion mask in training. abel: MS\n",
      "No lesion mask in training. abel: HC\n",
      "No lesion mask in training. abel: HC\n"
     ]
    }
   ],
   "source": [
    "# calculate sums of all subjects over both datasets!\n",
    "lesion_sum = np.zeros(shape=shape)\n",
    "lesion_sum_hc = np.zeros(shape=shape)\n",
    "lesion_sum_ms = np.zeros(shape=shape)\n",
    "\n",
    "for idx, row in train_df.iterrows():\n",
    "    lm, bm = lesion_masks_train[idx], brain_masks_train[idx]\n",
    "    # catch scans without lesion masks i.e. contain random info\n",
    "    if np.max(lm) != 1 and np.max(lm) != 0 and np.min(lm) != 0:\n",
    "        print(\"No lesion mask in training. abel: {}\".format(row[\"label\"]))\n",
    "    else:\n",
    "        lesion_sum += lm \n",
    "        if row[\"label\"] == \"MS\":\n",
    "            lesion_sum_ms += lm\n",
    "        else:\n",
    "            lesion_sum_hc += lm\n",
    "\n",
    "for idx, row in holdout_df.iterrows():\n",
    "    lm, bm = lesion_masks_holdout[idx], brain_masks_holdout[idx]\n",
    "    # catch scans without lesion masks i.e. contain random info\n",
    "    if np.max(lm) != 1 and np.max(lm) != 0 and np.min(lm) != 0:\n",
    "        print(\"No lesion mask in holdout\")\n",
    "    else:\n",
    "        lesion_sum += lm\n",
    "        if row[\"label\"] == \"MS\":\n",
    "            lesion_sum_ms += lm\n",
    "        else:\n",
    "            lesion_sum_hc += lm"
   ]
  },
  {
   "cell_type": "code",
   "execution_count": 41,
   "metadata": {},
   "outputs": [
    {
     "data": {
      "text/plain": [
       "<matplotlib.image.AxesImage at 0x7f235d9c3c18>"
      ]
     },
     "execution_count": 41,
     "metadata": {},
     "output_type": "execute_result"
    },
    {
     "data": {
      "image/png": "[encoded data removed]",
      "text/plain": [
       "<Figure size 432x288 with 1 Axes>"
      ]
     },
     "metadata": {
      "needs_background": "light"
     },
     "output_type": "display_data"
    }
   ],
   "source": [
    "plt.imshow(lesion_sum_ms[:,:,96], cmap='gray')"
   ]
  },
  {
   "cell_type": "code",
   "execution_count": 63,
   "metadata": {
    "collapsed": true
   },
   "outputs": [],
   "source": [
    "# Summary of JHU white matter areas\n",
    "# Name: (min, max)\n",
    "all_areas= {\n",
    "    \"Middle cerebellar peduncle\": (1, 2),\n",
    "    \"Corpus callosum\": (3, 5),\n",
    "    \"Fornix\": (6, 6),\n",
    "    \"Corticospinal tract\": (7, 8),\n",
    "    \"Medial lemniscus\": (9, 10),\n",
    "    \"Inferior cerebellar peduncle\": (11, 12),\n",
    "    \"Superior cerebellar peduncle\": (13, 14),\n",
    "    \"Cerebral peduncle\": (15, 16),\n",
    "    \"Anterior limb of internal capsule\": (17, 18),\n",
    "    \"Posterior limb of internal capsule\": (19, 20),\n",
    "    \"Retrolenticular part of internal capsule\": (21, 22),\n",
    "    \"Anterior corona radiata\": (23, 24),\n",
    "    \"Superior corona radiata\": (25, 26),\n",
    "    \"Posterior corona radiata\": (27, 28),\n",
    "    \"Posterior thalamic radiation\": (29, 30),\n",
    "    \"Sagittal stratum\": (31, 32),\n",
    "    \"External capsule\": (33, 34),\n",
    "    \"Cingulum\": (35, 38),\n",
    "    \"Superior longitudinal fasciculus\": (41, 42),\n",
    "    \"Superior fronto-occipital fasciculus\": (43, 44),\n",
    "    \"Uncinate fasciculus\": (45, 46),\n",
    "    \"Tapetum\": (47, 48),   \n",
    "}"
   ]
  },
  {
   "cell_type": "markdown",
   "metadata": {},
   "source": [
    "Absolute values"
   ]
  },
  {
   "cell_type": "code",
   "execution_count": 64,
   "metadata": {
    "collapsed": true,
    "scrolled": false
   },
   "outputs": [],
   "source": [
    "regional_lm = heatmap_per_region(lesion_sum_ms, wm_atlas, positive=True, size_normalize=False)\n",
    "area_lm = aggregate_regions(regional_lm, all_areas)\n",
    "# sort values\n",
    "area_lm_sorted = sorted(area_lm.items(), key=lambda kv: kv[1])\n",
    "keys_sorted_ms = [row[0] for row in area_lm_sorted]\n",
    "values_sorted_ms = [row[1] for row in area_lm_sorted]\n",
    "\n",
    "regional_lm = heatmap_per_region(lesion_sum_hc, wm_atlas, positive=True, size_normalize=False)\n",
    "area_lm = aggregate_regions(regional_lm, all_areas)\n",
    "# sort values\n",
    "area_lm_sorted = sorted(area_lm.items(), key=lambda kv: kv[1])\n",
    "keys_sorted_hc = [row[0] for row in area_lm_sorted]\n",
    "values_sorted_hc = [row[1] for row in area_lm_sorted]\n"
   ]
  },
  {
   "cell_type": "code",
   "execution_count": 65,
   "metadata": {},
   "outputs": [
    {
     "data": {
      "image/png": "[encoded data removed]",
      "text/plain": [
       "<Figure size 720x432 with 1 Axes>"
      ]
     },
     "metadata": {
      "needs_background": "light"
     },
     "output_type": "display_data"
    }
   ],
   "source": [
    "plt.figure(figsize=(10, 6))\n",
    "plt.plot(keys_sorted_ms, values_sorted_ms, 'go', label=\"MS\")\n",
    "plt.plot(keys_sorted_hc, values_sorted_hc, 'yo', label=\"HC\")\n",
    "plt.xticks(rotation='vertical')\n",
    "plt.legend(loc=\"center left\")\n",
    "plt.title(\"Lesions within white matter areas\")\n",
    "plt.show()"
   ]
  },
  {
   "cell_type": "markdown",
   "metadata": {},
   "source": [
    "Normalized by size"
   ]
  },
  {
   "cell_type": "code",
   "execution_count": 66,
   "metadata": {
    "scrolled": false
   },
   "outputs": [],
   "source": [
    "regional_lm = heatmap_per_region(lesion_sum_ms, wm_atlas, positive=True, size_normalize=True)\n",
    "area_lm = aggregate_regions(regional_lm, all_areas)\n",
    "# sort values\n",
    "area_lm_sorted = sorted(area_lm.items(), key=lambda kv: kv[1])\n",
    "keys_sorted_ms = [row[0] for row in area_lm_sorted]\n",
    "values_sorted_ms = [row[1] for row in area_lm_sorted]\n",
    "\n",
    "regional_lm = heatmap_per_region(lesion_sum_hc, wm_atlas, positive=True, size_normalize=True)\n",
    "area_lm = aggregate_regions(regional_lm, all_areas)\n",
    "# sort values\n",
    "area_lm_sorted = sorted(area_lm.items(), key=lambda kv: kv[1])\n",
    "keys_sorted_hc = [row[0] for row in area_lm_sorted]\n",
    "values_sorted_hc = [row[1] for row in area_lm_sorted]\n"
   ]
  },
  {
   "cell_type": "code",
   "execution_count": 67,
   "metadata": {},
   "outputs": [
    {
     "data": {
      "image/png": "[encoded data removed]",
      "text/plain": [
       "<Figure size 720x432 with 1 Axes>"
      ]
     },
     "metadata": {
      "needs_background": "light"
     },
     "output_type": "display_data"
    }
   ],
   "source": [
    "plt.figure(figsize=(10, 6))\n",
    "plt.plot(keys_sorted_ms, values_sorted_ms, 'go', label=\"MS\")\n",
    "plt.plot(keys_sorted_hc, values_sorted_hc, 'yo', label=\"HC\")\n",
    "plt.xticks(rotation='vertical')\n",
    "plt.legend(loc=\"center left\")\n",
    "plt.title(\"Lesions within white matter areas; normalized by size\")\n",
    "plt.show()"
   ]
  },
  {
   "cell_type": "code",
   "execution_count": null,
   "metadata": {
    "collapsed": true
   },
   "outputs": [],
   "source": []
  }
 ],
 "metadata": {
  "kernelspec": {
   "display_name": "Python (postal)",
   "language": "python",
   "name": "postal"
  },
  "language_info": {
   "codemirror_mode": {
    "name": "ipython",
    "version": 3
   },
   "file_extension": ".py",
   "mimetype": "text/x-python",
   "name": "python",
   "nbconvert_exporter": "python",
   "pygments_lexer": "ipython3",
   "version": "3.6.6"
  }
 },
 "nbformat": 4,
 "nbformat_minor": 2
}
