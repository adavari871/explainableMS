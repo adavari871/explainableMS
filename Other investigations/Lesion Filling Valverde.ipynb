{
 "cells": [
  {
   "cell_type": "code",
   "execution_count": 15,
   "metadata": {},
   "outputs": [],
   "source": [
    "import numpy as np\n",
    "import pandas as pd\n",
    "import h5py\n",
    "from scipy import signal\n",
    "import nibabel as nib\n",
    "\n",
    "import sys\n",
    "sys.path.insert(0, \"../\")\n",
    "from config import *\n",
    "from utils import load_nifti\n",
    "import copy"
   ]
  },
  {
   "cell_type": "code",
   "execution_count": 2,
   "metadata": {
    "collapsed": true
   },
   "outputs": [],
   "source": [
    "import matplotlib.pyplot as plt"
   ]
  },
  {
   "cell_type": "code",
   "execution_count": 3,
   "metadata": {},
   "outputs": [
    {
     "data": {
      "text/plain": [
       "'/analysis/ritter/data/MS/Test/file_list_HC_MS_BET_FLAIR.csv'"
      ]
     },
     "execution_count": 3,
     "metadata": {},
     "output_type": "execute_result"
    }
   ],
   "source": [
    "doc_dir"
   ]
  },
  {
   "cell_type": "code",
   "execution_count": 4,
   "metadata": {},
   "outputs": [
    {
     "name": "stdout",
     "output_type": "stream",
     "text": [
      "/analysis/ritter/data/MS/Test/file_list_HC_MS_BET_FLAIR.csv\r\n"
     ]
    }
   ],
   "source": [
    "!ls /analysis/ritter/data/MS/Test/file_list_HC_MS_BET_FLAIR.csv"
   ]
  },
  {
   "cell_type": "code",
   "execution_count": 5,
   "metadata": {
    "collapsed": true
   },
   "outputs": [],
   "source": [
    "df = pd.read_csv(doc_dir)"
   ]
  },
  {
   "cell_type": "code",
   "execution_count": 6,
   "metadata": {
    "collapsed": true
   },
   "outputs": [],
   "source": [
    "cross_kernel = np.zeros(shape=(3, 3, 3))\n",
    "cross_kernel[1,:,:] = 1.\n",
    "cross_kernel[:,1,:] = 1.\n",
    "cross_kernel[:,:,1] = 1."
   ]
  },
  {
   "cell_type": "code",
   "execution_count": 42,
   "metadata": {
    "collapsed": true
   },
   "outputs": [],
   "source": [
    "def fill_lesions(dataset, pad_lesions=True):\n",
    "    for idx, row in dataset.iterrows():\n",
    "        path = row[\"path\"]\n",
    "        print(path)\n",
    "        # FLAIR image path\n",
    "        path = path.replace(\"/analysis/share/Ritter/MS\", \"/analysis/ritter/data/MS\")\n",
    "        # lesion mask path\n",
    "        lm_path = path.replace(\"BET_\", \"\")\n",
    "        lm_path = lm_path.replace(\"FLAIR\", \"T2LESION_QC\")\n",
    "        # segmentation files path\n",
    "        wm_path = path.replace(\"BET_\", \"c2\")\n",
    "        wm_path = wm_path.replace(\"FLAIR.nii.gz\", \"MPRAGE.nii\")\n",
    "        gm_path = wm_path.replace(\"c2\", \"c1\")\n",
    "        csf_path = wm_path.replace(\"c2\", \"c3\")\n",
    "        \n",
    "        # in case of no lesion mask fill with random values\n",
    "        try:\n",
    "            scan, nifti = load_nifti(path, incl_header=True)\n",
    "            lm = load_nifti(lm_path)\n",
    "            if np.max(lm) > 1 or np.min(lm) < 0:\n",
    "                print(\"Outside of normal range. Max {} Min {}\".format(np.max(lm), np.min(lm)))\n",
    "                lm = np.clip(lm, 0, 1)\n",
    "            #if np.mean(lm) == 1:\n",
    "            #    print(\"Lesion mean equal to 1. Change to 0 instead.\")\n",
    "            #    lm[:] = 0\n",
    "            # pad lesion masks\n",
    "            if pad_lesions:\n",
    "                if np.max(lm) > 0:\n",
    "                    pad_lm = signal.convolve(lm, cross_kernel, mode=\"same\")\n",
    "                    pad_lm_bin = np.zeros_like(pad_lm)\n",
    "                    pad_lm_bin[pad_lm>=np.max(pad_lm)/8] = 1.\n",
    "                    lm = pad_lm_bin\n",
    "                #plt.figure(figsize=(10, 5))\n",
    "                #plt.subplot(1, 2, 1)\n",
    "                #plt.imshow(lm[:,:,96], cmap='gray')\n",
    "                #plt.subplot(1, 2, 2)\n",
    "                #plt.imshow(pad_lm_bin[:,:,96], cmap='gray')\n",
    "                #plt.show()\n",
    "                \n",
    "            \n",
    "            # compute white matter mask\n",
    "            wm = load_nifti(wm_path)\n",
    "            gm = load_nifti(gm_path)\n",
    "            csf = load_nifti(csf_path)\n",
    "            wm_mask = np.zeros_like(wm)\n",
    "            wm_mask[np.greater(wm, gm) & np.greater(wm,csf)] = 1.\n",
    "            \n",
    "            #plt.imshow(wm_mask[:,:,96], cmap='gray')\n",
    "            #plt.show()\n",
    "            \n",
    "            # extract normal appearing white matter (NAWM)\n",
    "            nawm = wm_mask * scan\n",
    "            #plt.imshow(nawm[:,:,96], cmap='gray')\n",
    "            #plt.show()\n",
    "            \n",
    "            # NAWM distribution to sample from\n",
    "            # np.random.normal(loc=mean, scale=std/2)\n",
    "            \n",
    "            \"\"\"plt.figure(figsize=(10, 5))\n",
    "            plt.subplot(1, 2, 1)\n",
    "            plt.imshow(scan[:,:,96], cmap='gray')\n",
    "            plt.title(\"Before\")\n",
    "            \"\"\"\n",
    "            for sl in range(np.shape(scan)[2]):\n",
    "                if lm[:,:,sl].any() > 0 and nawm[:,:,sl].any() > 0:\n",
    "                    current_slice = np.copy(scan[:,:,sl])\n",
    "                    lm_slice = np.copy(lm[:,:,sl])\n",
    "                    nawm_slice = nawm[:,:,sl]\n",
    "                    #plt.figure(figsize=(10, 5))\n",
    "                    #plt.subplot(1, 2, 1)\n",
    "                    #plt.imshow(nawm_slice, cmap='gray')\n",
    "                    #plt.subplot(1, 2, 2)\n",
    "                    #plt.imshow(current_slice, cmap='gray')\n",
    "                    #plt.imshow(lm_slice, cmap='Reds', alpha=0.6)\n",
    "                    #plt.show()\n",
    "                    nawm_slice = nawm_slice[nawm_slice>0]\n",
    "                    assert(nawm_slice.any() > 0)\n",
    "                    mean, std = np.mean(nawm_slice), np.std(nawm_slice)\n",
    "                    if np.isnan(std):\n",
    "                        print(nawm_slice)\n",
    "                    current_slice[np.greater(lm_slice,0)] = np.random.normal(loc=mean, scale=std/2)\n",
    "                    #if np.max(current_slice) <150:\n",
    "                    #    print(\"Slice {}\".format(sl))\n",
    "                    #    print(\"NAWM mean {}\".format(np.mean(nawm_slice)))\n",
    "                    #    print(\"lesion mean {}\".format(np.mean(lm_slice)))\n",
    "                    #    print(\"current Slice mean {}\".format(np.mean(current_slice)))\n",
    "                    scan[:,:,sl] = current_slice\n",
    "                    \n",
    "            \"\"\"print(np.mean(lm))\n",
    "            print(np.max(scan))\n",
    "            plt.subplot(1, 2, 2)\n",
    "            plt.imshow(scan[:,:,96], cmap='gray')\n",
    "            plt.title(\"After\")\n",
    "            plt.show()\n",
    "            \n",
    "            plt.imshow(lm[:,:,96], cmap='Reds')\n",
    "            plt.show()\n",
    "            \"\"\"\n",
    "            #plt.figure()\n",
    "            #plt.subplot(1, 2, 1)\n",
    "            #plt.imshow(scan[:,:,96], cmap='gray')\n",
    "            #plt.imshow(lm[:,:,96], cmap='Reds', alpha=0.4)\n",
    "            #plt.subplot(1, 2, 2)\n",
    "            #plt.imshow(wm[:,:,96], cmap='gray')\n",
    "            #plt.show()\n",
    "            output_path = path.replace(\".nii.gz\", \"_lesions_filled_valverde.nii.gz\")\n",
    "            out_nifti = nib.Nifti1Image(scan, nifti.affine, header=nifti.header)\n",
    "            nib.save(out_nifti, output_path)\n",
    "            \n",
    "        except(FileNotFoundError):\n",
    "            print(\"File not Found, skipping: {}\".format(path))\n"
   ]
  },
  {
   "cell_type": "code",
   "execution_count": 43,
   "metadata": {
    "scrolled": false
   },
   "outputs": [
    {
     "name": "stdout",
     "output_type": "stream",
     "text": [
      "/analysis/share/Ritter/MS/CIS/03_MS/VIMS_MS_027/VIMS_MS_027_1/BET_VIMS_MS_027_1_FLAIR.nii.gz\n",
      "/analysis/share/Ritter/MS/CIS/03_MS/VIMS_MS_043/VIMS_MS_043_1/BET_VIMS_MS_043_1_FLAIR.nii.gz\n",
      "/analysis/share/Ritter/MS/CIS/03_MS/VIMS_MS_141/VIMS_MS_141_1/BET_VIMS_MS_141_1_FLAIR.nii.gz\n",
      "/analysis/share/Ritter/MS/CIS/03_MS/VIMS_MS_137/VIMS_MS_137_1/BET_VIMS_MS_137_1_FLAIR.nii.gz\n",
      "/analysis/share/Ritter/MS/CIS/02_HC/VIMS_HC_022/VIMS_HC_022_1/BET_VIMS_HC_022_1_FLAIR.nii.gz\n",
      "/analysis/share/Ritter/MS/CIS/02_HC/VIMS_HC_114/VIMS_HC_114_1/BET_VIMS_HC_114_1_FLAIR.nii.gz\n",
      "/analysis/share/Ritter/MS/CIS/02_HC/RS_GK_021/RS_GK_021_1/BET_RS_GK_021_1_FLAIR.nii.gz\n",
      "/analysis/share/Ritter/MS/CIS/03_MS/VIMS_MS_088/VIMS_MS_088_1/BET_VIMS_MS_088_1_FLAIR.nii.gz\n",
      "/analysis/share/Ritter/MS/CIS/02_HC/VIMS_HC_045/VIMS_HC_045_1/BET_VIMS_HC_045_1_FLAIR.nii.gz\n",
      "/analysis/share/Ritter/MS/CIS/03_MS/VIMS_MS_071/VIMS_MS_071_1/BET_VIMS_MS_071_1_FLAIR.nii.gz\n",
      "/analysis/share/Ritter/MS/CIS/02_HC/RS_GK_012/RS_GK_012_1/BET_RS_GK_012_1_FLAIR.nii.gz\n",
      "/analysis/share/Ritter/MS/CIS/03_MS/VIMS_MS_068/VIMS_MS_068_1/BET_VIMS_MS_068_1_FLAIR.nii.gz\n",
      "/analysis/share/Ritter/MS/CIS/03_MS/VIMS_MS_047/VIMS_MS_047_1/BET_VIMS_MS_047_1_FLAIR.nii.gz\n",
      "/analysis/share/Ritter/MS/CIS/03_MS/VIMS_MS_003/VIMS_MS_003_1/BET_VIMS_MS_003_1_FLAIR.nii.gz\n",
      "/analysis/share/Ritter/MS/CIS/03_MS/VIMS_MS_078/VIMS_MS_078_1/BET_VIMS_MS_078_1_FLAIR.nii.gz\n",
      "/analysis/share/Ritter/MS/CIS/03_MS/VIMS_MS_006/VIMS_MS_006_1/BET_VIMS_MS_006_1_FLAIR.nii.gz\n",
      "/analysis/share/Ritter/MS/CIS/03_MS/VIMS_MS_059/VIMS_MS_059_1/BET_VIMS_MS_059_1_FLAIR.nii.gz\n",
      "/analysis/share/Ritter/MS/CIS/02_HC/RS_GK_020/RS_GK_020_1/BET_RS_GK_020_1_FLAIR.nii.gz\n",
      "/analysis/share/Ritter/MS/CIS/02_HC/VIMS_HC_065/VIMS_HC_065_1/BET_VIMS_HC_065_1_FLAIR.nii.gz\n",
      "/analysis/share/Ritter/MS/CIS/02_HC/RS_GK_018/RS_GK_018_1/BET_RS_GK_018_1_FLAIR.nii.gz\n",
      "/analysis/share/Ritter/MS/CIS/03_MS/VIMS_MS_050/VIMS_MS_050_1/BET_VIMS_MS_050_1_FLAIR.nii.gz\n",
      "/analysis/share/Ritter/MS/CIS/03_MS/VIMS_MS_040/VIMS_MS_040_1/BET_VIMS_MS_040_1_FLAIR.nii.gz\n",
      "/analysis/share/Ritter/MS/CIS/02_HC/RS_GK_007/RS_GK_007_1/BET_RS_GK_007_1_FLAIR.nii.gz\n",
      "/analysis/share/Ritter/MS/CIS/02_HC/RS_GK_008/RS_GK_008_1/BET_RS_GK_008_1_FLAIR.nii.gz\n",
      "/analysis/share/Ritter/MS/CIS/02_HC/VIMS_HC_057/VIMS_HC_057_1/BET_VIMS_HC_057_1_FLAIR.nii.gz\n",
      "/analysis/share/Ritter/MS/CIS/02_HC/VIMS_HC_013/VIMS_HC_013_1/BET_VIMS_HC_013_1_FLAIR.nii.gz\n",
      "/analysis/share/Ritter/MS/CIS/02_HC/RS_GK_024/RS_GK_024_1/BET_RS_GK_024_1_FLAIR.nii.gz\n",
      "/analysis/share/Ritter/MS/CIS/03_MS/VIMS_MS_002/VIMS_MS_002_1/BET_VIMS_MS_002_1_FLAIR.nii.gz\n",
      "/analysis/share/Ritter/MS/CIS/02_HC/RS_GK_025/RS_GK_025_1/BET_RS_GK_025_1_FLAIR.nii.gz\n",
      "/analysis/share/Ritter/MS/CIS/02_HC/RS_GK_011/RS_GK_011_1/BET_RS_GK_011_1_FLAIR.nii.gz\n",
      "/analysis/share/Ritter/MS/CIS/02_HC/RS_GK_031/RS_GK_031_1/BET_RS_GK_031_1_FLAIR.nii.gz\n",
      "/analysis/share/Ritter/MS/CIS/02_HC/VIMS_HC_042/VIMS_HC_042_1/BET_VIMS_HC_042_1_FLAIR.nii.gz\n",
      "/analysis/share/Ritter/MS/CIS/03_MS/VIMS_MS_094/VIMS_MS_094_1/BET_VIMS_MS_094_1_FLAIR.nii.gz\n",
      "/analysis/share/Ritter/MS/CIS/02_HC/VIMS_HC_014/VIMS_HC_014_1/BET_VIMS_HC_014_1_FLAIR.nii.gz\n",
      "/analysis/share/Ritter/MS/CIS/02_HC/VIMS_HC_062/VIMS_HC_062_1/BET_VIMS_HC_062_1_FLAIR.nii.gz\n",
      "/analysis/share/Ritter/MS/CIS/02_HC/RS_GK_010/RS_GK_010_1/BET_RS_GK_010_1_FLAIR.nii.gz\n",
      "/analysis/share/Ritter/MS/CIS/03_MS/VIMS_MS_004/VIMS_MS_004_1/BET_VIMS_MS_004_1_FLAIR.nii.gz\n",
      "/analysis/share/Ritter/MS/CIS/02_HC/VIMS_HC_025/VIMS_HC_025_1/BET_VIMS_HC_025_1_FLAIR.nii.gz\n",
      "/analysis/share/Ritter/MS/CIS/02_HC/RS_GK_004/RS_GK_004_1/BET_RS_GK_004_1_FLAIR.nii.gz\n",
      "/analysis/share/Ritter/MS/CIS/02_HC/VIMS_HC_139/VIMS_HC_139_1/BET_VIMS_HC_139_1_FLAIR.nii.gz\n",
      "/analysis/share/Ritter/MS/CIS/03_MS/VIMS_MS_024/VIMS_MS_024_1/BET_VIMS_MS_024_1_FLAIR.nii.gz\n",
      "/analysis/share/Ritter/MS/CIS/03_MS/VIMS_MS_117/VIMS_MS_117_1/BET_VIMS_MS_117_1_FLAIR.nii.gz\n",
      "/analysis/share/Ritter/MS/CIS/02_HC/VIMS_HC_023/VIMS_HC_023_1/BET_VIMS_HC_023_1_FLAIR.nii.gz\n",
      "/analysis/share/Ritter/MS/CIS/03_MS/VIMS_MS_039/VIMS_MS_039_1/BET_VIMS_MS_039_1_FLAIR.nii.gz\n",
      "/analysis/share/Ritter/MS/CIS/03_MS/VIMS_MS_140/VIMS_MS_140_1/BET_VIMS_MS_140_1_FLAIR.nii.gz\n",
      "/analysis/share/Ritter/MS/CIS/02_HC/VIMS_HC_056/VIMS_HC_056_1/BET_VIMS_HC_056_1_FLAIR.nii.gz\n",
      "/analysis/share/Ritter/MS/CIS/03_MS/VIMS_MS_044/VIMS_MS_044_1/BET_VIMS_MS_044_1_FLAIR.nii.gz\n",
      "/analysis/share/Ritter/MS/CIS/02_HC/VIMS_HC_070/VIMS_HC_070_1/BET_VIMS_HC_070_1_FLAIR.nii.gz\n",
      "/analysis/share/Ritter/MS/CIS/03_MS/VIMS_MS_129/VIMS_MS_129_1/BET_VIMS_MS_129_1_FLAIR.nii.gz\n",
      "/analysis/share/Ritter/MS/CIS/03_MS/VIMS_MS_115/VIMS_MS_115_1/BET_VIMS_MS_115_1_FLAIR.nii.gz\n",
      "/analysis/share/Ritter/MS/CIS/02_HC/VIMS_HC_061/VIMS_HC_061_1/BET_VIMS_HC_061_1_FLAIR.nii.gz\n",
      "/analysis/share/Ritter/MS/CIS/02_HC/RS_GK_009/RS_GK_009_1/BET_RS_GK_009_1_FLAIR.nii.gz\n",
      "/analysis/share/Ritter/MS/CIS/03_MS/VIMS_MS_149/VIMS_MS_149_1/BET_VIMS_MS_149_1_FLAIR.nii.gz\n",
      "File not Found, skipping: /analysis/ritter/data/MS/CIS/03_MS/VIMS_MS_149/VIMS_MS_149_1/BET_VIMS_MS_149_1_FLAIR.nii.gz\n",
      "/analysis/share/Ritter/MS/CIS/02_HC/VIMS_HC_106/VIMS_HC_106_1/BET_VIMS_HC_106_1_FLAIR.nii.gz\n",
      "/analysis/share/Ritter/MS/CIS/03_MS/VIMS_MS_132/VIMS_MS_132_1/BET_VIMS_MS_132_1_FLAIR.nii.gz\n",
      "/analysis/share/Ritter/MS/CIS/02_HC/VIMS_HC_054/VIMS_HC_054_1/BET_VIMS_HC_054_1_FLAIR.nii.gz\n",
      "/analysis/share/Ritter/MS/CIS/02_HC/RS_GK_003/RS_GK_003_1/BET_RS_GK_003_1_FLAIR.nii.gz\n",
      "/analysis/share/Ritter/MS/CIS/02_HC/RS_GK_028/RS_GK_028_1/BET_RS_GK_028_1_FLAIR.nii.gz\n",
      "/analysis/share/Ritter/MS/CIS/03_MS/VIMS_MS_087/VIMS_MS_087_1/BET_VIMS_MS_087_1_FLAIR.nii.gz\n",
      "/analysis/share/Ritter/MS/CIS/03_MS/VIMS_MS_134/VIMS_MS_134_1/BET_VIMS_MS_134_1_FLAIR.nii.gz\n",
      "/analysis/share/Ritter/MS/CIS/02_HC/VIMS_HC_015/VIMS_HC_015_1/BET_VIMS_HC_015_1_FLAIR.nii.gz\n",
      "/analysis/share/Ritter/MS/CIS/02_HC/VIMS_HC_018/VIMS_HC_018_1/BET_VIMS_HC_018_1_FLAIR.nii.gz\n",
      "/analysis/share/Ritter/MS/CIS/03_MS/VIMS_MS_089/VIMS_MS_089_1/BET_VIMS_MS_089_1_FLAIR.nii.gz\n",
      "/analysis/share/Ritter/MS/CIS/03_MS/VIMS_MS_077/VIMS_MS_077_1/BET_VIMS_MS_077_1_FLAIR.nii.gz\n",
      "File not Found, skipping: /analysis/ritter/data/MS/CIS/03_MS/VIMS_MS_077/VIMS_MS_077_1/BET_VIMS_MS_077_1_FLAIR.nii.gz\n",
      "/analysis/share/Ritter/MS/CIS/03_MS/VIMS_MS_122/VIMS_MS_122_1/BET_VIMS_MS_122_1_FLAIR.nii.gz\n",
      "/analysis/share/Ritter/MS/CIS/03_MS/VIMS_MS_120/VIMS_MS_120_1/BET_VIMS_MS_120_1_FLAIR.nii.gz\n",
      "/analysis/share/Ritter/MS/CIS/03_MS/VIMS_MS_012/VIMS_MS_012_1/BET_VIMS_MS_012_1_FLAIR.nii.gz\n",
      "/analysis/share/Ritter/MS/CIS/03_MS/VIMS_MS_075/VIMS_MS_075_1/BET_VIMS_MS_075_1_FLAIR.nii.gz\n",
      "/analysis/share/Ritter/MS/CIS/03_MS/VIMS_MS_067/VIMS_MS_067_1/BET_VIMS_MS_067_1_FLAIR.nii.gz\n",
      "/analysis/share/Ritter/MS/CIS/03_MS/VIMS_MS_084/VIMS_MS_084_1/BET_VIMS_MS_084_1_FLAIR.nii.gz\n",
      "/analysis/share/Ritter/MS/CIS/03_MS/VIMS_MS_038/VIMS_MS_038_1/BET_VIMS_MS_038_1_FLAIR.nii.gz\n",
      "/analysis/share/Ritter/MS/CIS/03_MS/VIMS_MS_123/VIMS_MS_123_1/BET_VIMS_MS_123_1_FLAIR.nii.gz\n",
      "/analysis/share/Ritter/MS/CIS/03_MS/VIMS_MS_036/VIMS_MS_036_1/BET_VIMS_MS_036_1_FLAIR.nii.gz\n",
      "/analysis/share/Ritter/MS/CIS/02_HC/RS_GK_017/RS_GK_017_1/BET_RS_GK_017_1_FLAIR.nii.gz\n",
      "/analysis/share/Ritter/MS/CIS/03_MS/VIMS_MS_133/VIMS_MS_133_1/BET_VIMS_MS_133_1_FLAIR.nii.gz\n",
      "/analysis/share/Ritter/MS/CIS/02_HC/VIMS_HC_019/VIMS_HC_019_1/BET_VIMS_HC_019_1_FLAIR.nii.gz\n",
      "/analysis/share/Ritter/MS/CIS/02_HC/VIMS_HC_034/VIMS_HC_034_1/BET_VIMS_HC_034_1_FLAIR.nii.gz\n",
      "/analysis/share/Ritter/MS/CIS/03_MS/VIMS_MS_028/VIMS_MS_028_1/BET_VIMS_MS_028_1_FLAIR.nii.gz\n",
      "/analysis/share/Ritter/MS/CIS/03_MS/VIMS_MS_113/VIMS_MS_113_1/BET_VIMS_MS_113_1_FLAIR.nii.gz\n",
      "/analysis/share/Ritter/MS/CIS/02_HC/VIMS_HC_058/VIMS_HC_058_1/BET_VIMS_HC_058_1_FLAIR.nii.gz\n",
      "/analysis/share/Ritter/MS/CIS/03_MS/VIMS_MS_069/VIMS_MS_069_1/BET_VIMS_MS_069_1_FLAIR.nii.gz\n",
      "/analysis/share/Ritter/MS/CIS/03_MS/VIMS_MS_045/VIMS_MS_045_1/BET_VIMS_MS_045_1_FLAIR.nii.gz\n",
      "/analysis/share/Ritter/MS/CIS/03_MS/VIMS_MS_116/VIMS_MS_116_1/BET_VIMS_MS_116_1_FLAIR.nii.gz\n",
      "/analysis/share/Ritter/MS/CIS/03_MS/VIMS_MS_031/VIMS_MS_031_1/BET_VIMS_MS_031_1_FLAIR.nii.gz\n",
      "/analysis/share/Ritter/MS/CIS/03_MS/VIMS_MS_144/VIMS_MS_144_1/BET_VIMS_MS_144_1_FLAIR.nii.gz\n",
      "/analysis/share/Ritter/MS/CIS/03_MS/VIMS_MS_079/VIMS_MS_079_1/BET_VIMS_MS_079_1_FLAIR.nii.gz\n",
      "/analysis/share/Ritter/MS/CIS/03_MS/VIMS_MS_046/VIMS_MS_046_1/BET_VIMS_MS_046_1_FLAIR.nii.gz\n"
     ]
    },
    {
     "name": "stdout",
     "output_type": "stream",
     "text": [
      "/analysis/share/Ritter/MS/CIS/03_MS/VIMS_MS_049/VIMS_MS_049_1/BET_VIMS_MS_049_1_FLAIR.nii.gz\n",
      "/analysis/share/Ritter/MS/CIS/02_HC/RS_GK_005/RS_GK_005_1/BET_RS_GK_005_1_FLAIR.nii.gz\n",
      "/analysis/share/Ritter/MS/CIS/03_MS/VIMS_MS_072/VIMS_MS_072_1/BET_VIMS_MS_072_1_FLAIR.nii.gz\n",
      "/analysis/share/Ritter/MS/CIS/02_HC/VIMS_HC_097/VIMS_HC_097_1/BET_VIMS_HC_097_1_FLAIR.nii.gz\n",
      "/analysis/share/Ritter/MS/CIS/03_MS/VIMS_MS_001/VIMS_MS_001_1/BET_VIMS_MS_001_1_FLAIR.nii.gz\n",
      "/analysis/share/Ritter/MS/CIS/02_HC/RS_GK_023/RS_GK_023_1/BET_RS_GK_023_1_FLAIR.nii.gz\n",
      "/analysis/share/Ritter/MS/CIS/03_MS/VIMS_MS_041/VIMS_MS_041_1/BET_VIMS_MS_041_1_FLAIR.nii.gz\n",
      "/analysis/share/Ritter/MS/CIS/02_HC/RS_GK_006/RS_GK_006_1/BET_RS_GK_006_1_FLAIR.nii.gz\n",
      "/analysis/share/Ritter/MS/CIS/02_HC/VIMS_HC_033/VIMS_HC_033_1/BET_VIMS_HC_033_1_FLAIR.nii.gz\n",
      "/analysis/share/Ritter/MS/CIS/02_HC/VIMS_HC_060/VIMS_HC_060_1/BET_VIMS_HC_060_1_FLAIR.nii.gz\n",
      "/analysis/share/Ritter/MS/CIS/03_MS/VIMS_MS_143/VIMS_MS_143_1/BET_VIMS_MS_143_1_FLAIR.nii.gz\n",
      "/analysis/share/Ritter/MS/CIS/03_MS/VIMS_MS_073/VIMS_MS_073_1/BET_VIMS_MS_073_1_FLAIR.nii.gz\n",
      "Outside of normal range. Max 40.0 Min 0.0\n",
      "/analysis/share/Ritter/MS/CIS/03_MS/VIMS_MS_118/VIMS_MS_118_1/BET_VIMS_MS_118_1_FLAIR.nii.gz\n",
      "/analysis/share/Ritter/MS/CIS/03_MS/VIMS_MS_112/VIMS_MS_112_1/BET_VIMS_MS_112_1_FLAIR.nii.gz\n",
      "/analysis/share/Ritter/MS/CIS/03_MS/VIMS_MS_035/VIMS_MS_035_1/BET_VIMS_MS_035_1_FLAIR.nii.gz\n",
      "/analysis/share/Ritter/MS/CIS/03_MS/VIMS_MS_037/VIMS_MS_037_1/BET_VIMS_MS_037_1_FLAIR.nii.gz\n",
      "/analysis/share/Ritter/MS/CIS/02_HC/RS_GK_002/RS_GK_002_1/BET_RS_GK_002_1_FLAIR.nii.gz\n",
      "/analysis/share/Ritter/MS/CIS/02_HC/VIMS_HC_105/VIMS_HC_105_1/BET_VIMS_HC_105_1_FLAIR.nii.gz\n",
      "/analysis/share/Ritter/MS/CIS/03_MS/VIMS_MS_029/VIMS_MS_029_1/BET_VIMS_MS_029_1_FLAIR.nii.gz\n",
      "/analysis/share/Ritter/MS/CIS/02_HC/RS_GK_029/RS_GK_029_1/BET_RS_GK_029_1_FLAIR.nii.gz\n",
      "/analysis/share/Ritter/MS/CIS/03_MS/VIMS_MS_104/VIMS_MS_104_1/BET_VIMS_MS_104_1_FLAIR.nii.gz\n",
      "/analysis/share/Ritter/MS/CIS/02_HC/RS_GK_022/RS_GK_022_1/BET_RS_GK_022_1_FLAIR.nii.gz\n",
      "File not Found, skipping: /analysis/ritter/data/MS/CIS/02_HC/RS_GK_022/RS_GK_022_1/BET_RS_GK_022_1_FLAIR.nii.gz\n",
      "/analysis/share/Ritter/MS/CIS/03_MS/VIMS_MS_131/VIMS_MS_131_1/BET_VIMS_MS_131_1_FLAIR.nii.gz\n",
      "/analysis/share/Ritter/MS/CIS/03_MS/VIMS_MS_138/VIMS_MS_138_1/BET_VIMS_MS_138_1_FLAIR.nii.gz\n",
      "/analysis/share/Ritter/MS/CIS/03_MS/VIMS_MS_090/VIMS_MS_090_1/BET_VIMS_MS_090_1_FLAIR.nii.gz\n",
      "/analysis/share/Ritter/MS/CIS/02_HC/VIMS_HC_091/VIMS_HC_091_1/BET_VIMS_HC_091_1_FLAIR.nii.gz\n",
      "/analysis/share/Ritter/MS/CIS/03_MS/VIMS_MS_020/VIMS_MS_020_1/BET_VIMS_MS_020_1_FLAIR.nii.gz\n",
      "/analysis/share/Ritter/MS/CIS/03_MS/VIMS_MS_124/VIMS_MS_124_1/BET_VIMS_MS_124_1_FLAIR.nii.gz\n",
      "/analysis/share/Ritter/MS/CIS/03_MS/VIMS_MS_074/VIMS_MS_074_1/BET_VIMS_MS_074_1_FLAIR.nii.gz\n",
      "/analysis/share/Ritter/MS/CIS/02_HC/RS_GK_016/RS_GK_016_1/BET_RS_GK_016_1_FLAIR.nii.gz\n",
      "/analysis/share/Ritter/MS/CIS/02_HC/RS_GK_030/RS_GK_030_1/BET_RS_GK_030_1_FLAIR.nii.gz\n",
      "/analysis/share/Ritter/MS/CIS/03_MS/VIMS_MS_086/VIMS_MS_086_1/BET_VIMS_MS_086_1_FLAIR.nii.gz\n",
      "Outside of normal range. Max 10.0 Min 0.0\n",
      "/analysis/share/Ritter/MS/CIS/02_HC/VIMS_HC_119/VIMS_HC_119_1/BET_VIMS_HC_119_1_FLAIR.nii.gz\n",
      "/analysis/share/Ritter/MS/CIS/03_MS/VIMS_MS_142/VIMS_MS_142_1/BET_VIMS_MS_142_1_FLAIR.nii.gz\n",
      "/analysis/share/Ritter/MS/CIS/02_HC/VIMS_HC_096/VIMS_HC_096_1/BET_VIMS_HC_096_1_FLAIR.nii.gz\n",
      "/analysis/share/Ritter/MS/CIS/02_HC/VIMS_HC_076/VIMS_HC_076_1/BET_VIMS_HC_076_1_FLAIR.nii.gz\n",
      "/analysis/share/Ritter/MS/CIS/02_HC/VIMS_HC_009/VIMS_HC_009_1/BET_VIMS_HC_009_1_FLAIR.nii.gz\n",
      "/analysis/share/Ritter/MS/CIS/02_HC/VIMS_HC_005/VIMS_HC_005_1/BET_VIMS_HC_005_1_FLAIR.nii.gz\n",
      "/analysis/share/Ritter/MS/CIS/02_HC/VIMS_HC_021/VIMS_HC_021_1/BET_VIMS_HC_021_1_FLAIR.nii.gz\n",
      "/analysis/share/Ritter/MS/CIS/02_HC/VIMS_HC_080/VIMS_HC_080_1/BET_VIMS_HC_080_1_FLAIR.nii.gz\n",
      "/analysis/share/Ritter/MS/CIS/02_HC/VIMS_HC_081/VIMS_HC_081_1/BET_VIMS_HC_081_1_FLAIR.nii.gz\n",
      "/analysis/share/Ritter/MS/CIS/03_MS/VIMS_MS_048/VIMS_MS_048_1/BET_VIMS_MS_048_1_FLAIR.nii.gz\n",
      "/analysis/share/Ritter/MS/CIS/03_MS/VIMS_MS_099/VIMS_MS_099_1/BET_VIMS_MS_099_1_FLAIR.nii.gz\n",
      "Outside of normal range. Max 10.0 Min 0.0\n",
      "/analysis/share/Ritter/MS/CIS/02_HC/VIMS_HC_055/VIMS_HC_055_1/BET_VIMS_HC_055_1_FLAIR.nii.gz\n",
      "/analysis/share/Ritter/MS/CIS/02_HC/VIMS_HC_032/VIMS_HC_032_1/BET_VIMS_HC_032_1_FLAIR.nii.gz\n",
      "/analysis/share/Ritter/MS/CIS/02_HC/RS_GK_014/RS_GK_014_1/BET_RS_GK_014_1_FLAIR.nii.gz\n",
      "/analysis/share/Ritter/MS/CIS/02_HC/RS_GK_015/RS_GK_015_1/BET_RS_GK_015_1_FLAIR.nii.gz\n",
      "File not Found, skipping: /analysis/ritter/data/MS/CIS/02_HC/RS_GK_015/RS_GK_015_1/BET_RS_GK_015_1_FLAIR.nii.gz\n",
      "/analysis/share/Ritter/MS/CIS/02_HC/RS_GK_026/RS_GK_026_1/BET_RS_GK_026_1_FLAIR.nii.gz\n",
      "/analysis/share/Ritter/MS/CIS/03_MS/VIMS_MS_017/VIMS_MS_017_1/BET_VIMS_MS_017_1_FLAIR.nii.gz\n",
      "/analysis/share/Ritter/MS/CIS/02_HC/RS_GK_013/RS_GK_013_1/BET_RS_GK_013_1_FLAIR.nii.gz\n",
      "/analysis/share/Ritter/MS/CIS/03_MS/VIMS_MS_135/VIMS_MS_135_1/BET_VIMS_MS_135_1_FLAIR.nii.gz\n",
      "/analysis/share/Ritter/MS/CIS/02_HC/VIMS_HC_052/VIMS_HC_052_1/BET_VIMS_HC_052_1_FLAIR.nii.gz\n",
      "/analysis/share/Ritter/MS/CIS/03_MS/VIMS_MS_092/VIMS_MS_092_1/BET_VIMS_MS_092_1_FLAIR.nii.gz\n",
      "/analysis/share/Ritter/MS/CIS/02_HC/VIMS_HC_066/VIMS_HC_066_1/BET_VIMS_HC_066_1_FLAIR.nii.gz\n",
      "/analysis/share/Ritter/MS/CIS/02_HC/RS_GK_001/RS_GK_001_1/BET_RS_GK_001_1_FLAIR.nii.gz\n",
      "/analysis/share/Ritter/MS/CIS/03_MS/VIMS_MS_093/VIMS_MS_093_1/BET_VIMS_MS_093_1_FLAIR.nii.gz\n",
      "/analysis/share/Ritter/MS/CIS/02_HC/RS_GK_027/RS_GK_027_1/BET_RS_GK_027_1_FLAIR.nii.gz\n",
      "/analysis/share/Ritter/MS/CIS/02_HC/VIMS_HC_016/VIMS_HC_016_1/BET_VIMS_HC_016_1_FLAIR.nii.gz\n",
      "/analysis/share/Ritter/MS/CIS/03_MS/VIMS_MS_053/VIMS_MS_053_1/BET_VIMS_MS_053_1_FLAIR.nii.gz\n",
      "/analysis/share/Ritter/MS/CIS/02_HC/VIMS_HC_030/VIMS_HC_030_1/BET_VIMS_HC_030_1_FLAIR.nii.gz\n"
     ]
    }
   ],
   "source": [
    "fill_lesions(df)"
   ]
  },
  {
   "cell_type": "code",
   "execution_count": null,
   "metadata": {
    "collapsed": true
   },
   "outputs": [],
   "source": []
  },
  {
   "cell_type": "code",
   "execution_count": null,
   "metadata": {
    "collapsed": true
   },
   "outputs": [],
   "source": []
  }
 ],
 "metadata": {
  "kernelspec": {
   "display_name": "Python (postal)",
   "language": "python",
   "name": "postal"
  },
  "language_info": {
   "codemirror_mode": {
    "name": "ipython",
    "version": 3
   },
   "file_extension": ".py",
   "mimetype": "text/x-python",
   "name": "python",
   "nbconvert_exporter": "python",
   "pygments_lexer": "ipython3",
   "version": "3.6.6"
  }
 },
 "nbformat": 4,
 "nbformat_minor": 2
}
